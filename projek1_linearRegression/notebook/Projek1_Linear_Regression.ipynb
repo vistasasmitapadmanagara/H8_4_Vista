{
  "cells": [
    {
      "cell_type": "markdown",
      "metadata": {
        "id": "LQgida5J7ITG"
      },
      "source": [
        "# Final Project 1\n",
        "## Perkenalan\n",
        "Teammate:\n",
        "1. Nabila Zulfika Hemadewi\n",
        "2. Vista Sasmita Padmanagara\n",
        "\n",
        "Studi Independen - Kampus Merdeka\n",
        "Dataset yang kami gunakan yaitu Uber and Lyft Dataset Boston, MA yang berisi record data perjalanan taksi uber dan lyft di Boston, MA. Dataset ini terdiri dari 57 kolom dan 693.071 data. Dataset diperoleh dari kaggle.\n",
        "\n",
        "Pada final project 1 ini kami akan membuat prediksi harga taksi Uber berdasarkan variabel cab_type, distance, surge_multiplier, dan name. \n",
        "\n",
        "Variabel dependennya yaitu price dan variabel independennya yaitu cab_type, distance, surge_multiplier, dan name."
      ]
    },
    {
      "cell_type": "code",
      "execution_count": null,
      "metadata": {
        "id": "knkb5hpgDCK_",
        "colab": {
          "base_uri": "https://localhost:8080/"
        },
        "outputId": "3f81ad4d-73d1-46c4-a539-5274d80eedfd"
      },
      "outputs": [
        {
          "output_type": "stream",
          "name": "stdout",
          "text": [
            "Mounted at /content/drive\n"
          ]
        }
      ],
      "source": [
        "from google.colab import drive\n",
        "drive.mount('/content/drive')"
      ]
    },
    {
      "cell_type": "markdown",
      "metadata": {
        "id": "yuEE_zG28BNu"
      },
      "source": [
        "## Import Pustaka"
      ]
    },
    {
      "cell_type": "code",
      "execution_count": null,
      "metadata": {
        "id": "jeRfh2a64LFy"
      },
      "outputs": [],
      "source": [
        "import warnings\n",
        "warnings.filterwarnings('ignore')\n",
        "\n",
        "import numpy as np\n",
        "import pandas as pd\n",
        "import matplotlib.pyplot as plt\n",
        "import seaborn as sns\n",
        "\n",
        "#preprocess\n",
        "from sklearn.preprocessing import StandardScaler,LabelEncoder\n",
        "\n",
        "#model_selection\n",
        "from sklearn.model_selection import train_test_split\n",
        "\n",
        "#import the necessary modelling algos.\n",
        "from sklearn.linear_model import LinearRegression\n",
        "from sklearn.ensemble import RandomForestRegressor\n",
        "\n",
        "#evalution\n",
        "from sklearn.metrics import r2_score, auc\n",
        "from sklearn.metrics import accuracy_score, confusion_matrix,classification_report\n",
        "from sklearn.metrics import mean_squared_error\n",
        "from sklearn.metrics import mean_absolute_error\n",
        "from sklearn.metrics import explained_variance_score"
      ]
    },
    {
      "cell_type": "markdown",
      "metadata": {
        "id": "W9xI2yJU8LhI"
      },
      "source": [
        "## Data Loading"
      ]
    },
    {
      "cell_type": "code",
      "execution_count": null,
      "metadata": {
        "id": "slORnhb54TIb"
      },
      "outputs": [],
      "source": [
        "df = pd.read_csv(\"/content/drive/MyDrive/rideshare_kaggle.csv\")"
      ]
    },
    {
      "cell_type": "markdown",
      "source": [
        "**Dimensi data**"
      ],
      "metadata": {
        "id": "S85DfmfmdcKp"
      }
    },
    {
      "cell_type": "code",
      "execution_count": null,
      "metadata": {
        "colab": {
          "base_uri": "https://localhost:8080/"
        },
        "id": "ltjUxkg1sDU9",
        "outputId": "00916ef4-c212-44dc-f857-dad2503bca76"
      },
      "outputs": [
        {
          "output_type": "execute_result",
          "data": {
            "text/plain": [
              "(693071, 57)"
            ]
          },
          "metadata": {},
          "execution_count": 4
        }
      ],
      "source": [
        "df.shape"
      ]
    },
    {
      "cell_type": "markdown",
      "source": [
        "Diketahui, data kita terdiri dari **693071 baris** dan **57 kolom**."
      ],
      "metadata": {
        "id": "BzEERAcndfmV"
      }
    },
    {
      "cell_type": "markdown",
      "source": [
        "Mari kita lihat 5 data teratas df!"
      ],
      "metadata": {
        "id": "dSCYdzMYd2su"
      }
    },
    {
      "cell_type": "code",
      "execution_count": null,
      "metadata": {
        "colab": {
          "base_uri": "https://localhost:8080/",
          "height": 560
        },
        "id": "Ab6BF4RpIn4F",
        "outputId": "9c944529-55b5-4de8-c197-23b82f5a6844"
      },
      "outputs": [
        {
          "output_type": "execute_result",
          "data": {
            "text/plain": [
              "                                     id     timestamp  hour  day  month  \\\n",
              "0  424553bb-7174-41ea-aeb4-fe06d4f4b9d7  1.544953e+09     9   16     12   \n",
              "1  4bd23055-6827-41c6-b23b-3c491f24e74d  1.543284e+09     2   27     11   \n",
              "2  981a3613-77af-4620-a42a-0c0866077d1e  1.543367e+09     1   28     11   \n",
              "3  c2d88af2-d278-4bfd-a8d0-29ca77cc5512  1.543554e+09     4   30     11   \n",
              "4  e0126e1f-8ca9-4f2e-82b3-50505a09db9a  1.543463e+09     3   29     11   \n",
              "\n",
              "              datetime          timezone            source    destination  \\\n",
              "0  2018-12-16 09:30:07  America/New_York  Haymarket Square  North Station   \n",
              "1  2018-11-27 02:00:23  America/New_York  Haymarket Square  North Station   \n",
              "2  2018-11-28 01:00:22  America/New_York  Haymarket Square  North Station   \n",
              "3  2018-11-30 04:53:02  America/New_York  Haymarket Square  North Station   \n",
              "4  2018-11-29 03:49:20  America/New_York  Haymarket Square  North Station   \n",
              "\n",
              "  cab_type  ... precipIntensityMax uvIndexTime  temperatureMin  \\\n",
              "0     Lyft  ...             0.1276  1544979600           39.89   \n",
              "1     Lyft  ...             0.1300  1543251600           40.49   \n",
              "2     Lyft  ...             0.1064  1543338000           35.36   \n",
              "3     Lyft  ...             0.0000  1543507200           34.67   \n",
              "4     Lyft  ...             0.0001  1543420800           33.10   \n",
              "\n",
              "   temperatureMinTime  temperatureMax  temperatureMaxTime  \\\n",
              "0          1545012000           43.68          1544968800   \n",
              "1          1543233600           47.30          1543251600   \n",
              "2          1543377600           47.55          1543320000   \n",
              "3          1543550400           45.03          1543510800   \n",
              "4          1543402800           42.18          1543420800   \n",
              "\n",
              "   apparentTemperatureMin  apparentTemperatureMinTime  apparentTemperatureMax  \\\n",
              "0                   33.73                  1545012000                   38.07   \n",
              "1                   36.20                  1543291200                   43.92   \n",
              "2                   31.04                  1543377600                   44.12   \n",
              "3                   30.30                  1543550400                   38.53   \n",
              "4                   29.11                  1543392000                   35.75   \n",
              "\n",
              "  apparentTemperatureMaxTime  \n",
              "0                 1544958000  \n",
              "1                 1543251600  \n",
              "2                 1543320000  \n",
              "3                 1543510800  \n",
              "4                 1543420800  \n",
              "\n",
              "[5 rows x 57 columns]"
            ],
            "text/html": [
              "\n",
              "  <div id=\"df-f136961e-11e7-4335-9572-d92427545d08\">\n",
              "    <div class=\"colab-df-container\">\n",
              "      <div>\n",
              "<style scoped>\n",
              "    .dataframe tbody tr th:only-of-type {\n",
              "        vertical-align: middle;\n",
              "    }\n",
              "\n",
              "    .dataframe tbody tr th {\n",
              "        vertical-align: top;\n",
              "    }\n",
              "\n",
              "    .dataframe thead th {\n",
              "        text-align: right;\n",
              "    }\n",
              "</style>\n",
              "<table border=\"1\" class=\"dataframe\">\n",
              "  <thead>\n",
              "    <tr style=\"text-align: right;\">\n",
              "      <th></th>\n",
              "      <th>id</th>\n",
              "      <th>timestamp</th>\n",
              "      <th>hour</th>\n",
              "      <th>day</th>\n",
              "      <th>month</th>\n",
              "      <th>datetime</th>\n",
              "      <th>timezone</th>\n",
              "      <th>source</th>\n",
              "      <th>destination</th>\n",
              "      <th>cab_type</th>\n",
              "      <th>...</th>\n",
              "      <th>precipIntensityMax</th>\n",
              "      <th>uvIndexTime</th>\n",
              "      <th>temperatureMin</th>\n",
              "      <th>temperatureMinTime</th>\n",
              "      <th>temperatureMax</th>\n",
              "      <th>temperatureMaxTime</th>\n",
              "      <th>apparentTemperatureMin</th>\n",
              "      <th>apparentTemperatureMinTime</th>\n",
              "      <th>apparentTemperatureMax</th>\n",
              "      <th>apparentTemperatureMaxTime</th>\n",
              "    </tr>\n",
              "  </thead>\n",
              "  <tbody>\n",
              "    <tr>\n",
              "      <th>0</th>\n",
              "      <td>424553bb-7174-41ea-aeb4-fe06d4f4b9d7</td>\n",
              "      <td>1.544953e+09</td>\n",
              "      <td>9</td>\n",
              "      <td>16</td>\n",
              "      <td>12</td>\n",
              "      <td>2018-12-16 09:30:07</td>\n",
              "      <td>America/New_York</td>\n",
              "      <td>Haymarket Square</td>\n",
              "      <td>North Station</td>\n",
              "      <td>Lyft</td>\n",
              "      <td>...</td>\n",
              "      <td>0.1276</td>\n",
              "      <td>1544979600</td>\n",
              "      <td>39.89</td>\n",
              "      <td>1545012000</td>\n",
              "      <td>43.68</td>\n",
              "      <td>1544968800</td>\n",
              "      <td>33.73</td>\n",
              "      <td>1545012000</td>\n",
              "      <td>38.07</td>\n",
              "      <td>1544958000</td>\n",
              "    </tr>\n",
              "    <tr>\n",
              "      <th>1</th>\n",
              "      <td>4bd23055-6827-41c6-b23b-3c491f24e74d</td>\n",
              "      <td>1.543284e+09</td>\n",
              "      <td>2</td>\n",
              "      <td>27</td>\n",
              "      <td>11</td>\n",
              "      <td>2018-11-27 02:00:23</td>\n",
              "      <td>America/New_York</td>\n",
              "      <td>Haymarket Square</td>\n",
              "      <td>North Station</td>\n",
              "      <td>Lyft</td>\n",
              "      <td>...</td>\n",
              "      <td>0.1300</td>\n",
              "      <td>1543251600</td>\n",
              "      <td>40.49</td>\n",
              "      <td>1543233600</td>\n",
              "      <td>47.30</td>\n",
              "      <td>1543251600</td>\n",
              "      <td>36.20</td>\n",
              "      <td>1543291200</td>\n",
              "      <td>43.92</td>\n",
              "      <td>1543251600</td>\n",
              "    </tr>\n",
              "    <tr>\n",
              "      <th>2</th>\n",
              "      <td>981a3613-77af-4620-a42a-0c0866077d1e</td>\n",
              "      <td>1.543367e+09</td>\n",
              "      <td>1</td>\n",
              "      <td>28</td>\n",
              "      <td>11</td>\n",
              "      <td>2018-11-28 01:00:22</td>\n",
              "      <td>America/New_York</td>\n",
              "      <td>Haymarket Square</td>\n",
              "      <td>North Station</td>\n",
              "      <td>Lyft</td>\n",
              "      <td>...</td>\n",
              "      <td>0.1064</td>\n",
              "      <td>1543338000</td>\n",
              "      <td>35.36</td>\n",
              "      <td>1543377600</td>\n",
              "      <td>47.55</td>\n",
              "      <td>1543320000</td>\n",
              "      <td>31.04</td>\n",
              "      <td>1543377600</td>\n",
              "      <td>44.12</td>\n",
              "      <td>1543320000</td>\n",
              "    </tr>\n",
              "    <tr>\n",
              "      <th>3</th>\n",
              "      <td>c2d88af2-d278-4bfd-a8d0-29ca77cc5512</td>\n",
              "      <td>1.543554e+09</td>\n",
              "      <td>4</td>\n",
              "      <td>30</td>\n",
              "      <td>11</td>\n",
              "      <td>2018-11-30 04:53:02</td>\n",
              "      <td>America/New_York</td>\n",
              "      <td>Haymarket Square</td>\n",
              "      <td>North Station</td>\n",
              "      <td>Lyft</td>\n",
              "      <td>...</td>\n",
              "      <td>0.0000</td>\n",
              "      <td>1543507200</td>\n",
              "      <td>34.67</td>\n",
              "      <td>1543550400</td>\n",
              "      <td>45.03</td>\n",
              "      <td>1543510800</td>\n",
              "      <td>30.30</td>\n",
              "      <td>1543550400</td>\n",
              "      <td>38.53</td>\n",
              "      <td>1543510800</td>\n",
              "    </tr>\n",
              "    <tr>\n",
              "      <th>4</th>\n",
              "      <td>e0126e1f-8ca9-4f2e-82b3-50505a09db9a</td>\n",
              "      <td>1.543463e+09</td>\n",
              "      <td>3</td>\n",
              "      <td>29</td>\n",
              "      <td>11</td>\n",
              "      <td>2018-11-29 03:49:20</td>\n",
              "      <td>America/New_York</td>\n",
              "      <td>Haymarket Square</td>\n",
              "      <td>North Station</td>\n",
              "      <td>Lyft</td>\n",
              "      <td>...</td>\n",
              "      <td>0.0001</td>\n",
              "      <td>1543420800</td>\n",
              "      <td>33.10</td>\n",
              "      <td>1543402800</td>\n",
              "      <td>42.18</td>\n",
              "      <td>1543420800</td>\n",
              "      <td>29.11</td>\n",
              "      <td>1543392000</td>\n",
              "      <td>35.75</td>\n",
              "      <td>1543420800</td>\n",
              "    </tr>\n",
              "  </tbody>\n",
              "</table>\n",
              "<p>5 rows × 57 columns</p>\n",
              "</div>\n",
              "      <button class=\"colab-df-convert\" onclick=\"convertToInteractive('df-f136961e-11e7-4335-9572-d92427545d08')\"\n",
              "              title=\"Convert this dataframe to an interactive table.\"\n",
              "              style=\"display:none;\">\n",
              "        \n",
              "  <svg xmlns=\"http://www.w3.org/2000/svg\" height=\"24px\"viewBox=\"0 0 24 24\"\n",
              "       width=\"24px\">\n",
              "    <path d=\"M0 0h24v24H0V0z\" fill=\"none\"/>\n",
              "    <path d=\"M18.56 5.44l.94 2.06.94-2.06 2.06-.94-2.06-.94-.94-2.06-.94 2.06-2.06.94zm-11 1L8.5 8.5l.94-2.06 2.06-.94-2.06-.94L8.5 2.5l-.94 2.06-2.06.94zm10 10l.94 2.06.94-2.06 2.06-.94-2.06-.94-.94-2.06-.94 2.06-2.06.94z\"/><path d=\"M17.41 7.96l-1.37-1.37c-.4-.4-.92-.59-1.43-.59-.52 0-1.04.2-1.43.59L10.3 9.45l-7.72 7.72c-.78.78-.78 2.05 0 2.83L4 21.41c.39.39.9.59 1.41.59.51 0 1.02-.2 1.41-.59l7.78-7.78 2.81-2.81c.8-.78.8-2.07 0-2.86zM5.41 20L4 18.59l7.72-7.72 1.47 1.35L5.41 20z\"/>\n",
              "  </svg>\n",
              "      </button>\n",
              "      \n",
              "  <style>\n",
              "    .colab-df-container {\n",
              "      display:flex;\n",
              "      flex-wrap:wrap;\n",
              "      gap: 12px;\n",
              "    }\n",
              "\n",
              "    .colab-df-convert {\n",
              "      background-color: #E8F0FE;\n",
              "      border: none;\n",
              "      border-radius: 50%;\n",
              "      cursor: pointer;\n",
              "      display: none;\n",
              "      fill: #1967D2;\n",
              "      height: 32px;\n",
              "      padding: 0 0 0 0;\n",
              "      width: 32px;\n",
              "    }\n",
              "\n",
              "    .colab-df-convert:hover {\n",
              "      background-color: #E2EBFA;\n",
              "      box-shadow: 0px 1px 2px rgba(60, 64, 67, 0.3), 0px 1px 3px 1px rgba(60, 64, 67, 0.15);\n",
              "      fill: #174EA6;\n",
              "    }\n",
              "\n",
              "    [theme=dark] .colab-df-convert {\n",
              "      background-color: #3B4455;\n",
              "      fill: #D2E3FC;\n",
              "    }\n",
              "\n",
              "    [theme=dark] .colab-df-convert:hover {\n",
              "      background-color: #434B5C;\n",
              "      box-shadow: 0px 1px 3px 1px rgba(0, 0, 0, 0.15);\n",
              "      filter: drop-shadow(0px 1px 2px rgba(0, 0, 0, 0.3));\n",
              "      fill: #FFFFFF;\n",
              "    }\n",
              "  </style>\n",
              "\n",
              "      <script>\n",
              "        const buttonEl =\n",
              "          document.querySelector('#df-f136961e-11e7-4335-9572-d92427545d08 button.colab-df-convert');\n",
              "        buttonEl.style.display =\n",
              "          google.colab.kernel.accessAllowed ? 'block' : 'none';\n",
              "\n",
              "        async function convertToInteractive(key) {\n",
              "          const element = document.querySelector('#df-f136961e-11e7-4335-9572-d92427545d08');\n",
              "          const dataTable =\n",
              "            await google.colab.kernel.invokeFunction('convertToInteractive',\n",
              "                                                     [key], {});\n",
              "          if (!dataTable) return;\n",
              "\n",
              "          const docLinkHtml = 'Like what you see? Visit the ' +\n",
              "            '<a target=\"_blank\" href=https://colab.research.google.com/notebooks/data_table.ipynb>data table notebook</a>'\n",
              "            + ' to learn more about interactive tables.';\n",
              "          element.innerHTML = '';\n",
              "          dataTable['output_type'] = 'display_data';\n",
              "          await google.colab.output.renderOutput(dataTable, element);\n",
              "          const docLink = document.createElement('div');\n",
              "          docLink.innerHTML = docLinkHtml;\n",
              "          element.appendChild(docLink);\n",
              "        }\n",
              "      </script>\n",
              "    </div>\n",
              "  </div>\n",
              "  "
            ]
          },
          "metadata": {},
          "execution_count": 5
        }
      ],
      "source": [
        "df.head()"
      ]
    },
    {
      "cell_type": "markdown",
      "source": [
        "Label kita berada di **cab_type**, isinya:"
      ],
      "metadata": {
        "id": "TNpovjUCfbYz"
      }
    },
    {
      "cell_type": "code",
      "execution_count": null,
      "metadata": {
        "colab": {
          "base_uri": "https://localhost:8080/"
        },
        "id": "4r7s9EmpF9PX",
        "outputId": "1fce8ec1-d860-4750-bb64-744b9d91dff1"
      },
      "outputs": [
        {
          "output_type": "execute_result",
          "data": {
            "text/plain": [
              "Uber    385663\n",
              "Lyft    307408\n",
              "Name: cab_type, dtype: int64"
            ]
          },
          "metadata": {},
          "execution_count": 6
        }
      ],
      "source": [
        "df['cab_type'].value_counts()"
      ]
    },
    {
      "cell_type": "markdown",
      "metadata": {
        "id": "tWMQQKdb-tHU"
      },
      "source": [
        "### Cek Informasi Data"
      ]
    },
    {
      "cell_type": "code",
      "execution_count": null,
      "metadata": {
        "colab": {
          "base_uri": "https://localhost:8080/"
        },
        "id": "4WG8j4QEBgkl",
        "outputId": "ccee2cee-1cf8-4275-c6bb-6998d8732799"
      },
      "outputs": [
        {
          "output_type": "stream",
          "name": "stdout",
          "text": [
            "<class 'pandas.core.frame.DataFrame'>\n",
            "RangeIndex: 693071 entries, 0 to 693070\n",
            "Data columns (total 57 columns):\n",
            " #   Column                       Non-Null Count   Dtype  \n",
            "---  ------                       --------------   -----  \n",
            " 0   id                           693071 non-null  object \n",
            " 1   timestamp                    693071 non-null  float64\n",
            " 2   hour                         693071 non-null  int64  \n",
            " 3   day                          693071 non-null  int64  \n",
            " 4   month                        693071 non-null  int64  \n",
            " 5   datetime                     693071 non-null  object \n",
            " 6   timezone                     693071 non-null  object \n",
            " 7   source                       693071 non-null  object \n",
            " 8   destination                  693071 non-null  object \n",
            " 9   cab_type                     693071 non-null  object \n",
            " 10  product_id                   693071 non-null  object \n",
            " 11  name                         693071 non-null  object \n",
            " 12  price                        637976 non-null  float64\n",
            " 13  distance                     693071 non-null  float64\n",
            " 14  surge_multiplier             693071 non-null  float64\n",
            " 15  latitude                     693071 non-null  float64\n",
            " 16  longitude                    693071 non-null  float64\n",
            " 17  temperature                  693071 non-null  float64\n",
            " 18  apparentTemperature          693071 non-null  float64\n",
            " 19  short_summary                693071 non-null  object \n",
            " 20  long_summary                 693071 non-null  object \n",
            " 21  precipIntensity              693071 non-null  float64\n",
            " 22  precipProbability            693071 non-null  float64\n",
            " 23  humidity                     693071 non-null  float64\n",
            " 24  windSpeed                    693071 non-null  float64\n",
            " 25  windGust                     693071 non-null  float64\n",
            " 26  windGustTime                 693071 non-null  int64  \n",
            " 27  visibility                   693071 non-null  float64\n",
            " 28  temperatureHigh              693071 non-null  float64\n",
            " 29  temperatureHighTime          693071 non-null  int64  \n",
            " 30  temperatureLow               693071 non-null  float64\n",
            " 31  temperatureLowTime           693071 non-null  int64  \n",
            " 32  apparentTemperatureHigh      693071 non-null  float64\n",
            " 33  apparentTemperatureHighTime  693071 non-null  int64  \n",
            " 34  apparentTemperatureLow       693071 non-null  float64\n",
            " 35  apparentTemperatureLowTime   693071 non-null  int64  \n",
            " 36  icon                         693071 non-null  object \n",
            " 37  dewPoint                     693071 non-null  float64\n",
            " 38  pressure                     693071 non-null  float64\n",
            " 39  windBearing                  693071 non-null  int64  \n",
            " 40  cloudCover                   693071 non-null  float64\n",
            " 41  uvIndex                      693071 non-null  int64  \n",
            " 42  visibility.1                 693071 non-null  float64\n",
            " 43  ozone                        693071 non-null  float64\n",
            " 44  sunriseTime                  693071 non-null  int64  \n",
            " 45  sunsetTime                   693071 non-null  int64  \n",
            " 46  moonPhase                    693071 non-null  float64\n",
            " 47  precipIntensityMax           693071 non-null  float64\n",
            " 48  uvIndexTime                  693071 non-null  int64  \n",
            " 49  temperatureMin               693071 non-null  float64\n",
            " 50  temperatureMinTime           693071 non-null  int64  \n",
            " 51  temperatureMax               693071 non-null  float64\n",
            " 52  temperatureMaxTime           693071 non-null  int64  \n",
            " 53  apparentTemperatureMin       693071 non-null  float64\n",
            " 54  apparentTemperatureMinTime   693071 non-null  int64  \n",
            " 55  apparentTemperatureMax       693071 non-null  float64\n",
            " 56  apparentTemperatureMaxTime   693071 non-null  int64  \n",
            "dtypes: float64(29), int64(17), object(11)\n",
            "memory usage: 301.4+ MB\n"
          ]
        }
      ],
      "source": [
        "df.info()"
      ]
    },
    {
      "cell_type": "markdown",
      "metadata": {
        "id": "8lPnqE6c-_5j"
      },
      "source": [
        "**Interpretasi** : Dataset diatas terdiri dari column dengan type float sebanyak 29, int sebanyak 17, dan object sebanyak 11. Dari data diatas bisa terlihat dengan jelas bahwa price memiliki jumlah non-null yang hanya 637976 dari 693071 data, artinya terdapat null value didalamnya yang perlu kita atasi dengan cleaning data."
      ]
    },
    {
      "cell_type": "markdown",
      "metadata": {
        "id": "69Edk5rX-Af2"
      },
      "source": [
        "## Cleaning Data\n",
        "\n"
      ]
    },
    {
      "cell_type": "markdown",
      "metadata": {
        "id": "E6UJlE5xflik"
      },
      "source": [
        "### Cek null values"
      ]
    },
    {
      "cell_type": "code",
      "execution_count": null,
      "metadata": {
        "colab": {
          "base_uri": "https://localhost:8080/"
        },
        "id": "6B1_OBK6JQO4",
        "outputId": "4e2373d7-16e9-49a2-f38c-38328fcacec5"
      },
      "outputs": [
        {
          "output_type": "execute_result",
          "data": {
            "text/plain": [
              "id                                 0\n",
              "timestamp                          0\n",
              "hour                               0\n",
              "day                                0\n",
              "month                              0\n",
              "datetime                           0\n",
              "timezone                           0\n",
              "source                             0\n",
              "destination                        0\n",
              "cab_type                           0\n",
              "product_id                         0\n",
              "name                               0\n",
              "price                          55095\n",
              "distance                           0\n",
              "surge_multiplier                   0\n",
              "latitude                           0\n",
              "longitude                          0\n",
              "temperature                        0\n",
              "apparentTemperature                0\n",
              "short_summary                      0\n",
              "long_summary                       0\n",
              "precipIntensity                    0\n",
              "precipProbability                  0\n",
              "humidity                           0\n",
              "windSpeed                          0\n",
              "windGust                           0\n",
              "windGustTime                       0\n",
              "visibility                         0\n",
              "temperatureHigh                    0\n",
              "temperatureHighTime                0\n",
              "temperatureLow                     0\n",
              "temperatureLowTime                 0\n",
              "apparentTemperatureHigh            0\n",
              "apparentTemperatureHighTime        0\n",
              "apparentTemperatureLow             0\n",
              "apparentTemperatureLowTime         0\n",
              "icon                               0\n",
              "dewPoint                           0\n",
              "pressure                           0\n",
              "windBearing                        0\n",
              "cloudCover                         0\n",
              "uvIndex                            0\n",
              "visibility.1                       0\n",
              "ozone                              0\n",
              "sunriseTime                        0\n",
              "sunsetTime                         0\n",
              "moonPhase                          0\n",
              "precipIntensityMax                 0\n",
              "uvIndexTime                        0\n",
              "temperatureMin                     0\n",
              "temperatureMinTime                 0\n",
              "temperatureMax                     0\n",
              "temperatureMaxTime                 0\n",
              "apparentTemperatureMin             0\n",
              "apparentTemperatureMinTime         0\n",
              "apparentTemperatureMax             0\n",
              "apparentTemperatureMaxTime         0\n",
              "dtype: int64"
            ]
          },
          "metadata": {},
          "execution_count": 8
        }
      ],
      "source": [
        "df.isnull().sum()"
      ]
    },
    {
      "cell_type": "markdown",
      "metadata": {
        "id": "86gSS_rVfseh"
      },
      "source": [
        "**Kolom price memiliki nilai null sebanyak 55095**, lakukan **fillna()** untuk mengisinya dan gunakan **median** untuk mengisinya, lalu cek kembali apakah null values sudah teratasi semua."
      ]
    },
    {
      "cell_type": "code",
      "execution_count": null,
      "metadata": {
        "colab": {
          "base_uri": "https://localhost:8080/"
        },
        "id": "QiKgWcM1J4GR",
        "outputId": "8dd0f19f-0378-4dfa-ae45-e30cdda2e683"
      },
      "outputs": [
        {
          "output_type": "execute_result",
          "data": {
            "text/plain": [
              "id                             0\n",
              "timestamp                      0\n",
              "hour                           0\n",
              "day                            0\n",
              "month                          0\n",
              "datetime                       0\n",
              "timezone                       0\n",
              "source                         0\n",
              "destination                    0\n",
              "cab_type                       0\n",
              "product_id                     0\n",
              "name                           0\n",
              "price                          0\n",
              "distance                       0\n",
              "surge_multiplier               0\n",
              "latitude                       0\n",
              "longitude                      0\n",
              "temperature                    0\n",
              "apparentTemperature            0\n",
              "short_summary                  0\n",
              "long_summary                   0\n",
              "precipIntensity                0\n",
              "precipProbability              0\n",
              "humidity                       0\n",
              "windSpeed                      0\n",
              "windGust                       0\n",
              "windGustTime                   0\n",
              "visibility                     0\n",
              "temperatureHigh                0\n",
              "temperatureHighTime            0\n",
              "temperatureLow                 0\n",
              "temperatureLowTime             0\n",
              "apparentTemperatureHigh        0\n",
              "apparentTemperatureHighTime    0\n",
              "apparentTemperatureLow         0\n",
              "apparentTemperatureLowTime     0\n",
              "icon                           0\n",
              "dewPoint                       0\n",
              "pressure                       0\n",
              "windBearing                    0\n",
              "cloudCover                     0\n",
              "uvIndex                        0\n",
              "visibility.1                   0\n",
              "ozone                          0\n",
              "sunriseTime                    0\n",
              "sunsetTime                     0\n",
              "moonPhase                      0\n",
              "precipIntensityMax             0\n",
              "uvIndexTime                    0\n",
              "temperatureMin                 0\n",
              "temperatureMinTime             0\n",
              "temperatureMax                 0\n",
              "temperatureMaxTime             0\n",
              "apparentTemperatureMin         0\n",
              "apparentTemperatureMinTime     0\n",
              "apparentTemperatureMax         0\n",
              "apparentTemperatureMaxTime     0\n",
              "dtype: int64"
            ]
          },
          "metadata": {},
          "execution_count": 9
        }
      ],
      "source": [
        "df.dropna(inplace=True)\n",
        "df.isnull().sum()"
      ]
    },
    {
      "cell_type": "markdown",
      "source": [
        "## Cek duplicated values"
      ],
      "metadata": {
        "id": "xHAqK-wzgPDS"
      }
    },
    {
      "cell_type": "code",
      "execution_count": null,
      "metadata": {
        "colab": {
          "base_uri": "https://localhost:8080/"
        },
        "id": "F4z7liQzH2p2",
        "outputId": "19f852bd-15af-4363-c9df-2b1135837bc7"
      },
      "outputs": [
        {
          "output_type": "execute_result",
          "data": {
            "text/plain": [
              "0"
            ]
          },
          "metadata": {},
          "execution_count": 10
        }
      ],
      "source": [
        "df.duplicated().sum()"
      ]
    },
    {
      "cell_type": "markdown",
      "metadata": {
        "id": "FQtfrFGNgDqQ"
      },
      "source": [
        "'0', artinya **Tidak ada nilai yang terduplikat**. Sekarang dataframe kita sudah bersih dari nilai null dan duplikat."
      ]
    },
    {
      "cell_type": "code",
      "source": [
        "df['name'] = df['name'].str.replace('Black SUV', 'BlackSUV')\n",
        "df['name'] = df['name'].str.replace('Lyft Black XL', 'LyftBlackXL')\n",
        "df['name'] = df['name'].str.replace('Lyft XL', 'LyftXL')\n",
        "df['name'] = df['name'].str.replace('Lux Black XL', 'LuxBlackXL')\n",
        "df['name'] = df['name'].str.replace('Lux Black', 'LuxBlack')"
      ],
      "metadata": {
        "id": "UiCrPJm7pKwG"
      },
      "execution_count": null,
      "outputs": []
    },
    {
      "cell_type": "code",
      "source": [
        "df['name'].unique()"
      ],
      "metadata": {
        "colab": {
          "base_uri": "https://localhost:8080/"
        },
        "id": "xYW636igppN2",
        "outputId": "5e409aab-a8e7-4873-9ed9-8bb989f0e6e3"
      },
      "execution_count": null,
      "outputs": [
        {
          "output_type": "execute_result",
          "data": {
            "text/plain": [
              "array(['Shared', 'Lux', 'Lyft', 'LuxBlackXL', 'LyftXL', 'LuxBlack',\n",
              "       'UberXL', 'Black', 'UberX', 'WAV', 'BlackSUV', 'UberPool'],\n",
              "      dtype=object)"
            ]
          },
          "metadata": {},
          "execution_count": 12
        }
      ]
    },
    {
      "cell_type": "markdown",
      "metadata": {
        "id": "s382x-4V-Yl8"
      },
      "source": [
        "# EDA (Exploratory Data Analysis)"
      ]
    },
    {
      "cell_type": "markdown",
      "metadata": {
        "id": "XDzgmx5xQQ6a"
      },
      "source": [
        "## Manakah yang lebih mahal, Uber atau Lyft?"
      ]
    },
    {
      "cell_type": "code",
      "source": [
        "sns.set(rc={'figure.figsize':(10,5)})\n",
        "sns.barplot(x='cab_type', y='price', data=df)"
      ],
      "metadata": {
        "colab": {
          "base_uri": "https://localhost:8080/",
          "height": 356
        },
        "id": "ZaXrP5F41Kt5",
        "outputId": "197f27ff-a3a2-4192-d674-f0dc3f4afcb0"
      },
      "execution_count": null,
      "outputs": [
        {
          "output_type": "execute_result",
          "data": {
            "text/plain": [
              "<matplotlib.axes._subplots.AxesSubplot at 0x7f81b39f64d0>"
            ]
          },
          "metadata": {},
          "execution_count": 13
        },
        {
          "output_type": "display_data",
          "data": {
            "text/plain": [
              "<Figure size 720x360 with 1 Axes>"
            ],
            "image/png": "[encoded data removed]"
          },
          "metadata": {}
        }
      ]
    },
    {
      "cell_type": "code",
      "execution_count": null,
      "metadata": {
        "colab": {
          "base_uri": "https://localhost:8080/"
        },
        "id": "ohiNAHLehVGU",
        "outputId": "6748a62e-635c-432b-fa2f-6cdbf29ecf3b"
      },
      "outputs": [
        {
          "output_type": "execute_result",
          "data": {
            "text/plain": [
              "cab_type\n",
              "Lyft    17.351396\n",
              "Uber    15.795343\n",
              "Name: price, dtype: float64"
            ]
          },
          "metadata": {},
          "execution_count": 14
        }
      ],
      "source": [
        "df.groupby('cab_type')['price'].mean()"
      ]
    },
    {
      "cell_type": "markdown",
      "metadata": {
        "id": "zX2prMD5sXqh"
      },
      "source": [
        "## Apakah benar jenis produk yang dimiliki oleh Uber dan Lyft mempengaruhi tarif perjalanan?"
      ]
    },
    {
      "cell_type": "code",
      "execution_count": null,
      "metadata": {
        "colab": {
          "base_uri": "https://localhost:8080/",
          "height": 356
        },
        "id": "ac0uNZnsR6v2",
        "outputId": "0a822baf-8cce-4669-e3ad-331b7c0a6782"
      },
      "outputs": [
        {
          "output_type": "execute_result",
          "data": {
            "text/plain": [
              "<matplotlib.axes._subplots.AxesSubplot at 0x7f81b03a8b10>"
            ]
          },
          "metadata": {},
          "execution_count": 15
        },
        {
          "output_type": "display_data",
          "data": {
            "text/plain": [
              "<Figure size 720x360 with 1 Axes>"
            ],
            "image/png": "[encoded data removed]"
          },
          "metadata": {}
        }
      ],
      "source": [
        "df.sort_values('cab_type', inplace=True)\n",
        "sns.set(rc={'figure.figsize':(10,5)})\n",
        "\n",
        "sns.barplot(y='name', \n",
        "            x='price',\n",
        "            data=df,\n",
        "            hue='cab_type')"
      ]
    },
    {
      "cell_type": "code",
      "execution_count": null,
      "metadata": {
        "colab": {
          "base_uri": "https://localhost:8080/"
        },
        "id": "c9y_-bLpaNYO",
        "outputId": "ca504607-69b0-4c10-bf5b-24076d858fa2"
      },
      "outputs": [
        {
          "output_type": "execute_result",
          "data": {
            "text/plain": [
              "name\n",
              "Black         20.523786\n",
              "BlackSUV      30.286763\n",
              "Lux           17.771240\n",
              "LuxBlack      23.062468\n",
              "LuxBlackXL    32.324086\n",
              "Lyft           9.610885\n",
              "LyftXL        15.309363\n",
              "Shared         6.029893\n",
              "UberPool       8.752500\n",
              "UberX          9.765074\n",
              "UberXL        15.678144\n",
              "WAV            9.765019\n",
              "Name: price, dtype: float64"
            ]
          },
          "metadata": {},
          "execution_count": 16
        }
      ],
      "source": [
        "df.groupby('name')['price'].mean()"
      ]
    },
    {
      "cell_type": "markdown",
      "metadata": {
        "id": "rhCxMJ0bY2of"
      },
      "source": [
        "Berdasarkan grafik diatas terbukti bahwa jenis taksi yang dimiliki Uber dan Lyft mempengaruhi tarif/harga perjalanan yang akan dikenakan kepada penumpang.\n",
        "\n",
        "Menurut dataset:\n",
        "- **Produk Lyft** yang termahal adalah Lux Black XL dengan harga rata-rata perjalanannya sebesar 30.50 USD dan produk termurahnya adalah Shared dengan harga rata-rata perjalannya sebesar 5.99 USD.\n",
        "\n",
        "- **Produk Uber** yang termahal adalah Black SUV dengan harga rata-rata perjalanannya sebesar 30.29 USD dan produk termurahnya adalah UberPool dengan harga rata-rata perjalannya sebesar 8.75 USD."
      ]
    },
    {
      "cell_type": "markdown",
      "source": [
        "## Apakah ada korelasi antara jarak yang ditempuh dengan tarif perjalanan?"
      ],
      "metadata": {
        "id": "WR_KVgXQ0Vrm"
      }
    },
    {
      "cell_type": "code",
      "execution_count": null,
      "metadata": {
        "colab": {
          "base_uri": "https://localhost:8080/",
          "height": 382
        },
        "id": "0Z_44xl3qohg",
        "outputId": "508035ee-bd28-46d3-a151-30c01587bfd9"
      },
      "outputs": [
        {
          "output_type": "execute_result",
          "data": {
            "text/plain": [
              "<seaborn.axisgrid.FacetGrid at 0x7f81af74db10>"
            ]
          },
          "metadata": {},
          "execution_count": 17
        },
        {
          "output_type": "display_data",
          "data": {
            "text/plain": [
              "<Figure size 426.225x360 with 1 Axes>"
            ],
            "image/png": "[encoded data removed]"
          },
          "metadata": {}
        }
      ],
      "source": [
        "sns.set(rc={'figure.figsize':(10,5)})\n",
        "sns.relplot(kind='line',\n",
        "            x='distance',\n",
        "            y='price',\n",
        "            data=df,\n",
        "            hue='cab_type')"
      ]
    },
    {
      "cell_type": "markdown",
      "metadata": {
        "id": "u0RNt7tIq1rZ"
      },
      "source": [
        "Berdasarkan grafik diatas dapat dilihat bahwa semakin besar jarak yang ditempuh oleh produk milik Uber dan Lyft maka semakin besar pula tarif perjalanan. Produk Lyft memiliki tarif lebih tinggi dibandingkan Uber walaupun jarak yang ditempuh tidak terlalu besar daripada Uber.\n",
        "\n",
        "**Rincian data:**"
      ]
    },
    {
      "cell_type": "code",
      "source": [
        "dist_price = df.pivot_table(values='distance',\n",
        "                       index=['cab_type'],\n",
        "                       columns=['day','month','price'],\n",
        "                       aggfunc=np.mean,\n",
        "                       fill_value=0)\n",
        "dist_price = dist_price.T\n",
        "dist_price = dist_price.reset_index(drop=False)\n",
        "\n",
        "dist_price.sort_values('price', ascending=False, inplace=True)\n",
        "print('Harga Tertinggi:')\n",
        "print(dist_price.head(10))"
      ],
      "metadata": {
        "colab": {
          "base_uri": "https://localhost:8080/"
        },
        "id": "d2T4GiygVUcp",
        "outputId": "93cf21ab-1e66-4b12-df3c-43d04ce215d9"
      },
      "execution_count": null,
      "outputs": [
        {
          "output_type": "stream",
          "name": "stdout",
          "text": [
            "Harga Tertinggi:\n",
            "cab_type  day  month  price  Lyft  Uber\n",
            "224         2     12   97.5  4.43  0.00\n",
            "1166       17     12   92.0  5.36  0.00\n",
            "110         1     12   92.0  5.37  0.00\n",
            "822        14     12   92.0  4.39  0.00\n",
            "708        13     12   92.0  3.75  0.00\n",
            "1501       27     11   92.0  4.57  0.00\n",
            "1047       16     12   92.0  4.37  0.00\n",
            "1738       29     11   92.0  5.39  0.00\n",
            "1623       28     11   92.0  3.89  0.00\n",
            "1855       30     11   89.5  0.00  7.46\n"
          ]
        }
      ]
    },
    {
      "cell_type": "markdown",
      "source": [
        "Perhatikan!\n",
        "- Terdapat produk Lyft pada 2 Desember yang memasang tarif sebesar 97.5 USD untuk jarak perjalanan 4.43 satuan\n",
        "- Terdapat produk Uber pada 30 November memberikan tarif sebesar 89.5 USD untuk jarak perjalanan 7.46 satuan."
      ],
      "metadata": {
        "id": "3mWDUfKu-8zU"
      }
    },
    {
      "cell_type": "markdown",
      "metadata": {
        "id": "4r9hvX-MvbyO"
      },
      "source": [
        "## Manakah yang mengalami lonjakan pesanan tertinggi selama November dan Desember ini, Lyft atau Uber?"
      ]
    },
    {
      "cell_type": "code",
      "source": [
        "surge_price = df.pivot_table(values='price',\n",
        "                       index=['surge_multiplier'],\n",
        "                       columns=['cab_type'],\n",
        "                       aggfunc=np.mean,\n",
        "                       fill_value=0)\n",
        "surge_price.loc['mean'] = surge_price.mean()\n",
        "surge_price = surge_price.T\n",
        "surge_price = surge_price.reset_index(drop=False)\n",
        "surge_price.sort_values('mean', ascending=False, inplace=True)"
      ],
      "metadata": {
        "id": "xMxbZtdi8zdG"
      },
      "execution_count": null,
      "outputs": []
    },
    {
      "cell_type": "code",
      "source": [
        "colors = sns.color_palette('Set2')[0:2]\n",
        "\n",
        "#create pie chart\n",
        "plt.subplot(121)\n",
        "plt.pie(surge_price['mean'],\n",
        "        shadow = 'True',\n",
        "        colors = colors,\n",
        "        labels = None,\n",
        "        autopct='%.0f%%')\n",
        "plt.title(\"Lonjakan Pesanan terhadap Lyft dan Uber\")\n",
        "plt.legend(labels=surge_price.cab_type, loc='upper right')\n",
        "plt.show()"
      ],
      "metadata": {
        "colab": {
          "base_uri": "https://localhost:8080/",
          "height": 301
        },
        "id": "bCBAVCiRVxBY",
        "outputId": "8bed8ad2-fdde-40a3-8182-2e96ab9d1a53"
      },
      "execution_count": null,
      "outputs": [
        {
          "output_type": "display_data",
          "data": {
            "text/plain": [
              "<Figure size 720x360 with 1 Axes>"
            ],
            "image/png": "[encoded data removed]"
          },
          "metadata": {}
        }
      ]
    },
    {
      "cell_type": "markdown",
      "source": [
        "Dari grafik diatas terlihat jelas, bahwa produk Lyft adalah produk yang paling tinggi lonjakan pesanannya selama 2 bulan ini yaitu November dan Desember.\n",
        "\n",
        "**Mari kita lihat rincian datanya dibawah ini.**"
      ],
      "metadata": {
        "id": "4s0IMXM2Zos9"
      }
    },
    {
      "cell_type": "code",
      "source": [
        "surge_price.drop(columns=['mean'], inplace=True)\n",
        "print(surge_price)"
      ],
      "metadata": {
        "colab": {
          "base_uri": "https://localhost:8080/"
        },
        "id": "aTWp99O4cI9M",
        "outputId": "ef62017e-ee4b-495f-848a-9dbb108d274e"
      },
      "execution_count": null,
      "outputs": [
        {
          "output_type": "stream",
          "name": "stdout",
          "text": [
            "surge_multiplier cab_type        1.0       1.25        1.5      1.75  \\\n",
            "0                    Lyft  16.583557  23.768471  28.894472  33.67376   \n",
            "1                    Uber  15.795343   0.000000   0.000000   0.00000   \n",
            "\n",
            "surge_multiplier        2.0        2.5        3.0  \n",
            "0                 39.048459  30.207792  40.333333  \n",
            "1                  0.000000   0.000000   0.000000  \n"
          ]
        }
      ]
    },
    {
      "cell_type": "markdown",
      "source": [
        "Lonjakan pesanan Lyft sampai pada tingkat 3.0, sedangkan lonjakan pesanan Uber hanya sampai tingkat 1.0.\n",
        "\n",
        "**Mari kita rincikan lagi datanya berdasarkan jenis-jenis produk Lyft dan Uber.**"
      ],
      "metadata": {
        "id": "VQfbBe9QhDG5"
      }
    },
    {
      "cell_type": "code",
      "source": [
        "surge_price_nm = df.pivot_table(values='price',\n",
        "                       index=['cab_type', 'name'],\n",
        "                       columns=['surge_multiplier'],\n",
        "                       aggfunc=np.mean,\n",
        "                       fill_value=0)\n",
        "surge_price_nm.loc['mean'] = surge_price_nm.mean()\n",
        "surge_price_nm = surge_price_nm.T\n",
        "surge_price_nm = surge_price_nm.reset_index(drop=False)\n",
        "surge_price_nm.sort_values('surge_multiplier', ascending=False, inplace=True)"
      ],
      "metadata": {
        "id": "wxKmBlS8e7CJ"
      },
      "execution_count": null,
      "outputs": []
    },
    {
      "cell_type": "code",
      "source": [
        "surge_price_nm.drop(columns=['mean'], inplace=True)\n",
        "print('Harga Tertinggi:')\n",
        "print(surge_price_nm)"
      ],
      "metadata": {
        "colab": {
          "base_uri": "https://localhost:8080/"
        },
        "id": "lOjqzxlvfHEX",
        "outputId": "2d5207da-5862-4330-8924-559f72e70a57"
      },
      "execution_count": null,
      "outputs": [
        {
          "output_type": "stream",
          "name": "stdout",
          "text": [
            "Harga Tertinggi:\n",
            "   surge_multiplier  (Lyft, Lux)  (Lyft, LuxBlack)  (Lyft, LuxBlackXL)  \\\n",
            "6              3.00     0.000000          0.000000            0.000000   \n",
            "5              2.50     0.000000          0.000000            0.000000   \n",
            "4              2.00    34.344075         45.506237           63.613306   \n",
            "3              1.75    30.480372         40.017562           56.113636   \n",
            "2              1.50    26.220632         34.308490           47.631787   \n",
            "1              1.25    21.495038         28.099910           39.255074   \n",
            "0              1.00    17.113552         22.178923           31.103062   \n",
            "\n",
            "   (Lyft, Lyft)  (Lyft, LyftXL)  (Lyft, Shared)  (Uber, Black)  \\\n",
            "6     29.750000       50.916667        0.000000       0.000000   \n",
            "5     22.519481       37.896104        0.000000       0.000000   \n",
            "4     17.331658       28.958543        0.000000       0.000000   \n",
            "3     15.655992       26.101240        0.000000       0.000000   \n",
            "2     13.731984       22.579467        0.000000       0.000000   \n",
            "1     11.509698       18.482634        0.000000       0.000000   \n",
            "0      9.281424       14.735208        6.029893      20.523786   \n",
            "\n",
            "   (Uber, BlackSUV)  (Uber, UberPool)  (Uber, UberX)  (Uber, UberXL)  \\\n",
            "6          0.000000            0.0000       0.000000        0.000000   \n",
            "5          0.000000            0.0000       0.000000        0.000000   \n",
            "4          0.000000            0.0000       0.000000        0.000000   \n",
            "3          0.000000            0.0000       0.000000        0.000000   \n",
            "2          0.000000            0.0000       0.000000        0.000000   \n",
            "1          0.000000            0.0000       0.000000        0.000000   \n",
            "0         30.286763            8.7525       9.765074       15.678144   \n",
            "\n",
            "   (Uber, WAV)  \n",
            "6     0.000000  \n",
            "5     0.000000  \n",
            "4     0.000000  \n",
            "3     0.000000  \n",
            "2     0.000000  \n",
            "1     0.000000  \n",
            "0     9.765019  \n"
          ]
        }
      ]
    },
    {
      "cell_type": "markdown",
      "source": [
        "Dari rincian data diatas diketahui:\n",
        "- Lonjakan pesanan memang lebih berpengaruh terhadap harga produk Lyft daripada Uber.\n",
        "- Harga produk Uber hanya terpengaruh sampai pada lonjakan ke 1.0.\n",
        "- Produk Lyft yang mencapai lonjakan pesanan 3.0 adalah Lyft dengan harga lonjakan sebesar 29.7 USD dan Lyft XL dengan harga lonjakan sebesar 50.9 USD."
      ],
      "metadata": {
        "id": "gM_qhb3rh2zv"
      }
    },
    {
      "cell_type": "markdown",
      "metadata": {
        "id": "0aijnwx2c02t"
      },
      "source": [
        "## Perjalanan darimana kemana yang memiliki harga perjalanan termahal dan termurah?"
      ]
    },
    {
      "cell_type": "code",
      "execution_count": null,
      "metadata": {
        "id": "yhBMQhxYc8U8"
      },
      "outputs": [],
      "source": [
        "location_price = df.pivot_table(values='price',\n",
        "                       index=['name'],\n",
        "                       columns=['source','destination'],\n",
        "                       aggfunc=np.mean,\n",
        "                       fill_value=0)\n",
        "location_price.loc['mean'] = location_price.mean()\n",
        "location_price = location_price.T\n",
        "location_price = location_price.reset_index(drop=False)\n",
        "location_price.sort_values('mean', ascending=False, inplace=True)"
      ]
    },
    {
      "cell_type": "code",
      "execution_count": null,
      "metadata": {
        "colab": {
          "base_uri": "https://localhost:8080/",
          "height": 356
        },
        "id": "ytpWLmSdrhc1",
        "outputId": "8bdbd3db-8ce6-4e30-943c-777d6e665680"
      },
      "outputs": [
        {
          "output_type": "execute_result",
          "data": {
            "text/plain": [
              "<matplotlib.axes._subplots.AxesSubplot at 0x7f81af75d6d0>"
            ]
          },
          "metadata": {},
          "execution_count": 25
        },
        {
          "output_type": "display_data",
          "data": {
            "text/plain": [
              "<Figure size 720x360 with 1 Axes>"
            ],
            "image/png": "[encoded data removed]"
          },
          "metadata": {}
        }
      ],
      "source": [
        "location_price.sort_values('mean', ascending=False, inplace=True)\n",
        "sns.set(rc={'figure.figsize':(10,5)})\n",
        "\n",
        "sns.barplot(x='mean', y='source', data=location_price)"
      ]
    },
    {
      "cell_type": "code",
      "source": [
        "location_price.drop(columns=['mean'], inplace=True)\n",
        "print('Harga Tertinggi:')\n",
        "print(location_price.head(1))\n",
        "print('')\n",
        "print('')\n",
        "print('Harga Terendah:')\n",
        "print(location_price.tail(1))"
      ],
      "metadata": {
        "colab": {
          "base_uri": "https://localhost:8080/"
        },
        "id": "6W-sgHp-rIPh",
        "outputId": "14cb4495-61b1-425e-e6a4-05f38f56a7b4"
      },
      "execution_count": null,
      "outputs": [
        {
          "output_type": "stream",
          "name": "stdout",
          "text": [
            "Harga Tertinggi:\n",
            "name              source        destination      Black   BlackSUV        Lux  \\\n",
            "24    Financial District  Boston University  34.228923  43.572633  28.366481   \n",
            "\n",
            "name   LuxBlack  LuxBlackXL       Lyft     LyftXL    Shared  UberPool  \\\n",
            "24    37.477747   46.765647  14.248957  24.299722  9.324757  13.40013   \n",
            "\n",
            "name      UberX     UberXL        WAV  \n",
            "24    14.824903  25.151751  14.824903  \n",
            "\n",
            "\n",
            "Harga Terendah:\n",
            "name            source    destination      Black   BlackSUV        Lux  \\\n",
            "33    Haymarket Square  North Station  15.613158  26.877632  10.797636   \n",
            "\n",
            "name   LuxBlack  LuxBlackXL      Lyft    LyftXL   Shared  UberPool     UberX  \\\n",
            "33    16.604312   26.926287  7.018081  9.166898  4.06815  6.789474  7.171711   \n",
            "\n",
            "name    UberXL       WAV  \n",
            "33    9.817105  7.171711  \n"
          ]
        }
      ]
    },
    {
      "cell_type": "markdown",
      "metadata": {
        "id": "T35YJGiOd0k7"
      },
      "source": [
        "Menurut dataset:\n",
        "- Perjalanan dengan **harga rata-rata termahal adalah dari Financial District ke Boston University** sebesar 24.61 USD. Produk termahal untuk perjalanan ini adalah Lux Black XL milik Lyft dengan harga 46.77 USD dan produk termurahnya adalah Shared milik Lyft dengan harga 9.32 USD.\n",
        "\n",
        "- Perjalanan dengan **harga rata-rata termurah adalah dari Haymarket Square ke North Station** sebesar 12.42 USD. Produk termahal untuk perjalanan ini adalah Lux Black XL milik Lyft dengan harga 26.92 USD dan produk termurahnya adalah Shared milik Lyft dengan harga 4.07 USD."
      ]
    },
    {
      "cell_type": "markdown",
      "source": [
        "## Apakah faktor cuaca mampu mempengaruhi lonjakan jumlah pesanan?"
      ],
      "metadata": {
        "id": "ka8nOKYHempt"
      }
    },
    {
      "cell_type": "code",
      "source": [
        "ss_price_sur = df.pivot_table(values='price',\n",
        "                       index=['surge_multiplier'],\n",
        "                       columns=['cab_type', 'short_summary'],\n",
        "                       aggfunc=np.mean,\n",
        "                       fill_value=0)\n",
        "ss_price_sur.loc['mean'] = ss_price_sur.mean()\n",
        "ss_price_sur = ss_price_sur.T\n",
        "ss_price_sur = ss_price_sur.reset_index(drop=False)\n",
        "\n",
        "ss_price_sur.sort_values('mean', ascending=False, inplace=True)"
      ],
      "metadata": {
        "id": "u7YOnWhEaMkE"
      },
      "execution_count": null,
      "outputs": []
    },
    {
      "cell_type": "code",
      "source": [
        "sns.set(rc={'figure.figsize':(10,5)})\n",
        "sns.barplot(x='mean', y='short_summary', hue= df.cab_type, data=ss_price_sur)"
      ],
      "metadata": {
        "colab": {
          "base_uri": "https://localhost:8080/",
          "height": 356
        },
        "id": "TSNslOvnnK2J",
        "outputId": "1d48a49b-c732-47e5-9b77-16d482255593"
      },
      "execution_count": null,
      "outputs": [
        {
          "output_type": "execute_result",
          "data": {
            "text/plain": [
              "<matplotlib.axes._subplots.AxesSubplot at 0x7f81b3305fd0>"
            ]
          },
          "metadata": {},
          "execution_count": 28
        },
        {
          "output_type": "display_data",
          "data": {
            "text/plain": [
              "<Figure size 720x360 with 1 Axes>"
            ],
            "image/png": "[encoded data removed]"
          },
          "metadata": {}
        }
      ]
    },
    {
      "cell_type": "markdown",
      "source": [
        "Cuaca sangat mempengaruhi lonjakan pesanan yang terjadi, pada grafik diatas diketahui cuaca yang paling berpengaruh terhadap lonjakan pesanan adalah **Rain** dan **Partly Cloudy**."
      ],
      "metadata": {
        "id": "KQJEwZB3kXnq"
      }
    },
    {
      "cell_type": "code",
      "source": [
        "ss_price_sur.drop(columns=['mean'], inplace=True)\n",
        "print(ss_price_sur)"
      ],
      "metadata": {
        "colab": {
          "base_uri": "https://localhost:8080/"
        },
        "id": "V1MCXS_nwfEB",
        "outputId": "2127ac81-6614-478f-c9cf-2e75b729b44a"
      },
      "execution_count": null,
      "outputs": [
        {
          "output_type": "stream",
          "name": "stdout",
          "text": [
            "surge_multiplier cab_type       short_summary        1.0       1.25  \\\n",
            "8                    Lyft               Rain   16.581970  23.615183   \n",
            "6                    Lyft      Partly Cloudy   16.622169  24.095661   \n",
            "4                    Lyft      Mostly Cloudy   16.593640  23.724283   \n",
            "3                    Lyft         Light Rain   16.589515  23.796782   \n",
            "5                    Lyft           Overcast   16.574693  23.750371   \n",
            "0                    Lyft              Clear   16.519477  23.563738   \n",
            "7                    Lyft   Possible Drizzle   16.539725  23.008361   \n",
            "2                    Lyft              Foggy   16.682484  24.005650   \n",
            "1                    Lyft            Drizzle   16.689300  24.076190   \n",
            "13                   Uber      Mostly Cloudy   15.842580   0.000000   \n",
            "12                   Uber         Light Rain   15.841686   0.000000   \n",
            "17                   Uber               Rain   15.828894   0.000000   \n",
            "16                   Uber   Possible Drizzle   15.808930   0.000000   \n",
            "14                   Uber           Overcast   15.798112   0.000000   \n",
            "10                   Uber            Drizzle   15.774903   0.000000   \n",
            "15                   Uber      Partly Cloudy   15.773583   0.000000   \n",
            "9                    Uber              Clear   15.717256   0.000000   \n",
            "11                   Uber              Foggy   15.640326   0.000000   \n",
            "\n",
            "surge_multiplier        1.5       1.75        2.0        2.5        3.0  \n",
            "8                 27.435897  36.976190  39.547619  25.500000  65.000000  \n",
            "6                 28.335751  33.038540  39.012262  29.666667  62.500000  \n",
            "4                 29.009285  33.342241  39.313910  30.583333  37.750000  \n",
            "3                 28.779948  32.702247  40.134831  33.361111  32.833333  \n",
            "5                 29.377551  34.279861  38.325532  26.912500  35.666667  \n",
            "0                 28.963102  33.220085  40.725490  33.750000   0.000000  \n",
            "7                 26.988372  35.623188  36.697917  37.750000   0.000000  \n",
            "2                 30.913333  33.087500  29.595238  22.500000   0.000000  \n",
            "1                 28.436170  31.840909  36.684211  18.000000   0.000000  \n",
            "13                 0.000000   0.000000   0.000000   0.000000   0.000000  \n",
            "12                 0.000000   0.000000   0.000000   0.000000   0.000000  \n",
            "17                 0.000000   0.000000   0.000000   0.000000   0.000000  \n",
            "16                 0.000000   0.000000   0.000000   0.000000   0.000000  \n",
            "14                 0.000000   0.000000   0.000000   0.000000   0.000000  \n",
            "10                 0.000000   0.000000   0.000000   0.000000   0.000000  \n",
            "15                 0.000000   0.000000   0.000000   0.000000   0.000000  \n",
            "9                  0.000000   0.000000   0.000000   0.000000   0.000000  \n",
            "11                 0.000000   0.000000   0.000000   0.000000   0.000000  \n"
          ]
        }
      ]
    },
    {
      "cell_type": "markdown",
      "source": [
        "- **Lonjakan pesanan tertinggi pada produk Lyft** terjadi pada saat cuaca **Rain** dengan lonjakan mencapai 3.0, tarif perjalanannya mencapai **65.00 USD**. \n",
        "- **Lonjakan pesanan terendah pesanan pada produk Lyft** terjadi pada cuaca **Drizzle** dengan lonjakan mencapai 2.5, tarif perjalanannya mencapai **18.00 USD**.\n",
        "- **Lonjakan pesanan tertinggi pada produk Uber** terjadi pada saat cuaca **Mostly Cloudy** dengan lonjakan mencapai 1.0, tarif perjalanannya mencapai **15.51 USD**.\n",
        "- **Lonjakan pesanan terendah pesanan pada produk Uber** terjadi pada cuaca **Foggy** dengan lonjakan mencapai 1.0, tarif perjalanannya mencapai **15.31 USD**."
      ],
      "metadata": {
        "id": "flTdd0gXq7ia"
      }
    },
    {
      "cell_type": "markdown",
      "source": [
        "## Correlation Analysis\n",
        "\n",
        "Kita akan modelling Linear Regression mengenai harga Uber dan Lyft, disini kita tidak membutuhkan seluruh atribut yang ada untuk pemrosesan tersebut. Kita akan gunakan beberapa atribut yang dirasa berpengaruh terhadap modelling ini, yaitu:\n",
        "- hour\n",
        "- day\n",
        "- month\n",
        "- source\n",
        "- destination\n",
        "- cab_type\n",
        "- name\n",
        "- distance\n",
        "- surge_multiplier\n",
        "- latitude\n",
        "- longitude\n",
        "- temperature\n",
        "- short_summary\n",
        "- humidity\n",
        "- visibility\n",
        "- price"
      ],
      "metadata": {
        "id": "cGPV4MCZpjeJ"
      }
    },
    {
      "cell_type": "code",
      "execution_count": null,
      "metadata": {
        "id": "pGPzvi967XSd",
        "colab": {
          "base_uri": "https://localhost:8080/",
          "height": 357
        },
        "outputId": "68a8fb20-5293-4ce3-95fb-5c846fa0fe59"
      },
      "outputs": [
        {
          "output_type": "execute_result",
          "data": {
            "text/plain": [
              "        hour  day  month            source       destination cab_type    name  \\\n",
              "0          9   16     12  Haymarket Square     North Station     Lyft  Shared   \n",
              "280943     2   29     11            Fenway  Theatre District     Lyft     Lux   \n",
              "280942     2   29     11            Fenway  Theatre District     Lyft  LyftXL   \n",
              "280941     2   29     11            Fenway  Theatre District     Lyft    Lyft   \n",
              "280940     2   29     11            Fenway  Theatre District     Lyft  Shared   \n",
              "\n",
              "        distance  surge_multiplier  latitude  longitude  temperature  \\\n",
              "0           0.44               1.0   42.2148   -71.0330        42.34   \n",
              "280943      2.74               1.0   42.3429   -71.1003        37.92   \n",
              "280942      2.74               1.0   42.3429   -71.1003        37.92   \n",
              "280941      2.74               1.0   42.3429   -71.1003        37.92   \n",
              "280940      2.74               1.0   42.3429   -71.1003        37.92   \n",
              "\n",
              "          short_summary  humidity  visibility  price  \n",
              "0        Mostly Cloudy       0.68      10.000    5.0  \n",
              "280943   Mostly Cloudy       0.71       9.981   19.5  \n",
              "280942   Mostly Cloudy       0.71       9.981   16.5  \n",
              "280941   Mostly Cloudy       0.71       9.981   11.0  \n",
              "280940   Mostly Cloudy       0.71       9.981    5.0  "
            ],
            "text/html": [
              "\n",
              "  <div id=\"df-a9f42e1c-b8d3-4b60-85bc-843f193266d3\">\n",
              "    <div class=\"colab-df-container\">\n",
              "      <div>\n",
              "<style scoped>\n",
              "    .dataframe tbody tr th:only-of-type {\n",
              "        vertical-align: middle;\n",
              "    }\n",
              "\n",
              "    .dataframe tbody tr th {\n",
              "        vertical-align: top;\n",
              "    }\n",
              "\n",
              "    .dataframe thead th {\n",
              "        text-align: right;\n",
              "    }\n",
              "</style>\n",
              "<table border=\"1\" class=\"dataframe\">\n",
              "  <thead>\n",
              "    <tr style=\"text-align: right;\">\n",
              "      <th></th>\n",
              "      <th>hour</th>\n",
              "      <th>day</th>\n",
              "      <th>month</th>\n",
              "      <th>source</th>\n",
              "      <th>destination</th>\n",
              "      <th>cab_type</th>\n",
              "      <th>name</th>\n",
              "      <th>distance</th>\n",
              "      <th>surge_multiplier</th>\n",
              "      <th>latitude</th>\n",
              "      <th>longitude</th>\n",
              "      <th>temperature</th>\n",
              "      <th>short_summary</th>\n",
              "      <th>humidity</th>\n",
              "      <th>visibility</th>\n",
              "      <th>price</th>\n",
              "    </tr>\n",
              "  </thead>\n",
              "  <tbody>\n",
              "    <tr>\n",
              "      <th>0</th>\n",
              "      <td>9</td>\n",
              "      <td>16</td>\n",
              "      <td>12</td>\n",
              "      <td>Haymarket Square</td>\n",
              "      <td>North Station</td>\n",
              "      <td>Lyft</td>\n",
              "      <td>Shared</td>\n",
              "      <td>0.44</td>\n",
              "      <td>1.0</td>\n",
              "      <td>42.2148</td>\n",
              "      <td>-71.0330</td>\n",
              "      <td>42.34</td>\n",
              "      <td>Mostly Cloudy</td>\n",
              "      <td>0.68</td>\n",
              "      <td>10.000</td>\n",
              "      <td>5.0</td>\n",
              "    </tr>\n",
              "    <tr>\n",
              "      <th>280943</th>\n",
              "      <td>2</td>\n",
              "      <td>29</td>\n",
              "      <td>11</td>\n",
              "      <td>Fenway</td>\n",
              "      <td>Theatre District</td>\n",
              "      <td>Lyft</td>\n",
              "      <td>Lux</td>\n",
              "      <td>2.74</td>\n",
              "      <td>1.0</td>\n",
              "      <td>42.3429</td>\n",
              "      <td>-71.1003</td>\n",
              "      <td>37.92</td>\n",
              "      <td>Mostly Cloudy</td>\n",
              "      <td>0.71</td>\n",
              "      <td>9.981</td>\n",
              "      <td>19.5</td>\n",
              "    </tr>\n",
              "    <tr>\n",
              "      <th>280942</th>\n",
              "      <td>2</td>\n",
              "      <td>29</td>\n",
              "      <td>11</td>\n",
              "      <td>Fenway</td>\n",
              "      <td>Theatre District</td>\n",
              "      <td>Lyft</td>\n",
              "      <td>LyftXL</td>\n",
              "      <td>2.74</td>\n",
              "      <td>1.0</td>\n",
              "      <td>42.3429</td>\n",
              "      <td>-71.1003</td>\n",
              "      <td>37.92</td>\n",
              "      <td>Mostly Cloudy</td>\n",
              "      <td>0.71</td>\n",
              "      <td>9.981</td>\n",
              "      <td>16.5</td>\n",
              "    </tr>\n",
              "    <tr>\n",
              "      <th>280941</th>\n",
              "      <td>2</td>\n",
              "      <td>29</td>\n",
              "      <td>11</td>\n",
              "      <td>Fenway</td>\n",
              "      <td>Theatre District</td>\n",
              "      <td>Lyft</td>\n",
              "      <td>Lyft</td>\n",
              "      <td>2.74</td>\n",
              "      <td>1.0</td>\n",
              "      <td>42.3429</td>\n",
              "      <td>-71.1003</td>\n",
              "      <td>37.92</td>\n",
              "      <td>Mostly Cloudy</td>\n",
              "      <td>0.71</td>\n",
              "      <td>9.981</td>\n",
              "      <td>11.0</td>\n",
              "    </tr>\n",
              "    <tr>\n",
              "      <th>280940</th>\n",
              "      <td>2</td>\n",
              "      <td>29</td>\n",
              "      <td>11</td>\n",
              "      <td>Fenway</td>\n",
              "      <td>Theatre District</td>\n",
              "      <td>Lyft</td>\n",
              "      <td>Shared</td>\n",
              "      <td>2.74</td>\n",
              "      <td>1.0</td>\n",
              "      <td>42.3429</td>\n",
              "      <td>-71.1003</td>\n",
              "      <td>37.92</td>\n",
              "      <td>Mostly Cloudy</td>\n",
              "      <td>0.71</td>\n",
              "      <td>9.981</td>\n",
              "      <td>5.0</td>\n",
              "    </tr>\n",
              "  </tbody>\n",
              "</table>\n",
              "</div>\n",
              "      <button class=\"colab-df-convert\" onclick=\"convertToInteractive('df-a9f42e1c-b8d3-4b60-85bc-843f193266d3')\"\n",
              "              title=\"Convert this dataframe to an interactive table.\"\n",
              "              style=\"display:none;\">\n",
              "        \n",
              "  <svg xmlns=\"http://www.w3.org/2000/svg\" height=\"24px\"viewBox=\"0 0 24 24\"\n",
              "       width=\"24px\">\n",
              "    <path d=\"M0 0h24v24H0V0z\" fill=\"none\"/>\n",
              "    <path d=\"M18.56 5.44l.94 2.06.94-2.06 2.06-.94-2.06-.94-.94-2.06-.94 2.06-2.06.94zm-11 1L8.5 8.5l.94-2.06 2.06-.94-2.06-.94L8.5 2.5l-.94 2.06-2.06.94zm10 10l.94 2.06.94-2.06 2.06-.94-2.06-.94-.94-2.06-.94 2.06-2.06.94z\"/><path d=\"M17.41 7.96l-1.37-1.37c-.4-.4-.92-.59-1.43-.59-.52 0-1.04.2-1.43.59L10.3 9.45l-7.72 7.72c-.78.78-.78 2.05 0 2.83L4 21.41c.39.39.9.59 1.41.59.51 0 1.02-.2 1.41-.59l7.78-7.78 2.81-2.81c.8-.78.8-2.07 0-2.86zM5.41 20L4 18.59l7.72-7.72 1.47 1.35L5.41 20z\"/>\n",
              "  </svg>\n",
              "      </button>\n",
              "      \n",
              "  <style>\n",
              "    .colab-df-container {\n",
              "      display:flex;\n",
              "      flex-wrap:wrap;\n",
              "      gap: 12px;\n",
              "    }\n",
              "\n",
              "    .colab-df-convert {\n",
              "      background-color: #E8F0FE;\n",
              "      border: none;\n",
              "      border-radius: 50%;\n",
              "      cursor: pointer;\n",
              "      display: none;\n",
              "      fill: #1967D2;\n",
              "      height: 32px;\n",
              "      padding: 0 0 0 0;\n",
              "      width: 32px;\n",
              "    }\n",
              "\n",
              "    .colab-df-convert:hover {\n",
              "      background-color: #E2EBFA;\n",
              "      box-shadow: 0px 1px 2px rgba(60, 64, 67, 0.3), 0px 1px 3px 1px rgba(60, 64, 67, 0.15);\n",
              "      fill: #174EA6;\n",
              "    }\n",
              "\n",
              "    [theme=dark] .colab-df-convert {\n",
              "      background-color: #3B4455;\n",
              "      fill: #D2E3FC;\n",
              "    }\n",
              "\n",
              "    [theme=dark] .colab-df-convert:hover {\n",
              "      background-color: #434B5C;\n",
              "      box-shadow: 0px 1px 3px 1px rgba(0, 0, 0, 0.15);\n",
              "      filter: drop-shadow(0px 1px 2px rgba(0, 0, 0, 0.3));\n",
              "      fill: #FFFFFF;\n",
              "    }\n",
              "  </style>\n",
              "\n",
              "      <script>\n",
              "        const buttonEl =\n",
              "          document.querySelector('#df-a9f42e1c-b8d3-4b60-85bc-843f193266d3 button.colab-df-convert');\n",
              "        buttonEl.style.display =\n",
              "          google.colab.kernel.accessAllowed ? 'block' : 'none';\n",
              "\n",
              "        async function convertToInteractive(key) {\n",
              "          const element = document.querySelector('#df-a9f42e1c-b8d3-4b60-85bc-843f193266d3');\n",
              "          const dataTable =\n",
              "            await google.colab.kernel.invokeFunction('convertToInteractive',\n",
              "                                                     [key], {});\n",
              "          if (!dataTable) return;\n",
              "\n",
              "          const docLinkHtml = 'Like what you see? Visit the ' +\n",
              "            '<a target=\"_blank\" href=https://colab.research.google.com/notebooks/data_table.ipynb>data table notebook</a>'\n",
              "            + ' to learn more about interactive tables.';\n",
              "          element.innerHTML = '';\n",
              "          dataTable['output_type'] = 'display_data';\n",
              "          await google.colab.output.renderOutput(dataTable, element);\n",
              "          const docLink = document.createElement('div');\n",
              "          docLink.innerHTML = docLinkHtml;\n",
              "          element.appendChild(docLink);\n",
              "        }\n",
              "      </script>\n",
              "    </div>\n",
              "  </div>\n",
              "  "
            ]
          },
          "metadata": {},
          "execution_count": 30
        }
      ],
      "source": [
        "new_column = ['hour', 'day', 'month', 'source', 'destination', 'cab_type', 'name', 'distance', 'surge_multiplier', 'latitude', 'longitude', 'temperature', 'short_summary', 'humidity', 'visibility', 'price']\n",
        "df_new= df[new_column]\n",
        "df_new.head()"
      ]
    },
    {
      "cell_type": "markdown",
      "source": [
        "Lakukan pemrosesan LabelEncoder pada kolom kategorik."
      ],
      "metadata": {
        "id": "OsUbxf-gyTGr"
      }
    },
    {
      "cell_type": "code",
      "source": [
        "label = LabelEncoder()\n",
        "df_new['source'] = label.fit_transform(df_new['source'])\n",
        "df_new['destination'] = label.fit_transform(df_new['destination'])\n",
        "df_new['cab_type'] = label.fit_transform(df_new['cab_type'])\n",
        "df_new['name'] = label.fit_transform(df_new['name'])\n",
        "df_new['short_summary'] = label.fit_transform(df_new['short_summary'])"
      ],
      "metadata": {
        "id": "TaOn6zPpwlLn"
      },
      "execution_count": null,
      "outputs": []
    },
    {
      "cell_type": "markdown",
      "source": [
        "Sekarang mari kita coba cek dari semua atribut milik df_new, mana yang memiliki korelasi tertinggi. Atribut-atribut dengan korelasi tertinggi lah yang akan kita pilih untuk modelling nantinya."
      ],
      "metadata": {
        "id": "RxkpKWozydMp"
      }
    },
    {
      "cell_type": "code",
      "source": [
        "plt.figure(figsize=(15,20))\n",
        "sns.heatmap(df_new.corr(),annot=True)"
      ],
      "metadata": {
        "colab": {
          "base_uri": "https://localhost:8080/",
          "height": 1000
        },
        "id": "a5-mBS-bwlAa",
        "outputId": "eb179a5c-63da-45a6-85c3-102a37dda682"
      },
      "execution_count": null,
      "outputs": [
        {
          "output_type": "execute_result",
          "data": {
            "text/plain": [
              "<matplotlib.axes._subplots.AxesSubplot at 0x7f81b08d9590>"
            ]
          },
          "metadata": {},
          "execution_count": 32
        },
        {
          "output_type": "display_data",
          "data": {
            "text/plain": [
              "<Figure size 1080x1440 with 2 Axes>"
            ],
            "image/png": "[encoded data removed]"
          },
          "metadata": {}
        }
      ]
    },
    {
      "cell_type": "markdown",
      "metadata": {
        "id": "QrikQCSe8bU_"
      },
      "source": [
        "Dari Heatmap diatas kita dapat lihat bahwa kolom yang berkorelasi paling tinggi dengan price dan unique kolom nya tepat (tidak terlalu banyak ) ada 5 yaitu : \n",
        "- cab_type\n",
        "- name\n",
        "- distance\n",
        "- surge_multiplier\n",
        "- price"
      ]
    },
    {
      "cell_type": "code",
      "source": [
        "new_column = ['cab_type', 'name','source', 'destination', 'distance', 'surge_multiplier', 'price']\n",
        "df_final= df[new_column]\n",
        "df_final.head()"
      ],
      "metadata": {
        "colab": {
          "base_uri": "https://localhost:8080/",
          "height": 206
        },
        "id": "2F7iIDMzxUh5",
        "outputId": "b876eb99-171f-4d1b-843b-91d06191b1fe"
      },
      "execution_count": null,
      "outputs": [
        {
          "output_type": "execute_result",
          "data": {
            "text/plain": [
              "       cab_type    name            source       destination  distance  \\\n",
              "0          Lyft  Shared  Haymarket Square     North Station      0.44   \n",
              "280943     Lyft     Lux            Fenway  Theatre District      2.74   \n",
              "280942     Lyft  LyftXL            Fenway  Theatre District      2.74   \n",
              "280941     Lyft    Lyft            Fenway  Theatre District      2.74   \n",
              "280940     Lyft  Shared            Fenway  Theatre District      2.74   \n",
              "\n",
              "        surge_multiplier  price  \n",
              "0                    1.0    5.0  \n",
              "280943               1.0   19.5  \n",
              "280942               1.0   16.5  \n",
              "280941               1.0   11.0  \n",
              "280940               1.0    5.0  "
            ],
            "text/html": [
              "\n",
              "  <div id=\"df-f68ee4c5-1655-4930-a204-20e64bc01989\">\n",
              "    <div class=\"colab-df-container\">\n",
              "      <div>\n",
              "<style scoped>\n",
              "    .dataframe tbody tr th:only-of-type {\n",
              "        vertical-align: middle;\n",
              "    }\n",
              "\n",
              "    .dataframe tbody tr th {\n",
              "        vertical-align: top;\n",
              "    }\n",
              "\n",
              "    .dataframe thead th {\n",
              "        text-align: right;\n",
              "    }\n",
              "</style>\n",
              "<table border=\"1\" class=\"dataframe\">\n",
              "  <thead>\n",
              "    <tr style=\"text-align: right;\">\n",
              "      <th></th>\n",
              "      <th>cab_type</th>\n",
              "      <th>name</th>\n",
              "      <th>source</th>\n",
              "      <th>destination</th>\n",
              "      <th>distance</th>\n",
              "      <th>surge_multiplier</th>\n",
              "      <th>price</th>\n",
              "    </tr>\n",
              "  </thead>\n",
              "  <tbody>\n",
              "    <tr>\n",
              "      <th>0</th>\n",
              "      <td>Lyft</td>\n",
              "      <td>Shared</td>\n",
              "      <td>Haymarket Square</td>\n",
              "      <td>North Station</td>\n",
              "      <td>0.44</td>\n",
              "      <td>1.0</td>\n",
              "      <td>5.0</td>\n",
              "    </tr>\n",
              "    <tr>\n",
              "      <th>280943</th>\n",
              "      <td>Lyft</td>\n",
              "      <td>Lux</td>\n",
              "      <td>Fenway</td>\n",
              "      <td>Theatre District</td>\n",
              "      <td>2.74</td>\n",
              "      <td>1.0</td>\n",
              "      <td>19.5</td>\n",
              "    </tr>\n",
              "    <tr>\n",
              "      <th>280942</th>\n",
              "      <td>Lyft</td>\n",
              "      <td>LyftXL</td>\n",
              "      <td>Fenway</td>\n",
              "      <td>Theatre District</td>\n",
              "      <td>2.74</td>\n",
              "      <td>1.0</td>\n",
              "      <td>16.5</td>\n",
              "    </tr>\n",
              "    <tr>\n",
              "      <th>280941</th>\n",
              "      <td>Lyft</td>\n",
              "      <td>Lyft</td>\n",
              "      <td>Fenway</td>\n",
              "      <td>Theatre District</td>\n",
              "      <td>2.74</td>\n",
              "      <td>1.0</td>\n",
              "      <td>11.0</td>\n",
              "    </tr>\n",
              "    <tr>\n",
              "      <th>280940</th>\n",
              "      <td>Lyft</td>\n",
              "      <td>Shared</td>\n",
              "      <td>Fenway</td>\n",
              "      <td>Theatre District</td>\n",
              "      <td>2.74</td>\n",
              "      <td>1.0</td>\n",
              "      <td>5.0</td>\n",
              "    </tr>\n",
              "  </tbody>\n",
              "</table>\n",
              "</div>\n",
              "      <button class=\"colab-df-convert\" onclick=\"convertToInteractive('df-f68ee4c5-1655-4930-a204-20e64bc01989')\"\n",
              "              title=\"Convert this dataframe to an interactive table.\"\n",
              "              style=\"display:none;\">\n",
              "        \n",
              "  <svg xmlns=\"http://www.w3.org/2000/svg\" height=\"24px\"viewBox=\"0 0 24 24\"\n",
              "       width=\"24px\">\n",
              "    <path d=\"M0 0h24v24H0V0z\" fill=\"none\"/>\n",
              "    <path d=\"M18.56 5.44l.94 2.06.94-2.06 2.06-.94-2.06-.94-.94-2.06-.94 2.06-2.06.94zm-11 1L8.5 8.5l.94-2.06 2.06-.94-2.06-.94L8.5 2.5l-.94 2.06-2.06.94zm10 10l.94 2.06.94-2.06 2.06-.94-2.06-.94-.94-2.06-.94 2.06-2.06.94z\"/><path d=\"M17.41 7.96l-1.37-1.37c-.4-.4-.92-.59-1.43-.59-.52 0-1.04.2-1.43.59L10.3 9.45l-7.72 7.72c-.78.78-.78 2.05 0 2.83L4 21.41c.39.39.9.59 1.41.59.51 0 1.02-.2 1.41-.59l7.78-7.78 2.81-2.81c.8-.78.8-2.07 0-2.86zM5.41 20L4 18.59l7.72-7.72 1.47 1.35L5.41 20z\"/>\n",
              "  </svg>\n",
              "      </button>\n",
              "      \n",
              "  <style>\n",
              "    .colab-df-container {\n",
              "      display:flex;\n",
              "      flex-wrap:wrap;\n",
              "      gap: 12px;\n",
              "    }\n",
              "\n",
              "    .colab-df-convert {\n",
              "      background-color: #E8F0FE;\n",
              "      border: none;\n",
              "      border-radius: 50%;\n",
              "      cursor: pointer;\n",
              "      display: none;\n",
              "      fill: #1967D2;\n",
              "      height: 32px;\n",
              "      padding: 0 0 0 0;\n",
              "      width: 32px;\n",
              "    }\n",
              "\n",
              "    .colab-df-convert:hover {\n",
              "      background-color: #E2EBFA;\n",
              "      box-shadow: 0px 1px 2px rgba(60, 64, 67, 0.3), 0px 1px 3px 1px rgba(60, 64, 67, 0.15);\n",
              "      fill: #174EA6;\n",
              "    }\n",
              "\n",
              "    [theme=dark] .colab-df-convert {\n",
              "      background-color: #3B4455;\n",
              "      fill: #D2E3FC;\n",
              "    }\n",
              "\n",
              "    [theme=dark] .colab-df-convert:hover {\n",
              "      background-color: #434B5C;\n",
              "      box-shadow: 0px 1px 3px 1px rgba(0, 0, 0, 0.15);\n",
              "      filter: drop-shadow(0px 1px 2px rgba(0, 0, 0, 0.3));\n",
              "      fill: #FFFFFF;\n",
              "    }\n",
              "  </style>\n",
              "\n",
              "      <script>\n",
              "        const buttonEl =\n",
              "          document.querySelector('#df-f68ee4c5-1655-4930-a204-20e64bc01989 button.colab-df-convert');\n",
              "        buttonEl.style.display =\n",
              "          google.colab.kernel.accessAllowed ? 'block' : 'none';\n",
              "\n",
              "        async function convertToInteractive(key) {\n",
              "          const element = document.querySelector('#df-f68ee4c5-1655-4930-a204-20e64bc01989');\n",
              "          const dataTable =\n",
              "            await google.colab.kernel.invokeFunction('convertToInteractive',\n",
              "                                                     [key], {});\n",
              "          if (!dataTable) return;\n",
              "\n",
              "          const docLinkHtml = 'Like what you see? Visit the ' +\n",
              "            '<a target=\"_blank\" href=https://colab.research.google.com/notebooks/data_table.ipynb>data table notebook</a>'\n",
              "            + ' to learn more about interactive tables.';\n",
              "          element.innerHTML = '';\n",
              "          dataTable['output_type'] = 'display_data';\n",
              "          await google.colab.output.renderOutput(dataTable, element);\n",
              "          const docLink = document.createElement('div');\n",
              "          docLink.innerHTML = docLinkHtml;\n",
              "          element.appendChild(docLink);\n",
              "        }\n",
              "      </script>\n",
              "    </div>\n",
              "  </div>\n",
              "  "
            ]
          },
          "metadata": {},
          "execution_count": 33
        }
      ]
    },
    {
      "cell_type": "markdown",
      "metadata": {
        "id": "-9xUC5kDUyNF"
      },
      "source": [
        "# Preprocessing"
      ]
    },
    {
      "cell_type": "markdown",
      "source": [
        "### Label Encoder\n",
        "\n"
      ],
      "metadata": {
        "id": "Jz7fLT0KoS65"
      }
    },
    {
      "cell_type": "code",
      "execution_count": null,
      "metadata": {
        "id": "sVMS9-mh3VhN"
      },
      "outputs": [],
      "source": [
        "from sklearn.preprocessing import LabelEncoder\n",
        "\n",
        "label = LabelEncoder()\n",
        "df_final['cab_type'] = label.fit_transform(df_final['cab_type'])\n",
        "df_final['name'] = label.fit_transform(df_final['name'])\n",
        "df_final['source'] = label.fit_transform(df_final['source'])\n",
        "df_final['destination'] = label.fit_transform(df_final['destination'])"
      ]
    },
    {
      "cell_type": "code",
      "source": [
        "df_final.tail()"
      ],
      "metadata": {
        "colab": {
          "base_uri": "https://localhost:8080/",
          "height": 206
        },
        "id": "BKYzf_q4YaCo",
        "outputId": "fedc7ea1-404e-4698-d465-7d6ab6441739"
      },
      "execution_count": null,
      "outputs": [
        {
          "output_type": "execute_result",
          "data": {
            "text/plain": [
              "        cab_type  name  source  destination  distance  surge_multiplier  price\n",
              "304937         1    10       3            0      1.50               1.0   12.0\n",
              "304936         1     9       3            0      1.50               1.0    7.5\n",
              "304935         1     8       3            0      1.50               1.0    6.5\n",
              "305034         1     8       7            9      2.17               1.0    9.0\n",
              "693070         1     8      11            6      1.00               1.0   10.0"
            ],
            "text/html": [
              "\n",
              "  <div id=\"df-9d764f53-0d15-4919-ac79-c9b953477da4\">\n",
              "    <div class=\"colab-df-container\">\n",
              "      <div>\n",
              "<style scoped>\n",
              "    .dataframe tbody tr th:only-of-type {\n",
              "        vertical-align: middle;\n",
              "    }\n",
              "\n",
              "    .dataframe tbody tr th {\n",
              "        vertical-align: top;\n",
              "    }\n",
              "\n",
              "    .dataframe thead th {\n",
              "        text-align: right;\n",
              "    }\n",
              "</style>\n",
              "<table border=\"1\" class=\"dataframe\">\n",
              "  <thead>\n",
              "    <tr style=\"text-align: right;\">\n",
              "      <th></th>\n",
              "      <th>cab_type</th>\n",
              "      <th>name</th>\n",
              "      <th>source</th>\n",
              "      <th>destination</th>\n",
              "      <th>distance</th>\n",
              "      <th>surge_multiplier</th>\n",
              "      <th>price</th>\n",
              "    </tr>\n",
              "  </thead>\n",
              "  <tbody>\n",
              "    <tr>\n",
              "      <th>304937</th>\n",
              "      <td>1</td>\n",
              "      <td>10</td>\n",
              "      <td>3</td>\n",
              "      <td>0</td>\n",
              "      <td>1.50</td>\n",
              "      <td>1.0</td>\n",
              "      <td>12.0</td>\n",
              "    </tr>\n",
              "    <tr>\n",
              "      <th>304936</th>\n",
              "      <td>1</td>\n",
              "      <td>9</td>\n",
              "      <td>3</td>\n",
              "      <td>0</td>\n",
              "      <td>1.50</td>\n",
              "      <td>1.0</td>\n",
              "      <td>7.5</td>\n",
              "    </tr>\n",
              "    <tr>\n",
              "      <th>304935</th>\n",
              "      <td>1</td>\n",
              "      <td>8</td>\n",
              "      <td>3</td>\n",
              "      <td>0</td>\n",
              "      <td>1.50</td>\n",
              "      <td>1.0</td>\n",
              "      <td>6.5</td>\n",
              "    </tr>\n",
              "    <tr>\n",
              "      <th>305034</th>\n",
              "      <td>1</td>\n",
              "      <td>8</td>\n",
              "      <td>7</td>\n",
              "      <td>9</td>\n",
              "      <td>2.17</td>\n",
              "      <td>1.0</td>\n",
              "      <td>9.0</td>\n",
              "    </tr>\n",
              "    <tr>\n",
              "      <th>693070</th>\n",
              "      <td>1</td>\n",
              "      <td>8</td>\n",
              "      <td>11</td>\n",
              "      <td>6</td>\n",
              "      <td>1.00</td>\n",
              "      <td>1.0</td>\n",
              "      <td>10.0</td>\n",
              "    </tr>\n",
              "  </tbody>\n",
              "</table>\n",
              "</div>\n",
              "      <button class=\"colab-df-convert\" onclick=\"convertToInteractive('df-9d764f53-0d15-4919-ac79-c9b953477da4')\"\n",
              "              title=\"Convert this dataframe to an interactive table.\"\n",
              "              style=\"display:none;\">\n",
              "        \n",
              "  <svg xmlns=\"http://www.w3.org/2000/svg\" height=\"24px\"viewBox=\"0 0 24 24\"\n",
              "       width=\"24px\">\n",
              "    <path d=\"M0 0h24v24H0V0z\" fill=\"none\"/>\n",
              "    <path d=\"M18.56 5.44l.94 2.06.94-2.06 2.06-.94-2.06-.94-.94-2.06-.94 2.06-2.06.94zm-11 1L8.5 8.5l.94-2.06 2.06-.94-2.06-.94L8.5 2.5l-.94 2.06-2.06.94zm10 10l.94 2.06.94-2.06 2.06-.94-2.06-.94-.94-2.06-.94 2.06-2.06.94z\"/><path d=\"M17.41 7.96l-1.37-1.37c-.4-.4-.92-.59-1.43-.59-.52 0-1.04.2-1.43.59L10.3 9.45l-7.72 7.72c-.78.78-.78 2.05 0 2.83L4 21.41c.39.39.9.59 1.41.59.51 0 1.02-.2 1.41-.59l7.78-7.78 2.81-2.81c.8-.78.8-2.07 0-2.86zM5.41 20L4 18.59l7.72-7.72 1.47 1.35L5.41 20z\"/>\n",
              "  </svg>\n",
              "      </button>\n",
              "      \n",
              "  <style>\n",
              "    .colab-df-container {\n",
              "      display:flex;\n",
              "      flex-wrap:wrap;\n",
              "      gap: 12px;\n",
              "    }\n",
              "\n",
              "    .colab-df-convert {\n",
              "      background-color: #E8F0FE;\n",
              "      border: none;\n",
              "      border-radius: 50%;\n",
              "      cursor: pointer;\n",
              "      display: none;\n",
              "      fill: #1967D2;\n",
              "      height: 32px;\n",
              "      padding: 0 0 0 0;\n",
              "      width: 32px;\n",
              "    }\n",
              "\n",
              "    .colab-df-convert:hover {\n",
              "      background-color: #E2EBFA;\n",
              "      box-shadow: 0px 1px 2px rgba(60, 64, 67, 0.3), 0px 1px 3px 1px rgba(60, 64, 67, 0.15);\n",
              "      fill: #174EA6;\n",
              "    }\n",
              "\n",
              "    [theme=dark] .colab-df-convert {\n",
              "      background-color: #3B4455;\n",
              "      fill: #D2E3FC;\n",
              "    }\n",
              "\n",
              "    [theme=dark] .colab-df-convert:hover {\n",
              "      background-color: #434B5C;\n",
              "      box-shadow: 0px 1px 3px 1px rgba(0, 0, 0, 0.15);\n",
              "      filter: drop-shadow(0px 1px 2px rgba(0, 0, 0, 0.3));\n",
              "      fill: #FFFFFF;\n",
              "    }\n",
              "  </style>\n",
              "\n",
              "      <script>\n",
              "        const buttonEl =\n",
              "          document.querySelector('#df-9d764f53-0d15-4919-ac79-c9b953477da4 button.colab-df-convert');\n",
              "        buttonEl.style.display =\n",
              "          google.colab.kernel.accessAllowed ? 'block' : 'none';\n",
              "\n",
              "        async function convertToInteractive(key) {\n",
              "          const element = document.querySelector('#df-9d764f53-0d15-4919-ac79-c9b953477da4');\n",
              "          const dataTable =\n",
              "            await google.colab.kernel.invokeFunction('convertToInteractive',\n",
              "                                                     [key], {});\n",
              "          if (!dataTable) return;\n",
              "\n",
              "          const docLinkHtml = 'Like what you see? Visit the ' +\n",
              "            '<a target=\"_blank\" href=https://colab.research.google.com/notebooks/data_table.ipynb>data table notebook</a>'\n",
              "            + ' to learn more about interactive tables.';\n",
              "          element.innerHTML = '';\n",
              "          dataTable['output_type'] = 'display_data';\n",
              "          await google.colab.output.renderOutput(dataTable, element);\n",
              "          const docLink = document.createElement('div');\n",
              "          docLink.innerHTML = docLinkHtml;\n",
              "          element.appendChild(docLink);\n",
              "        }\n",
              "      </script>\n",
              "    </div>\n",
              "  </div>\n",
              "  "
            ]
          },
          "metadata": {},
          "execution_count": 56
        }
      ]
    },
    {
      "cell_type": "code",
      "execution_count": null,
      "metadata": {
        "id": "b1DhNycD8Wi_",
        "colab": {
          "base_uri": "https://localhost:8080/",
          "height": 206
        },
        "outputId": "141074e3-7432-437f-b7fa-7b7248c4ac77"
      },
      "outputs": [
        {
          "output_type": "execute_result",
          "data": {
            "text/plain": [
              "        cab_type  name  source  destination  distance  surge_multiplier  price\n",
              "0              0     7       5            7      0.44               1.0    5.0\n",
              "280943         0     2       3           10      2.74               1.0   19.5\n",
              "280942         0     6       3           10      2.74               1.0   16.5\n",
              "280941         0     5       3           10      2.74               1.0   11.0\n",
              "280940         0     7       3           10      2.74               1.0    5.0"
            ],
            "text/html": [
              "\n",
              "  <div id=\"df-179f6d0d-6385-4abd-9273-b8007a3cad99\">\n",
              "    <div class=\"colab-df-container\">\n",
              "      <div>\n",
              "<style scoped>\n",
              "    .dataframe tbody tr th:only-of-type {\n",
              "        vertical-align: middle;\n",
              "    }\n",
              "\n",
              "    .dataframe tbody tr th {\n",
              "        vertical-align: top;\n",
              "    }\n",
              "\n",
              "    .dataframe thead th {\n",
              "        text-align: right;\n",
              "    }\n",
              "</style>\n",
              "<table border=\"1\" class=\"dataframe\">\n",
              "  <thead>\n",
              "    <tr style=\"text-align: right;\">\n",
              "      <th></th>\n",
              "      <th>cab_type</th>\n",
              "      <th>name</th>\n",
              "      <th>source</th>\n",
              "      <th>destination</th>\n",
              "      <th>distance</th>\n",
              "      <th>surge_multiplier</th>\n",
              "      <th>price</th>\n",
              "    </tr>\n",
              "  </thead>\n",
              "  <tbody>\n",
              "    <tr>\n",
              "      <th>0</th>\n",
              "      <td>0</td>\n",
              "      <td>7</td>\n",
              "      <td>5</td>\n",
              "      <td>7</td>\n",
              "      <td>0.44</td>\n",
              "      <td>1.0</td>\n",
              "      <td>5.0</td>\n",
              "    </tr>\n",
              "    <tr>\n",
              "      <th>280943</th>\n",
              "      <td>0</td>\n",
              "      <td>2</td>\n",
              "      <td>3</td>\n",
              "      <td>10</td>\n",
              "      <td>2.74</td>\n",
              "      <td>1.0</td>\n",
              "      <td>19.5</td>\n",
              "    </tr>\n",
              "    <tr>\n",
              "      <th>280942</th>\n",
              "      <td>0</td>\n",
              "      <td>6</td>\n",
              "      <td>3</td>\n",
              "      <td>10</td>\n",
              "      <td>2.74</td>\n",
              "      <td>1.0</td>\n",
              "      <td>16.5</td>\n",
              "    </tr>\n",
              "    <tr>\n",
              "      <th>280941</th>\n",
              "      <td>0</td>\n",
              "      <td>5</td>\n",
              "      <td>3</td>\n",
              "      <td>10</td>\n",
              "      <td>2.74</td>\n",
              "      <td>1.0</td>\n",
              "      <td>11.0</td>\n",
              "    </tr>\n",
              "    <tr>\n",
              "      <th>280940</th>\n",
              "      <td>0</td>\n",
              "      <td>7</td>\n",
              "      <td>3</td>\n",
              "      <td>10</td>\n",
              "      <td>2.74</td>\n",
              "      <td>1.0</td>\n",
              "      <td>5.0</td>\n",
              "    </tr>\n",
              "  </tbody>\n",
              "</table>\n",
              "</div>\n",
              "      <button class=\"colab-df-convert\" onclick=\"convertToInteractive('df-179f6d0d-6385-4abd-9273-b8007a3cad99')\"\n",
              "              title=\"Convert this dataframe to an interactive table.\"\n",
              "              style=\"display:none;\">\n",
              "        \n",
              "  <svg xmlns=\"http://www.w3.org/2000/svg\" height=\"24px\"viewBox=\"0 0 24 24\"\n",
              "       width=\"24px\">\n",
              "    <path d=\"M0 0h24v24H0V0z\" fill=\"none\"/>\n",
              "    <path d=\"M18.56 5.44l.94 2.06.94-2.06 2.06-.94-2.06-.94-.94-2.06-.94 2.06-2.06.94zm-11 1L8.5 8.5l.94-2.06 2.06-.94-2.06-.94L8.5 2.5l-.94 2.06-2.06.94zm10 10l.94 2.06.94-2.06 2.06-.94-2.06-.94-.94-2.06-.94 2.06-2.06.94z\"/><path d=\"M17.41 7.96l-1.37-1.37c-.4-.4-.92-.59-1.43-.59-.52 0-1.04.2-1.43.59L10.3 9.45l-7.72 7.72c-.78.78-.78 2.05 0 2.83L4 21.41c.39.39.9.59 1.41.59.51 0 1.02-.2 1.41-.59l7.78-7.78 2.81-2.81c.8-.78.8-2.07 0-2.86zM5.41 20L4 18.59l7.72-7.72 1.47 1.35L5.41 20z\"/>\n",
              "  </svg>\n",
              "      </button>\n",
              "      \n",
              "  <style>\n",
              "    .colab-df-container {\n",
              "      display:flex;\n",
              "      flex-wrap:wrap;\n",
              "      gap: 12px;\n",
              "    }\n",
              "\n",
              "    .colab-df-convert {\n",
              "      background-color: #E8F0FE;\n",
              "      border: none;\n",
              "      border-radius: 50%;\n",
              "      cursor: pointer;\n",
              "      display: none;\n",
              "      fill: #1967D2;\n",
              "      height: 32px;\n",
              "      padding: 0 0 0 0;\n",
              "      width: 32px;\n",
              "    }\n",
              "\n",
              "    .colab-df-convert:hover {\n",
              "      background-color: #E2EBFA;\n",
              "      box-shadow: 0px 1px 2px rgba(60, 64, 67, 0.3), 0px 1px 3px 1px rgba(60, 64, 67, 0.15);\n",
              "      fill: #174EA6;\n",
              "    }\n",
              "\n",
              "    [theme=dark] .colab-df-convert {\n",
              "      background-color: #3B4455;\n",
              "      fill: #D2E3FC;\n",
              "    }\n",
              "\n",
              "    [theme=dark] .colab-df-convert:hover {\n",
              "      background-color: #434B5C;\n",
              "      box-shadow: 0px 1px 3px 1px rgba(0, 0, 0, 0.15);\n",
              "      filter: drop-shadow(0px 1px 2px rgba(0, 0, 0, 0.3));\n",
              "      fill: #FFFFFF;\n",
              "    }\n",
              "  </style>\n",
              "\n",
              "      <script>\n",
              "        const buttonEl =\n",
              "          document.querySelector('#df-179f6d0d-6385-4abd-9273-b8007a3cad99 button.colab-df-convert');\n",
              "        buttonEl.style.display =\n",
              "          google.colab.kernel.accessAllowed ? 'block' : 'none';\n",
              "\n",
              "        async function convertToInteractive(key) {\n",
              "          const element = document.querySelector('#df-179f6d0d-6385-4abd-9273-b8007a3cad99');\n",
              "          const dataTable =\n",
              "            await google.colab.kernel.invokeFunction('convertToInteractive',\n",
              "                                                     [key], {});\n",
              "          if (!dataTable) return;\n",
              "\n",
              "          const docLinkHtml = 'Like what you see? Visit the ' +\n",
              "            '<a target=\"_blank\" href=https://colab.research.google.com/notebooks/data_table.ipynb>data table notebook</a>'\n",
              "            + ' to learn more about interactive tables.';\n",
              "          element.innerHTML = '';\n",
              "          dataTable['output_type'] = 'display_data';\n",
              "          await google.colab.output.renderOutput(dataTable, element);\n",
              "          const docLink = document.createElement('div');\n",
              "          docLink.innerHTML = docLinkHtml;\n",
              "          element.appendChild(docLink);\n",
              "        }\n",
              "      </script>\n",
              "    </div>\n",
              "  </div>\n",
              "  "
            ]
          },
          "metadata": {},
          "execution_count": 35
        }
      ],
      "source": [
        "df_final.head()"
      ]
    },
    {
      "cell_type": "markdown",
      "source": [
        "### Scaler Data"
      ],
      "metadata": {
        "id": "5IGyNIb8xnHW"
      }
    },
    {
      "cell_type": "code",
      "execution_count": null,
      "metadata": {
        "id": "OtXTBIEF83YO"
      },
      "outputs": [],
      "source": [
        "scaler = StandardScaler()\n",
        "datax = df_final.drop(['price'],axis=1)"
      ]
    },
    {
      "cell_type": "code",
      "execution_count": null,
      "metadata": {
        "id": "wlds6qTA5sxo",
        "colab": {
          "base_uri": "https://localhost:8080/"
        },
        "outputId": "40dacbb8-e4c4-4497-d5e2-a8586502e499"
      },
      "outputs": [
        {
          "output_type": "execute_result",
          "data": {
            "text/plain": [
              "((510380, 6), (127596, 6), (510380,), (127596,))"
            ]
          },
          "metadata": {},
          "execution_count": 37
        }
      ],
      "source": [
        "X = scaler.fit_transform(datax)\n",
        "y = df_final['price']\n",
        "\n",
        "X_train, X_test, y_train, y_test = train_test_split(X, y, test_size=0.2, random_state=42)\n",
        "X_train.shape, X_test.shape, y_train.shape, y_test.shape"
      ]
    },
    {
      "cell_type": "markdown",
      "source": [
        "# Modelling"
      ],
      "metadata": {
        "id": "xvNbn4wozO2l"
      }
    },
    {
      "cell_type": "markdown",
      "metadata": {
        "id": "H0keu8BqeKUc"
      },
      "source": [
        "## Linear Regression"
      ]
    },
    {
      "cell_type": "code",
      "execution_count": null,
      "metadata": {
        "id": "-vFumBA2V8Ll"
      },
      "outputs": [],
      "source": [
        "linear = LinearRegression()\n",
        "linearmodel = linear.fit(X_train, y_train)\n",
        "y_pred1 = linearmodel.predict(X_test)"
      ]
    },
    {
      "cell_type": "code",
      "execution_count": null,
      "metadata": {
        "id": "TGxUG-NmWzXR",
        "colab": {
          "base_uri": "https://localhost:8080/"
        },
        "outputId": "2310b141-4ffd-46dd-dcad-48feb1cbed0c"
      },
      "outputs": [
        {
          "output_type": "execute_result",
          "data": {
            "text/plain": [
              "0.5136013595364496"
            ]
          },
          "metadata": {},
          "execution_count": 39
        }
      ],
      "source": [
        "linear.score(X_train, y_train)"
      ]
    },
    {
      "cell_type": "code",
      "execution_count": null,
      "metadata": {
        "id": "Dq63TBjkXAsJ",
        "colab": {
          "base_uri": "https://localhost:8080/"
        },
        "outputId": "d2df8a26-38a1-455a-a51b-50dabf716fde"
      },
      "outputs": [
        {
          "output_type": "execute_result",
          "data": {
            "text/plain": [
              "0.5165302114149686"
            ]
          },
          "metadata": {},
          "execution_count": 40
        }
      ],
      "source": [
        "linear.score(X_test, y_test)"
      ]
    },
    {
      "cell_type": "code",
      "source": [
        "errors1 = abs(y_pred1 - y_test)\n",
        "print(\"Mean Absolute Error:\", round(np.mean(errors1), 2), \"degrees.\")"
      ],
      "metadata": {
        "colab": {
          "base_uri": "https://localhost:8080/"
        },
        "id": "4-EBx-AUthY3",
        "outputId": "aa86eafb-5d61-40be-e358-e5065a4b5417"
      },
      "execution_count": null,
      "outputs": [
        {
          "output_type": "stream",
          "name": "stdout",
          "text": [
            "Mean Absolute Error: 5.17 degrees.\n"
          ]
        }
      ]
    },
    {
      "cell_type": "code",
      "source": [
        "lrmape = 100 * (errors1 / y_test)\n",
        "# Calculate and display accuracy\n",
        "accuracy = 100 - np.mean(lrmape)\n",
        "print(\"Accuracy:\", round(accuracy, 2), \"%.\")"
      ],
      "metadata": {
        "colab": {
          "base_uri": "https://localhost:8080/"
        },
        "id": "4J9khOGEtnzQ",
        "outputId": "bce9ec00-72ec-4ea0-ceac-50db3a864b17"
      },
      "execution_count": null,
      "outputs": [
        {
          "output_type": "stream",
          "name": "stdout",
          "text": [
            "Accuracy: 60.52 %.\n"
          ]
        }
      ]
    },
    {
      "cell_type": "code",
      "source": [
        "lrmae = mean_absolute_error(y_test, y_pred1)\n",
        "lrmse = mean_squared_error(y_test, y_pred1)\n",
        "\n",
        "print(\"mae: \" + str(lrmae))\n",
        "print(\"mse: \" + str(lrmse))\n",
        "print(\"accuracy :\" + str(linear.score(X_test, y_test)))\n",
        "print(\"variance :\" + str(explained_variance_score(y_test, y_pred1)))"
      ],
      "metadata": {
        "colab": {
          "base_uri": "https://localhost:8080/"
        },
        "id": "ubLWqU85tsZt",
        "outputId": "2da5f674-6eb0-40e0-fa41-d272fe88e794"
      },
      "execution_count": null,
      "outputs": [
        {
          "output_type": "stream",
          "name": "stdout",
          "text": [
            "mae: 5.172768474520869\n",
            "mse: 42.2772430963383\n",
            "accuracy :0.5165302114149686\n",
            "variance :0.5165305276631493\n"
          ]
        }
      ]
    },
    {
      "cell_type": "markdown",
      "metadata": {
        "id": "1ksaDIWfnuZd"
      },
      "source": [
        "## Random Forest"
      ]
    },
    {
      "cell_type": "code",
      "execution_count": null,
      "metadata": {
        "id": "USNALw6pGnu5"
      },
      "outputs": [],
      "source": [
        "rf = RandomForestRegressor(n_estimators = 50, random_state = 13)\n",
        "rfmodel = rf.fit(X_train,y_train)\n",
        "y_pred2 = rfmodel.predict(X_test)"
      ]
    },
    {
      "cell_type": "code",
      "execution_count": null,
      "metadata": {
        "id": "MVlKzXYs_ZmK",
        "colab": {
          "base_uri": "https://localhost:8080/"
        },
        "outputId": "18c65ea7-b17a-4b7c-9626-03ada6cb3c72"
      },
      "outputs": [
        {
          "output_type": "execute_result",
          "data": {
            "text/plain": [
              "0.9728064859029945"
            ]
          },
          "metadata": {},
          "execution_count": 45
        }
      ],
      "source": [
        "rf.score(X_train, y_train)"
      ]
    },
    {
      "cell_type": "code",
      "execution_count": null,
      "metadata": {
        "id": "CO7pIxFU_Xas",
        "colab": {
          "base_uri": "https://localhost:8080/"
        },
        "outputId": "5cf13f8c-a903-487d-9fab-911e088c12b9"
      },
      "outputs": [
        {
          "output_type": "execute_result",
          "data": {
            "text/plain": [
              "0.9700143187368108"
            ]
          },
          "metadata": {},
          "execution_count": 46
        }
      ],
      "source": [
        "rf.score(X_test,y_test)"
      ]
    },
    {
      "cell_type": "code",
      "source": [
        "errors2 = abs(y_pred2 - y_test)\n",
        "print(\"Mean Absolute Error:\", round(np.mean(errors2), 2), \"degrees.\")"
      ],
      "metadata": {
        "colab": {
          "base_uri": "https://localhost:8080/"
        },
        "id": "Z078vIGSt56T",
        "outputId": "6cfb1714-463b-4f0c-df84-0db4a9c3dd14"
      },
      "execution_count": null,
      "outputs": [
        {
          "output_type": "stream",
          "name": "stdout",
          "text": [
            "Mean Absolute Error: 1.02 degrees.\n"
          ]
        }
      ]
    },
    {
      "cell_type": "code",
      "source": [
        "rfmape = 100 * (errors2 / y_test)\n",
        "# Calculate and display accuracy\n",
        "accuracy = 100 - np.mean(rfmape)\n",
        "print(\"Accuracy:\", round(accuracy, 2), \"%.\")"
      ],
      "metadata": {
        "colab": {
          "base_uri": "https://localhost:8080/"
        },
        "id": "cb19gWsZt9OA",
        "outputId": "77060127-01e2-4b30-e080-e9b5c8c639e9"
      },
      "execution_count": null,
      "outputs": [
        {
          "output_type": "stream",
          "name": "stdout",
          "text": [
            "Accuracy: 92.43 %.\n"
          ]
        }
      ]
    },
    {
      "cell_type": "code",
      "source": [
        "rfmae = mean_absolute_error(y_test, y_pred2)\n",
        "rfmse = mean_squared_error(y_test, y_pred2)\n",
        "\n",
        "print(\"mae: \" + str(rfmae))\n",
        "print(\"mse: \" + str(rfmse))\n",
        "print(\"accuracy :\" + str(rf.score(X_test, y_test)))\n",
        "print(\"variance :\" + str(explained_variance_score(y_test, y_pred2)))"
      ],
      "metadata": {
        "colab": {
          "base_uri": "https://localhost:8080/"
        },
        "id": "MBetwbUduCmU",
        "outputId": "784400a5-c8c2-4ab8-9d05-2257aa770abc"
      },
      "execution_count": null,
      "outputs": [
        {
          "output_type": "stream",
          "name": "stdout",
          "text": [
            "mae: 1.0210514611843295\n",
            "mse: 2.622112003902818\n",
            "accuracy :0.9700143187368108\n",
            "variance :0.9700160805477566\n"
          ]
        }
      ]
    },
    {
      "cell_type": "markdown",
      "source": [
        "Dari analisis yang telah dilakukan diperoleh beberapa kesimpulan diantaranya:\n",
        "\n",
        "1. Terdapat 6 atribut/faktor yang sangat mempengaruhi penentuan tarif taksi online diantaranya cab_type, name, surge_multiplier, distance, destination, dan source.\n",
        "2. Model yang paling tepat digunakan untuk dataset ini adalah random forest, dimana memiliki evaluasi model terbaik dari ketiga model lainnya. Dalam model random forest diperoleh hasil R Score Train sebesar 0.972 dan 0.970 untuk R Score Test, dan 2.62 untuk RMSE."
      ],
      "metadata": {
        "id": "6blDCBuPuUDL"
      }
    },
    {
      "cell_type": "markdown",
      "metadata": {
        "id": "wkjC7sPBGKz_"
      },
      "source": [
        "## Visualisasi Model"
      ]
    },
    {
      "cell_type": "code",
      "execution_count": null,
      "metadata": {
        "id": "LITLc6HcXWD6",
        "colab": {
          "base_uri": "https://localhost:8080/",
          "height": 206
        },
        "outputId": "2cbfaa62-0572-4053-efec-8e3f18168bf1"
      },
      "outputs": [
        {
          "output_type": "execute_result",
          "data": {
            "text/plain": [
              "        Actual  Predicted\n",
              "54756     13.5  12.673586\n",
              "171726    15.5  14.252800\n",
              "466624    13.5  12.710131\n",
              "642288    38.5  40.021111\n",
              "439944     5.0   4.348474"
            ],
            "text/html": [
              "\n",
              "  <div id=\"df-bc7b1080-8d82-46f3-b762-af7242ae7840\">\n",
              "    <div class=\"colab-df-container\">\n",
              "      <div>\n",
              "<style scoped>\n",
              "    .dataframe tbody tr th:only-of-type {\n",
              "        vertical-align: middle;\n",
              "    }\n",
              "\n",
              "    .dataframe tbody tr th {\n",
              "        vertical-align: top;\n",
              "    }\n",
              "\n",
              "    .dataframe thead th {\n",
              "        text-align: right;\n",
              "    }\n",
              "</style>\n",
              "<table border=\"1\" class=\"dataframe\">\n",
              "  <thead>\n",
              "    <tr style=\"text-align: right;\">\n",
              "      <th></th>\n",
              "      <th>Actual</th>\n",
              "      <th>Predicted</th>\n",
              "    </tr>\n",
              "  </thead>\n",
              "  <tbody>\n",
              "    <tr>\n",
              "      <th>54756</th>\n",
              "      <td>13.5</td>\n",
              "      <td>12.673586</td>\n",
              "    </tr>\n",
              "    <tr>\n",
              "      <th>171726</th>\n",
              "      <td>15.5</td>\n",
              "      <td>14.252800</td>\n",
              "    </tr>\n",
              "    <tr>\n",
              "      <th>466624</th>\n",
              "      <td>13.5</td>\n",
              "      <td>12.710131</td>\n",
              "    </tr>\n",
              "    <tr>\n",
              "      <th>642288</th>\n",
              "      <td>38.5</td>\n",
              "      <td>40.021111</td>\n",
              "    </tr>\n",
              "    <tr>\n",
              "      <th>439944</th>\n",
              "      <td>5.0</td>\n",
              "      <td>4.348474</td>\n",
              "    </tr>\n",
              "  </tbody>\n",
              "</table>\n",
              "</div>\n",
              "      <button class=\"colab-df-convert\" onclick=\"convertToInteractive('df-bc7b1080-8d82-46f3-b762-af7242ae7840')\"\n",
              "              title=\"Convert this dataframe to an interactive table.\"\n",
              "              style=\"display:none;\">\n",
              "        \n",
              "  <svg xmlns=\"http://www.w3.org/2000/svg\" height=\"24px\"viewBox=\"0 0 24 24\"\n",
              "       width=\"24px\">\n",
              "    <path d=\"M0 0h24v24H0V0z\" fill=\"none\"/>\n",
              "    <path d=\"M18.56 5.44l.94 2.06.94-2.06 2.06-.94-2.06-.94-.94-2.06-.94 2.06-2.06.94zm-11 1L8.5 8.5l.94-2.06 2.06-.94-2.06-.94L8.5 2.5l-.94 2.06-2.06.94zm10 10l.94 2.06.94-2.06 2.06-.94-2.06-.94-.94-2.06-.94 2.06-2.06.94z\"/><path d=\"M17.41 7.96l-1.37-1.37c-.4-.4-.92-.59-1.43-.59-.52 0-1.04.2-1.43.59L10.3 9.45l-7.72 7.72c-.78.78-.78 2.05 0 2.83L4 21.41c.39.39.9.59 1.41.59.51 0 1.02-.2 1.41-.59l7.78-7.78 2.81-2.81c.8-.78.8-2.07 0-2.86zM5.41 20L4 18.59l7.72-7.72 1.47 1.35L5.41 20z\"/>\n",
              "  </svg>\n",
              "      </button>\n",
              "      \n",
              "  <style>\n",
              "    .colab-df-container {\n",
              "      display:flex;\n",
              "      flex-wrap:wrap;\n",
              "      gap: 12px;\n",
              "    }\n",
              "\n",
              "    .colab-df-convert {\n",
              "      background-color: #E8F0FE;\n",
              "      border: none;\n",
              "      border-radius: 50%;\n",
              "      cursor: pointer;\n",
              "      display: none;\n",
              "      fill: #1967D2;\n",
              "      height: 32px;\n",
              "      padding: 0 0 0 0;\n",
              "      width: 32px;\n",
              "    }\n",
              "\n",
              "    .colab-df-convert:hover {\n",
              "      background-color: #E2EBFA;\n",
              "      box-shadow: 0px 1px 2px rgba(60, 64, 67, 0.3), 0px 1px 3px 1px rgba(60, 64, 67, 0.15);\n",
              "      fill: #174EA6;\n",
              "    }\n",
              "\n",
              "    [theme=dark] .colab-df-convert {\n",
              "      background-color: #3B4455;\n",
              "      fill: #D2E3FC;\n",
              "    }\n",
              "\n",
              "    [theme=dark] .colab-df-convert:hover {\n",
              "      background-color: #434B5C;\n",
              "      box-shadow: 0px 1px 3px 1px rgba(0, 0, 0, 0.15);\n",
              "      filter: drop-shadow(0px 1px 2px rgba(0, 0, 0, 0.3));\n",
              "      fill: #FFFFFF;\n",
              "    }\n",
              "  </style>\n",
              "\n",
              "      <script>\n",
              "        const buttonEl =\n",
              "          document.querySelector('#df-bc7b1080-8d82-46f3-b762-af7242ae7840 button.colab-df-convert');\n",
              "        buttonEl.style.display =\n",
              "          google.colab.kernel.accessAllowed ? 'block' : 'none';\n",
              "\n",
              "        async function convertToInteractive(key) {\n",
              "          const element = document.querySelector('#df-bc7b1080-8d82-46f3-b762-af7242ae7840');\n",
              "          const dataTable =\n",
              "            await google.colab.kernel.invokeFunction('convertToInteractive',\n",
              "                                                     [key], {});\n",
              "          if (!dataTable) return;\n",
              "\n",
              "          const docLinkHtml = 'Like what you see? Visit the ' +\n",
              "            '<a target=\"_blank\" href=https://colab.research.google.com/notebooks/data_table.ipynb>data table notebook</a>'\n",
              "            + ' to learn more about interactive tables.';\n",
              "          element.innerHTML = '';\n",
              "          dataTable['output_type'] = 'display_data';\n",
              "          await google.colab.output.renderOutput(dataTable, element);\n",
              "          const docLink = document.createElement('div');\n",
              "          docLink.innerHTML = docLinkHtml;\n",
              "          element.appendChild(docLink);\n",
              "        }\n",
              "      </script>\n",
              "    </div>\n",
              "  </div>\n",
              "  "
            ]
          },
          "metadata": {},
          "execution_count": 50
        }
      ],
      "source": [
        "data_model = pd.DataFrame({'Actual':y_test, 'Predicted':y_pred2})\n",
        "data_model.head()"
      ]
    },
    {
      "cell_type": "code",
      "execution_count": null,
      "metadata": {
        "id": "7-buzQztXXwb"
      },
      "outputs": [],
      "source": [
        "X_new = {'cab_type':[1,2,3], 'distance':[1,2,3], 'surge_multiplier':[1,2,3], 'name':[0,1,0], 'destination':[1,2,3], 'source':[1,2,3]}\n",
        "X_new = pd.DataFrame(X_new)"
      ]
    },
    {
      "cell_type": "code",
      "execution_count": null,
      "metadata": {
        "id": "3_nUDn6dXkiR",
        "colab": {
          "base_uri": "https://localhost:8080/"
        },
        "outputId": "9dba71e6-4ae5-4d23-d486-c19d4f9f7e18"
      },
      "outputs": [
        {
          "output_type": "stream",
          "name": "stdout",
          "text": [
            "Prediksi Tarif yaitu: \n",
            "[12.67358591 14.25279962 12.71013102 ... 20.81864297  5.4963954\n",
            "  8.52346682]\n"
          ]
        }
      ],
      "source": [
        "y_pred = rf.predict(X_new)\n",
        "print('Prediksi Tarif yaitu: ')\n",
        "print(y_pred2)"
      ]
    },
    {
      "cell_type": "code",
      "execution_count": null,
      "metadata": {
        "id": "q8ESp8eyGKCw",
        "colab": {
          "base_uri": "https://localhost:8080/",
          "height": 454
        },
        "outputId": "5b1dc24a-82c5-4552-e9cf-d1cf02f09ebf"
      },
      "outputs": [
        {
          "output_type": "execute_result",
          "data": {
            "text/plain": [
              "<seaborn.axisgrid.JointGrid at 0x7f81ac927790>"
            ]
          },
          "metadata": {},
          "execution_count": 53
        },
        {
          "output_type": "display_data",
          "data": {
            "text/plain": [
              "<Figure size 432x432 with 3 Axes>"
            ],
            "image/png": "[encoded data removed]"
          },
          "metadata": {}
        }
      ],
      "source": [
        "sns.jointplot(x='Actual', y='Predicted', data=data_model, kind='reg')"
      ]
    },
    {
      "cell_type": "code",
      "execution_count": null,
      "metadata": {
        "id": "M-yKVpQomsH2",
        "colab": {
          "base_uri": "https://localhost:8080/"
        },
        "outputId": "6c1540f2-c0cd-4390-f9dd-77847138a006"
      },
      "outputs": [
        {
          "output_type": "execute_result",
          "data": {
            "text/plain": [
              "array([12.67358591, 14.25279962, 12.71013102, ..., 20.81864297,\n",
              "        5.4963954 ,  8.52346682])"
            ]
          },
          "metadata": {},
          "execution_count": 54
        }
      ],
      "source": [
        "import pickle\n",
        " \n",
        "# Save the trained model as a pickle string.\n",
        "saved_model = pickle.dumps(rf)\n",
        " \n",
        "# Load the pickled model\n",
        "model_from_pickle = pickle.loads(saved_model)\n",
        " \n",
        "# Use the loaded pickled model to make predictions\n",
        "model_from_pickle.predict(X_test)\n",
        "\n"
      ]
    },
    {
      "cell_type": "code",
      "execution_count": null,
      "metadata": {
        "id": "uNonZ6HHnfDT",
        "colab": {
          "base_uri": "https://localhost:8080/"
        },
        "outputId": "3cde54da-8996-45a9-bbfe-3d72dc3e1e93"
      },
      "outputs": [
        {
          "output_type": "execute_result",
          "data": {
            "text/plain": [
              "array([12.67358591, 14.25279962, 12.71013102, ..., 20.81864297,\n",
              "        5.4963954 ,  8.52346682])"
            ]
          },
          "metadata": {},
          "execution_count": 55
        }
      ],
      "source": [
        "import joblib\n",
        " \n",
        "# Save the model as a pickle in a file\n",
        "joblib.dump(rf, 'filename.pkl')\n",
        " \n",
        "# Load the model from the file\n",
        "model_from_joblib = joblib.load('filename.pkl')\n",
        " \n",
        "# Use the loaded model to make predictions\n",
        "model_from_joblib.predict(X_test)"
      ]
    },
    {
      "cell_type": "code",
      "source": [
        ""
      ],
      "metadata": {
        "id": "JrT0NZBfyrV_"
      },
      "execution_count": null,
      "outputs": []
    }
  ],
  "metadata": {
    "colab": {
      "collapsed_sections": [],
      "name": "Copy of Projek1_Linear_Regression",
      "provenance": [],
      "toc_visible": true
    },
    "kernelspec": {
      "display_name": "Python 3",
      "name": "python3"
    },
    "language_info": {
      "name": "python"
    }
  },
  "nbformat": 4,
  "nbformat_minor": 0
}