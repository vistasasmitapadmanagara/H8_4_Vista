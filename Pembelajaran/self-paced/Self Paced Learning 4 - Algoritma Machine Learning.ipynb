{
 "cells": [
  {
   "cell_type": "markdown",
   "id": "7208636f",
   "metadata": {},
   "source": [
    "## Machine Learning\n",
    "\n",
    "Machine Learning memanfaatkan statistika dan computer science yang memungkinkan komputer untuk menyelesaikan pekerjaan tanpa harus di program bagaimana cara untuk melakukannya.\n",
    "\n",
    "Dari waktu ke waktu semakin banyak komputer menerima data, semakin presisi juga algoritmnya dan semakin akurat pula prediksi yang dihasilkan.\n",
    "\n",
    "Contoh ML:\n",
    "- Facial Recognition\n",
    "- Speech Recognition\n",
    "- Email Spam\n",
    "- Sistem Rekomendasi\n",
    "\n",
    "Algoritma terkenal pada ML:\n",
    "- Linear Regression\n",
    "- KMean\n",
    "- KNearest Neighbor (KNN)\n",
    "\n",
    "## Prediction: Linear Regression\n",
    "\n",
    "Metode estimasi, teknik dasar untuk mencari estimasi adalah menggunakan Linear Regression.\n",
    "\n",
    "Ciri estimasi, labelnya berupa numeric\n",
    "\n",
    "## Prediction: KMeans Clustering\n",
    "\n",
    "Metode unsupervised paling terkenal dan sederhana.\n",
    "\n",
    "## Prediction: KNearest Neighbor (KNN)\n",
    "\n",
    "Algoritma supervised learning dimana hasil dari data yang baru diklasifikasikan berdasarkan mayoritas dari kategori k=tetangga terdekat.\n",
    "\n",
    "k = jumlah\n",
    "\n",
    "Ciri klasifikasi, labelnya nominal (kategorik)"
   ]
  }
 ],
 "metadata": {
  "kernelspec": {
   "display_name": "Python 3 (ipykernel)",
   "language": "python",
   "name": "python3"
  },
  "language_info": {
   "codemirror_mode": {
    "name": "ipython",
    "version": 3
   },
   "file_extension": ".py",
   "mimetype": "text/x-python",
   "name": "python",
   "nbconvert_exporter": "python",
   "pygments_lexer": "ipython3",
   "version": "3.9.7"
  }
 },
 "nbformat": 4,
 "nbformat_minor": 5
}
