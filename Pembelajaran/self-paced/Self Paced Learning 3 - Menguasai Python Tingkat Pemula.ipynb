{
 "cells": [
  {
   "cell_type": "markdown",
   "id": "a2aad52a",
   "metadata": {},
   "source": [
    "# Hello Python"
   ]
  },
  {
   "cell_type": "markdown",
   "id": "7734c91a",
   "metadata": {},
   "source": [
    "Persiapan:\n",
    "1. Download Python versi 3 dari official webiste python yaitu www.python.org/downloads/\n",
    "2. Buat file python baru dengan ekstensi .py pada IDE Python yang kita gunakan"
   ]
  },
  {
   "cell_type": "code",
   "execution_count": 2,
   "id": "5552397e",
   "metadata": {},
   "outputs": [
    {
     "name": "stdout",
     "output_type": "stream",
     "text": [
      "7\n"
     ]
    }
   ],
   "source": [
    "# Lakukan perhitungan sederhana\n",
    "\n",
    "print (3+4)"
   ]
  },
  {
   "cell_type": "code",
   "execution_count": 3,
   "id": "76ec4209",
   "metadata": {},
   "outputs": [
    {
     "data": {
      "text/plain": [
       "7"
      ]
     },
     "execution_count": 3,
     "metadata": {},
     "output_type": "execute_result"
    }
   ],
   "source": [
    "3+4"
   ]
  },
  {
   "cell_type": "code",
   "execution_count": 5,
   "id": "f9255787",
   "metadata": {},
   "outputs": [
    {
     "data": {
      "text/plain": [
       "56"
      ]
     },
     "execution_count": 5,
     "metadata": {},
     "output_type": "execute_result"
    }
   ],
   "source": [
    "7*8"
   ]
  },
  {
   "cell_type": "code",
   "execution_count": 6,
   "id": "e1e776ab",
   "metadata": {},
   "outputs": [
    {
     "name": "stdout",
     "output_type": "stream",
     "text": [
      "Hello World\n"
     ]
    }
   ],
   "source": [
    "print(\"Hello World\")"
   ]
  },
  {
   "cell_type": "markdown",
   "id": "6e1e4fe2",
   "metadata": {},
   "source": [
    "# Variabel\n",
    "\n",
    "Penamaan atas sesuatu dan variabel itu bisa dinamis dan statis (tetap).\n",
    "\n",
    "Penamaan bisa sama tapi valuenya harus berbeda."
   ]
  },
  {
   "cell_type": "markdown",
   "id": "d7956e00",
   "metadata": {},
   "source": [
    "# Struktur Data List\n",
    "\n",
    "Hampir sama seperti string, ada kumpulan karakter yang di bungkus dengan tanda petik.\n",
    "Bedanya list mempunyai tipe data yang lebih banyak untuk disimpan."
   ]
  },
  {
   "cell_type": "code",
   "execution_count": null,
   "id": "00b6d96f",
   "metadata": {},
   "outputs": [],
   "source": []
  }
 ],
 "metadata": {
  "kernelspec": {
   "display_name": "Python 3 (ipykernel)",
   "language": "python",
   "name": "python3"
  },
  "language_info": {
   "codemirror_mode": {
    "name": "ipython",
    "version": 3
   },
   "file_extension": ".py",
   "mimetype": "text/x-python",
   "name": "python",
   "nbconvert_exporter": "python",
   "pygments_lexer": "ipython3",
   "version": "3.9.7"
  }
 },
 "nbformat": 4,
 "nbformat_minor": 5
}
