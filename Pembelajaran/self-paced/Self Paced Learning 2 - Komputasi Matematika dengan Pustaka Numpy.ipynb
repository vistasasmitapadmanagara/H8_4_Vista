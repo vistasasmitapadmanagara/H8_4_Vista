{
 "cells": [
  {
   "cell_type": "code",
   "execution_count": 1,
   "id": "0e5073cc",
   "metadata": {},
   "outputs": [
    {
     "data": {
      "text/plain": [
       "'Keyword untuk mempermudah saat coding:\\n    \\n    CTRL+Enter = Untuk eksekusi baris kode\\n    SHIFT+Enter = Untuk menambahkan baris\\n    kode baru atau sel kode baru'"
      ]
     },
     "execution_count": 1,
     "metadata": {},
     "output_type": "execute_result"
    }
   ],
   "source": [
    "'''Keyword untuk mempermudah saat coding:\n",
    "    \n",
    "    CTRL+Enter = Untuk eksekusi baris kode\n",
    "    SHIFT+Enter = Untuk menambahkan baris\n",
    "    kode baru atau sel kode baru'''"
   ]
  },
  {
   "cell_type": "markdown",
   "id": "b9726d47",
   "metadata": {},
   "source": [
    "# Ekspektasi dan Prasyarat"
   ]
  },
  {
   "cell_type": "code",
   "execution_count": 2,
   "id": "39e774d9",
   "metadata": {},
   "outputs": [
    {
     "data": {
      "text/plain": [
       "'\\n\\nEkspektasi\\nMemiliki fondasi yang kuat terhadap \\nkomputasi matematis dengan pustaka NumPy\\n\\nPrasyarat\\nKemampuan ==> Mengerti penggunaan bahasa pemrograman Python\\nAlat Bantu ==> Anaconda/Miniconda (env), Jupyter Notebook (Tools)\\n\\n'"
      ]
     },
     "execution_count": 2,
     "metadata": {},
     "output_type": "execute_result"
    }
   ],
   "source": [
    "'''\n",
    "\n",
    "Ekspektasi\n",
    "Memiliki fondasi yang kuat terhadap \n",
    "komputasi matematis dengan pustaka NumPy\n",
    "\n",
    "Prasyarat\n",
    "Kemampuan ==> Mengerti penggunaan bahasa pemrograman Python\n",
    "Alat Bantu ==> Anaconda/Miniconda (env), Jupyter Notebook (Tools)\n",
    "\n",
    "'''"
   ]
  },
  {
   "cell_type": "markdown",
   "id": "ceb77b6b",
   "metadata": {},
   "source": [
    "# Tentang NumPy"
   ]
  },
  {
   "cell_type": "code",
   "execution_count": 3,
   "id": "2bc96ade",
   "metadata": {},
   "outputs": [
    {
     "data": {
      "text/plain": [
       "'\\n\\nApa itu NumPy?\\n- Singkatan dari Numerical Python\\n- Perhitungan kompleks dapat diselesaikan\\ndengan cepat\\n- Menggunakan pendekatan array programming\\n- Mampu menangani aljabar linear, perkalian\\nmatriks, transformasi fourier, dll.\\n\\nSejarah NumPy\\n- NumPy pertama kali dirilis tahun 2006\\n- Awalnya sebuah pustaka dengan nama Numeric\\nmuncul ditahun 1995\\n- Lalu ada sebuah pustaka dengan nama Numarray\\nyang menggantikan pustaka Numeric\\n\\n'"
      ]
     },
     "execution_count": 3,
     "metadata": {},
     "output_type": "execute_result"
    }
   ],
   "source": [
    "'''\n",
    "\n",
    "Apa itu NumPy?\n",
    "- Singkatan dari Numerical Python\n",
    "- Perhitungan kompleks dapat diselesaikan\n",
    "dengan cepat\n",
    "- Menggunakan pendekatan array programming\n",
    "- Mampu menangani aljabar linear, perkalian\n",
    "matriks, transformasi fourier, dll.\n",
    "\n",
    "Sejarah NumPy\n",
    "- NumPy pertama kali dirilis tahun 2006\n",
    "- Awalnya sebuah pustaka dengan nama Numeric\n",
    "muncul ditahun 1995\n",
    "- Lalu ada sebuah pustaka dengan nama Numarray\n",
    "yang menggantikan pustaka Numeric\n",
    "\n",
    "'''"
   ]
  },
  {
   "cell_type": "markdown",
   "id": "4e98f3c1",
   "metadata": {},
   "source": [
    "# Persiapan Menggunakan NumPy"
   ]
  },
  {
   "cell_type": "code",
   "execution_count": 4,
   "id": "cb6bc58a",
   "metadata": {},
   "outputs": [
    {
     "data": {
      "text/plain": [
       "\"\\n\\n1. Lakukan instalasi Anaconda atau Miniconda\\nterlebih dahulu\\n\\n2. Pada CMD Anaconda/Miniconda ketikkan\\n'conda create -n numpy-workshop numpy jupyter'\\nnote: \\n(create) numpy-workshop = env baru yang kita buat\\n\\n(instalasi)numpy = library numpy sebagai pustaka yang digunakan\\nuntuk operasi perhitungan \\n\\n(instalasi) jupyter = library jupyter sebagai tools yang digunakan\\nuntuk melakukan coding\\n\\n3. Aktifkan env dengan mengetik:\\n'mkdir numpy-workshop'\\n'cd numpy-workshop'\\n'conda activate numpy-workshop'\\n\\nmaka akan ada keterangan kita ada di dalam env\\nnumpy-workshop\\n\\njalankan jupyter, dengan cara mengetikan:\\n'jupyter notebook'\\n\\nlalu akan muncul token atau link URLs, copy link\\ntersebut dan paste di web browser yang kita inginkan\\n\\n4. Buat notebook baru dengan cara:\\n- Klik New\\n- Pilih 'Python 3'\\n\\n\""
      ]
     },
     "execution_count": 4,
     "metadata": {},
     "output_type": "execute_result"
    }
   ],
   "source": [
    "'''\n",
    "\n",
    "1. Lakukan instalasi Anaconda atau Miniconda\n",
    "terlebih dahulu\n",
    "\n",
    "2. Pada CMD Anaconda/Miniconda ketikkan\n",
    "'conda create -n numpy-workshop numpy jupyter'\n",
    "note: \n",
    "(create) numpy-workshop = env baru yang kita buat\n",
    "\n",
    "(instalasi)numpy = library numpy sebagai pustaka yang digunakan\n",
    "untuk operasi perhitungan \n",
    "\n",
    "(instalasi) jupyter = library jupyter sebagai tools yang digunakan\n",
    "untuk melakukan coding\n",
    "\n",
    "3. Aktifkan env dengan mengetik:\n",
    "'mkdir numpy-workshop'\n",
    "'cd numpy-workshop'\n",
    "'conda activate numpy-workshop'\n",
    "\n",
    "maka akan ada keterangan kita ada di dalam env\n",
    "numpy-workshop\n",
    "\n",
    "jalankan jupyter, dengan cara mengetikan:\n",
    "'jupyter notebook'\n",
    "\n",
    "lalu akan muncul token atau link URLs, copy link\n",
    "tersebut dan paste di web browser yang kita inginkan\n",
    "\n",
    "4. Buat notebook baru dengan cara:\n",
    "- Klik New\n",
    "- Pilih 'Python 3'\n",
    "\n",
    "'''"
   ]
  },
  {
   "cell_type": "markdown",
   "id": "295dbca7",
   "metadata": {},
   "source": [
    "# Struktur Data Array"
   ]
  },
  {
   "cell_type": "markdown",
   "id": "6d2d3779",
   "metadata": {},
   "source": [
    "### - Array adalah struktur data yang umum\n",
    "### - Python memiliki List yang fungsinya mirip\n",
    "\n",
    "List fungsinya dinamis, bisa bertambah bisa berkurang.\n",
    "Array fungsinya statis, jumlahnya tetap, sehingga harus terlebih dahulu berapa banyak elemen yang ingin kita gunakan ketika ingin mendefiniskan array diawal.\n",
    "\n",
    "List mampu menampung berbagai tipe data berbeda, sementara array hanya boleh memiliki tipe data yang sama.\n",
    "\n",
    "\n",
    "Kelemahan list:\n",
    "Tipe data yang banyak membuat list memiliki performa yang lambat, sedangkan Array lebih cepat karena tipe datanya sama. \n",
    "Untuk Array semakin banyak data dia akan bekerja sangat cepat, sedangkan kalau masih sedikit jumlah datanya masih bisa menggunakan list."
   ]
  },
  {
   "cell_type": "markdown",
   "id": "f8259683",
   "metadata": {},
   "source": [
    "# Demo Array dan List"
   ]
  },
  {
   "cell_type": "code",
   "execution_count": 5,
   "id": "8d1f7952",
   "metadata": {},
   "outputs": [
    {
     "data": {
      "text/plain": [
       "'1.20.3'"
      ]
     },
     "execution_count": 5,
     "metadata": {},
     "output_type": "execute_result"
    }
   ],
   "source": [
    "import numpy as np\n",
    "np.__version__"
   ]
  },
  {
   "cell_type": "markdown",
   "id": "97f1f4bf",
   "metadata": {},
   "source": [
    "## Python List"
   ]
  },
  {
   "cell_type": "code",
   "execution_count": 6,
   "id": "6cf272a4",
   "metadata": {},
   "outputs": [],
   "source": [
    "gpas_as_list = [4.0, 3.2, 3.5]"
   ]
  },
  {
   "cell_type": "code",
   "execution_count": 7,
   "id": "945abc1b",
   "metadata": {},
   "outputs": [
    {
     "data": {
      "text/plain": [
       "[4.0, 3.2, 3.5, 4.0]"
      ]
     },
     "execution_count": 7,
     "metadata": {},
     "output_type": "execute_result"
    }
   ],
   "source": [
    "gpas_as_list.append(4.0)\n",
    "gpas_as_list\n",
    "\n",
    "# append hanya akan menambahkan data di bagian paling belakang"
   ]
  },
  {
   "cell_type": "code",
   "execution_count": 8,
   "id": "75dfc1a9",
   "metadata": {},
   "outputs": [
    {
     "data": {
      "text/plain": [
       "[4.0, 'belum ada', 3.2, 3.5, 4.0]"
      ]
     },
     "execution_count": 8,
     "metadata": {},
     "output_type": "execute_result"
    }
   ],
   "source": [
    "gpas_as_list.insert(1, 'belum ada')\n",
    "gpas_as_list\n",
    "#insert bisa diatur untuk menambahkan data di tengah-tengah"
   ]
  },
  {
   "cell_type": "code",
   "execution_count": 9,
   "id": "ec4e3109",
   "metadata": {},
   "outputs": [
    {
     "data": {
      "text/plain": [
       "'belum ada'"
      ]
     },
     "execution_count": 9,
     "metadata": {},
     "output_type": "execute_result"
    }
   ],
   "source": [
    "gpas_as_list.pop(1)\n",
    "\n",
    "#pop untuk menghapus data list yang diinginkan"
   ]
  },
  {
   "cell_type": "code",
   "execution_count": 10,
   "id": "802e9308",
   "metadata": {},
   "outputs": [
    {
     "data": {
      "text/plain": [
       "[4.0, 3.2, 3.5, 4.0]"
      ]
     },
     "execution_count": 10,
     "metadata": {},
     "output_type": "execute_result"
    }
   ],
   "source": [
    "gpas_as_list"
   ]
  },
  {
   "cell_type": "markdown",
   "id": "b9186e6a",
   "metadata": {},
   "source": [
    "## NumPy Array"
   ]
  },
  {
   "cell_type": "code",
   "execution_count": 11,
   "id": "626ca66a",
   "metadata": {},
   "outputs": [],
   "source": [
    "gpas = np.array(gpas_as_list)\n",
    "\n",
    "#merubah list menjadi array"
   ]
  },
  {
   "cell_type": "code",
   "execution_count": 12,
   "id": "f27b1296",
   "metadata": {},
   "outputs": [
    {
     "data": {
      "text/plain": [
       "dtype('float64')"
      ]
     },
     "execution_count": 12,
     "metadata": {},
     "output_type": "execute_result"
    }
   ],
   "source": [
    "gpas.dtype\n",
    "\n",
    "#tipe data gpas"
   ]
  },
  {
   "cell_type": "code",
   "execution_count": 13,
   "id": "3c62a550",
   "metadata": {},
   "outputs": [
    {
     "data": {
      "text/plain": [
       "4"
      ]
     },
     "execution_count": 13,
     "metadata": {},
     "output_type": "execute_result"
    }
   ],
   "source": [
    "gpas.size\n",
    "\n",
    "#jumlah data yang terdapat dalam gpas"
   ]
  },
  {
   "cell_type": "code",
   "execution_count": 14,
   "id": "80a5d9e2",
   "metadata": {},
   "outputs": [
    {
     "data": {
      "text/plain": [
       "array([4. , 3.2, 3.5, 4. ])"
      ]
     },
     "execution_count": 14,
     "metadata": {},
     "output_type": "execute_result"
    }
   ],
   "source": [
    "gpas\n",
    "\n",
    "#Array 1 dimensi"
   ]
  },
  {
   "cell_type": "code",
   "execution_count": 15,
   "id": "ede451b2",
   "metadata": {},
   "outputs": [
    {
     "data": {
      "text/plain": [
       "'\\n\\n- Jumlah elemen di array adalah tetap.\\n- Semua elemen harus memiliki tipe data yang sama.\\n- Array di NumPy sangat Pythonic.\\n\\n'"
      ]
     },
     "execution_count": 15,
     "metadata": {},
     "output_type": "execute_result"
    }
   ],
   "source": [
    "'''\n",
    "\n",
    "- Jumlah elemen di array adalah tetap.\n",
    "- Semua elemen harus memiliki tipe data yang sama.\n",
    "- Array di NumPy sangat Pythonic.\n",
    "\n",
    "'''"
   ]
  },
  {
   "cell_type": "markdown",
   "id": "84660ec4",
   "metadata": {},
   "source": [
    "# Aplikasi Study Log"
   ]
  },
  {
   "cell_type": "code",
   "execution_count": 16,
   "id": "d7a85825",
   "metadata": {},
   "outputs": [
    {
     "data": {
      "text/plain": [
       "array([0, 0, 0, 0, 0, 0, 0, 0, 0, 0, 0, 0, 0, 0, 0, 0, 0, 0, 0, 0, 0, 0,\n",
       "       0, 0, 0, 0, 0, 0, 0, 0, 0, 0, 0, 0, 0, 0, 0, 0, 0, 0, 0, 0, 0, 0,\n",
       "       0, 0, 0, 0, 0, 0, 0, 0, 0, 0, 0, 0, 0, 0, 0, 0, 0, 0, 0, 0, 0, 0,\n",
       "       0, 0, 0, 0, 0, 0, 0, 0, 0, 0, 0, 0, 0, 0, 0, 0, 0, 0, 0, 0, 0, 0,\n",
       "       0, 0, 0, 0, 0, 0, 0, 0, 0, 0, 0, 0], dtype=uint16)"
      ]
     },
     "execution_count": 16,
     "metadata": {},
     "output_type": "execute_result"
    }
   ],
   "source": [
    "study_minutes = np.zeros(100, np.uint16)\n",
    "study_minutes"
   ]
  },
  {
   "cell_type": "code",
   "execution_count": 17,
   "id": "323853fd",
   "metadata": {},
   "outputs": [
    {
     "name": "stdout",
     "output_type": "stream",
     "text": [
      "Variable        Type       Data/Info\n",
      "------------------------------------\n",
      "gpas            ndarray    4: 4 elems, type `float64`, 32 bytes\n",
      "gpas_as_list    list       n=4\n",
      "np              module     <module 'numpy' from 'C:\\<...>ges\\\\numpy\\\\__init__.py'>\n",
      "study_minutes   ndarray    100: 100 elems, type `uint16`, 200 bytes\n"
     ]
    }
   ],
   "source": [
    "%whos"
   ]
  },
  {
   "cell_type": "markdown",
   "id": "14cbf5ca",
   "metadata": {},
   "source": [
    "# Array Multidimensi\n",
    "\n",
    "## (Array di dalam Array)"
   ]
  },
  {
   "cell_type": "code",
   "execution_count": 18,
   "id": "509bd31d",
   "metadata": {},
   "outputs": [],
   "source": [
    "students_gpas = np.array([\n",
    "    [4.0, 3.3, 3.5, 4.0],\n",
    "    [3.96, 3.92, 4.0, 4.0],\n",
    "    [3.2, 3.8, 4.0, 4.0]\n",
    "], np.float16)"
   ]
  },
  {
   "cell_type": "code",
   "execution_count": 19,
   "id": "3c35b1ee",
   "metadata": {},
   "outputs": [
    {
     "data": {
      "text/plain": [
       "array([[4.  , 3.3 , 3.5 , 4.  ],\n",
       "       [3.96, 3.92, 4.  , 4.  ],\n",
       "       [3.2 , 3.8 , 4.  , 4.  ]], dtype=float16)"
      ]
     },
     "execution_count": 19,
     "metadata": {},
     "output_type": "execute_result"
    }
   ],
   "source": [
    "students_gpas"
   ]
  },
  {
   "cell_type": "code",
   "execution_count": 20,
   "id": "0f83aa70",
   "metadata": {},
   "outputs": [
    {
     "data": {
      "text/plain": [
       "2"
      ]
     },
     "execution_count": 20,
     "metadata": {},
     "output_type": "execute_result"
    }
   ],
   "source": [
    "students_gpas.ndim\n",
    "\n",
    "#mengetahui dimensi array yang dimaksudkan"
   ]
  },
  {
   "cell_type": "code",
   "execution_count": 21,
   "id": "97823852",
   "metadata": {},
   "outputs": [
    {
     "data": {
      "text/plain": [
       "'\\nshape digunakan untuk mengetahui\\njumlah baris dan kolom array\\n\\nnote hasil dibawah ini:\\nada 3 mahasiswa, dengan 4 semester\\n\\n'"
      ]
     },
     "execution_count": 21,
     "metadata": {},
     "output_type": "execute_result"
    }
   ],
   "source": [
    "students_gpas.shape\n",
    "\n",
    "\n",
    "'''\n",
    "shape digunakan untuk mengetahui\n",
    "jumlah baris dan kolom array\n",
    "\n",
    "note hasil dibawah ini:\n",
    "ada 3 mahasiswa, dengan 4 semester\n",
    "\n",
    "'''"
   ]
  },
  {
   "cell_type": "code",
   "execution_count": 22,
   "id": "0bd32bde",
   "metadata": {},
   "outputs": [
    {
     "data": {
      "text/plain": [
       "array([3.2, 3.8, 4. , 4. ], dtype=float16)"
      ]
     },
     "execution_count": 22,
     "metadata": {},
     "output_type": "execute_result"
    }
   ],
   "source": [
    "students_gpas[2]\n",
    "\n",
    "#untuk mendapatkan array kedua atau data student kedua"
   ]
  },
  {
   "cell_type": "code",
   "execution_count": 23,
   "id": "bd2dda0f",
   "metadata": {},
   "outputs": [
    {
     "data": {
      "text/plain": [
       "'\\nuntuk mendapatkan data student kedua pada\\nsemester ketiga\\n\\n'"
      ]
     },
     "execution_count": 23,
     "metadata": {},
     "output_type": "execute_result"
    }
   ],
   "source": [
    "students_gpas[2][3]\n",
    "\n",
    "'''\n",
    "untuk mendapatkan data student kedua pada\n",
    "semester ketiga\n",
    "\n",
    "'''"
   ]
  },
  {
   "cell_type": "markdown",
   "id": "f93dc675",
   "metadata": {},
   "source": [
    "# Array Indexing"
   ]
  },
  {
   "cell_type": "code",
   "execution_count": 24,
   "id": "e5337e94",
   "metadata": {},
   "outputs": [],
   "source": [
    "# Menambahkan dimensi pada array"
   ]
  },
  {
   "cell_type": "markdown",
   "id": "acc0ffb4",
   "metadata": {},
   "source": [
    "## Study Log Multidimensi"
   ]
  },
  {
   "cell_type": "code",
   "execution_count": 25,
   "id": "043d559e",
   "metadata": {},
   "outputs": [],
   "source": [
    "study_minutes = np.array([\n",
    "    study_minutes,\n",
    "    np.zeros(100, np.uint16)\n",
    "])"
   ]
  },
  {
   "cell_type": "code",
   "execution_count": 26,
   "id": "cd5b8107",
   "metadata": {},
   "outputs": [
    {
     "data": {
      "text/plain": [
       "(2, 100)"
      ]
     },
     "execution_count": 26,
     "metadata": {},
     "output_type": "execute_result"
    }
   ],
   "source": [
    "study_minutes.shape"
   ]
  },
  {
   "cell_type": "code",
   "execution_count": 27,
   "id": "bca9954f",
   "metadata": {},
   "outputs": [
    {
     "data": {
      "text/plain": [
       "array([[ 0,  0,  0,  0,  0,  0,  0,  0,  0,  0,  0,  0,  0,  0,  0,  0,\n",
       "         0,  0,  0,  0,  0,  0,  0,  0,  0,  0,  0,  0,  0,  0,  0,  0,\n",
       "         0,  0,  0,  0,  0,  0,  0,  0,  0,  0,  0,  0,  0,  0,  0,  0,\n",
       "         0,  0,  0,  0,  0,  0,  0,  0,  0,  0,  0,  0,  0,  0,  0,  0,\n",
       "         0,  0,  0,  0,  0,  0,  0,  0,  0,  0,  0,  0,  0,  0,  0,  0,\n",
       "         0,  0,  0,  0,  0,  0,  0,  0,  0,  0,  0,  0,  0,  0,  0,  0,\n",
       "         0,  0,  0,  0],\n",
       "       [60,  0,  0,  0,  0,  0,  0,  0,  0,  0,  0,  0,  0,  0,  0,  0,\n",
       "         0,  0,  0,  0,  0,  0,  0,  0,  0,  0,  0,  0,  0,  0,  0,  0,\n",
       "         0,  0,  0,  0,  0,  0,  0,  0,  0,  0,  0,  0,  0,  0,  0,  0,\n",
       "         0,  0,  0,  0,  0,  0,  0,  0,  0,  0,  0,  0,  0,  0,  0,  0,\n",
       "         0,  0,  0,  0,  0,  0,  0,  0,  0,  0,  0,  0,  0,  0,  0,  0,\n",
       "         0,  0,  0,  0,  0,  0,  0,  0,  0,  0,  0,  0,  0,  0,  0,  0,\n",
       "         0,  0,  0,  0]], dtype=uint16)"
      ]
     },
     "execution_count": 27,
     "metadata": {},
     "output_type": "execute_result"
    }
   ],
   "source": [
    "study_minutes[1][0] = 60\n",
    "study_minutes"
   ]
  },
  {
   "cell_type": "code",
   "execution_count": 28,
   "id": "f430ddf8",
   "metadata": {},
   "outputs": [
    {
     "data": {
      "text/plain": [
       "array([132, 122, 128,  44, 136, 129, 101,  95,  50, 132, 151,  64, 104,\n",
       "       175, 117, 146, 139, 129, 133, 176,  98, 160, 179,  99,  82, 142,\n",
       "        31, 106, 117,  56,  98,  67, 121, 159,  81, 170,  31,  50,  49,\n",
       "        87, 179,  51, 116, 177, 118,  78, 171, 117,  88, 123, 102,  44,\n",
       "        79,  31, 108,  80,  59, 137,  84,  93, 155, 160,  67,  80, 166,\n",
       "       164,  70,  50, 102, 113,  47, 131, 161, 118,  82,  89,  81,  43,\n",
       "        81,  38, 119,  52,  82,  31, 159,  57, 113,  71, 121, 140,  91,\n",
       "        70,  37, 106,  64, 127, 110,  58,  93,  79], dtype=uint16)"
      ]
     },
     "execution_count": 28,
     "metadata": {},
     "output_type": "execute_result"
    }
   ],
   "source": [
    "rand = np.random.RandomState(42)\n",
    "fake_log = rand.randint(30, 180, size=100, dtype=np.uint16)\n",
    "fake_log"
   ]
  },
  {
   "cell_type": "code",
   "execution_count": 29,
   "id": "c9faa6c2",
   "metadata": {},
   "outputs": [
    {
     "data": {
      "text/plain": [
       "[44, 50]"
      ]
     },
     "execution_count": 29,
     "metadata": {},
     "output_type": "execute_result"
    }
   ],
   "source": [
    "[fake_log[3], fake_log[8]]\n",
    "\n",
    "#menampilkan data dalam bentuk list"
   ]
  },
  {
   "cell_type": "code",
   "execution_count": 30,
   "id": "e70b4e34",
   "metadata": {},
   "outputs": [
    {
     "data": {
      "text/plain": [
       "array([44, 50], dtype=uint16)"
      ]
     },
     "execution_count": 30,
     "metadata": {},
     "output_type": "execute_result"
    }
   ],
   "source": [
    "fake_log[[3, 8]]\n",
    "\n",
    "#menampilkan data dalam bentuk array"
   ]
  },
  {
   "cell_type": "code",
   "execution_count": 31,
   "id": "97c93bac",
   "metadata": {},
   "outputs": [],
   "source": [
    "#membuat array baru dari index-indeex tadi\n",
    "\n",
    "index = np.array([\n",
    "    [3, 8],\n",
    "    [2, 5]\n",
    "])"
   ]
  },
  {
   "cell_type": "code",
   "execution_count": 32,
   "id": "c30aa291",
   "metadata": {},
   "outputs": [
    {
     "data": {
      "text/plain": [
       "array([[ 44,  50],\n",
       "       [128, 129]], dtype=uint16)"
      ]
     },
     "execution_count": 32,
     "metadata": {},
     "output_type": "execute_result"
    }
   ],
   "source": [
    "fake_log[index]\n",
    "\n",
    "#konsumsi array baru dari index sebelumnya"
   ]
  },
  {
   "cell_type": "code",
   "execution_count": 33,
   "id": "89683b0d",
   "metadata": {},
   "outputs": [
    {
     "data": {
      "text/plain": [
       "array([  0,   0,   0,   0,   0,   0,   0,   0,   0,   0,   0,   0,   0,\n",
       "         0,   0,   0,   0,   0,   0,   0,   0,   0,   0,   0,   0,   0,\n",
       "         0,   0,   0,   0,   0,   0,   0,   0,   0,   0,   0,   0,   0,\n",
       "         0,   0,   0,   0,   0,   0,   0,   0,   0,   0,   0,   0,   0,\n",
       "         0,   0,   0,   0,   0,   0,   0,   0,   0,   0,   0,   0,   0,\n",
       "         0,   0,   0,   0,   0,   0,   0,   0,   0,   0,   0,   0,   0,\n",
       "         0,   0,   0,   0,   0,   0,   0,   0,   0,   0,   0,   0,   0,\n",
       "         0,   0,   0,   0,   0,   0,   0,   0,   0,  60,   0,   0,   0,\n",
       "         0,   0,   0,   0,   0,   0,   0,   0,   0,   0,   0,   0,   0,\n",
       "         0,   0,   0,   0,   0,   0,   0,   0,   0,   0,   0,   0,   0,\n",
       "         0,   0,   0,   0,   0,   0,   0,   0,   0,   0,   0,   0,   0,\n",
       "         0,   0,   0,   0,   0,   0,   0,   0,   0,   0,   0,   0,   0,\n",
       "         0,   0,   0,   0,   0,   0,   0,   0,   0,   0,   0,   0,   0,\n",
       "         0,   0,   0,   0,   0,   0,   0,   0,   0,   0,   0,   0,   0,\n",
       "         0,   0,   0,   0,   0,   0,   0,   0,   0,   0,   0,   0,   0,\n",
       "         0,   0,   0,   0,   0, 132, 122, 128,  44, 136, 129, 101,  95,\n",
       "        50, 132, 151,  64, 104, 175, 117, 146, 139, 129, 133, 176,  98,\n",
       "       160, 179,  99,  82, 142,  31, 106, 117,  56,  98,  67, 121, 159,\n",
       "        81, 170,  31,  50,  49,  87, 179,  51, 116, 177, 118,  78, 171,\n",
       "       117,  88, 123, 102,  44,  79,  31, 108,  80,  59, 137,  84,  93,\n",
       "       155, 160,  67,  80, 166, 164,  70,  50, 102, 113,  47, 131, 161,\n",
       "       118,  82,  89,  81,  43,  81,  38, 119,  52,  82,  31, 159,  57,\n",
       "       113,  71, 121, 140,  91,  70,  37, 106,  64, 127, 110,  58,  93,\n",
       "        79], dtype=uint16)"
      ]
     },
     "execution_count": 33,
     "metadata": {},
     "output_type": "execute_result"
    }
   ],
   "source": [
    "#menambahkan elemen baru pada array tidak bisa dilakukan secara langsung\n",
    "\n",
    "study_minutes = np.append(study_minutes, [fake_log])\n",
    "study_minutes\n",
    "\n",
    "\n",
    "#jadilah ada 3 array dalam study_minutes"
   ]
  },
  {
   "cell_type": "markdown",
   "id": "1802027a",
   "metadata": {},
   "source": [
    "## FILTER ARRAY\n",
    "### Mencari durasi belajar dibawah 1 jam (60 menit)"
   ]
  },
  {
   "cell_type": "code",
   "execution_count": 34,
   "id": "d5bd075b",
   "metadata": {},
   "outputs": [
    {
     "data": {
      "text/plain": [
       "array([False, False, False,  True, False, False, False, False,  True,\n",
       "       False, False, False, False, False, False, False, False, False,\n",
       "       False, False, False, False, False, False, False, False,  True,\n",
       "       False, False,  True, False, False, False, False, False, False,\n",
       "        True,  True,  True, False, False,  True, False, False, False,\n",
       "       False, False, False, False, False, False,  True, False,  True,\n",
       "       False, False,  True, False, False, False, False, False, False,\n",
       "       False, False, False, False,  True, False, False,  True, False,\n",
       "       False, False, False, False, False,  True, False,  True, False,\n",
       "        True, False,  True, False,  True, False, False, False, False,\n",
       "       False, False,  True, False, False, False, False,  True, False,\n",
       "       False])"
      ]
     },
     "execution_count": 34,
     "metadata": {},
     "output_type": "execute_result"
    }
   ],
   "source": [
    "fake_log < 60 #hasilnya tru false tapi tidak terfilter"
   ]
  },
  {
   "cell_type": "code",
   "execution_count": 35,
   "id": "e929f107",
   "metadata": {},
   "outputs": [
    {
     "data": {
      "text/plain": [
       "array([44, 50, 31, 56, 31, 50, 49, 51, 44, 31, 59, 50, 47, 43, 38, 52, 31,\n",
       "       57, 37, 58], dtype=uint16)"
      ]
     },
     "execution_count": 35,
     "metadata": {},
     "output_type": "execute_result"
    }
   ],
   "source": [
    "#filter dengan cara gampang\n",
    "\n",
    "fake_log[fake_log < 60] #hasilnya sudah terfilter"
   ]
  },
  {
   "cell_type": "code",
   "execution_count": 36,
   "id": "00aa4f2c",
   "metadata": {},
   "outputs": [
    {
     "data": {
      "text/plain": [
       "array([44, 50, 31, 56, 31, 50, 49, 51, 44, 31, 59, 50, 47, 43, 38, 52, 31,\n",
       "       57, 37, 58], dtype=uint16)"
      ]
     },
     "execution_count": 36,
     "metadata": {},
     "output_type": "execute_result"
    }
   ],
   "source": [
    "# filter dengan cara iteratif atau for\n",
    "\n",
    "results = []\n",
    "for value in fake_log:\n",
    "    if value < 60:\n",
    "        results.append(value)\n",
    "        \n",
    "np.array(results)"
   ]
  },
  {
   "cell_type": "code",
   "execution_count": 37,
   "id": "aa88892b",
   "metadata": {},
   "outputs": [
    {
     "data": {
      "text/plain": [
       "array([  0,   0,   0,   0,   0,   0,   0,   0,   0,   0,   0,   0,   0,\n",
       "         0,   0,   0,   0,   0,   0,   0,   0,   0,   0,   0,   0,   0,\n",
       "         0,   0,   0,   0,   0,   0,   0,   0,   0,   0,   0,   0,   0,\n",
       "         0,   0,   0,   0,   0,   0,   0,   0,   0,   0,   0,   0,   0,\n",
       "         0,   0,   0,   0,   0,   0,   0,   0,   0,   0,   0,   0,   0,\n",
       "         0,   0,   0,   0,   0,   0,   0,   0,   0,   0,   0,   0,   0,\n",
       "         0,   0,   0,   0,   0,   0,   0,   0,   0,   0,   0,   0,   0,\n",
       "         0,   0,   0,   0,   0,   0,   0,   0,   0, 132, 122, 128,  44,\n",
       "       136, 129, 101,  95,  50, 132, 151,  64, 104, 175, 117, 146, 139,\n",
       "       129, 133, 176,  98, 160, 179,  99,  82, 142,  31, 106, 117,  56,\n",
       "        98,  67, 121, 159,  81, 170,  31,  50,  49,  87, 179,  51, 116,\n",
       "       177, 118,  78, 171, 117,  88, 123, 102,  44,  79,  31, 108,  80,\n",
       "        59, 137,  84,  93, 155, 160,  67,  80, 166, 164,  70,  50, 102,\n",
       "       113,  47, 131, 161, 118,  82,  89,  81,  43,  81,  38, 119,  52,\n",
       "        82,  31, 159,  57, 113,  71, 121, 140,  91,  70,  37, 106,  64,\n",
       "       127, 110,  58,  93,  79], dtype=uint16)"
      ]
     },
     "execution_count": 37,
     "metadata": {},
     "output_type": "execute_result"
    }
   ],
   "source": [
    "study_minutes = np.zeros(100, np.uint16)\n",
    "study_minutes = np.append(study_minutes, [fake_log])\n",
    "study_minutes"
   ]
  },
  {
   "cell_type": "code",
   "execution_count": 38,
   "id": "afbccd3d",
   "metadata": {},
   "outputs": [
    {
     "data": {
      "text/plain": [
       "array([ 0,  0,  0,  0,  0,  0,  0,  0,  0,  0,  0,  0,  0,  0,  0,  0,  0,\n",
       "        0,  0,  0,  0,  0,  0,  0,  0,  0,  0,  0,  0,  0,  0,  0,  0,  0,\n",
       "        0,  0,  0,  0,  0,  0,  0,  0,  0,  0,  0,  0,  0,  0,  0,  0,  0,\n",
       "        0,  0,  0,  0,  0,  0,  0,  0,  0,  0,  0,  0,  0,  0,  0,  0,  0,\n",
       "        0,  0,  0,  0,  0,  0,  0,  0,  0,  0,  0,  0,  0,  0,  0,  0,  0,\n",
       "        0,  0,  0,  0,  0,  0,  0,  0,  0,  0,  0,  0,  0,  0,  0, 44, 50,\n",
       "       31, 56, 31, 50, 49, 51, 44, 31, 59, 50, 47, 43, 38, 52, 31, 57, 37,\n",
       "       58], dtype=uint16)"
      ]
     },
     "execution_count": 38,
     "metadata": {},
     "output_type": "execute_result"
    }
   ],
   "source": [
    "study_minutes[study_minutes<60]"
   ]
  },
  {
   "cell_type": "code",
   "execution_count": 39,
   "id": "84b72728",
   "metadata": {},
   "outputs": [
    {
     "data": {
      "text/plain": [
       "array([44, 50, 31, 56, 31, 50, 49, 51, 44, 31, 59, 50, 47, 43, 38, 52, 31,\n",
       "       57, 37, 58], dtype=uint16)"
      ]
     },
     "execution_count": 39,
     "metadata": {},
     "output_type": "execute_result"
    }
   ],
   "source": [
    "#hilangkan 0\n",
    "\n",
    "study_minutes[study_minutes<60]\n",
    "study_minutes[(study_minutes<60) & (study_minutes>0)]"
   ]
  },
  {
   "cell_type": "markdown",
   "id": "ebc4534b",
   "metadata": {},
   "source": [
    "# Slicing Array\n",
    "\n",
    "## (potong-potong array)\n",
    "\n",
    "## Pembacaan Array dimulai dari 0, 1, 2, ..."
   ]
  },
  {
   "cell_type": "code",
   "execution_count": 40,
   "id": "45b2c0f5",
   "metadata": {},
   "outputs": [
    {
     "data": {
      "text/plain": [
       "array([[ 0,  1,  2,  3,  4,  5],\n",
       "       [ 6,  7,  8,  9, 10, 11],\n",
       "       [12, 13, 14, 15, 16, 17],\n",
       "       [18, 19, 20, 21, 22, 23],\n",
       "       [24, 25, 26, 27, 28, 29],\n",
       "       [30, 31, 32, 33, 34, 35],\n",
       "       [36, 37, 38, 39, 40, 41]])"
      ]
     },
     "execution_count": 40,
     "metadata": {},
     "output_type": "execute_result"
    }
   ],
   "source": [
    "practice = np.arange(42) #berisi data dari 0 sampai 41\n",
    "practice.shape = (7, 6) #array terdiri dari 7 elemen pertama (Index) pada dimensi pertama dan setiap array ada 6 elemen\n",
    "practice"
   ]
  },
  {
   "cell_type": "code",
   "execution_count": 41,
   "id": "d2a1da19",
   "metadata": {},
   "outputs": [
    {
     "data": {
      "text/plain": [
       "13"
      ]
     },
     "execution_count": 41,
     "metadata": {},
     "output_type": "execute_result"
    }
   ],
   "source": [
    "practice[2, 1]"
   ]
  },
  {
   "cell_type": "code",
   "execution_count": 42,
   "id": "76c4f4bd",
   "metadata": {},
   "outputs": [
    {
     "data": {
      "text/plain": [
       "'\\nuntuk mendapatkan data array dari index 2 sampai 4\\n'"
      ]
     },
     "execution_count": 42,
     "metadata": {},
     "output_type": "execute_result"
    }
   ],
   "source": [
    "#memotong array\n",
    "\n",
    "practice[2:5]\n",
    "\n",
    "'''\n",
    "untuk mendapatkan data array dari index 2 sampai 4\n",
    "'''"
   ]
  },
  {
   "cell_type": "code",
   "execution_count": 43,
   "id": "4a5005f0",
   "metadata": {},
   "outputs": [
    {
     "data": {
      "text/plain": [
       "'\\nuntuk mendapatkan data ketiga dari tiap index\\nantara 2 sampai 4\\n'"
      ]
     },
     "execution_count": 43,
     "metadata": {},
     "output_type": "execute_result"
    }
   ],
   "source": [
    "practice[2:5, 3]\n",
    "\n",
    "'''\n",
    "untuk mendapatkan data ketiga dari tiap index\n",
    "antara 2 sampai 4\n",
    "'''"
   ]
  },
  {
   "cell_type": "code",
   "execution_count": 44,
   "id": "5f3158f1",
   "metadata": {},
   "outputs": [
    {
     "data": {
      "text/plain": [
       "array([[15, 16, 17],\n",
       "       [21, 22, 23],\n",
       "       [27, 28, 29]])"
      ]
     },
     "execution_count": 44,
     "metadata": {},
     "output_type": "execute_result"
    }
   ],
   "source": [
    "#untuk mendapatkan 3 data terakhir dari tiap index antara index 2 sampai 4\n",
    "\n",
    "practice[2:5, 3:]"
   ]
  },
  {
   "cell_type": "markdown",
   "id": "67f23024",
   "metadata": {},
   "source": [
    "# Copy vs View"
   ]
  },
  {
   "cell_type": "code",
   "execution_count": 45,
   "id": "de2265a0",
   "metadata": {},
   "outputs": [
    {
     "data": {
      "text/plain": [
       "([1, 2, 3], [1, 2, 3])"
      ]
     },
     "execution_count": 45,
     "metadata": {},
     "output_type": "execute_result"
    }
   ],
   "source": [
    " # contoh duplikasi atau copy list\n",
    "    \n",
    "    \n",
    "practice_list = [1,2,3]\n",
    "practice_list_copy = practice_list[:]\n",
    "\n",
    "practice_list, practice_list_copy"
   ]
  },
  {
   "cell_type": "code",
   "execution_count": 46,
   "id": "a6fc6879",
   "metadata": {},
   "outputs": [],
   "source": [
    "practice_list_copy[0] = 12345"
   ]
  },
  {
   "cell_type": "code",
   "execution_count": 47,
   "id": "8480aca2",
   "metadata": {},
   "outputs": [
    {
     "data": {
      "text/plain": [
       "'\\nsaat kita mengcopy dan merubah isi data dari\\nlist copy-an, maka list original tidak akan\\nikut berubah, list original akan bernilai tetap\\n'"
      ]
     },
     "execution_count": 47,
     "metadata": {},
     "output_type": "execute_result"
    }
   ],
   "source": [
    "practice_list, practice_list_copy\n",
    "\n",
    "'''\n",
    "saat kita mengcopy dan merubah isi data dari\n",
    "list copy-an, maka list original tidak akan\n",
    "ikut berubah, list original akan bernilai tetap\n",
    "'''"
   ]
  },
  {
   "cell_type": "code",
   "execution_count": 48,
   "id": "007ee737",
   "metadata": {},
   "outputs": [
    {
     "data": {
      "text/plain": [
       "array([[ 0,  1,  2,  3,  4,  5],\n",
       "       [ 6,  7,  8,  9, 10, 11],\n",
       "       [12, 13, 14, 15, 16, 17],\n",
       "       [18, 19, 20, 21, 22, 23],\n",
       "       [24, 25, 26, 27, 28, 29],\n",
       "       [30, 31, 32, 33, 34, 35],\n",
       "       [36, 37, 38, 39, 40, 41]])"
      ]
     },
     "execution_count": 48,
     "metadata": {},
     "output_type": "execute_result"
    }
   ],
   "source": [
    "practice"
   ]
  },
  {
   "cell_type": "code",
   "execution_count": 49,
   "id": "9a744720",
   "metadata": {},
   "outputs": [
    {
     "data": {
      "text/plain": [
       "(array([[12345,     1,     2,     3,     4,     5],\n",
       "        [    6,     7,     8,     9,    10,    11],\n",
       "        [   12,    13,    14,    15,    16,    17],\n",
       "        [   18,    19,    20,    21,    22,    23],\n",
       "        [   24,    25,    26,    27,    28,    29],\n",
       "        [   30,    31,    32,    33,    34,    35],\n",
       "        [   36,    37,    38,    39,    40,    41]]),\n",
       " array([[12345,     1,     2,     3,     4,     5],\n",
       "        [    6,     7,     8,     9,    10,    11],\n",
       "        [   12,    13,    14,    15,    16,    17],\n",
       "        [   18,    19,    20,    21,    22,    23],\n",
       "        [   24,    25,    26,    27,    28,    29],\n",
       "        [   30,    31,    32,    33,    34,    35],\n",
       "        [   36,    37,    38,    39,    40,    41]]))"
      ]
     },
     "execution_count": 49,
     "metadata": {},
     "output_type": "execute_result"
    }
   ],
   "source": [
    "# Contoh duplikasi atau copy Array\n",
    "\n",
    "not_copied = practice[:]\n",
    "not_copied[0,0] = 12345\n",
    "\n",
    "practice, not_copied"
   ]
  },
  {
   "cell_type": "code",
   "execution_count": 50,
   "id": "30db4328",
   "metadata": {},
   "outputs": [
    {
     "data": {
      "text/plain": [
       "'\\nSaat dilakukan copy data dan perubahan pada Array maka data Array\\nyang asli pun akan ikut berubah, tidak seperti list yang\\npada list asli tidak mengalami perubahan apapun.\\nHal ini terjadi karena antara Array asli dengan copy adalah\\nhubungan antara parent dengan turunannya.\\n'"
      ]
     },
     "execution_count": 50,
     "metadata": {},
     "output_type": "execute_result"
    }
   ],
   "source": [
    "'''\n",
    "Saat dilakukan copy data dan perubahan pada Array maka data Array\n",
    "yang asli pun akan ikut berubah, tidak seperti list yang\n",
    "pada list asli tidak mengalami perubahan apapun.\n",
    "Hal ini terjadi karena antara Array asli dengan copy adalah\n",
    "hubungan antara parent dengan turunannya.\n",
    "'''"
   ]
  },
  {
   "cell_type": "code",
   "execution_count": 51,
   "id": "b3b81302",
   "metadata": {},
   "outputs": [
    {
     "name": "stdout",
     "output_type": "stream",
     "text": [
      "[[12345     1     2     3     4     5]\n",
      " [    6     7     8     9    10    11]\n",
      " [   12    13    14    15    16    17]\n",
      " [   18    19    20    21    22    23]\n",
      " [   24    25    26    27    28    29]\n",
      " [   30    31    32    33    34    35]\n",
      " [   36    37    38    39    40    41]]\n"
     ]
    }
   ],
   "source": [
    "print(not_copied.base)"
   ]
  },
  {
   "cell_type": "code",
   "execution_count": 52,
   "id": "553e38f2",
   "metadata": {},
   "outputs": [
    {
     "data": {
      "text/plain": [
       "True"
      ]
     },
     "execution_count": 52,
     "metadata": {},
     "output_type": "execute_result"
    }
   ],
   "source": [
    "not_copied.base is practice"
   ]
  },
  {
   "cell_type": "code",
   "execution_count": 53,
   "id": "645f0e03",
   "metadata": {},
   "outputs": [
    {
     "data": {
      "text/plain": [
       "'\\n\\nslicing di array, numpy akan mengembalikan sebuah\\nview bukan copy.\\n\\n'"
      ]
     },
     "execution_count": 53,
     "metadata": {},
     "output_type": "execute_result"
    }
   ],
   "source": [
    "'''\n",
    "\n",
    "slicing di array, numpy akan mengembalikan sebuah\n",
    "view bukan copy.\n",
    "\n",
    "'''"
   ]
  },
  {
   "cell_type": "markdown",
   "id": "1074c3a2",
   "metadata": {},
   "source": [
    "# Aljabar Linear"
   ]
  },
  {
   "cell_type": "code",
   "execution_count": 54,
   "id": "9f6cfe64",
   "metadata": {
    "scrolled": true
   },
   "outputs": [
    {
     "data": {
      "text/plain": [
       "array([10000.,  2500.,  5000.,  3000.])"
      ]
     },
     "execution_count": 54,
     "metadata": {},
     "output_type": "execute_result"
    }
   ],
   "source": [
    "\n",
    "\n",
    "orders =np.array([\n",
    "    [2, 0, 0, 0],\n",
    "    [1, 0, 2, 4],\n",
    "    [1, 2, 1, 0],\n",
    "    [4, 6, 0, 2]\n",
    "])\n",
    "\n",
    "totals = np.array([20000, 32000, 20000, 61000])\n",
    "prices = np.linalg.solve(orders, totals)\n",
    "prices"
   ]
  },
  {
   "cell_type": "code",
   "execution_count": 55,
   "id": "9cd01b53",
   "metadata": {},
   "outputs": [
    {
     "data": {
      "text/plain": [
       "array([20000., 32000., 20000., 61000.])"
      ]
     },
     "execution_count": 55,
     "metadata": {},
     "output_type": "execute_result"
    }
   ],
   "source": [
    "orders @ prices #perkalian 2 array"
   ]
  },
  {
   "cell_type": "markdown",
   "id": "a460069a",
   "metadata": {},
   "source": [
    "## Fungsi Universal"
   ]
  },
  {
   "cell_type": "code",
   "execution_count": 56,
   "id": "61c8ceee",
   "metadata": {
    "scrolled": true
   },
   "outputs": [
    {
     "data": {
      "text/plain": [
       "(array([1, 2, 3, 4, 5]), array([ 6,  7,  8,  9, 10]))"
      ]
     },
     "execution_count": 56,
     "metadata": {},
     "output_type": "execute_result"
    }
   ],
   "source": [
    "a, b = np.split(np.arange(1,11), 2)\n",
    "a, b"
   ]
  },
  {
   "cell_type": "code",
   "execution_count": 57,
   "id": "7d25eb95",
   "metadata": {},
   "outputs": [
    {
     "data": {
      "text/plain": [
       "array([ 7,  9, 11, 13, 15])"
      ]
     },
     "execution_count": 57,
     "metadata": {},
     "output_type": "execute_result"
    }
   ],
   "source": [
    "a+b"
   ]
  },
  {
   "cell_type": "code",
   "execution_count": 58,
   "id": "5fe596b6",
   "metadata": {},
   "outputs": [
    {
     "data": {
      "text/plain": [
       "array([ 6, 14, 24, 36, 50])"
      ]
     },
     "execution_count": 58,
     "metadata": {},
     "output_type": "execute_result"
    }
   ],
   "source": [
    "a*b"
   ]
  },
  {
   "cell_type": "code",
   "execution_count": 59,
   "id": "073de55b",
   "metadata": {},
   "outputs": [
    {
     "data": {
      "text/plain": [
       "array([1, 2, 3, 4, 5])"
      ]
     },
     "execution_count": 59,
     "metadata": {},
     "output_type": "execute_result"
    }
   ],
   "source": [
    "a"
   ]
  },
  {
   "cell_type": "code",
   "execution_count": 60,
   "id": "88caef09",
   "metadata": {},
   "outputs": [
    {
     "data": {
      "text/plain": [
       "array([5, 5, 5, 5, 5])"
      ]
     },
     "execution_count": 60,
     "metadata": {},
     "output_type": "execute_result"
    }
   ],
   "source": [
    "b-a"
   ]
  },
  {
   "cell_type": "code",
   "execution_count": 61,
   "id": "ec2b2fed",
   "metadata": {},
   "outputs": [
    {
     "data": {
      "text/plain": [
       "array([4, 5, 6, 7, 8])"
      ]
     },
     "execution_count": 61,
     "metadata": {},
     "output_type": "execute_result"
    }
   ],
   "source": [
    "a+3"
   ]
  },
  {
   "cell_type": "code",
   "execution_count": 62,
   "id": "730d7ac9",
   "metadata": {},
   "outputs": [
    {
     "data": {
      "text/plain": [
       "array([4, 5, 6, 7, 8])"
      ]
     },
     "execution_count": 62,
     "metadata": {},
     "output_type": "execute_result"
    }
   ],
   "source": [
    "a + np.repeat(3, 5)"
   ]
  },
  {
   "cell_type": "code",
   "execution_count": 63,
   "id": "c21a3ffd",
   "metadata": {},
   "outputs": [
    {
     "data": {
      "text/plain": [
       "(array([[0., 1., 2.],\n",
       "        [3., 4., 5.],\n",
       "        [6., 7., 8.]]),\n",
       " array([0., 1., 2.]))"
      ]
     },
     "execution_count": 63,
     "metadata": {},
     "output_type": "execute_result"
    }
   ],
   "source": [
    "x1 = np.arange(9.0).reshape((3,3))\n",
    "x2 = np.arange(3.0)\n",
    "x1, x2"
   ]
  },
  {
   "cell_type": "code",
   "execution_count": 64,
   "id": "0f94e40a",
   "metadata": {},
   "outputs": [
    {
     "data": {
      "text/plain": [
       "array([[ 0.,  2.,  4.],\n",
       "       [ 3.,  5.,  7.],\n",
       "       [ 6.,  8., 10.]])"
      ]
     },
     "execution_count": 64,
     "metadata": {},
     "output_type": "execute_result"
    }
   ],
   "source": [
    "np.add(x1, x2) #penjumlahan"
   ]
  },
  {
   "cell_type": "code",
   "execution_count": 65,
   "id": "7e7f2eda",
   "metadata": {},
   "outputs": [
    {
     "data": {
      "text/plain": [
       "array([[ 2.,  3.,  4.],\n",
       "       [ 5.,  6.,  7.],\n",
       "       [ 8.,  9., 10.]])"
      ]
     },
     "execution_count": 65,
     "metadata": {},
     "output_type": "execute_result"
    }
   ],
   "source": [
    "np.add(x1, 2)"
   ]
  },
  {
   "cell_type": "markdown",
   "id": "b31202fd",
   "metadata": {},
   "source": [
    "## Operasi Matrix Lainnya"
   ]
  },
  {
   "cell_type": "code",
   "execution_count": 67,
   "id": "90d4f975",
   "metadata": {},
   "outputs": [
    {
     "data": {
      "text/plain": [
       "array([44, 50, 31, 56, 31, 50, 49, 51, 44, 31, 59, 50, 47, 43, 38, 52, 31,\n",
       "       57, 37, 58], dtype=uint16)"
      ]
     },
     "execution_count": 67,
     "metadata": {},
     "output_type": "execute_result"
    }
   ],
   "source": [
    "study_less = study_minutes[(study_minutes<60)&(study_minutes>0)]\n",
    "study_less"
   ]
  },
  {
   "cell_type": "code",
   "execution_count": 69,
   "id": "88e1b392",
   "metadata": {},
   "outputs": [
    {
     "data": {
      "text/plain": [
       "909"
      ]
     },
     "execution_count": 69,
     "metadata": {},
     "output_type": "execute_result"
    }
   ],
   "source": [
    "np.add.reduce(study_less)"
   ]
  },
  {
   "cell_type": "code",
   "execution_count": 71,
   "id": "216fa455",
   "metadata": {},
   "outputs": [
    {
     "data": {
      "text/plain": [
       "909"
      ]
     },
     "execution_count": 71,
     "metadata": {},
     "output_type": "execute_result"
    }
   ],
   "source": [
    "np.sum(study_less)"
   ]
  },
  {
   "cell_type": "code",
   "execution_count": 73,
   "id": "c5b13630",
   "metadata": {},
   "outputs": [
    {
     "data": {
      "text/plain": [
       "10199"
      ]
     },
     "execution_count": 73,
     "metadata": {},
     "output_type": "execute_result"
    }
   ],
   "source": [
    "np.sum(study_minutes)"
   ]
  },
  {
   "cell_type": "markdown",
   "id": "744c6bc4",
   "metadata": {},
   "source": [
    "### Belajar Numpy Full di SciPy.org atau https://docs.scipy.org"
   ]
  },
  {
   "cell_type": "markdown",
   "id": "329bed6f",
   "metadata": {},
   "source": [
    "# Visualisasi Data dengan MatPlotlib"
   ]
  },
  {
   "cell_type": "code",
   "execution_count": 75,
   "id": "2e0fb15b",
   "metadata": {},
   "outputs": [
    {
     "name": "stdout",
     "output_type": "stream",
     "text": [
      "Requirement already satisfied: matplotlib in c:\\users\\lenovo\\anaconda3\\lib\\site-packages (3.4.3)\n",
      "Requirement already satisfied: kiwisolver>=1.0.1 in c:\\users\\lenovo\\anaconda3\\lib\\site-packages (from matplotlib) (1.3.1)\n",
      "Requirement already satisfied: pyparsing>=2.2.1 in c:\\users\\lenovo\\anaconda3\\lib\\site-packages (from matplotlib) (3.0.4)\n",
      "Requirement already satisfied: cycler>=0.10 in c:\\users\\lenovo\\anaconda3\\lib\\site-packages (from matplotlib) (0.10.0)\n",
      "Requirement already satisfied: pillow>=6.2.0 in c:\\users\\lenovo\\anaconda3\\lib\\site-packages (from matplotlib) (8.4.0)\n",
      "Requirement already satisfied: numpy>=1.16 in c:\\users\\lenovo\\anaconda3\\lib\\site-packages (from matplotlib) (1.20.3)\n",
      "Requirement already satisfied: python-dateutil>=2.7 in c:\\users\\lenovo\\anaconda3\\lib\\site-packages (from matplotlib) (2.8.2)\n",
      "Requirement already satisfied: six in c:\\users\\lenovo\\anaconda3\\lib\\site-packages (from cycler>=0.10->matplotlib) (1.16.0)\n"
     ]
    }
   ],
   "source": [
    "!pip install matplotlib"
   ]
  },
  {
   "cell_type": "code",
   "execution_count": 77,
   "id": "9c6df0b6",
   "metadata": {},
   "outputs": [],
   "source": [
    "import matplotlib.pyplot as plt"
   ]
  },
  {
   "cell_type": "code",
   "execution_count": 80,
   "id": "190733d9",
   "metadata": {},
   "outputs": [
    {
     "data": {
      "text/plain": [
       "array([132, 122, 128,  44, 136, 129, 101,  95,  50, 132, 151,  64, 104,\n",
       "       175, 117, 146, 139, 129, 133, 176,  98, 160, 179,  99,  82, 142,\n",
       "        31, 106, 117,  56,  98,  67, 121, 159,  81, 170,  31,  50,  49,\n",
       "        87, 179,  51, 116, 177, 118,  78, 171, 117,  88, 123, 102,  44,\n",
       "        79,  31, 108,  80,  59, 137,  84,  93, 155, 160,  67,  80, 166,\n",
       "       164,  70,  50, 102, 113,  47, 131, 161, 118,  82,  89,  81,  43,\n",
       "        81,  38, 119,  52,  82,  31, 159,  57, 113,  71, 121, 140,  91,\n",
       "        70,  37, 106,  64, 127, 110,  58,  93,  79], dtype=uint16)"
      ]
     },
     "execution_count": 80,
     "metadata": {},
     "output_type": "execute_result"
    }
   ],
   "source": [
    "study_minutes[study_minutes>0]"
   ]
  },
  {
   "cell_type": "code",
   "execution_count": 85,
   "id": "0ec241e8",
   "metadata": {
    "scrolled": true
   },
   "outputs": [
    {
     "data": {
      "text/plain": [
       "[]"
      ]
     },
     "execution_count": 85,
     "metadata": {},
     "output_type": "execute_result"
    },
    {
     "data": {
      "image/png": "[encoded data removed]",
      "text/plain": [
       "<Figure size 432x288 with 1 Axes>"
      ]
     },
     "metadata": {
      "needs_background": "light"
     },
     "output_type": "display_data"
    }
   ],
   "source": [
    "plt.hist(study_minutes[study_minutes>0])\n",
    "plt.plot()"
   ]
  }
 ],
 "metadata": {
  "kernelspec": {
   "display_name": "Python 3 (ipykernel)",
   "language": "python",
   "name": "python3"
  },
  "language_info": {
   "codemirror_mode": {
    "name": "ipython",
    "version": 3
   },
   "file_extension": ".py",
   "mimetype": "text/x-python",
   "name": "python",
   "nbconvert_exporter": "python",
   "pygments_lexer": "ipython3",
   "version": "3.9.7"
  }
 },
 "nbformat": 4,
 "nbformat_minor": 5
}
