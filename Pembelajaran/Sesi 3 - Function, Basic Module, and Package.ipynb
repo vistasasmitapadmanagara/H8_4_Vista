{
 "cells": [
  {
   "cell_type": "markdown",
   "id": "8ea16978",
   "metadata": {},
   "source": [
    "# Function\n",
    "\n",
    "Function adalah blok kode yang terorganisir dan dapat digunakan kembali, yang digunakan untuk melakukan satu tindakan terkait.\n",
    "\n",
    "Python memberi banyak built-in functions seperti print(), dll. Tetapi kita tetap juga bisa membuat function sendiri yang disebut user-defined functions."
   ]
  },
  {
   "cell_type": "markdown",
   "id": "ffa176c1",
   "metadata": {},
   "source": [
    "Aturan sederhana untuk mendefinisikan functions dengan Python:\n",
    "\n",
    "- function blocks dimulai dengan keyword \"def\" diikuti dengan nama fungsi dan tanda kurung ().\n",
    "- Parameter atau argumen masukan apapun harus ditempatkan di dalam tanda kurung dan parameter dalam tanpa kurung itu juga bisa kita tentukan sendiri.\n",
    "- Statement awal dari suatu fungsi dapat berupa optional statement - dokumentasi dari fungsi atau docstring.\n",
    "- Blok kode dalam setiap function dimulai dengan titik dua \":\" dan diberi indentasi."
   ]
  },
  {
   "cell_type": "code",
   "execution_count": 1,
   "id": "68aa65fd",
   "metadata": {},
   "outputs": [],
   "source": [
    "def function_name(parameters):\n",
    "    \"docstring\"\n",
    "    statement(s)"
   ]
  },
  {
   "cell_type": "code",
   "execution_count": 2,
   "id": "bb94ddf3",
   "metadata": {},
   "outputs": [
    {
     "name": "stdout",
     "output_type": "stream",
     "text": [
      "32\n"
     ]
    }
   ],
   "source": [
    "# contoh function bloks\n",
    "\n",
    "def my_function(p,l):\n",
    "    \"Function untuk menghitung luas\"\n",
    "    print(p*l)\n",
    "    \n",
    "my_function(8, 4)"
   ]
  },
  {
   "cell_type": "markdown",
   "id": "3e9e58d8",
   "metadata": {},
   "source": [
    "# Calling a Function\n",
    "\n",
    "Function hanya memberinya nama, menentukan parameter yang akan disertakan dalam fungsi dan menyusun blok kode.\n",
    "\n",
    "Setelah struktur dasar suatu function diselesaikan, kalian dapat menjalankannya dengan memanggilnya dari fungsi lain atau langsung di prompt Python."
   ]
  },
  {
   "cell_type": "code",
   "execution_count": 3,
   "id": "b2f4e0ec",
   "metadata": {},
   "outputs": [
    {
     "name": "stdout",
     "output_type": "stream",
     "text": [
      "My name is Haylen\n",
      "Your name is Maylen\n"
     ]
    }
   ],
   "source": [
    "# Function definition is here\n",
    "def printme(str):\n",
    "    \"This prints a passed string into this function\"\n",
    "    print(str)\n",
    "    return\n",
    "\n",
    "# Now you can call printme function\n",
    "printme(\"My name is Haylen\")\n",
    "printme(\"Your name is Maylen\")"
   ]
  },
  {
   "cell_type": "markdown",
   "id": "7b87c4bf",
   "metadata": {},
   "source": [
    "# Pass by reference vs value\n",
    "\n",
    "Mengupan apa yang dirujuk oleh parameter dalam suatu fungsi, perubahan tersebut juga kembali ke fungsi pemanggil."
   ]
  },
  {
   "cell_type": "code",
   "execution_count": 4,
   "id": "918243fe",
   "metadata": {},
   "outputs": [
    {
     "name": "stdout",
     "output_type": "stream",
     "text": [
      "Values inside the function:  [10, 20, 30, [1, 2, 3, 4]]\n",
      "Values outside the function:  [10, 20, 30, [1, 2, 3, 4]]\n"
     ]
    }
   ],
   "source": [
    "# Function definition is here\n",
    "def changeme(mylist):\n",
    "    \"This changes a passed list into this function\"\n",
    "    mylist.append([1,2,3,4])\n",
    "    print(\"Values inside the function: \", mylist)\n",
    "    return\n",
    "\n",
    "# Now you can call changeme function\n",
    "mylist = [10,20,30]\n",
    "changeme(mylist);\n",
    "print(\"Values outside the function: \", mylist)"
   ]
  },
  {
   "cell_type": "code",
   "execution_count": 5,
   "id": "6a072ccd",
   "metadata": {},
   "outputs": [
    {
     "name": "stdout",
     "output_type": "stream",
     "text": [
      "Values inside the function:  [1, 2, 3, 4]\n",
      "Values outside the function:  [10, 20, 30]\n"
     ]
    }
   ],
   "source": [
    "# Function definition is here\n",
    "def changeme(mylist):\n",
    "    \"This changes a passed list into this function\"\n",
    "    mylist = [1,2,3,4] # This would assig new reference in mylist\n",
    "    print(\"Values inside the function: \", mylist)\n",
    "    return\n",
    "\n",
    "# Now you can call changeme function\n",
    "mylist = [10,20,30]\n",
    "changeme(mylist)\n",
    "print(\"Values outside the function: \", mylist)"
   ]
  },
  {
   "cell_type": "markdown",
   "id": "dace85b9",
   "metadata": {},
   "source": [
    "# Function Arguments\n",
    "\n",
    "Berikut tipe-tipe function arguments:\n",
    "- Required arguments\n",
    "- Keyword arguments\n",
    "- Default arguments\n",
    "- Variable-length arguments"
   ]
  },
  {
   "cell_type": "markdown",
   "id": "b7a00398",
   "metadata": {},
   "source": [
    "# Required Arguments\n",
    "\n",
    "Adalah, argumen yang diteruskan ke suatu fungsi dalam urutan posisi yang benar. Disini, jumlah argumen dalam pemanggilan fungsi harus sama persis dengan function definition."
   ]
  },
  {
   "cell_type": "code",
   "execution_count": 6,
   "id": "47d5008b",
   "metadata": {},
   "outputs": [
    {
     "ename": "TypeError",
     "evalue": "printme() missing 1 required positional argument: 'str'",
     "output_type": "error",
     "traceback": [
      "\u001b[1;31m---------------------------------------------------------------------------\u001b[0m",
      "\u001b[1;31mTypeError\u001b[0m                                 Traceback (most recent call last)",
      "\u001b[1;32m~\\AppData\\Local\\Temp/ipykernel_19300/2486509308.py\u001b[0m in \u001b[0;36m<module>\u001b[1;34m\u001b[0m\n\u001b[0;32m      6\u001b[0m \u001b[1;33m\u001b[0m\u001b[0m\n\u001b[0;32m      7\u001b[0m \u001b[1;31m# Now you can call printme function\u001b[0m\u001b[1;33m\u001b[0m\u001b[1;33m\u001b[0m\u001b[0m\n\u001b[1;32m----> 8\u001b[1;33m \u001b[0mprintme\u001b[0m\u001b[1;33m(\u001b[0m\u001b[1;33m)\u001b[0m\u001b[1;33m\u001b[0m\u001b[1;33m\u001b[0m\u001b[0m\n\u001b[0m",
      "\u001b[1;31mTypeError\u001b[0m: printme() missing 1 required positional argument: 'str'"
     ]
    }
   ],
   "source": [
    "# Function definition is here\n",
    "def printme(str):\n",
    "    \"This prints a passed string into this function\"\n",
    "    print(str)\n",
    "    return\n",
    "\n",
    "# Now you can call printme function\n",
    "printme()"
   ]
  },
  {
   "cell_type": "markdown",
   "id": "2133d9a6",
   "metadata": {},
   "source": [
    "Contoh diatas menunjukan bahwa, Untuk memanggil fungsi printme(), kalian wajib memberikan satu argumen, jika tidak maka akan terjadi error."
   ]
  },
  {
   "cell_type": "markdown",
   "id": "2456c46b",
   "metadata": {},
   "source": [
    "# Keyword Arguments\n",
    "\n",
    "Berkaitan dengan pemanggilan fungsi. Saat menggunakan Keyword arguments dalam memanggil fungsi, pemanggil mengidentifikasi argumen dengan nama parameter.\n",
    "\n",
    "Sehingga, hal ini memungkinkan untuk melewati argumen atau menempatkannya tidak berurutan katera interpreter Python dapat menggunakan kata kunci yang disediakan untuk mencocokan nilai dengan parameter."
   ]
  },
  {
   "cell_type": "code",
   "execution_count": 8,
   "id": "fd3829e1",
   "metadata": {},
   "outputs": [
    {
     "name": "stdout",
     "output_type": "stream",
     "text": [
      "Hacktiv8\n"
     ]
    }
   ],
   "source": [
    "# Function definition is here\n",
    "def printme(str):\n",
    "    \"This prints a passed string into this function\"\n",
    "    print(str)\n",
    "    return\n",
    "\n",
    "# Now you can call printme function\n",
    "printme(str = \"Hacktiv8\")"
   ]
  },
  {
   "cell_type": "code",
   "execution_count": 9,
   "id": "56b6d2ac",
   "metadata": {},
   "outputs": [
    {
     "name": "stdout",
     "output_type": "stream",
     "text": [
      "Hacktiv8\n"
     ]
    }
   ],
   "source": [
    "# Function definition is here\n",
    "def printme(str):\n",
    "    \"This prints a passed string into this function\"\n",
    "    print(str)\n",
    "    return\n",
    "\n",
    "# Now you can call printme function\n",
    "str = \"Hacktiv8\"\n",
    "printme(str)"
   ]
  },
  {
   "cell_type": "markdown",
   "id": "c68ea30f",
   "metadata": {},
   "source": [
    "Berikut contoh yang memeberikan gambaran lebih jelas, bahwa urutan parameter tidak menjadi masalah."
   ]
  },
  {
   "cell_type": "code",
   "execution_count": 10,
   "id": "997f50c7",
   "metadata": {},
   "outputs": [
    {
     "name": "stdout",
     "output_type": "stream",
     "text": [
      "Hi! My name is Haylen. I'm 5 years old.\n"
     ]
    }
   ],
   "source": [
    "# Function definition is here\n",
    "def printbio(name, age):\n",
    "    \"This prints a passed into this function\"\n",
    "    print(\"Hi! My name is\", name+\". I'm\", age, \"years old.\")\n",
    "    return\n",
    "\n",
    "# Now you can call printme function\n",
    "printbio(age=5, name=\"Haylen\")"
   ]
  },
  {
   "cell_type": "markdown",
   "id": "5225d7ea",
   "metadata": {},
   "source": [
    "# Default Arguments\n",
    "\n",
    "Adalah, argumen yang mengasumsikan nilai default jika nilai tidak disediakan dalam pemanggilan fungsi untuk argumen tersebut."
   ]
  },
  {
   "cell_type": "code",
   "execution_count": 11,
   "id": "fa89264e",
   "metadata": {},
   "outputs": [
    {
     "name": "stdout",
     "output_type": "stream",
     "text": [
      "Hi! My name is Haylen. I'm 5 years old.\n",
      "Hi! My name is Hayyana. I'm 26 years old.\n"
     ]
    }
   ],
   "source": [
    "# Function definition is here\n",
    "def printbio(name, age=26):\n",
    "    \"This prints a passed into this function\"\n",
    "    print(\"Hi! My name is\", name+\". I'm\", age, \"years old.\")\n",
    "    return\n",
    "\n",
    "# Now you can call printme function\n",
    "printbio(age=5, name=\"Haylen\")\n",
    "printbio(name=\"Hayyana\")"
   ]
  },
  {
   "cell_type": "markdown",
   "id": "1ae94158",
   "metadata": {},
   "source": [
    "# Variable-length Arguments\n",
    "\n",
    "Kalian mungkin perlu memproses suatu fungsi untuk menerima lebih banyak argumen daruipada yang kalian tentukan saat mendefinisikan fungsi. Argumen ini disebut variable-length arguments dan tidak diberi nama ketika definisi fungsi, tidak seperti required dan default arguments.\n"
   ]
  },
  {
   "cell_type": "code",
   "execution_count": 12,
   "id": "44155776",
   "metadata": {},
   "outputs": [
    {
     "name": "stdout",
     "output_type": "stream",
     "text": [
      "Output is: \n",
      "10\n",
      "Output is: \n",
      "70\n",
      "60\n",
      "50\n",
      "a\n"
     ]
    }
   ],
   "source": [
    "def printinfo(arg1, *vartuple):\n",
    "    \"This prints a variable passed arguments\"\n",
    "    print(\"Output is: \")\n",
    "    print(arg1)\n",
    "    for var in vartuple:\n",
    "        print(var)\n",
    "    return\n",
    "\n",
    "# Now you can call printinfo function\n",
    "printinfo(10)\n",
    "printinfo(70, 60, 50, \"a\")"
   ]
  },
  {
   "cell_type": "markdown",
   "id": "4a29fd98",
   "metadata": {},
   "source": [
    "# The Anonymous Functions\n",
    "\n",
    "Disebut anonymous karena tidak dideklarasikan dengan cara standar dengan menggunakan keyword def. Dapat menggunakan keyword lambda untuk membuat anonymous functions.\n",
    "- Lambda dapat mengambil berapapun argumen tetapi hanya mengembalikan suatu nilai dalam bentuk expression. Lambda tidak boleh berisi commands atau multiple expressions.\n",
    "- Anonymous funtion tidak bisa dipanggil langsung melalui print karena lambda memerlukan expression\n",
    "- Lambda functions memiliki namespace local sendiri dan tidak dapat mengakses variabel selain yang ada di daftar parameternya dan yang ada di namespace global."
   ]
  },
  {
   "cell_type": "code",
   "execution_count": 13,
   "id": "91ed3f57",
   "metadata": {},
   "outputs": [
    {
     "name": "stdout",
     "output_type": "stream",
     "text": [
      "Value of total:  30\n",
      "Value of total:  80\n"
     ]
    }
   ],
   "source": [
    "sum = lambda a1, a2: a1 + a2;\n",
    "\n",
    "def sum(a1, a2):\n",
    "    total = a1 + a2\n",
    "    return total\n",
    "\n",
    "# Now you can call sum as a function\n",
    "total = sum(10,20)\n",
    "total2 = sum(30, 50)\n",
    "print(\"Value of total: \", total)\n",
    "print(\"Value of total: \", total2)"
   ]
  },
  {
   "cell_type": "markdown",
   "id": "3521259e",
   "metadata": {},
   "source": [
    "# The Return Statement\n",
    "\n",
    "Statement return [expression] menyebabkan kita keluar dari suatu fungsi, dan secara opsional meneruskan ekspresi ke pemanggil. Pernyataan return tanpa argumen sama dengan return None."
   ]
  },
  {
   "cell_type": "code",
   "execution_count": 14,
   "id": "e7cb1ae2",
   "metadata": {},
   "outputs": [
    {
     "name": "stdout",
     "output_type": "stream",
     "text": [
      "Inside the function:  30\n",
      "Outside the function:  40\n"
     ]
    }
   ],
   "source": [
    "def sum(arg1, arg2):\n",
    "    # add both the parameters and return them.\n",
    "    total = arg1 + arg2\n",
    "    total2 = total + arg1\n",
    "    print(\"Inside the function: \", total)\n",
    "    return total2\n",
    "\n",
    "total = sum(10,20)\n",
    "print(\"Outside the function: \", total)"
   ]
  },
  {
   "cell_type": "markdown",
   "id": "d1b10f49",
   "metadata": {},
   "source": [
    "# Scope of Variables\n",
    "\n",
    "Scope of variable menentukan aturan apakah program ditempat kalian dapat mengakses identifier tertentu. Ada 2 cakupan dasar variable di Python.\n",
    "- Global variables\n",
    "- Local variables"
   ]
  },
  {
   "cell_type": "markdown",
   "id": "de15d56e",
   "metadata": {},
   "source": [
    "# Global vs. Local Variables\n",
    "\n",
    "Local Scope = Variable yang didefinisikan di dalam badan fungsi\n",
    "\n",
    "Global Scope = Variabel yang ditentukan diluar badan fungsi\n",
    "\n",
    "Artinya, variabel lokal hanya dapat diakses didalam fungsi yang dideklarasikan, sedangkan variabel global dapat diakses di seluruh badan program oleh semua fungsi."
   ]
  },
  {
   "cell_type": "code",
   "execution_count": 15,
   "id": "846fc613",
   "metadata": {},
   "outputs": [
    {
     "name": "stdout",
     "output_type": "stream",
     "text": [
      "Inside the function local total :  30\n",
      "Outside the function global total:  0\n"
     ]
    }
   ],
   "source": [
    "total = 0\n",
    "\n",
    "def sum(a1, a2):\n",
    "    total = a1 + a2\n",
    "    print(\"Inside the function local total : \", total)\n",
    "    return total;\n",
    "\n",
    "sum(10, 20)\n",
    "print(\"Outside the function global total: \", total)"
   ]
  },
  {
   "cell_type": "code",
   "execution_count": 16,
   "id": "1a4c203c",
   "metadata": {},
   "outputs": [
    {
     "name": "stdout",
     "output_type": "stream",
     "text": [
      "50\n",
      "40\n"
     ]
    }
   ],
   "source": [
    "jumlahKucing = 20\n",
    "\n",
    "def jumlahHewan():\n",
    "    jumlahAnjing = 30\n",
    "    return jumlahKucing + jumlahAnjing\n",
    "\n",
    "def jumlahKelinci():\n",
    "    return jumlahKucing + jumlahKucing\n",
    "\n",
    "print(jumlahHewan())\n",
    "print(jumlahKelinci())"
   ]
  },
  {
   "cell_type": "markdown",
   "id": "be0489b0",
   "metadata": {},
   "source": [
    "# Module dan Package\n",
    "\n",
    "Dua mekanisme inilah yang memfasilitasi pemrograman modular/ modular programming.\n",
    "\n",
    "Pemrograman modular mengacu pada proses pemecahan tugas pemrograman yang besar dan berat menjadi subtugas atau modul yang terpisah, lebih kecil, dan lebih mudah dikelola. Modul individu kemudian dapat digabungkan seperti blok bangunan untuk membuat aplikasi yang lebih besar."
   ]
  },
  {
   "cell_type": "markdown",
   "id": "55b423d0",
   "metadata": {},
   "source": [
    "# Python Modules: Overview\n",
    "\n",
    "Modul yang ditulis dengan Python adalah module yang sangat mudah dibuat. Yang perlu dilakukan adalah membuat file yang berisi kode Python dan kemudia memberi nama file dengan ekstensi .py"
   ]
  },
  {
   "cell_type": "code",
   "execution_count": 17,
   "id": "d734882a",
   "metadata": {},
   "outputs": [],
   "source": [
    "s = \"Hello, my name is Heylen.\"\n",
    "a = [10,20,30]\n",
    "\n",
    "def foo(arg):\n",
    "    print (f'arg={arg}')\n",
    "           \n",
    "class Foo:\n",
    "    pass"
   ]
  },
  {
   "cell_type": "code",
   "execution_count": 18,
   "id": "0ee54667",
   "metadata": {},
   "outputs": [],
   "source": [
    "import mod"
   ]
  },
  {
   "cell_type": "code",
   "execution_count": 19,
   "id": "22c489f2",
   "metadata": {},
   "outputs": [
    {
     "name": "stdout",
     "output_type": "stream",
     "text": [
      "Hello, my name is Heylen.\n"
     ]
    }
   ],
   "source": [
    "print(mod.s)"
   ]
  },
  {
   "cell_type": "code",
   "execution_count": 20,
   "id": "3fbe4f5c",
   "metadata": {},
   "outputs": [
    {
     "data": {
      "text/plain": [
       "[10, 20, 30]"
      ]
     },
     "execution_count": 20,
     "metadata": {},
     "output_type": "execute_result"
    }
   ],
   "source": [
    "mod.a"
   ]
  },
  {
   "cell_type": "code",
   "execution_count": 21,
   "id": "4f905201",
   "metadata": {},
   "outputs": [
    {
     "name": "stdout",
     "output_type": "stream",
     "text": [
      "arg=['quux', 'corge', 'grault']\n"
     ]
    }
   ],
   "source": [
    "mod.foo(['quux', 'corge', 'grault'])"
   ]
  },
  {
   "cell_type": "code",
   "execution_count": 22,
   "id": "12f9f810",
   "metadata": {},
   "outputs": [
    {
     "data": {
      "text/plain": [
       "<mod.Foo at 0x1a180703880>"
      ]
     },
     "execution_count": 22,
     "metadata": {},
     "output_type": "execute_result"
    }
   ],
   "source": [
    "x = mod.Foo()\n",
    "x"
   ]
  },
  {
   "cell_type": "markdown",
   "id": "f5168f1d",
   "metadata": {},
   "source": [
    "# The Module Search Path\n",
    "\n",
    "- Direktori tempat skrip input dijalankan untuk direktori saat ini jika interpreter dijalankan secara interaktif\n",
    "- Daftar direktori yang terdapat dalam variabel PYTHONPATH environment. (Format untuk PYTHONPATH bergantung pada OS tetapi harus sama dengan variabel PATH environment.)\n",
    "- Daftar direktori yang bergantung pada instalasi yang dikonfigurasi pada saat Python diinstal."
   ]
  },
  {
   "cell_type": "code",
   "execution_count": 23,
   "id": "c8c571d3",
   "metadata": {},
   "outputs": [
    {
     "data": {
      "text/plain": [
       "['C:\\\\Users\\\\Lenovo\\\\a_latihan_forStudi',\n",
       " 'C:\\\\Users\\\\Lenovo\\\\anaconda3\\\\python39.zip',\n",
       " 'C:\\\\Users\\\\Lenovo\\\\anaconda3\\\\DLLs',\n",
       " 'C:\\\\Users\\\\Lenovo\\\\anaconda3\\\\lib',\n",
       " 'C:\\\\Users\\\\Lenovo\\\\anaconda3',\n",
       " '',\n",
       " 'C:\\\\Users\\\\Lenovo\\\\anaconda3\\\\lib\\\\site-packages',\n",
       " 'C:\\\\Users\\\\Lenovo\\\\anaconda3\\\\lib\\\\site-packages\\\\locket-0.2.1-py3.9.egg',\n",
       " 'C:\\\\Users\\\\Lenovo\\\\anaconda3\\\\lib\\\\site-packages\\\\win32',\n",
       " 'C:\\\\Users\\\\Lenovo\\\\anaconda3\\\\lib\\\\site-packages\\\\win32\\\\lib',\n",
       " 'C:\\\\Users\\\\Lenovo\\\\anaconda3\\\\lib\\\\site-packages\\\\Pythonwin',\n",
       " 'C:\\\\Users\\\\Lenovo\\\\anaconda3\\\\lib\\\\site-packages\\\\IPython\\\\extensions',\n",
       " 'C:\\\\Users\\\\Lenovo\\\\.ipython']"
      ]
     },
     "execution_count": 23,
     "metadata": {},
     "output_type": "execute_result"
    }
   ],
   "source": [
    "import sys\n",
    "sys.path"
   ]
  },
  {
   "cell_type": "markdown",
   "id": "9cafffa5",
   "metadata": {},
   "source": [
    "Untuk memastikan modul kalian ditemukan, kalian perlu melakukan salah satu hal berikut:\n",
    "- Letakkan mod.py di direktori tempat skrip input berada atau direktori saat ini pada terminal\n",
    "- Modifikasi PYTHONPATH environment variabel agar memuat direktori tempat mod.py berada sebelum memulai interpreter\n",
    "- Atau: Letakkan mod.py di salah satu direktori yang sudah ada di variabel PYTHONPATH\n",
    "- Letakkan mod.py di salah satu direktori yang bergantung pada instalasi, yang mungkin kalian miliki atau tidak memiliki write-access, tergantung pada OS\n",
    "    \n",
    "Opsi tambahan:\n",
    "Kalian dapat meletakkan file modul di direktori pilihan kalian dan kemudian memodifikasi sys.path pada saat run-time sehingga berisi direktori tersebut."
   ]
  },
  {
   "cell_type": "code",
   "execution_count": 24,
   "id": "8fe9c2a5",
   "metadata": {},
   "outputs": [],
   "source": [
    "sys.path.append(r'/Users/Lenovo/Downloads/mod.py')"
   ]
  },
  {
   "cell_type": "code",
   "execution_count": 25,
   "id": "da2a9f3e",
   "metadata": {},
   "outputs": [
    {
     "data": {
      "text/plain": [
       "['C:\\\\Users\\\\Lenovo\\\\a_latihan_forStudi',\n",
       " 'C:\\\\Users\\\\Lenovo\\\\anaconda3\\\\python39.zip',\n",
       " 'C:\\\\Users\\\\Lenovo\\\\anaconda3\\\\DLLs',\n",
       " 'C:\\\\Users\\\\Lenovo\\\\anaconda3\\\\lib',\n",
       " 'C:\\\\Users\\\\Lenovo\\\\anaconda3',\n",
       " '',\n",
       " 'C:\\\\Users\\\\Lenovo\\\\anaconda3\\\\lib\\\\site-packages',\n",
       " 'C:\\\\Users\\\\Lenovo\\\\anaconda3\\\\lib\\\\site-packages\\\\locket-0.2.1-py3.9.egg',\n",
       " 'C:\\\\Users\\\\Lenovo\\\\anaconda3\\\\lib\\\\site-packages\\\\win32',\n",
       " 'C:\\\\Users\\\\Lenovo\\\\anaconda3\\\\lib\\\\site-packages\\\\win32\\\\lib',\n",
       " 'C:\\\\Users\\\\Lenovo\\\\anaconda3\\\\lib\\\\site-packages\\\\Pythonwin',\n",
       " 'C:\\\\Users\\\\Lenovo\\\\anaconda3\\\\lib\\\\site-packages\\\\IPython\\\\extensions',\n",
       " 'C:\\\\Users\\\\Lenovo\\\\.ipython',\n",
       " '/Users/Lenovo/Downloads/mod.py']"
      ]
     },
     "execution_count": 25,
     "metadata": {},
     "output_type": "execute_result"
    }
   ],
   "source": [
    "sys.path"
   ]
  },
  {
   "cell_type": "markdown",
   "id": "7ae105e6",
   "metadata": {},
   "source": [
    "Setelah modul berhasil diimpor, kalian dapat menentukan lokasi dimana modul itu ditemukan dengan atribut <b>file</b>"
   ]
  },
  {
   "cell_type": "code",
   "execution_count": 30,
   "id": "2cd9e824",
   "metadata": {},
   "outputs": [
    {
     "data": {
      "text/plain": [
       "'C:\\\\Users\\\\Lenovo\\\\a_latihan_forStudi\\\\mod.py'"
      ]
     },
     "execution_count": 30,
     "metadata": {},
     "output_type": "execute_result"
    }
   ],
   "source": [
    "import mod\n",
    "mod.__file__"
   ]
  },
  {
   "cell_type": "code",
   "execution_count": 31,
   "id": "45c27156",
   "metadata": {},
   "outputs": [
    {
     "data": {
      "text/plain": [
       "'C:\\\\Users\\\\Lenovo\\\\anaconda3\\\\lib\\\\re.py'"
      ]
     },
     "execution_count": 31,
     "metadata": {},
     "output_type": "execute_result"
    }
   ],
   "source": [
    "import re\n",
    "re.__file__"
   ]
  },
  {
   "cell_type": "markdown",
   "id": "905a66f1",
   "metadata": {},
   "source": [
    "# The import Statement\n",
    "\n",
    "Isi modul tersedia untuk pemanggil dengan import statement. Import statement memiliki banyak bentuk berbeda, seperti di bawah ini.\n",
    "\n",
    "<b>import</b> module_name\n",
    "\n",
    "Dari pemanggil, objek dalam modul hanya dapat diakses jika diawali dengan <b>module_name</b> menggunakan notasi titik, seperti yang diilustrasikan di bawah."
   ]
  },
  {
   "cell_type": "code",
   "execution_count": 32,
   "id": "ed95982b",
   "metadata": {},
   "outputs": [
    {
     "data": {
      "text/plain": [
       "<module 'mod' from 'C:\\\\Users\\\\Lenovo\\\\a_latihan_forStudi\\\\mod.py'>"
      ]
     },
     "execution_count": 32,
     "metadata": {},
     "output_type": "execute_result"
    }
   ],
   "source": [
    "import mod\n",
    "mod"
   ]
  },
  {
   "cell_type": "code",
   "execution_count": 35,
   "id": "b521e8df",
   "metadata": {},
   "outputs": [
    {
     "data": {
      "text/plain": [
       "'Hello, my name is Heylen.'"
      ]
     },
     "execution_count": 35,
     "metadata": {},
     "output_type": "execute_result"
    }
   ],
   "source": [
    "mod.s"
   ]
  },
  {
   "cell_type": "code",
   "execution_count": 36,
   "id": "13144e0c",
   "metadata": {},
   "outputs": [
    {
     "name": "stdout",
     "output_type": "stream",
     "text": [
      "arg=quux\n"
     ]
    }
   ],
   "source": [
    "mod.foo('quux')"
   ]
  },
  {
   "cell_type": "markdown",
   "id": "6f202e49",
   "metadata": {},
   "source": [
    "<b>from</b> module_name <b>import</b> name(s)\n",
    "\n",
    "Setelah menjalankan pernyataan di atas, <b>name(s)</b> dapat dirujuk di environment pemanggil tanpa awal <b>module_name</b>"
   ]
  },
  {
   "cell_type": "code",
   "execution_count": 38,
   "id": "aceb5d44",
   "metadata": {},
   "outputs": [
    {
     "data": {
      "text/plain": [
       "'Hello, my name is Heylen.'"
      ]
     },
     "execution_count": 38,
     "metadata": {},
     "output_type": "execute_result"
    }
   ],
   "source": [
    "from mod import s, foo\n",
    "s"
   ]
  },
  {
   "cell_type": "code",
   "execution_count": 39,
   "id": "28997d53",
   "metadata": {},
   "outputs": [
    {
     "name": "stdout",
     "output_type": "stream",
     "text": [
      "arg=quux\n"
     ]
    }
   ],
   "source": [
    "foo('quux')"
   ]
  },
  {
   "cell_type": "code",
   "execution_count": 40,
   "id": "959706e2",
   "metadata": {},
   "outputs": [
    {
     "data": {
      "text/plain": [
       "<mod.Foo at 0x1a180703e20>"
      ]
     },
     "execution_count": 40,
     "metadata": {},
     "output_type": "execute_result"
    }
   ],
   "source": [
    "from mod import Foo\n",
    "x = Foo()\n",
    "x"
   ]
  },
  {
   "cell_type": "markdown",
   "id": "9969f4db",
   "metadata": {},
   "source": [
    "Karena bentuk import ini menempatkan nama objek langsung ke tabel simbol pemanggil, objek apapun yang sudah ada dengan nama yang sama akan ditimpa:"
   ]
  },
  {
   "cell_type": "code",
   "execution_count": 41,
   "id": "6a261339",
   "metadata": {},
   "outputs": [
    {
     "data": {
      "text/plain": [
       "['foo', 'bar', 'baz']"
      ]
     },
     "execution_count": 41,
     "metadata": {},
     "output_type": "execute_result"
    }
   ],
   "source": [
    "a = ['foo', 'bar', 'baz']\n",
    "a"
   ]
  },
  {
   "cell_type": "code",
   "execution_count": 42,
   "id": "1b544b9c",
   "metadata": {},
   "outputs": [
    {
     "data": {
      "text/plain": [
       "[10, 20, 30]"
      ]
     },
     "execution_count": 42,
     "metadata": {},
     "output_type": "execute_result"
    }
   ],
   "source": [
    "from mod import a\n",
    "a"
   ]
  },
  {
   "cell_type": "markdown",
   "id": "8ad5c4c3",
   "metadata": {},
   "source": [
    "<b>from</b> module_name <b>import</b> *\n",
    "\n",
    "Hal ini akan menempatkan nama semua objek dari <b>module_name</b> ke dalam tabel simbol lokal, dengan pengecualian yang dimulai dengan karakter garis bawah(_)."
   ]
  },
  {
   "cell_type": "code",
   "execution_count": 43,
   "id": "aefa22e3",
   "metadata": {},
   "outputs": [
    {
     "data": {
      "text/plain": [
       "'Hello, my name is Heylen.'"
      ]
     },
     "execution_count": 43,
     "metadata": {},
     "output_type": "execute_result"
    }
   ],
   "source": [
    "from mod import *\n",
    "s"
   ]
  },
  {
   "cell_type": "code",
   "execution_count": 44,
   "id": "a6687a8e",
   "metadata": {},
   "outputs": [
    {
     "data": {
      "text/plain": [
       "[10, 20, 30]"
      ]
     },
     "execution_count": 44,
     "metadata": {},
     "output_type": "execute_result"
    }
   ],
   "source": [
    "a"
   ]
  },
  {
   "cell_type": "code",
   "execution_count": 45,
   "id": "7e8620a9",
   "metadata": {},
   "outputs": [
    {
     "data": {
      "text/plain": [
       "<function mod.foo(arg)>"
      ]
     },
     "execution_count": 45,
     "metadata": {},
     "output_type": "execute_result"
    }
   ],
   "source": [
    "foo"
   ]
  },
  {
   "cell_type": "code",
   "execution_count": 46,
   "id": "86a3d9c6",
   "metadata": {},
   "outputs": [
    {
     "data": {
      "text/plain": [
       "mod.Foo"
      ]
     },
     "execution_count": 46,
     "metadata": {},
     "output_type": "execute_result"
    }
   ],
   "source": [
    "Foo"
   ]
  },
  {
   "cell_type": "markdown",
   "id": "8f340da0",
   "metadata": {},
   "source": [
    "Ini tidak selalu direkomendasikan dalam kodel produksi skala besar. Dan sedikit berbahaya karena kalian memasukan nama ke tabel simbol lokal secara massal. Kecuali jika kalian mengenal objek kalian semua dengan baik dan yakin tidak akan ada konflik, kalian memiliki peluang yang cukup besar untuk menimpa nama yang sudah ada secara tidak sengaja. Namun, sintaksis ini cukup berguna ketia Anda hanya menggunakan interpreter interaktif, untuk tujuan pengujian atau discovery, karena sintaks ini dengan cepat memberi kalian akses ke semua yang ditawarkan modul tanpa banyak mengetik.\n",
    "\n",
    "<b>from</b> module_name <b>import</b> name <b>as</b> alt_name\n",
    "\n",
    "Hal ini memungkinkan untuk menempatkan nama secara langsung ke tabel simbol lokal tetapi menghindari konflik dengan nama yang sudah ada sebelumnya"
   ]
  },
  {
   "cell_type": "code",
   "execution_count": 47,
   "id": "c8df4cbd",
   "metadata": {},
   "outputs": [
    {
     "data": {
      "text/plain": [
       "'foo'"
      ]
     },
     "execution_count": 47,
     "metadata": {},
     "output_type": "execute_result"
    }
   ],
   "source": [
    "s = 'foo'\n",
    "a = ['foo', 'bar', 'baz']\n",
    "\n",
    "from mod import s as string, a as alist\n",
    "s"
   ]
  },
  {
   "cell_type": "code",
   "execution_count": 48,
   "id": "e86f4cc0",
   "metadata": {},
   "outputs": [
    {
     "data": {
      "text/plain": [
       "'Hello, my name is Heylen.'"
      ]
     },
     "execution_count": 48,
     "metadata": {},
     "output_type": "execute_result"
    }
   ],
   "source": [
    "string"
   ]
  },
  {
   "cell_type": "code",
   "execution_count": 49,
   "id": "c6b4a353",
   "metadata": {},
   "outputs": [
    {
     "data": {
      "text/plain": [
       "['foo', 'bar', 'baz']"
      ]
     },
     "execution_count": 49,
     "metadata": {},
     "output_type": "execute_result"
    }
   ],
   "source": [
    "a"
   ]
  },
  {
   "cell_type": "code",
   "execution_count": 50,
   "id": "0f706f7a",
   "metadata": {},
   "outputs": [
    {
     "data": {
      "text/plain": [
       "[10, 20, 30]"
      ]
     },
     "execution_count": 50,
     "metadata": {},
     "output_type": "execute_result"
    }
   ],
   "source": [
    "alist"
   ]
  },
  {
   "cell_type": "markdown",
   "id": "d815f49a",
   "metadata": {},
   "source": [
    "<b>import</b> module_name <b>as</b> alt_name\n",
    "\n",
    "Untuk mengimpor seluruh modul dengan nama alternatif"
   ]
  },
  {
   "cell_type": "code",
   "execution_count": 55,
   "id": "bac71557",
   "metadata": {},
   "outputs": [
    {
     "data": {
      "text/plain": [
       "[10, 20, 30]"
      ]
     },
     "execution_count": 55,
     "metadata": {},
     "output_type": "execute_result"
    }
   ],
   "source": [
    "import mod as my_module\n",
    "my_module.a"
   ]
  },
  {
   "cell_type": "code",
   "execution_count": 56,
   "id": "9696158f",
   "metadata": {},
   "outputs": [
    {
     "name": "stdout",
     "output_type": "stream",
     "text": [
      "arg=quux\n"
     ]
    }
   ],
   "source": [
    "my_module.foo('quux')"
   ]
  },
  {
   "cell_type": "markdown",
   "id": "535b00b3",
   "metadata": {},
   "source": [
    "Isi modul dapat diimpor dari dalam definisi fungsi. Dalam hal ini, import tidak akan terjadi hingga fungsinya dipanggil:"
   ]
  },
  {
   "cell_type": "code",
   "execution_count": 58,
   "id": "5be768d8",
   "metadata": {},
   "outputs": [
    {
     "name": "stdout",
     "output_type": "stream",
     "text": [
      "arg=corge\n"
     ]
    }
   ],
   "source": [
    "def bar():\n",
    "    from mod import foo\n",
    "    foo('corge')\n",
    "    \n",
    "bar()"
   ]
  },
  {
   "cell_type": "markdown",
   "id": "bb119ac7",
   "metadata": {},
   "source": [
    "Namun, Python3 tidak mengizinkan sintaks <b>import *</b> secara sembarangan dari dalam suatu fungsi."
   ]
  },
  {
   "cell_type": "code",
   "execution_count": 60,
   "id": "49a6ec17",
   "metadata": {},
   "outputs": [
    {
     "ename": "SyntaxError",
     "evalue": "import * only allowed at module level (Temp/ipykernel_19300/4207748478.py, line 1)",
     "output_type": "error",
     "traceback": [
      "\u001b[1;36m  File \u001b[1;32m\"C:\\Users\\Lenovo\\AppData\\Local\\Temp/ipykernel_19300/4207748478.py\"\u001b[1;36m, line \u001b[1;32m1\u001b[0m\n\u001b[1;33m    def bar():\u001b[0m\n\u001b[1;37m    ^\u001b[0m\n\u001b[1;31mSyntaxError\u001b[0m\u001b[1;31m:\u001b[0m import * only allowed at module level\n"
     ]
    }
   ],
   "source": [
    "def bar():\n",
    "    from mod import *\n",
    "\n",
    "bar()"
   ]
  },
  {
   "cell_type": "markdown",
   "id": "e8629b9b",
   "metadata": {},
   "source": [
    "Terakhir, <b>try statement</b> dengan klausa <b>expect ImportError</b> dapat digunakan untuk melindungi dari upaya import yang gagal."
   ]
  },
  {
   "cell_type": "code",
   "execution_count": 62,
   "id": "ad4f1896",
   "metadata": {
    "scrolled": true
   },
   "outputs": [
    {
     "name": "stdout",
     "output_type": "stream",
     "text": [
      "Module not found\n"
     ]
    }
   ],
   "source": [
    "try:\n",
    "    # Non-existent module\n",
    "    import baz\n",
    "except ImportError:\n",
    "    print('Module not found')"
   ]
  },
  {
   "cell_type": "code",
   "execution_count": 64,
   "id": "86c975ce",
   "metadata": {},
   "outputs": [
    {
     "name": "stdout",
     "output_type": "stream",
     "text": [
      "Object not found in module\n"
     ]
    }
   ],
   "source": [
    "try:\n",
    "    # Existing module,  but non-existent object\n",
    "    from mod import baz\n",
    "except ImportError:\n",
    "    print('Object not found in module')"
   ]
  },
  {
   "cell_type": "markdown",
   "id": "da78db23",
   "metadata": {},
   "source": [
    "# The dir() Function\n",
    "\n",
    "Fungsi <b>built-in dir()</b> mengembalikan daftar nama yang ditentukan dalam namespace. Tanpa argumen, dir() menghasilkan daftar nama yang diurutkan menurut abjad dalam tabel simbol lokal saat ini."
   ]
  },
  {
   "cell_type": "code",
   "execution_count": 65,
   "id": "09f7ec94",
   "metadata": {},
   "outputs": [
    {
     "data": {
      "text/plain": [
       "['Foo',\n",
       " 'In',\n",
       " 'Out',\n",
       " '_',\n",
       " '_20',\n",
       " '_22',\n",
       " '_23',\n",
       " '_25',\n",
       " '_27',\n",
       " '_28',\n",
       " '_29',\n",
       " '_30',\n",
       " '_31',\n",
       " '_32',\n",
       " '_33',\n",
       " '_35',\n",
       " '_37',\n",
       " '_38',\n",
       " '_40',\n",
       " '_41',\n",
       " '_42',\n",
       " '_43',\n",
       " '_44',\n",
       " '_45',\n",
       " '_46',\n",
       " '_47',\n",
       " '_48',\n",
       " '_49',\n",
       " '_50',\n",
       " '_54',\n",
       " '_55',\n",
       " '_7',\n",
       " '__',\n",
       " '___',\n",
       " '__builtin__',\n",
       " '__builtins__',\n",
       " '__doc__',\n",
       " '__loader__',\n",
       " '__name__',\n",
       " '__package__',\n",
       " '__spec__',\n",
       " '_dh',\n",
       " '_i',\n",
       " '_i1',\n",
       " '_i10',\n",
       " '_i11',\n",
       " '_i12',\n",
       " '_i13',\n",
       " '_i14',\n",
       " '_i15',\n",
       " '_i16',\n",
       " '_i17',\n",
       " '_i18',\n",
       " '_i19',\n",
       " '_i2',\n",
       " '_i20',\n",
       " '_i21',\n",
       " '_i22',\n",
       " '_i23',\n",
       " '_i24',\n",
       " '_i25',\n",
       " '_i26',\n",
       " '_i27',\n",
       " '_i28',\n",
       " '_i29',\n",
       " '_i3',\n",
       " '_i30',\n",
       " '_i31',\n",
       " '_i32',\n",
       " '_i33',\n",
       " '_i34',\n",
       " '_i35',\n",
       " '_i36',\n",
       " '_i37',\n",
       " '_i38',\n",
       " '_i39',\n",
       " '_i4',\n",
       " '_i40',\n",
       " '_i41',\n",
       " '_i42',\n",
       " '_i43',\n",
       " '_i44',\n",
       " '_i45',\n",
       " '_i46',\n",
       " '_i47',\n",
       " '_i48',\n",
       " '_i49',\n",
       " '_i5',\n",
       " '_i50',\n",
       " '_i51',\n",
       " '_i52',\n",
       " '_i53',\n",
       " '_i54',\n",
       " '_i55',\n",
       " '_i56',\n",
       " '_i57',\n",
       " '_i58',\n",
       " '_i59',\n",
       " '_i6',\n",
       " '_i60',\n",
       " '_i61',\n",
       " '_i62',\n",
       " '_i63',\n",
       " '_i64',\n",
       " '_i65',\n",
       " '_i7',\n",
       " '_i8',\n",
       " '_i9',\n",
       " '_ih',\n",
       " '_ii',\n",
       " '_iii',\n",
       " '_oh',\n",
       " 'a',\n",
       " 'alist',\n",
       " 'bar',\n",
       " 'changeme',\n",
       " 'exit',\n",
       " 'foo',\n",
       " 'function_name',\n",
       " 'get_ipython',\n",
       " 'jumlahHewan',\n",
       " 'jumlahKelinci',\n",
       " 'jumlahKucing',\n",
       " 'mod',\n",
       " 'my_function',\n",
       " 'my_module',\n",
       " 'mylist',\n",
       " 'printbio',\n",
       " 'printinfo',\n",
       " 'printme',\n",
       " 'quit',\n",
       " 're',\n",
       " 's',\n",
       " 'str',\n",
       " 'string',\n",
       " 'sum',\n",
       " 'sys',\n",
       " 'total',\n",
       " 'total2',\n",
       " 'x']"
      ]
     },
     "execution_count": 65,
     "metadata": {},
     "output_type": "execute_result"
    }
   ],
   "source": [
    "dir()"
   ]
  },
  {
   "cell_type": "code",
   "execution_count": 66,
   "id": "6e6b4e61",
   "metadata": {},
   "outputs": [
    {
     "data": {
      "text/plain": [
       "['Foo',\n",
       " 'In',\n",
       " 'Out',\n",
       " '_',\n",
       " '_20',\n",
       " '_22',\n",
       " '_23',\n",
       " '_25',\n",
       " '_27',\n",
       " '_28',\n",
       " '_29',\n",
       " '_30',\n",
       " '_31',\n",
       " '_32',\n",
       " '_33',\n",
       " '_35',\n",
       " '_37',\n",
       " '_38',\n",
       " '_40',\n",
       " '_41',\n",
       " '_42',\n",
       " '_43',\n",
       " '_44',\n",
       " '_45',\n",
       " '_46',\n",
       " '_47',\n",
       " '_48',\n",
       " '_49',\n",
       " '_50',\n",
       " '_54',\n",
       " '_55',\n",
       " '_65',\n",
       " '_7',\n",
       " '__',\n",
       " '___',\n",
       " '__builtin__',\n",
       " '__builtins__',\n",
       " '__doc__',\n",
       " '__loader__',\n",
       " '__name__',\n",
       " '__package__',\n",
       " '__spec__',\n",
       " '_dh',\n",
       " '_i',\n",
       " '_i1',\n",
       " '_i10',\n",
       " '_i11',\n",
       " '_i12',\n",
       " '_i13',\n",
       " '_i14',\n",
       " '_i15',\n",
       " '_i16',\n",
       " '_i17',\n",
       " '_i18',\n",
       " '_i19',\n",
       " '_i2',\n",
       " '_i20',\n",
       " '_i21',\n",
       " '_i22',\n",
       " '_i23',\n",
       " '_i24',\n",
       " '_i25',\n",
       " '_i26',\n",
       " '_i27',\n",
       " '_i28',\n",
       " '_i29',\n",
       " '_i3',\n",
       " '_i30',\n",
       " '_i31',\n",
       " '_i32',\n",
       " '_i33',\n",
       " '_i34',\n",
       " '_i35',\n",
       " '_i36',\n",
       " '_i37',\n",
       " '_i38',\n",
       " '_i39',\n",
       " '_i4',\n",
       " '_i40',\n",
       " '_i41',\n",
       " '_i42',\n",
       " '_i43',\n",
       " '_i44',\n",
       " '_i45',\n",
       " '_i46',\n",
       " '_i47',\n",
       " '_i48',\n",
       " '_i49',\n",
       " '_i5',\n",
       " '_i50',\n",
       " '_i51',\n",
       " '_i52',\n",
       " '_i53',\n",
       " '_i54',\n",
       " '_i55',\n",
       " '_i56',\n",
       " '_i57',\n",
       " '_i58',\n",
       " '_i59',\n",
       " '_i6',\n",
       " '_i60',\n",
       " '_i61',\n",
       " '_i62',\n",
       " '_i63',\n",
       " '_i64',\n",
       " '_i65',\n",
       " '_i66',\n",
       " '_i7',\n",
       " '_i8',\n",
       " '_i9',\n",
       " '_ih',\n",
       " '_ii',\n",
       " '_iii',\n",
       " '_oh',\n",
       " 'a',\n",
       " 'alist',\n",
       " 'bar',\n",
       " 'changeme',\n",
       " 'exit',\n",
       " 'foo',\n",
       " 'function_name',\n",
       " 'get_ipython',\n",
       " 'jumlahHewan',\n",
       " 'jumlahKelinci',\n",
       " 'jumlahKucing',\n",
       " 'mod',\n",
       " 'my_function',\n",
       " 'my_module',\n",
       " 'mylist',\n",
       " 'printbio',\n",
       " 'printinfo',\n",
       " 'printme',\n",
       " 'quit',\n",
       " 'qux',\n",
       " 're',\n",
       " 's',\n",
       " 'str',\n",
       " 'string',\n",
       " 'sum',\n",
       " 'sys',\n",
       " 'total',\n",
       " 'total2',\n",
       " 'x']"
      ]
     },
     "execution_count": 66,
     "metadata": {},
     "output_type": "execute_result"
    }
   ],
   "source": [
    "qux = [1,2,3,4,5]\n",
    "dir()"
   ]
  },
  {
   "cell_type": "code",
   "execution_count": 67,
   "id": "d1bb27a8",
   "metadata": {},
   "outputs": [
    {
     "data": {
      "text/plain": [
       "['Bar',\n",
       " 'Foo',\n",
       " 'In',\n",
       " 'Out',\n",
       " '_',\n",
       " '_20',\n",
       " '_22',\n",
       " '_23',\n",
       " '_25',\n",
       " '_27',\n",
       " '_28',\n",
       " '_29',\n",
       " '_30',\n",
       " '_31',\n",
       " '_32',\n",
       " '_33',\n",
       " '_35',\n",
       " '_37',\n",
       " '_38',\n",
       " '_40',\n",
       " '_41',\n",
       " '_42',\n",
       " '_43',\n",
       " '_44',\n",
       " '_45',\n",
       " '_46',\n",
       " '_47',\n",
       " '_48',\n",
       " '_49',\n",
       " '_50',\n",
       " '_54',\n",
       " '_55',\n",
       " '_65',\n",
       " '_66',\n",
       " '_7',\n",
       " '__',\n",
       " '___',\n",
       " '__builtin__',\n",
       " '__builtins__',\n",
       " '__doc__',\n",
       " '__loader__',\n",
       " '__name__',\n",
       " '__package__',\n",
       " '__spec__',\n",
       " '_dh',\n",
       " '_i',\n",
       " '_i1',\n",
       " '_i10',\n",
       " '_i11',\n",
       " '_i12',\n",
       " '_i13',\n",
       " '_i14',\n",
       " '_i15',\n",
       " '_i16',\n",
       " '_i17',\n",
       " '_i18',\n",
       " '_i19',\n",
       " '_i2',\n",
       " '_i20',\n",
       " '_i21',\n",
       " '_i22',\n",
       " '_i23',\n",
       " '_i24',\n",
       " '_i25',\n",
       " '_i26',\n",
       " '_i27',\n",
       " '_i28',\n",
       " '_i29',\n",
       " '_i3',\n",
       " '_i30',\n",
       " '_i31',\n",
       " '_i32',\n",
       " '_i33',\n",
       " '_i34',\n",
       " '_i35',\n",
       " '_i36',\n",
       " '_i37',\n",
       " '_i38',\n",
       " '_i39',\n",
       " '_i4',\n",
       " '_i40',\n",
       " '_i41',\n",
       " '_i42',\n",
       " '_i43',\n",
       " '_i44',\n",
       " '_i45',\n",
       " '_i46',\n",
       " '_i47',\n",
       " '_i48',\n",
       " '_i49',\n",
       " '_i5',\n",
       " '_i50',\n",
       " '_i51',\n",
       " '_i52',\n",
       " '_i53',\n",
       " '_i54',\n",
       " '_i55',\n",
       " '_i56',\n",
       " '_i57',\n",
       " '_i58',\n",
       " '_i59',\n",
       " '_i6',\n",
       " '_i60',\n",
       " '_i61',\n",
       " '_i62',\n",
       " '_i63',\n",
       " '_i64',\n",
       " '_i65',\n",
       " '_i66',\n",
       " '_i67',\n",
       " '_i7',\n",
       " '_i8',\n",
       " '_i9',\n",
       " '_ih',\n",
       " '_ii',\n",
       " '_iii',\n",
       " '_oh',\n",
       " 'a',\n",
       " 'alist',\n",
       " 'bar',\n",
       " 'changeme',\n",
       " 'exit',\n",
       " 'foo',\n",
       " 'function_name',\n",
       " 'get_ipython',\n",
       " 'jumlahHewan',\n",
       " 'jumlahKelinci',\n",
       " 'jumlahKucing',\n",
       " 'mod',\n",
       " 'my_function',\n",
       " 'my_module',\n",
       " 'mylist',\n",
       " 'printbio',\n",
       " 'printinfo',\n",
       " 'printme',\n",
       " 'quit',\n",
       " 'qux',\n",
       " 're',\n",
       " 's',\n",
       " 'str',\n",
       " 'string',\n",
       " 'sum',\n",
       " 'sys',\n",
       " 'total',\n",
       " 'total2',\n",
       " 'x']"
      ]
     },
     "execution_count": 67,
     "metadata": {},
     "output_type": "execute_result"
    }
   ],
   "source": [
    "class Bar():\n",
    "    pass\n",
    "\n",
    "x = Bar()\n",
    "dir()"
   ]
  },
  {
   "cell_type": "code",
   "execution_count": null,
   "id": "89860e52",
   "metadata": {},
   "outputs": [],
   "source": []
  },
  {
   "cell_type": "code",
   "execution_count": 68,
   "id": "c64c2eac",
   "metadata": {},
   "outputs": [
    {
     "data": {
      "text/plain": [
       "['Bar',\n",
       " 'Foo',\n",
       " 'In',\n",
       " 'Out',\n",
       " '_',\n",
       " '_20',\n",
       " '_22',\n",
       " '_23',\n",
       " '_25',\n",
       " '_27',\n",
       " '_28',\n",
       " '_29',\n",
       " '_30',\n",
       " '_31',\n",
       " '_32',\n",
       " '_33',\n",
       " '_35',\n",
       " '_37',\n",
       " '_38',\n",
       " '_40',\n",
       " '_41',\n",
       " '_42',\n",
       " '_43',\n",
       " '_44',\n",
       " '_45',\n",
       " '_46',\n",
       " '_47',\n",
       " '_48',\n",
       " '_49',\n",
       " '_50',\n",
       " '_54',\n",
       " '_55',\n",
       " '_65',\n",
       " '_66',\n",
       " '_67',\n",
       " '_7',\n",
       " '__',\n",
       " '___',\n",
       " '__builtin__',\n",
       " '__builtins__',\n",
       " '__doc__',\n",
       " '__loader__',\n",
       " '__name__',\n",
       " '__package__',\n",
       " '__spec__',\n",
       " '_dh',\n",
       " '_i',\n",
       " '_i1',\n",
       " '_i10',\n",
       " '_i11',\n",
       " '_i12',\n",
       " '_i13',\n",
       " '_i14',\n",
       " '_i15',\n",
       " '_i16',\n",
       " '_i17',\n",
       " '_i18',\n",
       " '_i19',\n",
       " '_i2',\n",
       " '_i20',\n",
       " '_i21',\n",
       " '_i22',\n",
       " '_i23',\n",
       " '_i24',\n",
       " '_i25',\n",
       " '_i26',\n",
       " '_i27',\n",
       " '_i28',\n",
       " '_i29',\n",
       " '_i3',\n",
       " '_i30',\n",
       " '_i31',\n",
       " '_i32',\n",
       " '_i33',\n",
       " '_i34',\n",
       " '_i35',\n",
       " '_i36',\n",
       " '_i37',\n",
       " '_i38',\n",
       " '_i39',\n",
       " '_i4',\n",
       " '_i40',\n",
       " '_i41',\n",
       " '_i42',\n",
       " '_i43',\n",
       " '_i44',\n",
       " '_i45',\n",
       " '_i46',\n",
       " '_i47',\n",
       " '_i48',\n",
       " '_i49',\n",
       " '_i5',\n",
       " '_i50',\n",
       " '_i51',\n",
       " '_i52',\n",
       " '_i53',\n",
       " '_i54',\n",
       " '_i55',\n",
       " '_i56',\n",
       " '_i57',\n",
       " '_i58',\n",
       " '_i59',\n",
       " '_i6',\n",
       " '_i60',\n",
       " '_i61',\n",
       " '_i62',\n",
       " '_i63',\n",
       " '_i64',\n",
       " '_i65',\n",
       " '_i66',\n",
       " '_i67',\n",
       " '_i68',\n",
       " '_i7',\n",
       " '_i8',\n",
       " '_i9',\n",
       " '_ih',\n",
       " '_ii',\n",
       " '_iii',\n",
       " '_oh',\n",
       " 'a',\n",
       " 'alist',\n",
       " 'bar',\n",
       " 'changeme',\n",
       " 'exit',\n",
       " 'foo',\n",
       " 'function_name',\n",
       " 'get_ipython',\n",
       " 'jumlahHewan',\n",
       " 'jumlahKelinci',\n",
       " 'jumlahKucing',\n",
       " 'mod',\n",
       " 'my_function',\n",
       " 'my_module',\n",
       " 'mylist',\n",
       " 'printbio',\n",
       " 'printinfo',\n",
       " 'printme',\n",
       " 'quit',\n",
       " 'qux',\n",
       " 're',\n",
       " 's',\n",
       " 'str',\n",
       " 'string',\n",
       " 'sum',\n",
       " 'sys',\n",
       " 'total',\n",
       " 'total2',\n",
       " 'x']"
      ]
     },
     "execution_count": 68,
     "metadata": {},
     "output_type": "execute_result"
    }
   ],
   "source": [
    "dir()"
   ]
  },
  {
   "cell_type": "code",
   "execution_count": 69,
   "id": "37f7a76f",
   "metadata": {},
   "outputs": [
    {
     "data": {
      "text/plain": [
       "['Bar',\n",
       " 'Foo',\n",
       " 'In',\n",
       " 'Out',\n",
       " '_',\n",
       " '_20',\n",
       " '_22',\n",
       " '_23',\n",
       " '_25',\n",
       " '_27',\n",
       " '_28',\n",
       " '_29',\n",
       " '_30',\n",
       " '_31',\n",
       " '_32',\n",
       " '_33',\n",
       " '_35',\n",
       " '_37',\n",
       " '_38',\n",
       " '_40',\n",
       " '_41',\n",
       " '_42',\n",
       " '_43',\n",
       " '_44',\n",
       " '_45',\n",
       " '_46',\n",
       " '_47',\n",
       " '_48',\n",
       " '_49',\n",
       " '_50',\n",
       " '_54',\n",
       " '_55',\n",
       " '_65',\n",
       " '_66',\n",
       " '_67',\n",
       " '_68',\n",
       " '_7',\n",
       " '__',\n",
       " '___',\n",
       " '__builtin__',\n",
       " '__builtins__',\n",
       " '__doc__',\n",
       " '__loader__',\n",
       " '__name__',\n",
       " '__package__',\n",
       " '__spec__',\n",
       " '_dh',\n",
       " '_i',\n",
       " '_i1',\n",
       " '_i10',\n",
       " '_i11',\n",
       " '_i12',\n",
       " '_i13',\n",
       " '_i14',\n",
       " '_i15',\n",
       " '_i16',\n",
       " '_i17',\n",
       " '_i18',\n",
       " '_i19',\n",
       " '_i2',\n",
       " '_i20',\n",
       " '_i21',\n",
       " '_i22',\n",
       " '_i23',\n",
       " '_i24',\n",
       " '_i25',\n",
       " '_i26',\n",
       " '_i27',\n",
       " '_i28',\n",
       " '_i29',\n",
       " '_i3',\n",
       " '_i30',\n",
       " '_i31',\n",
       " '_i32',\n",
       " '_i33',\n",
       " '_i34',\n",
       " '_i35',\n",
       " '_i36',\n",
       " '_i37',\n",
       " '_i38',\n",
       " '_i39',\n",
       " '_i4',\n",
       " '_i40',\n",
       " '_i41',\n",
       " '_i42',\n",
       " '_i43',\n",
       " '_i44',\n",
       " '_i45',\n",
       " '_i46',\n",
       " '_i47',\n",
       " '_i48',\n",
       " '_i49',\n",
       " '_i5',\n",
       " '_i50',\n",
       " '_i51',\n",
       " '_i52',\n",
       " '_i53',\n",
       " '_i54',\n",
       " '_i55',\n",
       " '_i56',\n",
       " '_i57',\n",
       " '_i58',\n",
       " '_i59',\n",
       " '_i6',\n",
       " '_i60',\n",
       " '_i61',\n",
       " '_i62',\n",
       " '_i63',\n",
       " '_i64',\n",
       " '_i65',\n",
       " '_i66',\n",
       " '_i67',\n",
       " '_i68',\n",
       " '_i69',\n",
       " '_i7',\n",
       " '_i8',\n",
       " '_i9',\n",
       " '_ih',\n",
       " '_ii',\n",
       " '_iii',\n",
       " '_oh',\n",
       " 'a',\n",
       " 'alist',\n",
       " 'bar',\n",
       " 'changeme',\n",
       " 'exit',\n",
       " 'foo',\n",
       " 'function_name',\n",
       " 'get_ipython',\n",
       " 'jumlahHewan',\n",
       " 'jumlahKelinci',\n",
       " 'jumlahKucing',\n",
       " 'mod',\n",
       " 'my_function',\n",
       " 'my_module',\n",
       " 'mylist',\n",
       " 'printbio',\n",
       " 'printinfo',\n",
       " 'printme',\n",
       " 'quit',\n",
       " 'qux',\n",
       " 're',\n",
       " 's',\n",
       " 'str',\n",
       " 'string',\n",
       " 'sum',\n",
       " 'sys',\n",
       " 'total',\n",
       " 'total2',\n",
       " 'x']"
      ]
     },
     "execution_count": 69,
     "metadata": {},
     "output_type": "execute_result"
    }
   ],
   "source": [
    "import mod\n",
    "dir()"
   ]
  },
  {
   "cell_type": "code",
   "execution_count": 70,
   "id": "e76d74ec",
   "metadata": {},
   "outputs": [
    {
     "data": {
      "text/plain": [
       "'Hello, my name is Heylen.'"
      ]
     },
     "execution_count": 70,
     "metadata": {},
     "output_type": "execute_result"
    }
   ],
   "source": [
    "mod.s"
   ]
  },
  {
   "cell_type": "code",
   "execution_count": 71,
   "id": "734742ea",
   "metadata": {},
   "outputs": [
    {
     "name": "stdout",
     "output_type": "stream",
     "text": [
      "arg=[1, 2, 3]\n"
     ]
    }
   ],
   "source": [
    "mod.foo([1,2,3])"
   ]
  },
  {
   "cell_type": "code",
   "execution_count": 72,
   "id": "d0fb97dc",
   "metadata": {},
   "outputs": [
    {
     "data": {
      "text/plain": [
       "['Bar',\n",
       " 'Foo',\n",
       " 'In',\n",
       " 'Out',\n",
       " '_',\n",
       " '_20',\n",
       " '_22',\n",
       " '_23',\n",
       " '_25',\n",
       " '_27',\n",
       " '_28',\n",
       " '_29',\n",
       " '_30',\n",
       " '_31',\n",
       " '_32',\n",
       " '_33',\n",
       " '_35',\n",
       " '_37',\n",
       " '_38',\n",
       " '_40',\n",
       " '_41',\n",
       " '_42',\n",
       " '_43',\n",
       " '_44',\n",
       " '_45',\n",
       " '_46',\n",
       " '_47',\n",
       " '_48',\n",
       " '_49',\n",
       " '_50',\n",
       " '_54',\n",
       " '_55',\n",
       " '_65',\n",
       " '_66',\n",
       " '_67',\n",
       " '_68',\n",
       " '_69',\n",
       " '_7',\n",
       " '_70',\n",
       " '__',\n",
       " '___',\n",
       " '__builtin__',\n",
       " '__builtins__',\n",
       " '__doc__',\n",
       " '__loader__',\n",
       " '__name__',\n",
       " '__package__',\n",
       " '__spec__',\n",
       " '_dh',\n",
       " '_i',\n",
       " '_i1',\n",
       " '_i10',\n",
       " '_i11',\n",
       " '_i12',\n",
       " '_i13',\n",
       " '_i14',\n",
       " '_i15',\n",
       " '_i16',\n",
       " '_i17',\n",
       " '_i18',\n",
       " '_i19',\n",
       " '_i2',\n",
       " '_i20',\n",
       " '_i21',\n",
       " '_i22',\n",
       " '_i23',\n",
       " '_i24',\n",
       " '_i25',\n",
       " '_i26',\n",
       " '_i27',\n",
       " '_i28',\n",
       " '_i29',\n",
       " '_i3',\n",
       " '_i30',\n",
       " '_i31',\n",
       " '_i32',\n",
       " '_i33',\n",
       " '_i34',\n",
       " '_i35',\n",
       " '_i36',\n",
       " '_i37',\n",
       " '_i38',\n",
       " '_i39',\n",
       " '_i4',\n",
       " '_i40',\n",
       " '_i41',\n",
       " '_i42',\n",
       " '_i43',\n",
       " '_i44',\n",
       " '_i45',\n",
       " '_i46',\n",
       " '_i47',\n",
       " '_i48',\n",
       " '_i49',\n",
       " '_i5',\n",
       " '_i50',\n",
       " '_i51',\n",
       " '_i52',\n",
       " '_i53',\n",
       " '_i54',\n",
       " '_i55',\n",
       " '_i56',\n",
       " '_i57',\n",
       " '_i58',\n",
       " '_i59',\n",
       " '_i6',\n",
       " '_i60',\n",
       " '_i61',\n",
       " '_i62',\n",
       " '_i63',\n",
       " '_i64',\n",
       " '_i65',\n",
       " '_i66',\n",
       " '_i67',\n",
       " '_i68',\n",
       " '_i69',\n",
       " '_i7',\n",
       " '_i70',\n",
       " '_i71',\n",
       " '_i72',\n",
       " '_i8',\n",
       " '_i9',\n",
       " '_ih',\n",
       " '_ii',\n",
       " '_iii',\n",
       " '_oh',\n",
       " 'a',\n",
       " 'alist',\n",
       " 'bar',\n",
       " 'changeme',\n",
       " 'exit',\n",
       " 'foo',\n",
       " 'function_name',\n",
       " 'get_ipython',\n",
       " 'jumlahHewan',\n",
       " 'jumlahKelinci',\n",
       " 'jumlahKucing',\n",
       " 'mod',\n",
       " 'my_function',\n",
       " 'my_module',\n",
       " 'mylist',\n",
       " 'printbio',\n",
       " 'printinfo',\n",
       " 'printme',\n",
       " 'quit',\n",
       " 'qux',\n",
       " 're',\n",
       " 's',\n",
       " 'str',\n",
       " 'string',\n",
       " 'sum',\n",
       " 'sys',\n",
       " 'total',\n",
       " 'total2',\n",
       " 'x']"
      ]
     },
     "execution_count": 72,
     "metadata": {},
     "output_type": "execute_result"
    }
   ],
   "source": [
    "from mod import s as string\n",
    "dir()"
   ]
  },
  {
   "cell_type": "code",
   "execution_count": 73,
   "id": "79c4d9ee",
   "metadata": {},
   "outputs": [
    {
     "data": {
      "text/plain": [
       "'Hello, my name is Heylen.'"
      ]
     },
     "execution_count": 73,
     "metadata": {},
     "output_type": "execute_result"
    }
   ],
   "source": [
    "string"
   ]
  },
  {
   "cell_type": "code",
   "execution_count": null,
   "id": "5fbcf9a8",
   "metadata": {},
   "outputs": [],
   "source": []
  },
  {
   "cell_type": "code",
   "execution_count": 74,
   "id": "6ae7abfc",
   "metadata": {},
   "outputs": [
    {
     "data": {
      "text/plain": [
       "['Foo',\n",
       " '__builtins__',\n",
       " '__cached__',\n",
       " '__doc__',\n",
       " '__file__',\n",
       " '__loader__',\n",
       " '__name__',\n",
       " '__package__',\n",
       " '__spec__',\n",
       " 'a',\n",
       " 'foo',\n",
       " 's']"
      ]
     },
     "execution_count": 74,
     "metadata": {},
     "output_type": "execute_result"
    }
   ],
   "source": [
    "import mod\n",
    "dir(mod)"
   ]
  },
  {
   "cell_type": "code",
   "execution_count": 75,
   "id": "21fcf676",
   "metadata": {},
   "outputs": [
    {
     "data": {
      "text/plain": [
       "['Bar',\n",
       " 'Foo',\n",
       " 'In',\n",
       " 'Out',\n",
       " '_',\n",
       " '_20',\n",
       " '_22',\n",
       " '_23',\n",
       " '_25',\n",
       " '_27',\n",
       " '_28',\n",
       " '_29',\n",
       " '_30',\n",
       " '_31',\n",
       " '_32',\n",
       " '_33',\n",
       " '_35',\n",
       " '_37',\n",
       " '_38',\n",
       " '_40',\n",
       " '_41',\n",
       " '_42',\n",
       " '_43',\n",
       " '_44',\n",
       " '_45',\n",
       " '_46',\n",
       " '_47',\n",
       " '_48',\n",
       " '_49',\n",
       " '_50',\n",
       " '_54',\n",
       " '_55',\n",
       " '_65',\n",
       " '_66',\n",
       " '_67',\n",
       " '_68',\n",
       " '_69',\n",
       " '_7',\n",
       " '_70',\n",
       " '_72',\n",
       " '_73',\n",
       " '_74',\n",
       " '__',\n",
       " '___',\n",
       " '__builtin__',\n",
       " '__builtins__',\n",
       " '__doc__',\n",
       " '__loader__',\n",
       " '__name__',\n",
       " '__package__',\n",
       " '__spec__',\n",
       " '_dh',\n",
       " '_i',\n",
       " '_i1',\n",
       " '_i10',\n",
       " '_i11',\n",
       " '_i12',\n",
       " '_i13',\n",
       " '_i14',\n",
       " '_i15',\n",
       " '_i16',\n",
       " '_i17',\n",
       " '_i18',\n",
       " '_i19',\n",
       " '_i2',\n",
       " '_i20',\n",
       " '_i21',\n",
       " '_i22',\n",
       " '_i23',\n",
       " '_i24',\n",
       " '_i25',\n",
       " '_i26',\n",
       " '_i27',\n",
       " '_i28',\n",
       " '_i29',\n",
       " '_i3',\n",
       " '_i30',\n",
       " '_i31',\n",
       " '_i32',\n",
       " '_i33',\n",
       " '_i34',\n",
       " '_i35',\n",
       " '_i36',\n",
       " '_i37',\n",
       " '_i38',\n",
       " '_i39',\n",
       " '_i4',\n",
       " '_i40',\n",
       " '_i41',\n",
       " '_i42',\n",
       " '_i43',\n",
       " '_i44',\n",
       " '_i45',\n",
       " '_i46',\n",
       " '_i47',\n",
       " '_i48',\n",
       " '_i49',\n",
       " '_i5',\n",
       " '_i50',\n",
       " '_i51',\n",
       " '_i52',\n",
       " '_i53',\n",
       " '_i54',\n",
       " '_i55',\n",
       " '_i56',\n",
       " '_i57',\n",
       " '_i58',\n",
       " '_i59',\n",
       " '_i6',\n",
       " '_i60',\n",
       " '_i61',\n",
       " '_i62',\n",
       " '_i63',\n",
       " '_i64',\n",
       " '_i65',\n",
       " '_i66',\n",
       " '_i67',\n",
       " '_i68',\n",
       " '_i69',\n",
       " '_i7',\n",
       " '_i70',\n",
       " '_i71',\n",
       " '_i72',\n",
       " '_i73',\n",
       " '_i74',\n",
       " '_i75',\n",
       " '_i8',\n",
       " '_i9',\n",
       " '_ih',\n",
       " '_ii',\n",
       " '_iii',\n",
       " '_oh',\n",
       " 'a',\n",
       " 'alist',\n",
       " 'bar',\n",
       " 'changeme',\n",
       " 'exit',\n",
       " 'foo',\n",
       " 'function_name',\n",
       " 'get_ipython',\n",
       " 'jumlahHewan',\n",
       " 'jumlahKelinci',\n",
       " 'jumlahKucing',\n",
       " 'mod',\n",
       " 'my_function',\n",
       " 'my_module',\n",
       " 'mylist',\n",
       " 'printbio',\n",
       " 'printinfo',\n",
       " 'printme',\n",
       " 'quit',\n",
       " 'qux',\n",
       " 're',\n",
       " 's',\n",
       " 'str',\n",
       " 'string',\n",
       " 'sum',\n",
       " 'sys',\n",
       " 'total',\n",
       " 'total2',\n",
       " 'x']"
      ]
     },
     "execution_count": 75,
     "metadata": {},
     "output_type": "execute_result"
    }
   ],
   "source": [
    "dir()"
   ]
  },
  {
   "cell_type": "code",
   "execution_count": 76,
   "id": "28216b11",
   "metadata": {},
   "outputs": [
    {
     "data": {
      "text/plain": [
       "['Bar',\n",
       " 'Foo',\n",
       " 'In',\n",
       " 'Out',\n",
       " '_',\n",
       " '_20',\n",
       " '_22',\n",
       " '_23',\n",
       " '_25',\n",
       " '_27',\n",
       " '_28',\n",
       " '_29',\n",
       " '_30',\n",
       " '_31',\n",
       " '_32',\n",
       " '_33',\n",
       " '_35',\n",
       " '_37',\n",
       " '_38',\n",
       " '_40',\n",
       " '_41',\n",
       " '_42',\n",
       " '_43',\n",
       " '_44',\n",
       " '_45',\n",
       " '_46',\n",
       " '_47',\n",
       " '_48',\n",
       " '_49',\n",
       " '_50',\n",
       " '_54',\n",
       " '_55',\n",
       " '_65',\n",
       " '_66',\n",
       " '_67',\n",
       " '_68',\n",
       " '_69',\n",
       " '_7',\n",
       " '_70',\n",
       " '_72',\n",
       " '_73',\n",
       " '_74',\n",
       " '_75',\n",
       " '__',\n",
       " '___',\n",
       " '__builtin__',\n",
       " '__builtins__',\n",
       " '__doc__',\n",
       " '__loader__',\n",
       " '__name__',\n",
       " '__package__',\n",
       " '__spec__',\n",
       " '_dh',\n",
       " '_i',\n",
       " '_i1',\n",
       " '_i10',\n",
       " '_i11',\n",
       " '_i12',\n",
       " '_i13',\n",
       " '_i14',\n",
       " '_i15',\n",
       " '_i16',\n",
       " '_i17',\n",
       " '_i18',\n",
       " '_i19',\n",
       " '_i2',\n",
       " '_i20',\n",
       " '_i21',\n",
       " '_i22',\n",
       " '_i23',\n",
       " '_i24',\n",
       " '_i25',\n",
       " '_i26',\n",
       " '_i27',\n",
       " '_i28',\n",
       " '_i29',\n",
       " '_i3',\n",
       " '_i30',\n",
       " '_i31',\n",
       " '_i32',\n",
       " '_i33',\n",
       " '_i34',\n",
       " '_i35',\n",
       " '_i36',\n",
       " '_i37',\n",
       " '_i38',\n",
       " '_i39',\n",
       " '_i4',\n",
       " '_i40',\n",
       " '_i41',\n",
       " '_i42',\n",
       " '_i43',\n",
       " '_i44',\n",
       " '_i45',\n",
       " '_i46',\n",
       " '_i47',\n",
       " '_i48',\n",
       " '_i49',\n",
       " '_i5',\n",
       " '_i50',\n",
       " '_i51',\n",
       " '_i52',\n",
       " '_i53',\n",
       " '_i54',\n",
       " '_i55',\n",
       " '_i56',\n",
       " '_i57',\n",
       " '_i58',\n",
       " '_i59',\n",
       " '_i6',\n",
       " '_i60',\n",
       " '_i61',\n",
       " '_i62',\n",
       " '_i63',\n",
       " '_i64',\n",
       " '_i65',\n",
       " '_i66',\n",
       " '_i67',\n",
       " '_i68',\n",
       " '_i69',\n",
       " '_i7',\n",
       " '_i70',\n",
       " '_i71',\n",
       " '_i72',\n",
       " '_i73',\n",
       " '_i74',\n",
       " '_i75',\n",
       " '_i76',\n",
       " '_i8',\n",
       " '_i9',\n",
       " '_ih',\n",
       " '_ii',\n",
       " '_iii',\n",
       " '_oh',\n",
       " 'a',\n",
       " 'alist',\n",
       " 'bar',\n",
       " 'changeme',\n",
       " 'exit',\n",
       " 'foo',\n",
       " 'function_name',\n",
       " 'get_ipython',\n",
       " 'jumlahHewan',\n",
       " 'jumlahKelinci',\n",
       " 'jumlahKucing',\n",
       " 'mod',\n",
       " 'my_function',\n",
       " 'my_module',\n",
       " 'mylist',\n",
       " 'printbio',\n",
       " 'printinfo',\n",
       " 'printme',\n",
       " 'quit',\n",
       " 'qux',\n",
       " 're',\n",
       " 's',\n",
       " 'str',\n",
       " 'string',\n",
       " 'sum',\n",
       " 'sys',\n",
       " 'total',\n",
       " 'total2',\n",
       " 'x']"
      ]
     },
     "execution_count": 76,
     "metadata": {},
     "output_type": "execute_result"
    }
   ],
   "source": [
    "from mod import *\n",
    "dir()"
   ]
  },
  {
   "cell_type": "markdown",
   "id": "bbe0ef80",
   "metadata": {},
   "source": [
    "# Executing a Module as a Script\n",
    "\n",
    "file.py apapun yang berisi modul pada dasarnya juga merupakan skrip Python, dan dapat dijalankan.\n",
    "Disini sekali lagi adalah mod.py seperti yang didefinisikan di atas:\n",
    "\n",
    "mod.py"
   ]
  },
  {
   "cell_type": "code",
   "execution_count": 77,
   "id": "57ec70a1",
   "metadata": {},
   "outputs": [],
   "source": [
    "s = \"Morning!\"\n",
    "a = [10,20,30]\n",
    "\n",
    "def foo(arg):\n",
    "    print(f'arg={arg}')\n",
    "    \n",
    "class Foo:\n",
    "    pass"
   ]
  },
  {
   "cell_type": "markdown",
   "id": "5a0ca376",
   "metadata": {},
   "source": [
    "Tidak ada error, namun module tidak melakukan apa-apa dan tidak menghasilkan keluaran apapun.\n",
    "Mari ubah modul Python diatas sehingga menghasilkan beberapa keluaran saat dijalankan sebagai skrip:\n",
    "    \n",
    "mod.py"
   ]
  },
  {
   "cell_type": "code",
   "execution_count": 78,
   "id": "8077c761",
   "metadata": {},
   "outputs": [
    {
     "name": "stdout",
     "output_type": "stream",
     "text": [
      "Morning!\n",
      "[10, 20, 30]\n",
      "arg=quux\n",
      "<__main__.Foo object at 0x000001A1807E9B80>\n"
     ]
    }
   ],
   "source": [
    "s = \"Morning!\"\n",
    "a = [10,20,30]\n",
    "\n",
    "def foo(arg):\n",
    "    print(f'arg={arg}')\n",
    "    \n",
    "class Foo:\n",
    "    pass\n",
    "\n",
    "print(s)\n",
    "print(a)\n",
    "foo('quux')\n",
    "x = Foo()\n",
    "print(x)"
   ]
  },
  {
   "cell_type": "markdown",
   "id": "6fd6c393",
   "metadata": {},
   "source": [
    "Ketika file.py diimpor sebagai modul, Python menetapkan nama variabel khusus ke nama modul. Namun, jika file dijalankan sebagai skrip standalone, namanya disetel ke string <b>main</b>. Dengan ini, kalian dapat membedakan mana yang terjadi pada waktu proses dan mengubahnya dengan prilaku yang sesuai."
   ]
  },
  {
   "cell_type": "code",
   "execution_count": 79,
   "id": "b6571e71",
   "metadata": {},
   "outputs": [
    {
     "name": "stdout",
     "output_type": "stream",
     "text": [
      "Executing as standalone script\n",
      "Morning!\n",
      "[10, 20, 30]\n",
      "arg=quux\n",
      "<__main__.Foo object at 0x000001A180703790>\n"
     ]
    }
   ],
   "source": [
    "s = \"Morning!\"\n",
    "a = [10,20,30]\n",
    "\n",
    "def foo(arg):\n",
    "    print(f'arg={arg}')\n",
    "    \n",
    "class Foo:\n",
    "    pass\n",
    "\n",
    "if(__name__ == '__main__'):\n",
    "    print('Executing as standalone script')\n",
    "    print(s)\n",
    "    print(a)\n",
    "    foo('quux')\n",
    "    x = Foo()\n",
    "    print(x)"
   ]
  },
  {
   "cell_type": "markdown",
   "id": "a3bc0880",
   "metadata": {},
   "source": [
    "Seperti itulah keluaran yang didapat bila mengimpor sebagai skrip."
   ]
  },
  {
   "cell_type": "markdown",
   "id": "a24ff346",
   "metadata": {},
   "source": [
    "Sedangkan bila mengimpor sebagai modul tidak akan mendapatkan keluaran."
   ]
  },
  {
   "cell_type": "code",
   "execution_count": 81,
   "id": "1a26b09d",
   "metadata": {},
   "outputs": [
    {
     "name": "stdout",
     "output_type": "stream",
     "text": [
      "arg=grault\n"
     ]
    }
   ],
   "source": [
    "import mod\n",
    "mod.foo('grault')"
   ]
  },
  {
   "cell_type": "markdown",
   "id": "822dfd20",
   "metadata": {},
   "source": [
    "# Reloading a Module\n",
    "\n",
    "Untuk alasan efisiensi, modul hanya dimuat sekali pe sesi interpreter. Tidak masalah untuk definisi fungsi dan kelas, yang biasanya merupakan bagian terbesar dari konten modul. Tapi modul juga bisa berisi pernyataan yang dapat dieksekusi, biasanya untuk inisialisasi. Perhatikan bahwa statements hanya akan dijalankan saat pertama kali modul diimpor."
   ]
  },
  {
   "cell_type": "code",
   "execution_count": 83,
   "id": "ebd28f5b",
   "metadata": {},
   "outputs": [
    {
     "name": "stdout",
     "output_type": "stream",
     "text": [
      "a = [100, 200, 300]\n"
     ]
    }
   ],
   "source": [
    "a = [10,20,30]\n",
    "print('a =', a)"
   ]
  },
  {
   "cell_type": "code",
   "execution_count": 86,
   "id": "bef17935",
   "metadata": {},
   "outputs": [
    {
     "data": {
      "text/plain": [
       "<module 'mod' from 'C:\\\\Users\\\\Lenovo\\\\a_latihan_forStudi\\\\mod.py'>"
      ]
     },
     "execution_count": 86,
     "metadata": {},
     "output_type": "execute_result"
    }
   ],
   "source": [
    "import importlib\n",
    "importlib.reload(mod)"
   ]
  },
  {
   "cell_type": "markdown",
   "id": "28b31c09",
   "metadata": {},
   "source": [
    "# Python Packages\n",
    "\n",
    "Misalkan kalian mengembangkan aplikasi yang sangat besar yang mencakup banyak modul. Seiring bertambahnya jumlah modul, akan sulit untuk melacak semuanya jika dimasukan ke satu lokasi. Ini terjadi jika mereka memiliki nama atau fungsi yang mirip. Kalian mungkin harus mencari cara untuk mengelompokan dan mengaturnya.\n",
    "\n",
    "Packages memungkinkan penataan hierarki nama modul menggunakan notasi titik. Dengan cara yang sama seperti modul membantu menghindari tabrakan antara nama variabel global, packages membatu menghindari tabrakan antara nama modul.\n",
    "\n",
    "Membuat package cukup mudah, karena menggunakan struktur file hierarki yang sama pada sistem operasi. Lihat pengaturan berikut:"
   ]
  },
  {
   "cell_type": "markdown",
   "id": "7d3f20dc",
   "metadata": {},
   "source": [
    "### Disini, ada direktori bernama pkg yang berisi dua modul, mod1.py dan mod2.py."
   ]
  },
  {
   "cell_type": "code",
   "execution_count": 98,
   "id": "9606b2af",
   "metadata": {},
   "outputs": [
    {
     "name": "stdout",
     "output_type": "stream",
     "text": [
      "[mod1] foo()\n"
     ]
    }
   ],
   "source": [
    "import pkg.mod1, pkg.mod2\n",
    "pkg.mod1.foo()"
   ]
  },
  {
   "cell_type": "code",
   "execution_count": 99,
   "id": "c04b04eb",
   "metadata": {},
   "outputs": [
    {
     "data": {
      "text/plain": [
       "<pkg.mod2.Bar at 0x1a1807f0b20>"
      ]
     },
     "execution_count": 99,
     "metadata": {},
     "output_type": "execute_result"
    }
   ],
   "source": [
    "x = pkg.mod2.Bar()\n",
    "x"
   ]
  },
  {
   "cell_type": "markdown",
   "id": "a09ee205",
   "metadata": {},
   "source": [
    "Kalian juga dapat mengimpor modul dengan pernyataan ini:\n",
    "\n",
    "<b>from</b> package_name <b>import</b> modules_name <b>as</b> alt_name"
   ]
  },
  {
   "cell_type": "code",
   "execution_count": 100,
   "id": "7960b7a9",
   "metadata": {},
   "outputs": [
    {
     "name": "stdout",
     "output_type": "stream",
     "text": [
      "[mod1] foo()\n"
     ]
    }
   ],
   "source": [
    "from pkg.mod1 import foo\n",
    "foo()"
   ]
  },
  {
   "cell_type": "code",
   "execution_count": 101,
   "id": "e633ddf5",
   "metadata": {},
   "outputs": [
    {
     "data": {
      "text/plain": [
       "<pkg.mod2.Bar at 0x1a1807f0a90>"
      ]
     },
     "execution_count": 101,
     "metadata": {},
     "output_type": "execute_result"
    }
   ],
   "source": [
    "from pkg.mod2 import Bar as Qux\n",
    "x = Qux()\n",
    "x"
   ]
  },
  {
   "cell_type": "code",
   "execution_count": 102,
   "id": "27bbeba7",
   "metadata": {},
   "outputs": [
    {
     "name": "stdout",
     "output_type": "stream",
     "text": [
      "[mod1] foo()\n"
     ]
    }
   ],
   "source": [
    "from pkg import mod1\n",
    "mod1.foo()"
   ]
  },
  {
   "cell_type": "code",
   "execution_count": 103,
   "id": "cea9baea",
   "metadata": {},
   "outputs": [
    {
     "name": "stdout",
     "output_type": "stream",
     "text": [
      "[mod2] bar()\n"
     ]
    }
   ],
   "source": [
    "from pkg import mod2 as quux\n",
    "quux.bar()"
   ]
  },
  {
   "cell_type": "markdown",
   "id": "e2474601",
   "metadata": {},
   "source": [
    "Secara teknis kalian juga dapat mengimpor package:"
   ]
  },
  {
   "cell_type": "code",
   "execution_count": 104,
   "id": "e74c13ba",
   "metadata": {},
   "outputs": [
    {
     "data": {
      "text/plain": [
       "<module 'pkg' (namespace)>"
      ]
     },
     "execution_count": 104,
     "metadata": {},
     "output_type": "execute_result"
    }
   ],
   "source": [
    "import pkg\n",
    "pkg"
   ]
  },
  {
   "cell_type": "code",
   "execution_count": 105,
   "id": "7d1acd09",
   "metadata": {},
   "outputs": [
    {
     "data": {
      "text/plain": [
       "<module 'pkg.mod1' from 'C:\\\\Users\\\\Lenovo\\\\a_latihan_forStudi\\\\pkg\\\\mod1.py'>"
      ]
     },
     "execution_count": 105,
     "metadata": {},
     "output_type": "execute_result"
    }
   ],
   "source": [
    "pkg.mod1"
   ]
  },
  {
   "cell_type": "code",
   "execution_count": 106,
   "id": "e20bafce",
   "metadata": {},
   "outputs": [
    {
     "name": "stdout",
     "output_type": "stream",
     "text": [
      "[mod1] foo()\n"
     ]
    }
   ],
   "source": [
    "pkg.mod1.foo()"
   ]
  },
  {
   "cell_type": "code",
   "execution_count": 107,
   "id": "c180eef0",
   "metadata": {},
   "outputs": [
    {
     "data": {
      "text/plain": [
       "<pkg.mod2.Bar at 0x1a1807f0d60>"
      ]
     },
     "execution_count": 107,
     "metadata": {},
     "output_type": "execute_result"
    }
   ],
   "source": [
    "pkg.mod2.Bar()"
   ]
  },
  {
   "cell_type": "markdown",
   "id": "4c71af3f",
   "metadata": {},
   "source": [
    "# PIP\n",
    "\n",
    "Adalah package manager untuk Pytho. Artinya, pip adalah alat yang memungkinkan kalian menginstal dan mengelola library dan dependensi yang tidak didistribusikan sebagai bagian dari library standar.\n",
    "\n",
    "Kalian dapat memverifikasi bahwa pip tersedia dengan menjalankan perintah berikut di konsol:"
   ]
  },
  {
   "cell_type": "code",
   "execution_count": 111,
   "id": "e6ab36c7",
   "metadata": {},
   "outputs": [
    {
     "name": "stdout",
     "output_type": "stream",
     "text": [
      "pip 21.2.4 from C:\\Users\\Lenovo\\anaconda3\\lib\\site-packages\\pip (python 3.9)\n",
      "\n"
     ]
    }
   ],
   "source": [
    "!pip --version"
   ]
  },
  {
   "cell_type": "markdown",
   "id": "ce8f7d38",
   "metadata": {},
   "source": [
    "# Basic Package Intallation\n",
    "\n",
    "PyPI menghosting pustaka yang sangat populer untuk melakukan HTTP requests yang disebut <b>requests</b>.\n",
    "Kalian dapat mempelajari semua tentang request di situs dokumentasi resminya."
   ]
  },
  {
   "cell_type": "markdown",
   "id": "34b6cac1",
   "metadata": {},
   "source": [
    "Langkah pertama:\n",
    "\n",
    "Menginstal requests package ke environment kalian. Kalian dapat mempelajari tentang perintah yang didukung pip dengan menjalankan help.\n",
    "\n",
    "<b>!pip help</b>\n",
    "\n",
    "Seperti yang kalian lihat, pip menyediakan perintah install untuk menginstal paket. Kalian dapat menjalankannya untuk menginstal requests package.\n",
    "\n",
    "<b>!pip install requests</b>\n",
    "\n",
    "Kalian menggunakan pip dengan perintah install diikuti dengan nama paket yang ingin kalian instal. Pip mencari package di PyPI, menghitung dependensinya, dan menginstalnya untuk memastikan requests akan berfungsi."
   ]
  },
  {
   "cell_type": "markdown",
   "id": "88e774af",
   "metadata": {},
   "source": [
    "Perintah untuk memperbaharui pip:\n",
    "\n",
    "<b>python -m pip install --upgrade pip</b>\n",
    "\n",
    "Perhatikan bahwa kalian menggunakan python -m unntuk memperbarui pip. \n",
    "\n",
    "<b>-m</b> memberitahu Python untuk menjalankan modul sebagai excutable. Hal ini diperlukan agar kalian dapat memperbarui pip, versi lama harus dicopot sebelum menginstal versi baru.\n",
    "\n",
    "Saat menjalankan pip sebagai modul, Python membuat modul dalam memori dan mengizinkan package dihapus saat sedang digunakan. Kalian dapat menjalankan package seolah-olah itu adalah skrip jika package menyediakan top-level script <b>main.py</b>"
   ]
  },
  {
   "cell_type": "markdown",
   "id": "9fefbd4d",
   "metadata": {},
   "source": [
    "Sekarang kalian telah menginstal request dan mengupgrade pip, kalian dapat menggunakan perintah list untuk melihat packages yang diinstal di environment kalain.\n",
    "\n",
    "<b>!pip list</b>"
   ]
  },
  {
   "cell_type": "markdown",
   "id": "548166da",
   "metadata": {},
   "source": [
    "Perintah <b>pip install package</b> selalu mencari versi terbaru dari package dan menginstalnya. Ia juga mencari dependensi yang terdaftar dalam package dan menginstal dependensi tersebut untuk memastikan bahwa package tersebut memiliki semua persyaratan yang dibutuhkannya.\n",
    "\n",
    "Seperti yang kalian lihat, beberapa package telah diinstal. Kalian dapat melihat metadata package dengan menggunakan perintah show di pip:\n",
    "\n",
    "<b>!pip show requests</b>"
   ]
  },
  {
   "cell_type": "markdown",
   "id": "3d1723e5",
   "metadata": {},
   "source": [
    "Metadata mencantumkan certifi, chardet, idna, dan urllib3 sebagai dependensi, dan kalian dapat melihat package tersebut juga diinstal.\n",
    "\n",
    "Dengan requests package terinstal, kalian dapat mengubah contoh diatas dan melihat betapa mudahnya mengambil konten halaman web:"
   ]
  },
  {
   "cell_type": "code",
   "execution_count": 112,
   "id": "a7320f84",
   "metadata": {},
   "outputs": [
    {
     "name": "stdout",
     "output_type": "stream",
     "text": [
      "Response returned: 200, OK\n",
      "<!doctype html><html itemscope=\"\" itemtype=\"http://schema.org/WebPage\" lang=\"id\"><head><meta content=\"text/html; charset=UTF-8\" http-equiv=\"Content-Type\"><meta content=\"/images/branding/googleg/1x/googleg_standard_color_128dp.png\" itemprop=\"image\"><title>Google</title><script nonce=\"n9KHMu9yF0zIROSp2PLVpQ==\">(function(){window.google={kEI:'sAs0YoHLItCdseMPpb6I0AE',kEXPI:'0,202454,3,582110,517969,56873,6059,206,4804,926,1390,383,246,5,1354,4013,1237,1122516,1197762,660,16,380052,16115,17444,11240,17572,4859,1361,9291,3029,2814,14765,4020,978,13228,3847,10622,22741,5081,1593,1279,2742,149,1943,1983,214,4100,3514,606,2023,1777,520,14670,603,2624,1989,858,5,5599,11851,7540,8780,1850,15757,3,346,230,6459,149,12314,1661,4,1528,656,1648,1237,5802,3580,16729,4764,2658,7355,32,13628,4437,9358,7428,652,5163,2542,4094,4052,3,3541,1,11943,4864,10376,14971,2,14022,1931,5589,744,5852,10463,1160,5679,1020,2381,2718,8596,9665,2,5,7756,2124,2444,6252,2960,17846,2618,1249,5838,9212,5756,4332,1,4676,1413,1394,445,2,2,1,6395,4394,1709,588,4535,6128,76,540,5,160,248,1407,10,1,8591,113,3438,2086,945,316,482,1,462,2,2299,280,3550,4299,1922,1116,750,1008,554,58,754,3783,29,363,792,502,1713,855,216,1020,314,1451,2,1,2746,3083,217,30,139,2,983,246,1040,416,2,1168,238,1,772,3498,1432,1753,749,345,622,656,2,73,4,674,902,46,230,601,473,2336,2,919,1675,189,289,5460200,99,831,265,8796816,882,444,3,1877,1,2562,1,748,141,795,563,1,4265,1,1,2,1331,4142,2609,155,17,13,72,139,4,2,20,2,169,13,19,46,5,39,96,548,29,2,2,1,2,1,2,2,7,4,1,2,2,2,2,2,2,353,513,186,1,1,158,3,2,2,2,2,2,4,2,3,3,269,1601,141,1002,144,11,10,6,10,16,6,6,1,3,3,17,1,4,2,1,2,4,3,14,23951715,4038570,3,3116,3,450,1964,1491,9,1435,159,1358,4726,3,927,28,3,1209,497,3332,1993,3,447,709,473,37,7,755,767985',kBL:'55Ve'};google.sn='webhp';google.kHL='id';})();(function(){\n",
      "var f=this||self;var h,k=[];function l(a){for(var b;a&&(!a.getAttribute||!(b=a.getAttribute(\"eid\")));)a=a.parentNode;return b||h}function m(a){for(var b=null;a&&(!a.getAttribute||!(b=a.getAttribute(\"leid\")));)a=a.parentNode;return b}\n",
      "function n(a,b,c,d,g){var e=\"\";c||-1!==b.search(\"&ei=\")||(e=\"&ei=\"+l(d),-1===b.search(\"&lei=\")&&(d=m(d))&&(e+=\"&lei=\"+d));d=\"\";!c&&f._cshid&&-1===b.search(\"&cshid=\")&&\"slh\"!==a&&(d=\"&cshid=\"+f._cshid);c=c||\"/\"+(g||\"gen_204\")+\"?atyp=i&ct=\"+a+\"&cad=\"+b+e+\"&zx=\"+Date.now()+d;/^http:/i.test(c)&&\"https:\"===window.location.protocol&&(google.ml&&google.ml(Error(\"a\"),!1,{src:c,glmm:1}),c=\"\");return c};h=google.kEI;google.getEI=l;google.getLEI=m;google.ml=function(){return null};google.log=function(a,b,c,d,g){if(c=n(a,b,c,d,g)){a=new Image;var e=k.length;k[e]=a;a.onerror=a.onload=a.onabort=function(){delete k[e]};a.src=c}};google.logUrl=n;}).call(this);(function(){\n",
      "google.y={};google.sy=[];google.x=function(a,b){if(a)var c=a.id;else{do c=Math.random();while(google.y[c])}google.y[c]=[a,b];return!1};google.sx=function(a){google.sy.push(a)};google.lm=[];google.plm=function(a){google.lm.push.apply(google.lm,a)};google.lq=[];google.load=function(a,b,c){google.lq.push([[a],b,c])};google.loadAll=function(a,b){google.lq.push([a,b])};google.bx=!1;google.lx=function(){};}).call(this);google.f={};(function(){\n",
      "document.documentElement.addEventListener(\"submit\",function(b){var a;if(a=b.target){var c=a.getAttribute(\"data-submitfalse\");a=\"1\"===c||\"q\"===c&&!a.elements.q.value?!0:!1}else a=!1;a&&(b.preventDefault(),b.stopPropagation())},!0);document.documentElement.addEventListener(\"click\",function(b){var a;a:{for(a=b.target;a&&a!==document.documentElement;a=a.parentElement)if(\"A\"===a.tagName){a=\"1\"===a.getAttribute(\"data-nohref\");break a}a=!1}a&&b.preventDefault()},!0);}).call(this);</script><style>#gbar,#guser{font-size:13px;padding-top:1px !important;}#gbar{height:22px}#guser{padding-bottom:7px !important;text-align:right}.gbh,.gbd{border-top:1px solid #c9d7f1;font-size:1px}.gbh{height:0;position:absolute;top:24px;width:100%}@media all{.gb1{height:22px;margin-right:.5em;vertical-align:top}#gbar{float:left}}a.gb1,a.gb4{text-decoration:underline !important}a.gb1,a.gb4{color:#00c !important}.gbi .gb4{color:#dd8e27 !important}.gbf .gb4{color:#900 !important}\n",
      "</style><style>body,td,a,p,.h{font-family:arial,sans-serif}body{margin:0;overflow-y:scroll}#gog{padding:3px 8px 0}td{line-height:.8em}.gac_m td{line-height:17px}form{margin-bottom:20px}.h{color:#1558d6}em{font-weight:bold;font-style:normal}.lst{height:25px;width:496px}.gsfi,.lst{font:18px arial,sans-serif}.gsfs{font:17px arial,sans-serif}.ds{display:inline-box;display:inline-block;margin:3px 0 4px;margin-left:4px}input{font-family:inherit}body{background:#fff;color:#000}a{color:#4b11a8;text-decoration:none}a:hover,a:active{text-decoration:underline}.fl a{color:#1558d6}a:visited{color:#4b11a8}.sblc{padding-top:5px}.sblc a{display:block;margin:2px 0;margin-left:13px;font-size:11px}.lsbb{background:#f8f9fa;border:solid 1px;border-color:#dadce0 #70757a #70757a #dadce0;height:30px}.lsbb{display:block}#WqQANb a{display:inline-block;margin:0 12px}.lsb{background:url(/images/nav_logo229.png) 0 -261px repeat-x;border:none;color:#000;cursor:pointer;height:30px;margin:0;outline:0;font:15px arial,sans-serif;vertical-align:top}.lsb:active{background:#dadce0}.lst:focus{outline:none}.tiah{width:458px}</style><script nonce=\"n9KHMu9yF0zIROSp2PLVpQ==\">(function(){window.google.erd={jsr:1,bv:1549,de:true};\n",
      "var f=this||self;var g,h=null!=(g=f.mei)?g:1,m,n=null!=(m=f.sdo)?m:!0,p=0,q,r=google.erd,u=r.jsr;google.ml=function(a,b,d,k,c){c=void 0===c?2:c;b&&(q=a&&a.message);if(google.dl)return google.dl(a,c,d),null;if(0>u){window.console&&console.error(a,d);if(-2===u)throw a;b=!1}else b=!a||!a.message||\"Error loading script\"===a.message||p>=h&&!k?!1:!0;if(!b)return null;p++;d=d||{};var e=c;c=encodeURIComponent;b=\"/gen_204?atyp=i&ei=\"+c(google.kEI);google.kEXPI&&(b+=\"&jexpid=\"+c(google.kEXPI));b+=\"&srcpg=\"+c(google.sn)+\"&jsr=\"+c(r.jsr)+\"&bver=\"+c(r.bv)+(\"&jsel=\"+e);e=a.lineNumber;void 0!==e&&(b+=\"&line=\"+\n",
      "e);var l=a.fileName;l&&(b+=\"&script=\"+c(l),e&&l===window.location.href&&(e=document.documentElement.outerHTML.split(\"\\n\")[e],b+=\"&cad=\"+c(e?e.substring(0,300):\"No script found.\")));for(var t in d)b+=\"&\",b+=c(t),b+=\"=\",b+=c(d[t]);b=b+\"&emsg=\"+c(a.name+\": \"+a.message);b=b+\"&jsst=\"+c(a.stack||\"N/A\");12288<=b.length&&(b=b.substr(0,12288));a=b;k||google.log(0,\"\",a);return a};window.onerror=function(a,b,d,k,c){q!==a&&(a=c instanceof Error?c:Error(a),void 0===d||\"lineNumber\"in a||(a.lineNumber=d),void 0===b||\"fileName\"in a||(a.fileName=b),google.ml(a,!1,void 0,!1,\"SyntaxError\"===a.name||\"SyntaxError\"===a.message.substring(0,11)?2:0));q=null;n&&p>=h&&(window.onerror=null)};})();</script></head><body bgcolor=\"#fff\"><script nonce=\"n9KHMu9yF0zIROSp2PLVpQ==\">(function(){var src='/images/nav_logo229.png';var iesg=false;document.body.onload = function(){window.n && window.n();if (document.images){new Image().src=src;}\n",
      "if (!iesg){document.f&&document.f.q.focus();document.gbqf&&document.gbqf.q.focus();}\n",
      "}\n",
      "})();</script><div id=\"mngb\"><div id=gbar><nobr><b class=gb1>Telusuri</b> <a class=gb1 href=\"https://www.google.co.id/imghp?hl=id&tab=wi\">Gambar</a> <a class=gb1 href=\"https://maps.google.co.id/maps?hl=id&tab=wl\">Maps</a> <a class=gb1 href=\"https://www.youtube.com/?gl=ID&tab=w1\">YouTube</a> <a class=gb1 href=\"https://news.google.com/?tab=wn\">Berita</a> <a class=gb1 href=\"https://mail.google.com/mail/?tab=wm\">Gmail</a> <a class=gb1 href=\"https://drive.google.com/?tab=wo\">Drive</a> <a class=gb1 href=\"https://calendar.google.com/calendar?tab=wc\">Kalender</a> <a class=gb1 style=\"text-decoration:none\" href=\"https://www.google.co.id/intl/id/about/products?tab=wh\"><u>Lainnya</u> &raquo;</a></nobr></div><div id=guser width=100%><nobr><span id=gbn class=gbi></span><span id=gbf class=gbf></span><span id=gbe></span><a href=\"http://www.google.co.id/history/optout?hl=id\" class=gb4>Histori Web</a> | <a  href=\"/preferences?hl=id\" class=gb4>Setelan</a> | <a target=_top id=gb_70 href=\"https://accounts.google.com/ServiceLogin?hl=id&passive=true&continue=https://www.google.com/&ec=GAZAAQ\" class=gb4>Login</a></nobr></div><div class=gbh style=left:0></div><div class=gbh style=right:0></div></div><center><br clear=\"all\" id=\"lgpd\"><div id=\"lga\"><img alt=\"Google\" height=\"92\" src=\"/images/branding/googlelogo/1x/googlelogo_white_background_color_272x92dp.png\" style=\"padding:28px 0 14px\" width=\"272\" id=\"hplogo\"><br><br></div><form action=\"/search\" name=\"f\"><table cellpadding=\"0\" cellspacing=\"0\"><tr valign=\"top\"><td width=\"25%\">&nbsp;</td><td align=\"center\" nowrap=\"\"><input name=\"ie\" value=\"ISO-8859-1\" type=\"hidden\"><input value=\"id\" name=\"hl\" type=\"hidden\"><input name=\"source\" type=\"hidden\" value=\"hp\"><input name=\"biw\" type=\"hidden\"><input name=\"bih\" type=\"hidden\"><div class=\"ds\" style=\"height:32px;margin:4px 0\"><div style=\"position:relative;zoom:1\"><input class=\"lst tiah\" style=\"margin:0;padding:5px 8px 0 6px;vertical-align:top;color:#000;padding-right:38px\" autocomplete=\"off\" value=\"\" title=\"Penelusuran Google\" maxlength=\"2048\" name=\"q\" size=\"57\"><img src=\"/textinputassistant/tia.png\" style=\"position:absolute;cursor:pointer;right:5px;top:4px;z-index:300\" data-script-url=\"/textinputassistant/11/id_tia.js\" id=\"tsuid1\" alt=\"\" height=\"23\" width=\"27\"><script nonce=\"n9KHMu9yF0zIROSp2PLVpQ==\">(function(){var id='tsuid1';document.getElementById(id).onclick = function(){var s = document.createElement('script');s.src = this.getAttribute('data-script-url');(document.getElementById('xjsc')||document.body).appendChild(s);};})();</script></div></div><br style=\"line-height:0\"><span class=\"ds\"><span class=\"lsbb\"><input class=\"lsb\" value=\"Penelusuran Google\" name=\"btnG\" type=\"submit\"></span></span><span class=\"ds\"><span class=\"lsbb\"><input class=\"lsb\" id=\"tsuid2\" value=\"Saya Lagi Beruntung\" name=\"btnI\" type=\"submit\"><script nonce=\"n9KHMu9yF0zIROSp2PLVpQ==\">(function(){var id='tsuid2';document.getElementById(id).onclick = function(){if (this.form.q.value){this.checked = 1;if (this.form.iflsig)this.form.iflsig.disabled = false;}\n",
      "else top.location='/doodles/';};})();</script><input value=\"AHkkrS4AAAAAYjQZwFPR2WvoySi0Q5oKa91lmF5kzrVz\" name=\"iflsig\" type=\"hidden\"></span></span></td><td class=\"fl sblc\" align=\"left\" nowrap=\"\" width=\"25%\"><a href=\"/advanced_search?hl=id&amp;authuser=0\">Penelusuran lanjutan</a></td></tr></table><input id=\"gbv\" name=\"gbv\" type=\"hidden\" value=\"1\"><script nonce=\"n9KHMu9yF0zIROSp2PLVpQ==\">(function(){\n",
      "var a,b=\"1\";if(document&&document.getElementById)if(\"undefined\"!=typeof XMLHttpRequest)b=\"2\";else if(\"undefined\"!=typeof ActiveXObject){var c,d,e=[\"MSXML2.XMLHTTP.6.0\",\"MSXML2.XMLHTTP.3.0\",\"MSXML2.XMLHTTP\",\"Microsoft.XMLHTTP\"];for(c=0;d=e[c++];)try{new ActiveXObject(d),b=\"2\"}catch(h){}}a=b;if(\"2\"==a&&-1==location.search.indexOf(\"&gbv=2\")){var f=google.gbvu,g=document.getElementById(\"gbv\");g&&(g.value=a);f&&window.setTimeout(function(){location.href=f},0)};}).call(this);</script></form><div id=\"gac_scont\"></div><div style=\"font-size:83%;min-height:3.5em\"><br><div id=\"gws-output-pages-elements-homepage_additional_languages__als\"><style>#gws-output-pages-elements-homepage_additional_languages__als{font-size:small;margin-bottom:24px}#SIvCob{color:#3c4043;display:inline-block;line-height:28px;}#SIvCob a{padding:0 3px;}.H6sW5{display:inline-block;margin:0 2px;white-space:nowrap}.z4hgWe{display:inline-block;margin:0 2px}</style><div id=\"SIvCob\">Google tersedia dalam bahasa:  <a href=\"https://www.google.com/setprefs?sig=0_ghjDTnDwpoPvBh8gS2URatXCXPs%3D&amp;hl=en&amp;source=homepage&amp;sa=X&amp;ved=0ahUKEwiB4_u66s72AhXQTmwGHSUfAhoQ2ZgBCAU\">English</a>    <a href=\"https://www.google.com/setprefs?sig=0_ghjDTnDwpoPvBh8gS2URatXCXPs%3D&amp;hl=jv&amp;source=homepage&amp;sa=X&amp;ved=0ahUKEwiB4_u66s72AhXQTmwGHSUfAhoQ2ZgBCAY\"></a>    <a href=\"https://www.google.com/setprefs?sig=0_ghjDTnDwpoPvBh8gS2URatXCXPs%3D&amp;hl=ban&amp;source=homepage&amp;sa=X&amp;ved=0ahUKEwiB4_u66s72AhXQTmwGHSUfAhoQ2ZgBCAc\">Basa Bali</a>  </div></div></div><span id=\"footer\"><div style=\"font-size:10pt\"><div style=\"margin:19px auto;text-align:center\" id=\"WqQANb\"><a href=\"http://www.google.co.id/intl/id/services/\">Solusi Bisnis</a><a href=\"/intl/id/about.html\">Serba-serbi Google</a><a href=\"https://www.google.com/setprefdomain?prefdom=ID&amp;prev=https://www.google.co.id/&amp;sig=K_wj_OrRwccSFvxK6fOHKaNwsRwK4%3D\">Google.co.id</a></div></div><p style=\"font-size:8pt;color:#70757a\">&copy; 2022</p></span></center><script nonce=\"n9KHMu9yF0zIROSp2PLVpQ==\">(function(){window.google.cdo={height:757,width:1440};(function(){\n",
      "var a=window.innerWidth,b=window.innerHeight;if(!a||!b){var c=window.document,d=\"CSS1Compat\"==c.compatMode?c.documentElement:c.body;a=d.clientWidth;b=d.clientHeight}a&&b&&(a!=google.cdo.width||b!=google.cdo.height)&&google.log(\"\",\"\",\"/client_204?&atyp=i&biw=\"+a+\"&bih=\"+b+\"&ei=\"+google.kEI);}).call(this);})();</script> <script nonce=\"n9KHMu9yF0zIROSp2PLVpQ==\">(function(){google.xjs={ck:'',cs:'',excm:[]};})();</script>  <script nonce=\"n9KHMu9yF0zIROSp2PLVpQ==\">(function(){var u='/xjs/_/js/k\\x3dxjs.hp.en.R9hQrTuUdqI.O/am\\x3dAOAJAIAEIAE/d\\x3d1/ed\\x3d1/esmo\\x3d1/rs\\x3dACT90oHw1tJfWsLOEL7DN6vuAxae7FQuCA/m\\x3dsb_he,d';\n",
      "var d=this||self,e=function(a){return a};var g;var l=function(a,b){this.g=b===h?a:\"\"};l.prototype.toString=function(){return this.g+\"\"};var h={};\n",
      "function n(){var a=u;google.lx=function(){p(a);google.lx=function(){}};google.bx||google.lx()}\n",
      "function p(a){google.timers&&google.timers.load&&google.tick&&google.tick(\"load\",\"xjsls\");var b=document;var c=\"SCRIPT\";\"application/xhtml+xml\"===b.contentType&&(c=c.toLowerCase());c=b.createElement(c);if(void 0===g){b=null;var k=d.trustedTypes;if(k&&k.createPolicy){try{b=k.createPolicy(\"goog#html\",{createHTML:e,createScript:e,createScriptURL:e})}catch(q){d.console&&d.console.error(q.message)}g=b}else g=b}a=(b=g)?b.createScriptURL(a):a;a=new l(a,h);c.src=a instanceof l&&a.constructor===l?a.g:\"type_error:TrustedResourceUrl\";var f,m;(f=(a=null==(m=(f=(c.ownerDocument&&c.ownerDocument.defaultView||window).document).querySelector)?void 0:m.call(f,\"script[nonce]\"))?a.nonce||a.getAttribute(\"nonce\")||\"\":\"\")&&c.setAttribute(\"nonce\",f);document.body.appendChild(c);google.psa=!0};google.xjsu=u;setTimeout(function(){n()},0);})();function _DumpException(e){throw e;}\n",
      "function _F_installCss(c){}\n",
      "(function(){google.jl={attn:false,blt:'none',chnk:0,dw:false,dwu:true,emtn:0,end:0,ine:false,injs:'none',injt:0,lls:'default',pdt:0,rep:0,snet:true,strt:0,ubm:false,uwp:true};})();(function(){var pmc='{\\x22d\\x22:{},\\x22sb_he\\x22:{\\x22agen\\x22:true,\\x22cgen\\x22:true,\\x22client\\x22:\\x22heirloom-hp\\x22,\\x22dh\\x22:true,\\x22dhqt\\x22:true,\\x22ds\\x22:\\x22\\x22,\\x22ffql\\x22:\\x22id\\x22,\\x22fl\\x22:true,\\x22host\\x22:\\x22google.com\\x22,\\x22isbh\\x22:28,\\x22jsonp\\x22:true,\\x22msgs\\x22:{\\x22cibl\\x22:\\x22Hapus Penelusuran\\x22,\\x22dym\\x22:\\x22Mungkin maksud Anda adalah:\\x22,\\x22lcky\\x22:\\x22Saya Lagi Beruntung\\x22,\\x22lml\\x22:\\x22Pelajari lebih lanjut\\x22,\\x22oskt\\x22:\\x22Fitur input\\x22,\\x22psrc\\x22:\\x22Penelusuran ini telah dihapus dari \\\\u003Ca href\\x3d\\\\\\x22/history\\\\\\x22\\\\u003EHistori Web\\\\u003C/a\\\\u003E Anda\\x22,\\x22psrl\\x22:\\x22Hapus\\x22,\\x22sbit\\x22:\\x22Telusuri gambar\\x22,\\x22srch\\x22:\\x22Penelusuran Google\\x22},\\x22ovr\\x22:{},\\x22pq\\x22:\\x22\\x22,\\x22refpd\\x22:true,\\x22rfs\\x22:[],\\x22sbas\\x22:\\x220 3px 8px 0 rgba(0,0,0,0.2),0 0 0 1px rgba(0,0,0,0.08)\\x22,\\x22sbpl\\x22:16,\\x22sbpr\\x22:16,\\x22scd\\x22:10,\\x22stok\\x22:\\x228GcKMC3fvLacQ0X-093Px_fcEBw\\x22,\\x22uhde\\x22:false}}';google.pmc=JSON.parse(pmc);})();</script>        </body></html>\n"
     ]
    }
   ],
   "source": [
    "# In using-requests.py\n",
    "\n",
    "import requests\n",
    "\n",
    "url = 'https://www.google.com'\n",
    "response = requests.get(url)\n",
    "print(f'Response returned: {response.status_code}, {response.reason}')\n",
    "print(response.text)"
   ]
  },
  {
   "cell_type": "markdown",
   "id": "4b38038d",
   "metadata": {},
   "source": [
    "Seperti yang kalian lihat, requests.get() menangani koneksi HTTP untuk kalian dan mengembalikan objek respons yang mirip dengan contoh asli tetapi dengan beberapa peningkatan antarmuka."
   ]
  },
  {
   "cell_type": "markdown",
   "id": "a468dcf9",
   "metadata": {},
   "source": [
    "# Using Requirement Files\n",
    "\n",
    "Untuk menginstall versi tertentu dari sebuah paket, kalian harus membuat spesifikasi dependensi dan versi yang kalian gunakan untuk mengembangkan dan menguji aplikasi kalian, sehingga tidak ada masalah ketika kalian menggunakan aplikasi dalam produksi.\n",
    "\n",
    "Requirement files memungkinakan kalian menentukan dengan tepat paket dan versi mana yang harus diinstal. Menjalankan pip help menunjukan bahwa ada freeze command yang mengeluarkan paket yang diinstal dalam formal requirements."
   ]
  },
  {
   "cell_type": "code",
   "execution_count": 116,
   "id": "19f01561",
   "metadata": {},
   "outputs": [
    {
     "name": "stdout",
     "output_type": "stream",
     "text": [
      "\n",
      "Usage:   \n",
      "  pip <command> [options]\n",
      "\n",
      "Commands:\n",
      "  install                     Install packages.\n",
      "  download                    Download packages.\n",
      "  uninstall                   Uninstall packages.\n",
      "  freeze                      Output installed packages in requirements format.\n",
      "  list                        List installed packages.\n",
      "  show                        Show information about installed packages.\n",
      "  check                       Verify installed packages have compatible dependencies.\n",
      "  config                      Manage local and global configuration.\n",
      "  search                      Search PyPI for packages.\n",
      "  cache                       Inspect and manage pip's wheel cache.\n",
      "  index                       Inspect information available from package indexes.\n",
      "  wheel                       Build wheels from your requirements.\n",
      "  hash                        Compute hashes of package archives.\n",
      "  completion                  A helper command used for command completion.\n",
      "  debug                       Show information useful for debugging.\n",
      "  help                        Show help for commands.\n",
      "\n",
      "General Options:\n",
      "  -h, --help                  Show help.\n",
      "  --isolated                  Run pip in an isolated mode, ignoring\n",
      "                              environment variables and user configuration.\n",
      "  -v, --verbose               Give more output. Option is additive, and can be\n",
      "                              used up to 3 times.\n",
      "  -V, --version               Show version and exit.\n",
      "  -q, --quiet                 Give less output. Option is additive, and can be\n",
      "                              used up to 3 times (corresponding to WARNING,\n",
      "                              ERROR, and CRITICAL logging levels).\n",
      "  --log <path>                Path to a verbose appending log.\n",
      "  --no-input                  Disable prompting for input.\n",
      "  --proxy <proxy>             Specify a proxy in the form\n",
      "                              [user:passwd@]proxy.server:port.\n",
      "  --retries <retries>         Maximum number of retries each connection should\n",
      "                              attempt (default 5 times).\n",
      "  --timeout <sec>             Set the socket timeout (default 15 seconds).\n",
      "  --exists-action <action>    Default action when a path already exists:\n",
      "                              (s)witch, (i)gnore, (w)ipe, (b)ackup, (a)bort.\n",
      "  --trusted-host <hostname>   Mark this host or host:port pair as trusted,\n",
      "                              even though it does not have valid or any HTTPS.\n",
      "  --cert <path>               Path to PEM-encoded CA certificate bundle. If\n",
      "                              provided, overrides the default. See 'SSL\n",
      "                              Certificate Verification' in pip documentation\n",
      "                              for more information.\n",
      "  --client-cert <path>        Path to SSL client certificate, a single file\n",
      "                              containing the private key and the certificate\n",
      "                              in PEM format.\n",
      "  --cache-dir <dir>           Store the cache data in <dir>.\n",
      "  --no-cache-dir              Disable the cache.\n",
      "  --disable-pip-version-check\n",
      "                              Don't periodically check PyPI to determine\n",
      "                              whether a new version of pip is available for\n",
      "                              download. Implied with --no-index.\n",
      "  --no-color                  Suppress colored output.\n",
      "  --no-python-version-warning\n",
      "                              Silence deprecation warnings for upcoming\n",
      "                              unsupported Pythons.\n",
      "  --use-feature <feature>     Enable new functionality, that may be backward\n",
      "                              incompatible.\n",
      "  --use-deprecated <feature>  Enable deprecated functionality, that will be\n",
      "                              removed in the future.\n"
     ]
    }
   ],
   "source": [
    "!pip help"
   ]
  },
  {
   "cell_type": "code",
   "execution_count": 122,
   "id": "a80f9a2d",
   "metadata": {},
   "outputs": [],
   "source": [
    "!pip freeze > requirements.txt"
   ]
  },
  {
   "cell_type": "markdown",
   "id": "52a0afd6",
   "metadata": {},
   "source": [
    "Perintah <b>freeze</b> membuang semua paket dan versinya ke output standar, sehingga kalian dapat mengarahkan output ke file yang dapat digunakan untuk menginstal persyaratan yang tepat ke sistem lain. Ketentuannya adalah menamai file ini <b>requirements.txt</b>, tetapi kalian dapat memberikannya nama apa pun yang kalian inginkan."
   ]
  },
  {
   "cell_type": "code",
   "execution_count": 128,
   "id": "7fa8afb4",
   "metadata": {},
   "outputs": [
    {
     "name": "stdout",
     "output_type": "stream",
     "text": [
      "Processing c:\\home\\ktietz\\src\\ci\\alabaster_1611921544520\\work\n"
     ]
    },
    {
     "name": "stderr",
     "output_type": "stream",
     "text": [
      "ERROR: Could not install packages due to an OSError: [Errno 2] No such file or directory: 'C:\\\\home\\\\ktietz\\\\src\\\\ci\\\\alabaster_1611921544520\\\\work'\n",
      "\n"
     ]
    }
   ],
   "source": [
    "!pip install -r requirements.txt"
   ]
  },
  {
   "cell_type": "code",
   "execution_count": 129,
   "id": "703ec5bd",
   "metadata": {},
   "outputs": [
    {
     "name": "stdout",
     "output_type": "stream",
     "text": [
      "Package                            Version\n",
      "---------------------------------- --------------------\n",
      "alabaster                          0.7.12\n",
      "altair                             4.2.0\n",
      "anaconda-client                    1.9.0\n",
      "anaconda-navigator                 2.1.2\n",
      "anaconda-project                   0.10.1\n",
      "anyio                              2.2.0\n",
      "appdirs                            1.4.4\n",
      "argh                               0.26.2\n",
      "argon2-cffi                        20.1.0\n",
      "arrow                              0.13.1\n",
      "asn1crypto                         1.4.0\n",
      "astroid                            2.6.6\n",
      "astropy                            4.3.1\n",
      "async-generator                    1.10\n",
      "atomicwrites                       1.4.0\n",
      "attrs                              21.2.0\n",
      "autopep8                           1.5.7\n",
      "Babel                              2.9.1\n",
      "backcall                           0.2.0\n",
      "backports.functools-lru-cache      1.6.4\n",
      "backports.shutil-get-terminal-size 1.0.0\n",
      "backports.tempfile                 1.0\n",
      "backports.weakref                  1.0.post1\n",
      "bcrypt                             3.2.0\n",
      "beautifulsoup4                     4.10.0\n",
      "binaryornot                        0.4.4\n",
      "bitarray                           2.3.0\n",
      "bkcharts                           0.2\n",
      "black                              19.10b0\n",
      "bleach                             4.0.0\n",
      "bokeh                              2.4.1\n",
      "boto                               2.49.0\n",
      "Bottleneck                         1.3.2\n",
      "branca                             0.4.2\n",
      "brotlipy                           0.7.0\n",
      "cached-property                    1.5.2\n",
      "certifi                            2021.10.8\n",
      "cffi                               1.14.6\n",
      "chardet                            4.0.0\n",
      "charset-normalizer                 2.0.4\n",
      "click                              8.0.3\n",
      "cloudpickle                        2.0.0\n",
      "clyent                             1.2.2\n",
      "colorama                           0.4.4\n",
      "comtypes                           1.1.10\n",
      "conda                              4.11.0\n",
      "conda-build                        3.21.6\n",
      "conda-content-trust                0+unknown\n",
      "conda-pack                         0.6.0\n",
      "conda-package-handling             1.7.3\n",
      "conda-repo-cli                     1.0.4\n",
      "conda-token                        0.3.0\n",
      "conda-verify                       3.4.2\n",
      "contextlib2                        0.6.0.post1\n",
      "cookiecutter                       1.7.2\n",
      "cryptography                       3.4.8\n",
      "cycler                             0.10.0\n",
      "Cython                             0.29.24\n",
      "cytoolz                            0.11.0\n",
      "daal4py                            2021.3.0\n",
      "dask                               2021.10.0\n",
      "debugpy                            1.4.1\n",
      "decorator                          5.1.0\n",
      "defusedxml                         0.7.1\n",
      "diff-match-patch                   20200713\n",
      "distributed                        2021.10.0\n",
      "docutils                           0.17.1\n",
      "entrypoints                        0.3\n",
      "et-xmlfile                         1.1.0\n",
      "fastcache                          1.1.0\n",
      "filelock                           3.3.1\n",
      "flake8                             3.9.2\n",
      "Flask                              1.1.2\n",
      "folium                             0.5.0\n",
      "fonttools                          4.25.0\n",
      "fsspec                             2021.10.1\n",
      "future                             0.18.2\n",
      "gevent                             21.8.0\n",
      "glob2                              0.7\n",
      "greenlet                           1.1.1\n",
      "h5py                               3.2.1\n",
      "HeapDict                           1.0.1\n",
      "html5lib                           1.1\n",
      "idna                               3.2\n",
      "imagecodecs                        2021.8.26\n",
      "imageio                            2.9.0\n",
      "imagesize                          1.2.0\n",
      "importlib-metadata                 4.8.1\n",
      "inflection                         0.5.1\n",
      "iniconfig                          1.1.1\n",
      "intervaltree                       3.1.0\n",
      "ipykernel                          6.4.1\n",
      "ipython                            7.29.0\n",
      "ipython-genutils                   0.2.0\n",
      "ipywidgets                         7.6.5\n",
      "isort                              5.9.3\n",
      "itsdangerous                       2.0.1\n",
      "jdcal                              1.4.1\n",
      "jedi                               0.18.0\n",
      "Jinja2                             2.11.3\n",
      "jinja2-time                        0.2.0\n",
      "joblib                             1.1.0\n",
      "json5                              0.9.6\n",
      "jsonschema                         3.2.0\n",
      "jupyter                            1.0.0\n",
      "jupyter-client                     6.1.12\n",
      "jupyter-console                    6.4.0\n",
      "jupyter-core                       4.8.1\n",
      "jupyter-server                     1.4.1\n",
      "jupyterlab                         3.2.1\n",
      "jupyterlab-pygments                0.1.2\n",
      "jupyterlab-server                  2.8.2\n",
      "jupyterlab-widgets                 1.0.0\n",
      "keyring                            23.1.0\n",
      "kiwisolver                         1.3.1\n",
      "lazy-object-proxy                  1.6.0\n",
      "libarchive-c                       2.9\n",
      "llvmlite                           0.37.0\n",
      "locket                             0.2.1\n",
      "lxml                               4.6.3\n",
      "MarkupSafe                         1.1.1\n",
      "matplotlib                         3.4.3\n",
      "matplotlib-inline                  0.1.2\n",
      "mccabe                             0.6.1\n",
      "menuinst                           1.4.18\n",
      "mistune                            0.8.4\n",
      "mkl-fft                            1.3.1\n",
      "mkl-random                         1.2.2\n",
      "mkl-service                        2.4.0\n",
      "mock                               4.0.3\n",
      "more-itertools                     8.10.0\n",
      "mpmath                             1.2.1\n",
      "msgpack                            1.0.2\n",
      "multipledispatch                   0.6.0\n",
      "munkres                            1.1.4\n",
      "mypy-extensions                    0.4.3\n",
      "navigator-updater                  0.2.1\n",
      "nbclassic                          0.2.6\n",
      "nbclient                           0.5.3\n",
      "nbconvert                          6.1.0\n",
      "nbformat                           5.1.3\n",
      "nest-asyncio                       1.5.1\n",
      "networkx                           2.6.3\n",
      "nltk                               3.6.5\n",
      "nose                               1.3.7\n",
      "notebook                           6.4.5\n",
      "numba                              0.54.1\n",
      "numexpr                            2.7.3\n",
      "numpy                              1.20.3\n",
      "numpydoc                           1.1.0\n",
      "olefile                            0.46\n",
      "openpyxl                           3.0.9\n",
      "packaging                          21.0\n",
      "pandas                             1.3.4\n",
      "pandocfilters                      1.4.3\n",
      "paramiko                           2.7.2\n",
      "parso                              0.8.2\n",
      "partd                              1.2.0\n",
      "path                               16.0.0\n",
      "pathlib2                           2.3.6\n",
      "pathspec                           0.7.0\n",
      "patsy                              0.5.2\n",
      "pep8                               1.7.1\n",
      "pexpect                            4.8.0\n",
      "pickleshare                        0.7.5\n",
      "Pillow                             8.4.0\n",
      "pip                                21.2.4\n",
      "pkginfo                            1.7.1\n",
      "pluggy                             0.13.1\n",
      "ply                                3.11\n",
      "poyo                               0.5.0\n",
      "prometheus-client                  0.11.0\n",
      "prompt-toolkit                     3.0.20\n",
      "psutil                             5.8.0\n",
      "ptyprocess                         0.7.0\n",
      "py                                 1.10.0\n",
      "pycodestyle                        2.7.0\n",
      "pycosat                            0.6.3\n",
      "pycparser                          2.20\n",
      "pycurl                             7.44.1\n",
      "pydocstyle                         6.1.1\n",
      "pyerfa                             2.0.0\n",
      "pyflakes                           2.3.1\n",
      "Pygments                           2.10.0\n",
      "PyJWT                              2.1.0\n",
      "pylint                             2.9.6\n",
      "pyls-spyder                        0.4.0\n",
      "PyNaCl                             1.4.0\n",
      "pyodbc                             4.0.0-unsupported\n",
      "pyOpenSSL                          21.0.0\n",
      "pyparsing                          3.0.4\n",
      "pyreadline                         2.1\n",
      "pyrsistent                         0.18.0\n",
      "PySocks                            1.7.1\n",
      "pytest                             6.2.4\n",
      "python-dateutil                    2.8.2\n",
      "python-lsp-black                   1.0.0\n",
      "python-lsp-jsonrpc                 1.0.0\n",
      "python-lsp-server                  1.2.4\n",
      "python-slugify                     5.0.2\n",
      "pytz                               2021.3\n",
      "PyWavelets                         1.1.1\n",
      "pywin32                            228\n",
      "pywin32-ctypes                     0.2.0\n",
      "pywinpty                           0.5.7\n",
      "PyYAML                             6.0\n",
      "pyzmq                              22.2.1\n",
      "QDarkStyle                         3.0.2\n",
      "qstylizer                          0.1.10\n",
      "QtAwesome                          1.0.2\n",
      "qtconsole                          5.1.1\n",
      "QtPy                               1.10.0\n",
      "regex                              2021.8.3\n",
      "requests                           2.26.0\n",
      "rope                               0.19.0\n",
      "Rtree                              0.9.7\n",
      "ruamel-yaml-conda                  0.15.100\n",
      "scikit-image                       0.18.3\n",
      "scikit-learn                       0.24.2\n",
      "scikit-learn-intelex               2021.20210714.120553\n",
      "scipy                              1.7.1\n",
      "seaborn                            0.11.2\n",
      "Send2Trash                         1.8.0\n",
      "setuptools                         58.0.4\n",
      "simplegeneric                      0.8.1\n",
      "singledispatch                     3.7.0\n",
      "sip                                4.19.13\n",
      "six                                1.16.0\n",
      "sniffio                            1.2.0\n",
      "snowballstemmer                    2.1.0\n",
      "sortedcollections                  2.1.0\n",
      "sortedcontainers                   2.4.0\n",
      "soupsieve                          2.2.1\n",
      "Sphinx                             4.2.0\n",
      "sphinxcontrib-applehelp            1.0.2\n",
      "sphinxcontrib-devhelp              1.0.2\n",
      "sphinxcontrib-htmlhelp             2.0.0\n",
      "sphinxcontrib-jsmath               1.0.1\n",
      "sphinxcontrib-qthelp               1.0.3\n",
      "sphinxcontrib-serializinghtml      1.1.5\n",
      "sphinxcontrib-websupport           1.2.4\n",
      "spyder                             5.1.5\n",
      "spyder-kernels                     2.1.3\n",
      "SQLAlchemy                         1.4.22\n",
      "statsmodels                        0.12.2\n",
      "sympy                              1.9\n",
      "tables                             3.6.1\n",
      "TBB                                0.2\n",
      "tblib                              1.7.0\n",
      "terminado                          0.9.4\n",
      "testpath                           0.5.0\n",
      "text-unidecode                     1.3\n",
      "textdistance                       4.2.1\n",
      "threadpoolctl                      2.2.0\n",
      "three-merge                        0.1.1\n",
      "tifffile                           2021.7.2\n",
      "tinycss                            0.4\n",
      "toml                               0.10.2\n",
      "toolz                              0.11.1\n",
      "tornado                            6.1\n",
      "tqdm                               4.62.3\n",
      "traitlets                          5.1.0\n",
      "typed-ast                          1.4.3\n",
      "typing-extensions                  3.10.0.2\n",
      "ujson                              4.0.2\n",
      "unicodecsv                         0.14.1\n",
      "Unidecode                          1.2.0\n",
      "urllib3                            1.26.7\n",
      "vincent                            0.4.4\n",
      "watchdog                           2.1.3\n",
      "wcwidth                            0.2.5\n",
      "webencodings                       0.5.1\n",
      "Werkzeug                           2.0.2\n",
      "wheel                              0.37.0\n",
      "whichcraft                         0.6.1\n",
      "widgetsnbextension                 3.5.1\n",
      "win-inet-pton                      1.1.0\n",
      "win-unicode-console                0.5\n",
      "wincertstore                       0.2\n",
      "wordcloud                          1.8.1\n",
      "wrapt                              1.12.1\n",
      "xlrd                               2.0.1\n",
      "XlsxWriter                         3.0.1\n",
      "xlwings                            0.24.9\n",
      "xlwt                               1.3.0\n",
      "xmltodict                          0.12.0\n",
      "yapf                               0.31.0\n",
      "zict                               2.0.0\n",
      "zipp                               3.6.0\n",
      "zope.event                         4.5.0\n",
      "zope.interface                     5.4.0\n"
     ]
    }
   ],
   "source": [
    "!pip list"
   ]
  },
  {
   "cell_type": "markdown",
   "id": "0d3bfdca",
   "metadata": {},
   "source": [
    "# Finding Packages to Use\n",
    "\n",
    "Akan ada saat-saat ketika kalian perlu memecahkan masalah yang berbeda, dan kalian akan ingin mencari alat atau pustaka lain yang dapat membantu kalian. Seperti yang kalian lihat di atas, <b>pip help menunjukan bahwa ada perintah pencarian yang mencari paket yang dipublikasikan ke PyPI</b>."
   ]
  },
  {
   "cell_type": "markdown",
   "id": "871aebaa",
   "metadata": {},
   "source": [
    "<b>!pip help search</b>\n",
    "\n",
    "Perintah mengambil satu set opsi yang tercantum di atas dan query. Kueqi hanyalah string untuk dicari dan akan cocok dengan paket dan dekripsinya."
   ]
  },
  {
   "cell_type": "markdown",
   "id": "2e813d31",
   "metadata": {},
   "source": [
    "Misalkan aplikasi kalian perlu mengakses layanan yang menggunakan OAuth2 untuk otorisasi. Idealnya, ada perpustakaan yang bekerja dengan requests atau dengan antarmuka serupa yang dapat membantu kita. Mari kita telusuri PyPI menggunakan pip:\n",
    "    \n",
    "<b>!pip search requests oauth</b>"
   ]
  },
  {
   "cell_type": "markdown",
   "id": "281ef9ca",
   "metadata": {},
   "source": [
    "# Uninstalling Packages\n",
    "\n",
    "Sebelum kalian menghapus paket, pastikan kalian menjalankan perintah show untuk package tersebut:\n",
    "\n",
    "<b>!pip show requests</b>"
   ]
  },
  {
   "cell_type": "markdown",
   "id": "f81e2806",
   "metadata": {},
   "source": [
    "Perhatikan dua kolom terakhir <b>Requires dan Required-by</b>. Perintah show memberi tahu kita bahwa requests membutuhkan <b>urllib3, certifi, chardet, dan idna</b>. Kalian mungkin ingin menghapus keduanya. Kalian juga dapat melihat bahwa requests tidak diperlukan oleh paket lain, jadi aman untuk menghapusnya."
   ]
  },
  {
   "cell_type": "markdown",
   "id": "42ee7f20",
   "metadata": {},
   "source": [
    "Kalian harus menjalankan perintah show terhadap semua dependensi permintaan untuk memastikan tidak ada library lain yang juga bergantung padanya. Setelah kalian memahami urutan ketergantungan paket yang ingin kalian copot pemasangannya, kalian dapat menghapusnya menggunakan perintah uninstall:\n",
    "\n",
    "<b>!pip uninstall certifi</b>"
   ]
  },
  {
   "cell_type": "markdown",
   "id": "fdca8d5a",
   "metadata": {},
   "source": [
    "Menghapus instalan paket menunjukan kepada kalian file yang akan dihapus dan akan meminta konfirmasi. Jika kalian yakin ingin menghapus paket karena kalian telah memeriksa dependensinya dan mengetahui bahwa tidak ada orang lain yang menggunakannya, kalian dapat meneruskan -y untuk menyembunyikan daftar file dan konfirmasi:\n",
    "\n",
    "<b>!pip uninstall urllib3 -y</b>"
   ]
  }
 ],
 "metadata": {
  "kernelspec": {
   "display_name": "Python 3 (ipykernel)",
   "language": "python",
   "name": "python3"
  },
  "language_info": {
   "codemirror_mode": {
    "name": "ipython",
    "version": 3
   },
   "file_extension": ".py",
   "mimetype": "text/x-python",
   "name": "python",
   "nbconvert_exporter": "python",
   "pygments_lexer": "ipython3",
   "version": "3.9.7"
  }
 },
 "nbformat": 4,
 "nbformat_minor": 5
}
