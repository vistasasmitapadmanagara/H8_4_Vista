{
 "cells": [
  {
   "cell_type": "markdown",
   "id": "4899a703",
   "metadata": {},
   "source": [
    "# NumPy (Numerical Python)\n",
    "\n",
    "Inti dari ekosistem ilmiah Python dan PyData. Pustaka NumPy berisi multidimensional array dan struktur data matriks. NumPy dapat digunakan untuk melakukan berbagai operasi matematika pada array."
   ]
  },
  {
   "cell_type": "code",
   "execution_count": 1,
   "id": "ed34e653",
   "metadata": {},
   "outputs": [
    {
     "name": "stdout",
     "output_type": "stream",
     "text": [
      "Requirement already satisfied: numpy in c:\\users\\lenovo\\anaconda3\\lib\\site-packages (1.20.3)\n",
      "Note: you may need to restart the kernel to use updated packages.\n"
     ]
    }
   ],
   "source": [
    "# Instalasi NumPy\n",
    "\n",
    "%pip install numpy\n"
   ]
  },
  {
   "cell_type": "code",
   "execution_count": 2,
   "id": "70105e3d",
   "metadata": {},
   "outputs": [],
   "source": [
    "# Import NumPy\n",
    "\n",
    "import numpy as np"
   ]
  },
  {
   "cell_type": "markdown",
   "id": "792f4a9e",
   "metadata": {},
   "source": [
    "Array NumPy lebih cepat dan lebih compact daripada List Python. Sebuah array mengkonsumsi lebih sedikit memori dan jauh lebih convenient untuk digunakan."
   ]
  },
  {
   "cell_type": "markdown",
   "id": "52216d77",
   "metadata": {},
   "source": [
    "Array adalah struktur data central dari perpustakaan NumPy. Semua elemen memiliki tipe yang sama, disebut sebagai array stype(data type)."
   ]
  },
  {
   "cell_type": "markdown",
   "id": "10a7d782",
   "metadata": {},
   "source": [
    "Rank dari array adalah jumlah dimensi.\n",
    "Shape dari array adalah tuple bilangan bulat yang memberikan ukuran array di setiap dimensi."
   ]
  },
  {
   "cell_type": "code",
   "execution_count": 3,
   "id": "4ddfbf3b",
   "metadata": {},
   "outputs": [
    {
     "name": "stdout",
     "output_type": "stream",
     "text": [
      "[1 2 3 4]\n",
      "[5 6 7 8]\n",
      "[5 6 7 8]\n"
     ]
    }
   ],
   "source": [
    "a = np.array([[1,2,3,4], [5,6,7,8], [9,10,11,12]])\n",
    "\n",
    "print(a[0])\n",
    "print(a[-2])\n",
    "print(a[1])"
   ]
  },
  {
   "cell_type": "markdown",
   "id": "195c0e16",
   "metadata": {},
   "source": [
    "Ada a=yang disebut dengan \"ndarray\" yang merupakan singkatan dari \"N-dimensional array\".\n",
    "\n",
    "More information:\n",
    "- 1D array (1 dimensi)\n",
    "- 2D array (2 dimensi)\n",
    "- ndarray (n dimensi)\n",
    "- vektor = array dengan satu kolom\n",
    "- matriks = array dengan banyak kolom"
   ]
  },
  {
   "cell_type": "markdown",
   "id": "7b7b57a1",
   "metadata": {},
   "source": [
    "Array itu fixed-size container of items dengan jenis dan ukuran yang sama. Dalam NumPy, dimensi disebut \"axes\" artinya jika memiliki array 2D seperti dibawah ini:\n",
    "    \n",
    "    [[0,0,0],[1,1,1]]\n",
    "\n",
    "array diatas memiliki \"2 axes\". Axes pertama memiliki panjang 2 dan axes kedua memiliki panjang 3."
   ]
  },
  {
   "cell_type": "markdown",
   "id": "6542d3be",
   "metadata": {},
   "source": [
    "Semua elemen dalam array NumPy harus homogen."
   ]
  },
  {
   "cell_type": "markdown",
   "id": "f368cc3a",
   "metadata": {},
   "source": [
    "## Array\n",
    "## Creating Array\n",
    "\n",
    "- np. array()\n",
    "- np.zeros()\n",
    "- np.ones()\n",
    "- np.empty()\n",
    "- np.arange()"
   ]
  },
  {
   "cell_type": "code",
   "execution_count": 4,
   "id": "9fd1e070",
   "metadata": {},
   "outputs": [
    {
     "data": {
      "text/plain": [
       "array([1, 2, 3])"
      ]
     },
     "execution_count": 4,
     "metadata": {},
     "output_type": "execute_result"
    }
   ],
   "source": [
    "# buat array dengan np.array()\n",
    "\n",
    "a = np.array([1,2,3])\n",
    "a"
   ]
  },
  {
   "cell_type": "code",
   "execution_count": 5,
   "id": "3ab7a0be",
   "metadata": {},
   "outputs": [
    {
     "data": {
      "text/plain": [
       "array([0., 0., 0.])"
      ]
     },
     "execution_count": 5,
     "metadata": {},
     "output_type": "execute_result"
    }
   ],
   "source": [
    "# buat array dengan np.zeros()\n",
    "\n",
    "b = np.zeros(3)\n",
    "b"
   ]
  },
  {
   "cell_type": "code",
   "execution_count": 6,
   "id": "09fe4836",
   "metadata": {},
   "outputs": [
    {
     "data": {
      "text/plain": [
       "array([1., 1., 1.])"
      ]
     },
     "execution_count": 6,
     "metadata": {},
     "output_type": "execute_result"
    }
   ],
   "source": [
    "# buat array dengan np.ones()\n",
    "\n",
    "c = np.ones(3)\n",
    "c"
   ]
  },
  {
   "cell_type": "code",
   "execution_count": 7,
   "id": "608a268f",
   "metadata": {},
   "outputs": [
    {
     "data": {
      "text/plain": [
       "array([1., 1., 1.])"
      ]
     },
     "execution_count": 7,
     "metadata": {},
     "output_type": "execute_result"
    }
   ],
   "source": [
    "# buat array dengan np.empty()\n",
    "\n",
    "d = np.empty(3)\n",
    "d"
   ]
  },
  {
   "cell_type": "code",
   "execution_count": 8,
   "id": "f8056987",
   "metadata": {},
   "outputs": [
    {
     "name": "stdout",
     "output_type": "stream",
     "text": [
      "[0 1 2 3]\n",
      "[0 2 4 6 8]\n"
     ]
    }
   ],
   "source": [
    "# buat array dengan np.arange()\n",
    "\n",
    "print(np.arange(4))\n",
    "print(np.arange(0,10,2)) #start, stop, step"
   ]
  },
  {
   "cell_type": "markdown",
   "id": "171921ae",
   "metadata": {},
   "source": [
    "arange([start], stop, [step]) adalah mengatur angka dari awal sampai berhenti.\n",
    "\n",
    "list np mulai dari 0 hingga 10, tetapi jangan sertakan 10 dan buat angka tersebut melakukan kenaikan 2 setiap kali.\n",
    "\n",
    "Perlu diingat! Angka berhenti (10) tidak akan dimasukkan dalam list."
   ]
  },
  {
   "cell_type": "code",
   "execution_count": 9,
   "id": "013706d6",
   "metadata": {},
   "outputs": [
    {
     "name": "stdout",
     "output_type": "stream",
     "text": [
      "[ 2  5  8 11]\n",
      "[ 0  5 10 15]\n",
      "[5 7 9]\n"
     ]
    }
   ],
   "source": [
    "print(np.arange(2,14,3))\n",
    "print(np.arange(0,19,5))\n",
    "print(np.arange(5,10,2))"
   ]
  },
  {
   "cell_type": "markdown",
   "id": "0bd8080f",
   "metadata": {},
   "source": [
    "# Add, Remove dan Sort\n",
    "\n",
    "- np.append()\n",
    "- np.delete()\n",
    "- np.sort()"
   ]
  },
  {
   "cell_type": "code",
   "execution_count": 10,
   "id": "2203d229",
   "metadata": {},
   "outputs": [
    {
     "name": "stdout",
     "output_type": "stream",
     "text": [
      "[ 1  2  3  4  5  6  7  8  9 10 11]\n",
      "[1 3 4 5 6 7 8 9]\n",
      "[1 2 3 4 5 6 7 8 9]\n"
     ]
    }
   ],
   "source": [
    "cc = np.array([1,2,3,4,5,6,7,8,9])\n",
    "\n",
    "print(np.append(cc, [10,11]))\n",
    "print(np.delete(cc, [1]))\n",
    "print(np.sort(cc))"
   ]
  },
  {
   "cell_type": "markdown",
   "id": "40010d9d",
   "metadata": {},
   "source": [
    "# Shape dan Size\n",
    "\n",
    "- ndarray.ndim() = memberitahukan jumlah axes, atau dimensi dari array.\n",
    "- ndarray.size() = memberitahukan jumlah total elem array.\n",
    "- ndarray.shape() = menampilkan tuple integer yang menunjukan jumlah elemn yang disimpan di sepanjang setiap dimensi array. Jika, misalnya, memiliki larik 2D dengan 2 baris dan 3 kolom, maka bentuk lariknya adalah (2,3)"
   ]
  },
  {
   "cell_type": "code",
   "execution_count": 11,
   "id": "d328737b",
   "metadata": {},
   "outputs": [
    {
     "name": "stdout",
     "output_type": "stream",
     "text": [
      "[[[0 1 2 3]\n",
      "  [4 5 6 7]]\n",
      "\n",
      " [[0 1 2 3]\n",
      "  [4 5 6 7]]]\n"
     ]
    }
   ],
   "source": [
    "yy = np.array([\n",
    "    [[0,1,2,3],\n",
    "    [4,5,6,7]],\n",
    "    \n",
    "    [[0,1,2,3],\n",
    "    [4,5,6,7]]\n",
    "])\n",
    "               \n",
    "print(yy)"
   ]
  },
  {
   "cell_type": "code",
   "execution_count": 12,
   "id": "ece5974d",
   "metadata": {},
   "outputs": [
    {
     "data": {
      "text/plain": [
       "3"
      ]
     },
     "execution_count": 12,
     "metadata": {},
     "output_type": "execute_result"
    }
   ],
   "source": [
    "yy.ndim"
   ]
  },
  {
   "cell_type": "code",
   "execution_count": 13,
   "id": "6594ad6a",
   "metadata": {},
   "outputs": [
    {
     "data": {
      "text/plain": [
       "16"
      ]
     },
     "execution_count": 13,
     "metadata": {},
     "output_type": "execute_result"
    }
   ],
   "source": [
    "yy.size"
   ]
  },
  {
   "cell_type": "code",
   "execution_count": 14,
   "id": "17e345e2",
   "metadata": {},
   "outputs": [
    {
     "data": {
      "text/plain": [
       "(2, 2, 4)"
      ]
     },
     "execution_count": 14,
     "metadata": {},
     "output_type": "execute_result"
    }
   ],
   "source": [
    "yy.shape"
   ]
  },
  {
   "cell_type": "code",
   "execution_count": 15,
   "id": "f816439b",
   "metadata": {},
   "outputs": [
    {
     "name": "stdout",
     "output_type": "stream",
     "text": [
      "2\n",
      "6\n",
      "(1, 6)\n"
     ]
    }
   ],
   "source": [
    "zz = np.array([[1,2,3,4,5,6]])\n",
    "\n",
    "print(zz.ndim)\n",
    "print(zz.size)\n",
    "print(zz.shape)"
   ]
  },
  {
   "cell_type": "markdown",
   "id": "abda1598",
   "metadata": {},
   "source": [
    "# Reshape\n",
    "\n",
    "- np.reshape() = memberikan bentuk baru ke array tanpa mengubah datanya.\n",
    "\n",
    "Ingat! Ketika menggunakan metode reshape, array yang ingin dihasilkan harus memiliki jumlah elemen yang sama dengan array asli."
   ]
  },
  {
   "cell_type": "code",
   "execution_count": 16,
   "id": "0c795afd",
   "metadata": {},
   "outputs": [
    {
     "data": {
      "text/plain": [
       "array([0, 1, 2, 3, 4, 5])"
      ]
     },
     "execution_count": 16,
     "metadata": {},
     "output_type": "execute_result"
    }
   ],
   "source": [
    "a = np.arange(6)\n",
    "a"
   ]
  },
  {
   "cell_type": "code",
   "execution_count": 17,
   "id": "38b7f55f",
   "metadata": {},
   "outputs": [
    {
     "data": {
      "text/plain": [
       "array([[0, 1],\n",
       "       [2, 3],\n",
       "       [4, 5]])"
      ]
     },
     "execution_count": 17,
     "metadata": {},
     "output_type": "execute_result"
    }
   ],
   "source": [
    "b = a.reshape(3,2)\n",
    "b"
   ]
  },
  {
   "cell_type": "code",
   "execution_count": 18,
   "id": "f0e6d108",
   "metadata": {},
   "outputs": [
    {
     "data": {
      "text/plain": [
       "array([[0],\n",
       "       [1],\n",
       "       [2],\n",
       "       [3],\n",
       "       [4],\n",
       "       [5]])"
      ]
     },
     "execution_count": 18,
     "metadata": {},
     "output_type": "execute_result"
    }
   ],
   "source": [
    "c = a.reshape(6,1)\n",
    "c"
   ]
  },
  {
   "cell_type": "code",
   "execution_count": 19,
   "id": "c280d385",
   "metadata": {},
   "outputs": [
    {
     "data": {
      "text/plain": [
       "array([[0, 1, 2],\n",
       "       [3, 4, 5]])"
      ]
     },
     "execution_count": 19,
     "metadata": {},
     "output_type": "execute_result"
    }
   ],
   "source": [
    "d = a.reshape(2,3)\n",
    "d"
   ]
  },
  {
   "cell_type": "markdown",
   "id": "99bba3dd",
   "metadata": {},
   "source": [
    "## Convert 1D to 2D\n",
    "\n",
    "- np.newaxis = meningkatkan dimensi array sebesar satu dimensi bila digunakan sekali. Artinya array 1D akan menjado 2D, array 2D akan menjadi array 3D, dan seterusnya.\n",
    "\n",
    "- np.expand_dims\n",
    "\n",
    "Keduanya digunakan untuk meningkatkan dimensi array yang sudah ada."
   ]
  },
  {
   "cell_type": "code",
   "execution_count": 20,
   "id": "970d277c",
   "metadata": {
    "scrolled": true
   },
   "outputs": [
    {
     "data": {
      "text/plain": [
       "(6,)"
      ]
     },
     "execution_count": 20,
     "metadata": {},
     "output_type": "execute_result"
    }
   ],
   "source": [
    "# Contoh\n",
    "\n",
    "j = np.array([1,2,3,4,5,6])\n",
    "j.shape"
   ]
  },
  {
   "cell_type": "code",
   "execution_count": 21,
   "id": "9272777f",
   "metadata": {},
   "outputs": [
    {
     "name": "stdout",
     "output_type": "stream",
     "text": [
      "(1, 6)\n",
      "[[1 2 3 4 5 6]]\n"
     ]
    }
   ],
   "source": [
    "# Bisa gunakan np.newaxis untuk menambahkan axis baru\n",
    "\n",
    "j2 = j[np.newaxis]\n",
    "print(j2.shape)\n",
    "print(j2)"
   ]
  },
  {
   "cell_type": "code",
   "execution_count": 22,
   "id": "aca7b8cc",
   "metadata": {},
   "outputs": [
    {
     "name": "stdout",
     "output_type": "stream",
     "text": [
      "(1, 6)\n",
      "[[1 2 3 4 5 6]]\n"
     ]
    }
   ],
   "source": [
    "# Bisa konversi sebuah array 1D ke bentuk vektor dengan cara memasukan sebuah axis pada dimensi pertama\n",
    "\n",
    "row_vector = j[np.newaxis, :]\n",
    "print(row_vector.shape)\n",
    "print(row_vector)"
   ]
  },
  {
   "cell_type": "code",
   "execution_count": 23,
   "id": "6ff75f61",
   "metadata": {},
   "outputs": [
    {
     "name": "stdout",
     "output_type": "stream",
     "text": [
      "(6, 1)\n",
      "[[1]\n",
      " [2]\n",
      " [3]\n",
      " [4]\n",
      " [5]\n",
      " [6]]\n"
     ]
    }
   ],
   "source": [
    "# untuk vektor kolom, bisa dengan cara memasukan axis pada dimensi kedua\n",
    "\n",
    "col_vector = j[:, np.newaxis]\n",
    "print(col_vector.shape)\n",
    "print(col_vector)"
   ]
  },
  {
   "cell_type": "markdown",
   "id": "9a2eb651",
   "metadata": {},
   "source": [
    "## Perluas array dengan memasukan axis baru pada posisi yang ditentukan dengan np.expand_dims"
   ]
  },
  {
   "cell_type": "code",
   "execution_count": 24,
   "id": "0ce3545b",
   "metadata": {},
   "outputs": [
    {
     "data": {
      "text/plain": [
       "(6,)"
      ]
     },
     "execution_count": 24,
     "metadata": {},
     "output_type": "execute_result"
    }
   ],
   "source": [
    "a = np.array([1,2,3,4,5,6])\n",
    "a.shape"
   ]
  },
  {
   "cell_type": "code",
   "execution_count": 25,
   "id": "8e0124dd",
   "metadata": {},
   "outputs": [
    {
     "data": {
      "text/plain": [
       "(6, 1)"
      ]
     },
     "execution_count": 25,
     "metadata": {},
     "output_type": "execute_result"
    }
   ],
   "source": [
    "b = np.expand_dims(a, axis=1)\n",
    "b.shape"
   ]
  },
  {
   "cell_type": "code",
   "execution_count": 26,
   "id": "b3ab475b",
   "metadata": {},
   "outputs": [
    {
     "data": {
      "text/plain": [
       "(1, 6)"
      ]
     },
     "execution_count": 26,
     "metadata": {},
     "output_type": "execute_result"
    }
   ],
   "source": [
    "c = np.expand_dims(a, axis=0)\n",
    "c.shape"
   ]
  },
  {
   "cell_type": "markdown",
   "id": "ba43dc71",
   "metadata": {},
   "source": [
    "# Indexing and Slicing\n",
    "\n",
    "Cara melakukannya sama seperti kalian slice lists Python."
   ]
  },
  {
   "cell_type": "code",
   "execution_count": 30,
   "id": "ac0d1a6c",
   "metadata": {},
   "outputs": [
    {
     "name": "stdout",
     "output_type": "stream",
     "text": [
      "[3 4 5 6]\n",
      "3\n",
      "[4 5]\n",
      "[4 5 6]\n",
      "4\n"
     ]
    }
   ],
   "source": [
    "data = np.array([3,4,5,6])\n",
    "\n",
    "print(data)\n",
    "print(data[0])\n",
    "print(data[1:3])\n",
    "print(data[1:])\n",
    "print(data[-3])"
   ]
  },
  {
   "cell_type": "markdown",
   "id": "08ddeaf2",
   "metadata": {},
   "source": [
    "Kalian mungkin ingin mengambil bagian dari array atau elemen array tertentu untuk digunakan dalam analisis lebih lanjut atau operasi tambahan. <b>Untuk melakukannya, kalian perlu membuat subset, memotong, dan /atau mengindeks array kalian</b>.\n",
    "\n",
    "Jika kalian ingin memilih nilai dari array kalian yang memenuhi kondisi tertentu, dapat dilakukan langsung dengan NumPy."
   ]
  },
  {
   "cell_type": "code",
   "execution_count": 32,
   "id": "4babc12b",
   "metadata": {},
   "outputs": [
    {
     "data": {
      "text/plain": [
       "array([[ 1,  2,  3,  4,  5],\n",
       "       [ 7,  8,  9, 10, 11],\n",
       "       [13, 14, 15, 16, 17]])"
      ]
     },
     "execution_count": 32,
     "metadata": {},
     "output_type": "execute_result"
    }
   ],
   "source": [
    "a = np.array([[1,2,3,4,5], [7,8,9,10,11], [13,14,15,16,17]])\n",
    "a"
   ]
  },
  {
   "cell_type": "code",
   "execution_count": 36,
   "id": "f716f418",
   "metadata": {},
   "outputs": [
    {
     "name": "stdout",
     "output_type": "stream",
     "text": [
      "[ 7  8  9 10 11 13 14 15 16 17]\n"
     ]
    }
   ],
   "source": [
    "# You can easily print all of the values in the array that are less than 12\n",
    "\n",
    "print(a[a>=6])"
   ]
  },
  {
   "cell_type": "markdown",
   "id": "44aa0056",
   "metadata": {},
   "source": [
    "Kalian juga dapat memilih, misalnya angka yang sama dengan atau lebih besar dari 6, dan menggunakan kondisi tersebut untuk mengindeks array."
   ]
  },
  {
   "cell_type": "code",
   "execution_count": 37,
   "id": "972bcbd7",
   "metadata": {},
   "outputs": [
    {
     "name": "stdout",
     "output_type": "stream",
     "text": [
      "[ 7  8  9 10 11 13 14 15 16 17]\n",
      "[ 7  8  9 10 11 13 14 15 16 17]\n"
     ]
    }
   ],
   "source": [
    "six_up = (a >= 6)\n",
    "\n",
    "print(a[six_up])\n",
    "print(a[a >= 6])"
   ]
  },
  {
   "cell_type": "code",
   "execution_count": 38,
   "id": "e9029701",
   "metadata": {},
   "outputs": [
    {
     "name": "stdout",
     "output_type": "stream",
     "text": [
      "[ 2  4  8 10 14 16]\n"
     ]
    }
   ],
   "source": [
    "# You can select elements that are divisible by 2\n",
    "\n",
    "divisible_by_2 = a[a%2==0]\n",
    "print(divisible_by_2)"
   ]
  },
  {
   "cell_type": "code",
   "execution_count": 39,
   "id": "660bdbcc",
   "metadata": {},
   "outputs": [
    {
     "name": "stdout",
     "output_type": "stream",
     "text": [
      "[ 3  4  5  7  8  9 10]\n"
     ]
    }
   ],
   "source": [
    "# you can select elements that satisfy two conditions using the & and | operators\n",
    "\n",
    "c = a[(a > 2) & (a < 11)]\n",
    "print(c)"
   ]
  },
  {
   "cell_type": "markdown",
   "id": "66121fc8",
   "metadata": {},
   "source": [
    "# Creating Array from Existing Data\n",
    "\n",
    "- slicing indexing\n",
    "- np.vstack()\n",
    "- np.hstack()\n",
    "- np.hsplit()\n",
    "- .view()\n",
    "- .copy()\n",
    "\n",
    "Kalian dapat membuat array baru dari bagian array kalian kapan saja dengan menentukan dimana kalian ingin mengiris/slice array kalian."
   ]
  },
  {
   "cell_type": "code",
   "execution_count": 42,
   "id": "d05c6a7b",
   "metadata": {},
   "outputs": [
    {
     "data": {
      "text/plain": [
       "array([40, 50, 60, 70, 80])"
      ]
     },
     "execution_count": 42,
     "metadata": {},
     "output_type": "execute_result"
    }
   ],
   "source": [
    "arr = np.array([10,20,30,40,50,60,70,80,90,100])\n",
    "arr1 = arr[3:8]\n",
    "arr1"
   ]
  },
  {
   "cell_type": "markdown",
   "id": "eed5e6a4",
   "metadata": {},
   "source": [
    "Kalian juga dapat menumpuk dua array yang ada, baik secara vertikal maupun horizontal."
   ]
  },
  {
   "cell_type": "markdown",
   "id": "7fae55d2",
   "metadata": {},
   "source": [
    "Kalian dapat menumpuk secara vertikal dengan <b>vstack</b>"
   ]
  },
  {
   "cell_type": "code",
   "execution_count": 43,
   "id": "126f9ba4",
   "metadata": {},
   "outputs": [
    {
     "data": {
      "text/plain": [
       "array([[1, 1],\n",
       "       [2, 2],\n",
       "       [3, 3],\n",
       "       [4, 4]])"
      ]
     },
     "execution_count": 43,
     "metadata": {},
     "output_type": "execute_result"
    }
   ],
   "source": [
    "a1 = np.array([[1,1], [2,2]])\n",
    "a2 = np.array([[3,3], [4,4]])\n",
    "\n",
    "np.vstack((a1, a2))"
   ]
  },
  {
   "cell_type": "code",
   "execution_count": 46,
   "id": "9330bfb5",
   "metadata": {},
   "outputs": [
    {
     "data": {
      "text/plain": [
       "array([[1, 1, 3, 3],\n",
       "       [2, 2, 4, 4]])"
      ]
     },
     "execution_count": 46,
     "metadata": {},
     "output_type": "execute_result"
    }
   ],
   "source": [
    "# Or stack them horizontally with hstack\n",
    "\n",
    "np.hstack((a1, a2))"
   ]
  },
  {
   "cell_type": "markdown",
   "id": "33af017e",
   "metadata": {},
   "source": [
    "<b>Kalian dapat membagi sebuah array menjadi beberapa array yang lebih kecil menggunakan hsplit</b>. Kalian dapat menentukan jumlah array yang bentuknya sama untuk dikembalikan atau kolom setelah pembagian dilakukan."
   ]
  },
  {
   "cell_type": "code",
   "execution_count": 48,
   "id": "9a0408bd",
   "metadata": {},
   "outputs": [
    {
     "name": "stdout",
     "output_type": "stream",
     "text": [
      "[[ 1  2  3  4  5  6]\n",
      " [ 7  8  9 10 11 12]]\n"
     ]
    }
   ],
   "source": [
    "arrsplit = np.array([[1,2,3,4,5,6], [7,8,9,10,11,12]])\n",
    "print(arrsplit)"
   ]
  },
  {
   "cell_type": "code",
   "execution_count": 50,
   "id": "e5bd8cc9",
   "metadata": {},
   "outputs": [
    {
     "data": {
      "text/plain": [
       "[array([[1, 2],\n",
       "        [7, 8]]),\n",
       " array([[ 3,  4],\n",
       "        [ 9, 10]]),\n",
       " array([[ 5,  6],\n",
       "        [11, 12]])]"
      ]
     },
     "execution_count": 50,
     "metadata": {},
     "output_type": "execute_result"
    }
   ],
   "source": [
    "# if you wanted to split this array into three equallt shaped arrays\n",
    "\n",
    "np.hsplit(arrsplit, 3)"
   ]
  },
  {
   "cell_type": "markdown",
   "id": "14e7fe3c",
   "metadata": {},
   "source": [
    "Kalian dapat menggunakan metode view untuk membuat objek array baru yang terlihat sama dengan array asli (shallow copy)"
   ]
  },
  {
   "cell_type": "code",
   "execution_count": 52,
   "id": "e2ad492a",
   "metadata": {},
   "outputs": [
    {
     "data": {
      "text/plain": [
       "array([[1, 2, 3, 4],\n",
       "       [5, 6, 7, 8],\n",
       "       [9, 9, 9, 9]])"
      ]
     },
     "execution_count": 52,
     "metadata": {},
     "output_type": "execute_result"
    }
   ],
   "source": [
    "a = np.array([[1,2,3,4], [5,6,7,8], [9,9,9,9]])\n",
    "a"
   ]
  },
  {
   "cell_type": "code",
   "execution_count": 53,
   "id": "79187154",
   "metadata": {},
   "outputs": [
    {
     "data": {
      "text/plain": [
       "array([[1, 2, 3, 4],\n",
       "       [5, 6, 7, 8],\n",
       "       [9, 9, 9, 9]])"
      ]
     },
     "execution_count": 53,
     "metadata": {},
     "output_type": "execute_result"
    }
   ],
   "source": [
    "# You can create a new array object that looks at the same data\n",
    "\n",
    "b = a.view()\n",
    "b"
   ]
  },
  {
   "cell_type": "code",
   "execution_count": 54,
   "id": "5b9c7238",
   "metadata": {},
   "outputs": [
    {
     "data": {
      "text/plain": [
       "array([[1, 2, 3, 4],\n",
       "       [5, 6, 7, 8],\n",
       "       [9, 9, 9, 9]])"
      ]
     },
     "execution_count": 54,
     "metadata": {},
     "output_type": "execute_result"
    }
   ],
   "source": [
    "# Using the copy method will make a complete copy of the array an its data (a deep copy)\n",
    "\n",
    "c = a.copy()\n",
    "c"
   ]
  },
  {
   "cell_type": "markdown",
   "id": "973b84a0",
   "metadata": {},
   "source": [
    "# Basic array operations\n",
    "\n",
    "<b>Addition, subtraction, multiplication, division, and more</b>\n",
    "\n",
    "Misalkan kalian punya dua array, yaitu a1 dan a2. Bisa lakukan operasi matematika seperti dibawah ini:\n",
    "\n",
    "- a1 + a2\n",
    "- a1 * a2\n",
    "- a1 / a2"
   ]
  },
  {
   "cell_type": "markdown",
   "id": "9324c11a",
   "metadata": {},
   "source": [
    "Jika kalian ingin menemukan hasil penjumlahan elemen dalam array, kalian dapat menggunakan <b>sum()</b>. Ini berfungsi untuk array 1D, array 2D, dan array dalam dimensi yang lebih tinggi."
   ]
  },
  {
   "cell_type": "code",
   "execution_count": 56,
   "id": "af745029",
   "metadata": {},
   "outputs": [
    {
     "data": {
      "text/plain": [
       "50"
      ]
     },
     "execution_count": 56,
     "metadata": {},
     "output_type": "execute_result"
    }
   ],
   "source": [
    "a = np.array([10,2,34,4])\n",
    "\n",
    "# add all of the elements in the array\n",
    "\n",
    "a.sum()"
   ]
  },
  {
   "cell_type": "markdown",
   "id": "94b15aed",
   "metadata": {},
   "source": [
    "Untuk menambahkan baris atau kolom dalam array 2D, kalian harus menentukan axis."
   ]
  },
  {
   "cell_type": "code",
   "execution_count": 60,
   "id": "bbbc1a80",
   "metadata": {},
   "outputs": [
    {
     "data": {
      "text/plain": [
       "array([[1, 1],\n",
       "       [2, 2]])"
      ]
     },
     "execution_count": 60,
     "metadata": {},
     "output_type": "execute_result"
    }
   ],
   "source": [
    "b = np.array([[1,1], [2,2]])\n",
    "b"
   ]
  },
  {
   "cell_type": "code",
   "execution_count": 61,
   "id": "2a38caf1",
   "metadata": {},
   "outputs": [
    {
     "data": {
      "text/plain": [
       "array([3, 3])"
      ]
     },
     "execution_count": 61,
     "metadata": {},
     "output_type": "execute_result"
    }
   ],
   "source": [
    "# You can sum the rows\n",
    "b.sum(axis=0)"
   ]
  },
  {
   "cell_type": "code",
   "execution_count": 62,
   "id": "a189febc",
   "metadata": {},
   "outputs": [
    {
     "data": {
      "text/plain": [
       "array([2, 4])"
      ]
     },
     "execution_count": 62,
     "metadata": {},
     "output_type": "execute_result"
    }
   ],
   "source": [
    "# You can sum the columns\n",
    "b.sum(axis=1)"
   ]
  },
  {
   "cell_type": "code",
   "execution_count": 64,
   "id": "7a06aae2",
   "metadata": {},
   "outputs": [
    {
     "data": {
      "text/plain": [
       "array([1, 2])"
      ]
     },
     "execution_count": 64,
     "metadata": {},
     "output_type": "execute_result"
    }
   ],
   "source": [
    "data = np.array([1,2])\n",
    "data"
   ]
  },
  {
   "cell_type": "code",
   "execution_count": 67,
   "id": "68a8f330",
   "metadata": {},
   "outputs": [
    {
     "data": {
      "text/plain": [
       "array([1., 1.])"
      ]
     },
     "execution_count": 67,
     "metadata": {},
     "output_type": "execute_result"
    }
   ],
   "source": [
    "ones = np.ones(2)\n",
    "ones"
   ]
  },
  {
   "cell_type": "code",
   "execution_count": 69,
   "id": "d1a7bd5c",
   "metadata": {},
   "outputs": [
    {
     "data": {
      "text/plain": [
       "array([2., 3.])"
      ]
     },
     "execution_count": 69,
     "metadata": {},
     "output_type": "execute_result"
    }
   ],
   "source": [
    "data + ones"
   ]
  },
  {
   "cell_type": "code",
   "execution_count": 70,
   "id": "d7df18a9",
   "metadata": {},
   "outputs": [
    {
     "data": {
      "text/plain": [
       "array([1, 4])"
      ]
     },
     "execution_count": 70,
     "metadata": {},
     "output_type": "execute_result"
    }
   ],
   "source": [
    "data * data"
   ]
  },
  {
   "cell_type": "code",
   "execution_count": 71,
   "id": "d0163d05",
   "metadata": {},
   "outputs": [
    {
     "data": {
      "text/plain": [
       "array([1., 1.])"
      ]
     },
     "execution_count": 71,
     "metadata": {},
     "output_type": "execute_result"
    }
   ],
   "source": [
    "data / data"
   ]
  },
  {
   "cell_type": "markdown",
   "id": "4bcf9b7e",
   "metadata": {},
   "source": [
    "# Broadcasting\n",
    "\n",
    "NumPy memahami bahwa perkalian harus dilakukan dengan setiap sel. Konsep tersebut disebut <b>broadcating</b>.\n",
    "\n",
    "<b>Broadcasting adalah mekanisme yang memungkinkan NumPy melakukan operasi pada array dengan bentuk berbeda</b>. Dimensi array kalian harus kompatibel, misalnya jika dimensi kedua array sama atau salah satunya adalah 1. Jika dimensinya tidak kompatibel, kalian akan mendapatkan valuew error."
   ]
  },
  {
   "cell_type": "code",
   "execution_count": 72,
   "id": "645d7e6d",
   "metadata": {},
   "outputs": [
    {
     "data": {
      "text/plain": [
       "array([2, 4])"
      ]
     },
     "execution_count": 72,
     "metadata": {},
     "output_type": "execute_result"
    }
   ],
   "source": [
    "data * 2"
   ]
  },
  {
   "cell_type": "markdown",
   "id": "00a032b5",
   "metadata": {},
   "source": [
    "# More Array Operations\n",
    "\n",
    "<b>Maximum, minimum, sum, mean, product, standard deviation, and more.</b>\n",
    "\n",
    "NumPy juga melakukan fungsi agregasi. Selain <b>min</b>, <b>max</b>, dan <b>sum</b>, kalian bisa dengan mudah menjalankan \n",
    "\n",
    "- <b>mean untuk mendapatkan rata-rata</b>, \n",
    "\n",
    "- <b>prod untuk mendapatkan hasil perkalian elemen</b>, \n",
    "\n",
    "- <b>std untuk mendapatkan standard devation</b>, dan banyak lagi."
   ]
  },
  {
   "cell_type": "code",
   "execution_count": 75,
   "id": "2764ad71",
   "metadata": {},
   "outputs": [
    {
     "name": "stdout",
     "output_type": "stream",
     "text": [
      "2\n",
      "1\n",
      "3\n"
     ]
    }
   ],
   "source": [
    "print(data.max())\n",
    "print(data.min())\n",
    "print(data.sum())"
   ]
  },
  {
   "cell_type": "code",
   "execution_count": 76,
   "id": "1ac7a4e0",
   "metadata": {},
   "outputs": [
    {
     "name": "stdout",
     "output_type": "stream",
     "text": [
      "[[0.45053314 0.17296777 0.34376245 0.5510652 ]\n",
      " [0.54627315 0.05093587 0.40067661 0.55645993]\n",
      " [0.12697628 0.82485143 0.26590556 0.56917101]]\n"
     ]
    }
   ],
   "source": [
    "A = np.array([[0.45053314, 0.17296777, 0.34376245, 0.5510652], [0.54627315, 0.05093587, 0.40067661, 0.55645993], [0.12697628, 0.82485143, 0.26590556, 0.56917101]])\n",
    "\n",
    "print(A)"
   ]
  },
  {
   "cell_type": "code",
   "execution_count": 77,
   "id": "76bf74d3",
   "metadata": {},
   "outputs": [
    {
     "data": {
      "text/plain": [
       "4.8595784"
      ]
     },
     "execution_count": 77,
     "metadata": {},
     "output_type": "execute_result"
    }
   ],
   "source": [
    "A.sum()"
   ]
  },
  {
   "cell_type": "code",
   "execution_count": 78,
   "id": "0c88404f",
   "metadata": {},
   "outputs": [
    {
     "data": {
      "text/plain": [
       "0.05093587"
      ]
     },
     "execution_count": 78,
     "metadata": {},
     "output_type": "execute_result"
    }
   ],
   "source": [
    "A.min()"
   ]
  },
  {
   "cell_type": "code",
   "execution_count": 79,
   "id": "8c47a821",
   "metadata": {},
   "outputs": [
    {
     "data": {
      "text/plain": [
       "array([0.12697628, 0.05093587, 0.26590556, 0.5510652 ])"
      ]
     },
     "execution_count": 79,
     "metadata": {},
     "output_type": "execute_result"
    }
   ],
   "source": [
    "A.min(axis=0)"
   ]
  },
  {
   "cell_type": "code",
   "execution_count": 80,
   "id": "4f460b83",
   "metadata": {},
   "outputs": [
    {
     "data": {
      "text/plain": [
       "0.82485143"
      ]
     },
     "execution_count": 80,
     "metadata": {},
     "output_type": "execute_result"
    }
   ],
   "source": [
    "A.max()"
   ]
  },
  {
   "cell_type": "code",
   "execution_count": 81,
   "id": "acdc30da",
   "metadata": {},
   "outputs": [
    {
     "data": {
      "text/plain": [
       "array([0.5510652 , 0.55645993, 0.82485143])"
      ]
     },
     "execution_count": 81,
     "metadata": {},
     "output_type": "execute_result"
    }
   ],
   "source": [
    "A.max(axis=1)"
   ]
  },
  {
   "cell_type": "code",
   "execution_count": 82,
   "id": "cbbc95b9",
   "metadata": {},
   "outputs": [
    {
     "data": {
      "text/plain": [
       "0.21392120766089617"
      ]
     },
     "execution_count": 82,
     "metadata": {},
     "output_type": "execute_result"
    }
   ],
   "source": [
    "A.std()"
   ]
  },
  {
   "cell_type": "markdown",
   "id": "f6d168e1",
   "metadata": {},
   "source": [
    "Empat nilai yang tercantum di atas sesuai dengan jumlah kolom dalam array kalian. Dengan array empat kolom, kalian akan mendapatkan empat nilai sebagai hasil kalian."
   ]
  },
  {
   "cell_type": "markdown",
   "id": "16d4ce95",
   "metadata": {},
   "source": [
    "# Membuat Matriks\n",
    "\n",
    "Kita juga dapat menggunakan metode yang sama yang kita sebutkan di atas (<b>ones()</b>, <b>zeros()</b>, dan <b>randwom.random()</b>) selama kita memberi mereka tuple yang menggambarkan dimensi matriks yang kita buat."
   ]
  },
  {
   "cell_type": "code",
   "execution_count": 86,
   "id": "384bb261",
   "metadata": {},
   "outputs": [
    {
     "name": "stdout",
     "output_type": "stream",
     "text": [
      "[[1. 1.]\n",
      " [1. 1.]\n",
      " [1. 1.]]\n",
      "[[0. 0.]\n",
      " [0. 0.]\n",
      " [0. 0.]]\n",
      "[[0.00378515 0.9724797 ]\n",
      " [0.31039677 0.2949198 ]\n",
      " [0.87648627 0.20189121]]\n"
     ]
    }
   ],
   "source": [
    "np.ones((3,2))\n",
    "np.zeros((3,2))\n",
    "np.random.random((3,2))\n",
    "\n",
    "print(np.ones((3,2)))\n",
    "print(np.zeros((3,2)))\n",
    "print(np.random.random((3,2)))"
   ]
  },
  {
   "cell_type": "markdown",
   "id": "45ba7256",
   "metadata": {},
   "source": [
    "# Matrix Arithmetic\n",
    "\n",
    "Kita dapat menjumlahkan dan mengalikan matriks menggunakan operator aritmatika <b>(+ - * /)</b> jika kedua matriks tersebut berukuran sama. NumPy menanganinya sebagai <b>position-wise operations</b>."
   ]
  },
  {
   "cell_type": "code",
   "execution_count": 87,
   "id": "126259d4",
   "metadata": {},
   "outputs": [
    {
     "name": "stdout",
     "output_type": "stream",
     "text": [
      "[[1 2]\n",
      " [3 4]]\n"
     ]
    }
   ],
   "source": [
    "data = np.array([[1,2], [3,4]])\n",
    "print(data)"
   ]
  },
  {
   "cell_type": "code",
   "execution_count": 89,
   "id": "6c5d5aa0",
   "metadata": {},
   "outputs": [
    {
     "name": "stdout",
     "output_type": "stream",
     "text": [
      "[[1. 1.]\n",
      " [1. 1.]]\n"
     ]
    }
   ],
   "source": [
    "ones = np.ones([2,2])\n",
    "print(ones)"
   ]
  },
  {
   "cell_type": "code",
   "execution_count": 90,
   "id": "9d2d902b",
   "metadata": {},
   "outputs": [
    {
     "name": "stdout",
     "output_type": "stream",
     "text": [
      "[[2. 3.]\n",
      " [4. 5.]]\n"
     ]
    }
   ],
   "source": [
    "print(data + ones)"
   ]
  },
  {
   "cell_type": "code",
   "execution_count": 92,
   "id": "6e24338f",
   "metadata": {},
   "outputs": [
    {
     "name": "stdout",
     "output_type": "stream",
     "text": [
      "[[1. 1.]]\n"
     ]
    }
   ],
   "source": [
    "ones_row = np.ones([1,2])\n",
    "print(ones_row)"
   ]
  },
  {
   "cell_type": "code",
   "execution_count": 93,
   "id": "8a9e5cb1",
   "metadata": {},
   "outputs": [
    {
     "name": "stdout",
     "output_type": "stream",
     "text": [
      "[[2. 3.]\n",
      " [4. 5.]]\n"
     ]
    }
   ],
   "source": [
    "print(data + ones_row)"
   ]
  },
  {
   "cell_type": "markdown",
   "id": "188bbcc0",
   "metadata": {},
   "source": [
    "# Dot Product\n",
    "\n",
    "NumPy memberi setiap matriks metode <b>dot()</b> yang dapat kita gunakan untuk menjalankan operasi dot product dengan matriks lain."
   ]
  },
  {
   "cell_type": "code",
   "execution_count": 94,
   "id": "32bc1828",
   "metadata": {},
   "outputs": [
    {
     "name": "stdout",
     "output_type": "stream",
     "text": [
      "[[1 2 3]\n",
      " [4 5 6]]\n",
      "(2, 3)\n",
      "[[ 7  8]\n",
      " [ 8  9]\n",
      " [10 11]]\n",
      "(3, 2)\n"
     ]
    }
   ],
   "source": [
    "a1 = np.array([[1,2,3], [4,5,6]])\n",
    "print(a1)\n",
    "print(a1.shape)\n",
    "\n",
    "a2 = np.array([[7,8], [8,9], [10,11]])\n",
    "print(a2)\n",
    "print(a2.shape)"
   ]
  },
  {
   "cell_type": "code",
   "execution_count": 95,
   "id": "99cd1a9d",
   "metadata": {},
   "outputs": [
    {
     "data": {
      "text/plain": [
       "array([[ 53,  59],\n",
       "       [128, 143]])"
      ]
     },
     "execution_count": 95,
     "metadata": {},
     "output_type": "execute_result"
    }
   ],
   "source": [
    "np.dot(a1, a2)"
   ]
  },
  {
   "cell_type": "markdown",
   "id": "00531cdf",
   "metadata": {},
   "source": [
    "# Matrix Indexing\n",
    "\n",
    "Operasi indexing dan slicing menjadi lebih berguna saat kita memanipulasi matriks."
   ]
  },
  {
   "cell_type": "code",
   "execution_count": 96,
   "id": "f5db2b04",
   "metadata": {},
   "outputs": [
    {
     "name": "stdout",
     "output_type": "stream",
     "text": [
      "[[1 2]\n",
      " [3 4]\n",
      " [5 6]]\n",
      "[1 2]\n",
      "[3 4]\n",
      "[5 6]\n",
      "2\n",
      "[[3 4]\n",
      " [5 6]]\n",
      "[2 4]\n"
     ]
    }
   ],
   "source": [
    "data = np.array([[1,2], [3,4], [5,6]])\n",
    "\n",
    "print(data)\n",
    "print(data[0])\n",
    "print(data[1])\n",
    "print(data[2])\n",
    "print(data[0,1])\n",
    "print(data[1:3])\n",
    "print(data[0:2,1])"
   ]
  },
  {
   "cell_type": "markdown",
   "id": "c9360e22",
   "metadata": {},
   "source": [
    "# Matrix Aggregation\n",
    "\n",
    "Kita dapat menjumlahkan matriks dengan cara yang sama seperti kita menjumlahkan vektor."
   ]
  },
  {
   "cell_type": "code",
   "execution_count": 97,
   "id": "e58a1881",
   "metadata": {},
   "outputs": [
    {
     "name": "stdout",
     "output_type": "stream",
     "text": [
      "[[1 2]\n",
      " [3 4]\n",
      " [5 6]]\n"
     ]
    }
   ],
   "source": [
    "print(data)"
   ]
  },
  {
   "cell_type": "code",
   "execution_count": 98,
   "id": "462186b8",
   "metadata": {},
   "outputs": [
    {
     "name": "stdout",
     "output_type": "stream",
     "text": [
      "6\n",
      "1\n",
      "21\n"
     ]
    }
   ],
   "source": [
    "print(data.max())\n",
    "print(data.min())\n",
    "print(data.sum())"
   ]
  },
  {
   "cell_type": "code",
   "execution_count": 99,
   "id": "c5d5bd32",
   "metadata": {},
   "outputs": [
    {
     "name": "stdout",
     "output_type": "stream",
     "text": [
      "[5 6]\n",
      "[2 4 6]\n"
     ]
    }
   ],
   "source": [
    "print(data.max(axis=0))\n",
    "print(data.max(axis=1))"
   ]
  },
  {
   "cell_type": "markdown",
   "id": "ac16d2bc",
   "metadata": {},
   "source": [
    "# Transposing and Reshaping\n",
    "\n",
    "Kebutuhan umum saat menangani matriks adalah kebutuhan untuk rotate. Hal ini sering terjadi ketika kita perlu melakukan dot product dari dua matriks dan perlu menyelaraskan dimensi mereka. Array NumPy memiliki properti yang disebut <b>T</b> untuk mendapatkan transpos dari sebuah matriks."
   ]
  },
  {
   "cell_type": "code",
   "execution_count": 100,
   "id": "f9ac99ca",
   "metadata": {},
   "outputs": [
    {
     "name": "stdout",
     "output_type": "stream",
     "text": [
      "[[1 2]\n",
      " [3 4]\n",
      " [5 6]]\n"
     ]
    }
   ],
   "source": [
    "print(data)"
   ]
  },
  {
   "cell_type": "code",
   "execution_count": 101,
   "id": "d4e1fcc1",
   "metadata": {},
   "outputs": [
    {
     "name": "stdout",
     "output_type": "stream",
     "text": [
      "[[1 3 5]\n",
      " [2 4 6]]\n"
     ]
    }
   ],
   "source": [
    "print(data.T)"
   ]
  },
  {
   "cell_type": "markdown",
   "id": "733d0492",
   "metadata": {},
   "source": [
    "Metode <b>reshape</b> NumPy berguna dalam kasus ini. Kalian hanya memberikan dimensi baru yang kalian inginkan untuk matriks. Kalian dapat meneruskan -1 untuk dimensi dan NumPy dapat menyimpulkan dimensi yang benar berdasarkan matriks Anda."
   ]
  },
  {
   "cell_type": "code",
   "execution_count": 102,
   "id": "5ec93eb8",
   "metadata": {},
   "outputs": [
    {
     "name": "stdout",
     "output_type": "stream",
     "text": [
      "[[1]\n",
      " [2]\n",
      " [3]\n",
      " [4]\n",
      " [5]\n",
      " [6]]\n"
     ]
    }
   ],
   "source": [
    "data_col = np.array([[1,2,3,4,5,6]]).T\n",
    "print(data_col)"
   ]
  },
  {
   "cell_type": "code",
   "execution_count": 103,
   "id": "3def06d0",
   "metadata": {},
   "outputs": [
    {
     "data": {
      "text/plain": [
       "array([[1, 2, 3],\n",
       "       [4, 5, 6]])"
      ]
     },
     "execution_count": 103,
     "metadata": {},
     "output_type": "execute_result"
    }
   ],
   "source": [
    "data_col.reshape(2,3)"
   ]
  },
  {
   "cell_type": "code",
   "execution_count": 104,
   "id": "51c48d04",
   "metadata": {},
   "outputs": [
    {
     "data": {
      "text/plain": [
       "array([[1, 2],\n",
       "       [3, 4],\n",
       "       [5, 6]])"
      ]
     },
     "execution_count": 104,
     "metadata": {},
     "output_type": "execute_result"
    }
   ],
   "source": [
    "data_col.reshape(3,2)"
   ]
  },
  {
   "cell_type": "markdown",
   "id": "2f202a0a",
   "metadata": {},
   "source": [
    "Kalian juga dapat menggunakan <b>np.transpose untuk membalikan atau mengubah axes array sesuai dengan nilai yang kalian tentukan</b>. Jika kalian mulai dengan array ini:"
   ]
  },
  {
   "cell_type": "code",
   "execution_count": 105,
   "id": "115a3785",
   "metadata": {},
   "outputs": [
    {
     "name": "stdout",
     "output_type": "stream",
     "text": [
      "[[0 1 2]\n",
      " [3 4 5]]\n"
     ]
    }
   ],
   "source": [
    "arr = np.arange(6).reshape((2,3))\n",
    "print(arr)"
   ]
  },
  {
   "cell_type": "markdown",
   "id": "8e64fe81",
   "metadata": {},
   "source": [
    "# N-Dimensional Array\n",
    "\n",
    "NumPy dapat melakukan semua yang telah kita sebutkan dalam berbagai dimensi. Struktur data pusatnya disebut <b>ndarray (N-Dimensional Array)</b> karena suatu alasan."
   ]
  },
  {
   "cell_type": "code",
   "execution_count": 106,
   "id": "deff9f96",
   "metadata": {},
   "outputs": [
    {
     "name": "stdout",
     "output_type": "stream",
     "text": [
      "[[[1 2]\n",
      "  [3 4]\n",
      "  [5 6]\n",
      "  [7 8]]]\n"
     ]
    }
   ],
   "source": [
    "ndarr = np.array([[[1,2], [3,4], [5,6], [7,8]]])\n",
    "\n",
    "print(ndarr)"
   ]
  },
  {
   "cell_type": "markdown",
   "id": "e02f9e87",
   "metadata": {},
   "source": [
    "Dalam bayak hal, berurusan dengan dimensi baru hanyalah dengan <b>menambahkan koma ke parameter fungsi NumPy</b>"
   ]
  },
  {
   "cell_type": "code",
   "execution_count": 108,
   "id": "6bb287bc",
   "metadata": {},
   "outputs": [
    {
     "name": "stdout",
     "output_type": "stream",
     "text": [
      "[[[1. 1.]\n",
      "  [1. 1.]\n",
      "  [1. 1.]]\n",
      "\n",
      " [[1. 1.]\n",
      "  [1. 1.]\n",
      "  [1. 1.]]\n",
      "\n",
      " [[1. 1.]\n",
      "  [1. 1.]\n",
      "  [1. 1.]]\n",
      "\n",
      " [[1. 1.]\n",
      "  [1. 1.]\n",
      "  [1. 1.]]]\n"
     ]
    }
   ],
   "source": [
    "print(np.ones((4,3,2)))"
   ]
  },
  {
   "cell_type": "code",
   "execution_count": 109,
   "id": "cea390ca",
   "metadata": {},
   "outputs": [
    {
     "name": "stdout",
     "output_type": "stream",
     "text": [
      "[[[0. 0.]\n",
      "  [0. 0.]\n",
      "  [0. 0.]]\n",
      "\n",
      " [[0. 0.]\n",
      "  [0. 0.]\n",
      "  [0. 0.]]\n",
      "\n",
      " [[0. 0.]\n",
      "  [0. 0.]\n",
      "  [0. 0.]]\n",
      "\n",
      " [[0. 0.]\n",
      "  [0. 0.]\n",
      "  [0. 0.]]]\n"
     ]
    }
   ],
   "source": [
    "print(np.zeros((4,3,2)))"
   ]
  },
  {
   "cell_type": "code",
   "execution_count": 110,
   "id": "fa73c0d3",
   "metadata": {},
   "outputs": [
    {
     "name": "stdout",
     "output_type": "stream",
     "text": [
      "[[[0.16539477 0.29052254]\n",
      "  [0.04828285 0.81397638]\n",
      "  [0.56478896 0.2733242 ]]\n",
      "\n",
      " [[0.36710018 0.53957731]\n",
      "  [0.98838131 0.19752029]\n",
      "  [0.67092727 0.41230352]]\n",
      "\n",
      " [[0.34185461 0.84360351]\n",
      "  [0.55298299 0.79084543]\n",
      "  [0.77997641 0.35244866]]\n",
      "\n",
      " [[0.63578032 0.51630628]\n",
      "  [0.55945087 0.36024179]\n",
      "  [0.37307903 0.51025697]]]\n"
     ]
    }
   ],
   "source": [
    "print(np.random.random((4,3,2)))"
   ]
  },
  {
   "cell_type": "markdown",
   "id": "cae310e9",
   "metadata": {},
   "source": [
    "# Flatten N-Dimensional Array\n",
    "\n",
    "Ada dua cara populer untuk meratakan array: <b>.flatten()</b> dan <b>.ravel()</b>. Perbedaan utama antara keduanya adalah bahwa array baru yang dibuat menggunakan <b>ravel()</b> sebenernya merupakan referensi ke array induk. Ini berarti bahwa setiap perubahan pada array baru akan mempengaruhi array induk juga. Karena ravel tidak membuat salinan, ini menghemat memori."
   ]
  },
  {
   "cell_type": "code",
   "execution_count": 111,
   "id": "5985f465",
   "metadata": {},
   "outputs": [
    {
     "name": "stdout",
     "output_type": "stream",
     "text": [
      "[[ 1  2  3  4]\n",
      " [ 5  6  7  8]\n",
      " [ 9 10 11 12]]\n"
     ]
    }
   ],
   "source": [
    "arrflat = np.array([[1,2,3,4], [5,6,7,8], [9,10,11,12]])\n",
    "\n",
    "print(arrflat)"
   ]
  },
  {
   "cell_type": "code",
   "execution_count": 112,
   "id": "b15f9a9c",
   "metadata": {},
   "outputs": [
    {
     "data": {
      "text/plain": [
       "array([ 1,  2,  3,  4,  5,  6,  7,  8,  9, 10, 11, 12])"
      ]
     },
     "execution_count": 112,
     "metadata": {},
     "output_type": "execute_result"
    }
   ],
   "source": [
    "# You can use flatten to flatten your array into a 1D array\n",
    "\n",
    "arrflat.flatten()"
   ]
  },
  {
   "cell_type": "markdown",
   "id": "6eee413d",
   "metadata": {},
   "source": [
    "# Working with Math Formulas\n",
    "\n",
    "Mengimplementasikan rumus matematika yang bekerja pada array adalah salah satu hal yang membuat NumPy sangat dihargai di komunitasi ilmiah Python.\n",
    "\n",
    "Misalnya, ini adalah rumus mean square error (rumus utama yang digunakan dalam supervised machine learning model yang menangani regresi):"
   ]
  },
  {
   "cell_type": "code",
   "execution_count": 124,
   "id": "3e2b966b",
   "metadata": {},
   "outputs": [
    {
     "data": {
      "image/png": "[encoded data removed]",
      "text/plain": [
       "<IPython.core.display.Image object>"
      ]
     },
     "execution_count": 124,
     "metadata": {},
     "output_type": "execute_result"
    }
   ],
   "source": [
    "from IPython.display import Image\n",
    "Image(filename='image/meansquare.png')"
   ]
  },
  {
   "cell_type": "markdown",
   "id": "fcf1d923",
   "metadata": {},
   "source": [
    "di NumPy rumusnya seperti ini:\n",
    "\n",
    "<b>error = (1/n) * np.sum(np.square(observed - prediction))</b>"
   ]
  }
 ],
 "metadata": {
  "kernelspec": {
   "display_name": "Python 3 (ipykernel)",
   "language": "python",
   "name": "python3"
  },
  "language_info": {
   "codemirror_mode": {
    "name": "ipython",
    "version": 3
   },
   "file_extension": ".py",
   "mimetype": "text/x-python",
   "name": "python",
   "nbconvert_exporter": "python",
   "pygments_lexer": "ipython3",
   "version": "3.9.7"
  }
 },
 "nbformat": 4,
 "nbformat_minor": 5
}
