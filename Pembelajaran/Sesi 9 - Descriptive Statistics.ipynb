{
 "cells": [
  {
   "cell_type": "markdown",
   "id": "41feb91d",
   "metadata": {},
   "source": [
    "# Descriptive Statistics\n",
    "\n",
    "Melibatkan meringkas dan mengatur data sehingga dapat dengan mudah dipahami. <b>Statistik deskriptif</b>, tidak seperti statistik inferensial, <b>berupaya mendeskripsikan data, tetapi tidak mencoba membuat kesimpulan dari sampel ke seluruh populasi</b>. Disini, kita biasanya mendeskripsikan data dalam sampel. Secara umum berarti bahwa statistik deskriptif, tidak seperti statistik inferensial, <b>tidak dikembangkan berdasarkan teori probabilitas</b>."
   ]
  },
  {
   "cell_type": "markdown",
   "id": "f49aa9d2",
   "metadata": {},
   "source": [
    "Statistik deskriptif dipecah menjadi dua kategori, yaitu:\n",
    "- Measures of central tendency\n",
    "- Measures of variability (spread)"
   ]
  },
  {
   "cell_type": "markdown",
   "id": "08331407",
   "metadata": {},
   "source": [
    "# Population and Samples\n",
    "\n",
    "Populasi adalah sekumpulan dari semua elemen atau item yang kita minati.\n",
    "\n",
    "Subset populasi disebut sampel."
   ]
  },
  {
   "cell_type": "markdown",
   "id": "f0dd9678",
   "metadata": {},
   "source": [
    "# Outliers\n",
    "\n",
    "<b>Outlier(Pencicilan)</b> adalah titik data yang berbeda secara signifikan dari sebagian besar data yang diambil dari sampel atau populasi. Ada banyak kemungkinan penyebab pencicilan, tetapi berikut ini beberapa yang bisa membantu kita:\n",
    "- Natural variation in data\n",
    "- Change in the behavior of the observed system\n",
    "- Errors in data collection\n",
    "\n",
    "<b>Kesalahan pengumpulan data adalah penyebab utama pencicilan.</b>"
   ]
  },
  {
   "cell_type": "markdown",
   "id": "ef9a057a",
   "metadata": {},
   "source": [
    "# Measure of Central Tendency\n",
    "\n",
    "Mengacu pada gagasan bahwa ada <b>satu bilangan yang paling baik untuk meringkas seluruh rangkaian pengukuran</b>, sebuha bilangan yang dalam beberapa hal merupakan <b>\"central\"</b> dari himpunan tersebut."
   ]
  },
  {
   "cell_type": "markdown",
   "id": "d0601cd9",
   "metadata": {},
   "source": [
    "## 1. Mean / Average\n",
    "\n",
    "Adalah, <b>central tendency dari data</b>, angka diantara seluruh data tersebar. Di satu sisi, Mean atau Average adalah angka tunggal yang dapat memperkirakan nilai seluruh kumpulan data."
   ]
  },
  {
   "cell_type": "markdown",
   "id": "895a6a66",
   "metadata": {},
   "source": [
    "## 2. Median\n",
    "\n",
    "Adalah, nilai tengah jika jumlah nilai pada data kita itu ganjil.\n",
    "\n",
    "Adalah, rata-rata dari 2 nilai tengah jika jumlah nilai genap."
   ]
  },
  {
   "cell_type": "markdown",
   "id": "fa97658b",
   "metadata": {},
   "source": [
    "## 3. Modus\n",
    "\n",
    "Adalah, nilai yang muncul secara maksimum dalam kumpulan data, nilai yang memiliki frekuensi tertinggi.\n",
    "\n",
    "Adalah, nilai atau kategori yang paling sering muncul dalam data.\n",
    "\n",
    "- Tetapi mungkin ada kumpulan data dimana tidak ada modus sama sekali karena semua nilai muncul dalam jumlah yang sama. \n",
    "- Jika dua nilai muncul pada waktu yang sama dan lebih dari nilai lainnya maka kumpulan datanya adalah bimodal. \n",
    "- Jika terdapat nilai muncul pada waktu yang sama dan lebih dari nilai lainnya maka kumpulan datanya adalah trimodal.\n",
    "- Dan untuk n mode, kumpulan data tersebut adalah multimodal."
   ]
  },
  {
   "cell_type": "markdown",
   "id": "77385b47",
   "metadata": {},
   "source": [
    "# Measure of Spread / Dispresion\n",
    "\n",
    "Mengacu pada gagasan <b>variabilitas dalam data kita</b>, sehingga juga digunakan untuk mengukur seberapa \"bagus\" mean merepresentasikan kumpulan data."
   ]
  },
  {
   "cell_type": "markdown",
   "id": "80ec33ac",
   "metadata": {},
   "source": [
    "## 1. Standard Deviation/Simpangan Baku\n",
    "\n",
    "Adalah, pengukuran jarak rata-rata antara setiap besaran atau mean. Artinya, bagaimana data disebarkan/seberapa tersebar data dari mean.\n",
    "\n",
    "Standar deviasi yang rendah menunjukan bahwa titik data cenderung mendekati rata-rata kumpulan data, sedangkan Standar deviasi yang tinggi menunjukan bahwa titik data tersebar di nilai yang lebih luas."
   ]
  },
  {
   "cell_type": "markdown",
   "id": "78c10d92",
   "metadata": {},
   "source": [
    "## 2. Mean Deviation / Mean Absolute Deviation\n",
    "\n",
    "Adalah, rata-rata perbedaan absolut antara setiap nilai dalam satu set nilai, dan rata-rata semua nilai dari set itu."
   ]
  },
  {
   "cell_type": "markdown",
   "id": "3f70bea1",
   "metadata": {},
   "source": [
    "## 3. Variance/Varians\n",
    "\n",
    "Adalah, kuadrat jarak rata-rata antara setiap kuantitas dan mean.\n",
    "\n",
    "Adalah kuadrat dari standar deviasi.\n",
    "\n",
    "Dihitung dengan mencari selisih antara setiap titik data dan mean, mengkuadratkannya, menjumlahkannya, dan kemudian mengambil rata-rata dari angka-angka itu."
   ]
  },
  {
   "cell_type": "markdown",
   "id": "31f0e6ae",
   "metadata": {},
   "source": [
    "## 4. Range/Rentang\n",
    "\n",
    "Adalah, salah satu teknik statistik deskriptif yang paling seerhana.\n",
    "\n",
    "Adalah, perbedaan antara nilai terendah dan tertinggi."
   ]
  },
  {
   "cell_type": "markdown",
   "id": "7372396c",
   "metadata": {},
   "source": [
    "## 5. Percentile/Persentil\n",
    "\n",
    "Adalah, cara untuk merepresentasikan posisi suatu nilai dalam kumpulan data. Untuk menghitung persentil, nilai dalam kumpulan data harus selalu dalam urutan ascending/menaik."
   ]
  },
  {
   "cell_type": "markdown",
   "id": "63cd0efe",
   "metadata": {},
   "source": [
    "## 6. Quartiles/Kuartil\n",
    "\n",
    "Adalah, nilai yang membagi data kita menjadi beberapa quarters jika data diurutkan dalam urutan ascending/menaik.\n",
    "\n",
    "Ada tiga nilai kuartil, yaitu:\n",
    "- Kuartil pertama(Q1) adalah median dari sepatuh data atas, berada pada 25 persentil.\n",
    "- Kuartil kedua(Q2) adalah median dari keseluruhan data, berada pada 50 persentil.\n",
    "- Kuartil ketiga(Q3) adalah median dari separuh data bagian bawah, berada pada 75 persentil.\n",
    "\n",
    "Interquartile Range(IQR) = Q3 - Q1"
   ]
  },
  {
   "cell_type": "markdown",
   "id": "f1b362ce",
   "metadata": {},
   "source": [
    "## 7. Skewness\n",
    "\n",
    "Adalah, ukuran asimetri distribusi probabilitas dari real-valued randowm variable tentang meannya. Nilai kemiringan bisa positif atau negatif, atau undefined.\n",
    "\n",
    "Dalam distribusi normal sempurna, ekor di kesua sisi kurva adalah sama persis yang tepat satu sama lain.\n",
    "\n",
    "Ketika distribusi miring ke kiri, ekor di sisi kiri kurva lebih panjang daripada ekor di sisi kanan, dan mean lebih kecil dari mode. Situasi ini juga disebut negative skweness/kemiringan negatif.\n",
    "\n",
    "Jika distribusi miring ke kanan, ekor di sisi kanan kurva lebih panjang daripada ekor di sisi kiri, dan mean lebih besar dari mode. Situasi ini juga disebut positive skewness/kemiringan positif."
   ]
  },
  {
   "cell_type": "markdown",
   "id": "e723e73f",
   "metadata": {},
   "source": [
    "![skewness](gambar/skewness.png \"skewness\")"
   ]
  },
  {
   "cell_type": "markdown",
   "id": "f6833e93",
   "metadata": {},
   "source": [
    "## 8. Kurtosis\n",
    "\n",
    "Kurtosis adalah ukuran apakah data bersifat heavy-tailed (banyak outlier) atau light-tailed (kurang outlier) relatif terhadap distribusi normal.\n",
    "\n",
    "![kurtosis](gambar/kurtosis.png \"Kurtosis\")\n",
    "\n",
    "Ada tiga tipe dari Kurtosis, yaitu:\n",
    "- <b>Mesokurtic</b> adalah distribusi yang memiliki kurtosis serupa dengan kurtosis berdistribusi normal, yaitu nol.\n",
    "\n",
    "\n",
    "- <b>Leptokurtic</b> adalah distribusi yang memiliki kurtosis lebih besar daripada distribusi Mesokurtik. Ekor dari distribusi seperti itu tebal dan berat. Jika kurva suatu distribusi lebih memuncak daripada kurva Mesokurtik, maka hal itu disebut kurva Leptokurtik.\n",
    "\n",
    "\n",
    "- <b>Platykurtic</b> adalah distribusi yang memiliki kurtosis lebih rendah dari distribusi Mesokurtik. Ekor distribusi tersebut lebih tipis. Jika kurva distribusi kurang memuncak dari kurva Mesokurtik, itu disebut sebagai kurva Platykurtic."
   ]
  },
  {
   "cell_type": "markdown",
   "id": "5a44d2cf",
   "metadata": {},
   "source": [
    "Perbedaan utama antara skewness dan kurtosis adalah <b>skewness mengacu pada tingkat simetri, sedangkan kurtosis mengacu pada tingkat keberadaan pencilan dalam distribusi</b>."
   ]
  },
  {
   "cell_type": "markdown",
   "id": "47c8f853",
   "metadata": {},
   "source": [
    "## 9. Correlation\n",
    "\n",
    "Korelasi adalah teknik statistik yang dapat menunjukkan apakah dan seberapa kuat variabel terkait/related.\n",
    "\n",
    "![korelasi](gambar/korelasi.png 'Korelasi')\n",
    "\n",
    "Hasil utama korelasi disebut <b>correlation cefficient (atau 'r')</b>. Correlation coefficient berkisar dari -1,0 hingga +1,0. Semakin dekat r ke +1 atau -1, semakin erat hubungan kedua variabel tersebut.\n",
    "\n",
    "- <b>Jika r mendekati 0</b>, artinya tidak ada hubungan antar variabel.\n",
    "- <b>Jika r positif</b>, berarti semakin besar satu variabel maka variabel lainnya juga akan semakin besar.\n",
    "- <b>Jika r negatif</b>, berarti semakin besar satu variabel maka variabel yang lainnya malah akan semakin kecil (sering disebut korelasi \"inverse\")."
   ]
  },
  {
   "cell_type": "markdown",
   "id": "6b392ef9",
   "metadata": {},
   "source": [
    "# Practice on Python\n",
    "### Choosing Python Statistics Libraries\n",
    "\n",
    "Ada banyak pustaka statistik Python diluar sana untuk kita pakai, tetapi dalam sesi ini, kita akan belajar tentang beberapa yang paling populer dan banyak digunakan:\n",
    "\n",
    "- Python statistics\n",
    "- Numpy\n",
    "- SciPy\n",
    "- Pandas\n",
    "- Matplotlib"
   ]
  },
  {
   "cell_type": "markdown",
   "id": "2062c7a4",
   "metadata": {},
   "source": [
    "# Calculating Descriptive Statistics\n",
    "Import semua packages yang kita perlukan:"
   ]
  },
  {
   "cell_type": "code",
   "execution_count": 1,
   "id": "85e94e4e",
   "metadata": {},
   "outputs": [],
   "source": [
    "import math\n",
    "import statistics \n",
    "import numpy as np \n",
    "import scipy.stats \n",
    "import pandas as pd"
   ]
  },
  {
   "cell_type": "markdown",
   "id": "1a8197b1",
   "metadata": {},
   "source": [
    "Ini semua adalah paket yang kita perlukan untuk penghitungan statistik Python.\n",
    "\n",
    "Mari buat beberapa data untuk dikerjakan. Kita akan mulai dengan List Python yang berisi beberapa data numerik:"
   ]
  },
  {
   "cell_type": "code",
   "execution_count": 2,
   "id": "a0793eea",
   "metadata": {},
   "outputs": [
    {
     "name": "stdout",
     "output_type": "stream",
     "text": [
      "[5.5, 12, 2.5, 7, 25.5]\n",
      "[nan, 2, 12.0, 7, 9, 6.5]\n"
     ]
    }
   ],
   "source": [
    "x = [5.5, 12, 2.5, 7, 25.5]\n",
    "x_with_nan = [math.nan, 2, 12.0, 7, 9, 6.5]\n",
    "print(x)\n",
    "print(x_with_nan)"
   ]
  },
  {
   "cell_type": "markdown",
   "id": "88523954",
   "metadata": {},
   "source": [
    "Sekarang kita memiliki lists x dan x_with_nan. Keduanya hampir sama, dengan perbedaan bahwa x_with_nan berisi nilai nan. Penting untuk memahami behavior statistik Python ketika sistem menemukan nilai not-a-number (nan). Dalam data science, missing values adalah hal biasa, dan kita akan sering menggantinya dengan nan.\n",
    "\n",
    "Sekarang, buat objek np.ndarray dan pd.Series yang sesuai dengan x dan x_with_nan:"
   ]
  },
  {
   "cell_type": "code",
   "execution_count": 3,
   "id": "29d2420a",
   "metadata": {},
   "outputs": [
    {
     "name": "stdout",
     "output_type": "stream",
     "text": [
      "[ 5.5 12.   2.5  7.  25.5]\n",
      "[ nan  2.  12.   7.   9.   6.5]\n",
      "0     NaN\n",
      "1     2.0\n",
      "2    12.0\n",
      "3     7.0\n",
      "4     9.0\n",
      "5     6.5\n",
      "dtype: float64\n"
     ]
    }
   ],
   "source": [
    "y, y_with_nan = np.array(x), np.array(x_with_nan)\n",
    "z, z_with_nan = pd.Series(x), pd.Series(x_with_nan)\n",
    "\n",
    "print(y)\n",
    "print(y_with_nan)\n",
    "print(z_with_nan)"
   ]
  },
  {
   "cell_type": "markdown",
   "id": "0424ac10",
   "metadata": {},
   "source": [
    "Kita sekarang memiliki dua array NumPy (y dan y_with_nan) dan dua Series Pandas (z dan z_with_nan). Semua ini adalah <b>sequences nilai 1D</b>.\n",
    "\n",
    "Kita juga dapat menentukan label untuk setiap nilai di z dan z_with_nan."
   ]
  },
  {
   "cell_type": "markdown",
   "id": "a65f8168",
   "metadata": {},
   "source": [
    "# Measures of Central Tendency\n",
    "\n",
    "Measures of central tendency menunjukkan nilai tengah atau pusat dari kumpulan data. Cara mengidentifikasi dan menghitung measures of central tendency berupa:\n",
    "\n",
    "- Mean\n",
    "- Weighted mean\n",
    "- Geometric mean\n",
    "- Harmonic mean\n",
    "- Median\n",
    "- Mode"
   ]
  },
  {
   "cell_type": "markdown",
   "id": "3dd59db3",
   "metadata": {},
   "source": [
    "## Mean\n",
    "\n",
    "Sample mean, juga disebut sample arithmetic mean atau average, adalah rata-rata aritmatika dari semua item dalam kumpulan data.\n",
    "\n",
    "Figure ini menggambarkan rata-rata sampel dengan lima titik data:\n",
    "\n",
    "![figmean](gambar/figmean.png 'figmean')\n",
    "\n",
    "- Titik hijau mewakili titik data 1, 2.5, 4, 8, dan 28.\n",
    "- Garis putus-putus merah adalah meannya, atau (1 + 2.5 + 4 + 8 + 28)/5 = 8.7.\n",
    "\n",
    "Kita dapat menghitung mean dengan pure Python menggunakan sum() dan len(), tanpa mengimpor pustaka lain:"
   ]
  },
  {
   "cell_type": "code",
   "execution_count": 4,
   "id": "07099d16",
   "metadata": {},
   "outputs": [
    {
     "data": {
      "text/plain": [
       "10.5"
      ]
     },
     "execution_count": 4,
     "metadata": {},
     "output_type": "execute_result"
    }
   ],
   "source": [
    "mean_ = sum(x) / len(x)\n",
    "mean_"
   ]
  },
  {
   "cell_type": "markdown",
   "id": "a076f381",
   "metadata": {},
   "source": [
    "Meskipun kode diatas clean dan elegan, Anda juga dapat menerapkan fungsi statistics built-in Python:"
   ]
  },
  {
   "cell_type": "code",
   "execution_count": 5,
   "id": "f18fb3e9",
   "metadata": {},
   "outputs": [
    {
     "name": "stdout",
     "output_type": "stream",
     "text": [
      "10.5\n"
     ]
    }
   ],
   "source": [
    "mean_ = statistics.mean(x)\n",
    "print(mean_)"
   ]
  },
  {
   "cell_type": "code",
   "execution_count": 6,
   "id": "83a07a1b",
   "metadata": {},
   "outputs": [
    {
     "name": "stdout",
     "output_type": "stream",
     "text": [
      "nan\n"
     ]
    }
   ],
   "source": [
    "mean_ = statistics.mean(x_with_nan)\n",
    "print(mean_)"
   ]
  },
  {
   "cell_type": "markdown",
   "id": "9d3e627d",
   "metadata": {},
   "source": [
    "Hasil ini konsisten dengan behavior sum(), karena sum(x_with_nan) juga mengembalikan nan.\n",
    "\n",
    "Jika kita menggunakan NumPy, maka kita bisa mendapatkan mean dengan <b>np.mean()</b>."
   ]
  },
  {
   "cell_type": "code",
   "execution_count": 7,
   "id": "195f23cf",
   "metadata": {},
   "outputs": [
    {
     "data": {
      "text/plain": [
       "10.5"
      ]
     },
     "execution_count": 7,
     "metadata": {},
     "output_type": "execute_result"
    }
   ],
   "source": [
    "mean_ = np.mean(y)\n",
    "mean_"
   ]
  },
  {
   "cell_type": "markdown",
   "id": "e2f341df",
   "metadata": {},
   "source": [
    "Dari contoh diatas, mean() adalah sebuah fungsi, tetapi kita juga dapat menggunakan method <b>.mean()</b>."
   ]
  },
  {
   "cell_type": "code",
   "execution_count": 8,
   "id": "ddb9a526",
   "metadata": {},
   "outputs": [
    {
     "data": {
      "text/plain": [
       "10.5"
      ]
     },
     "execution_count": 8,
     "metadata": {},
     "output_type": "execute_result"
    }
   ],
   "source": [
    "mean_ = y.mean()\n",
    "mean_"
   ]
  },
  {
   "cell_type": "markdown",
   "id": "4b99d785",
   "metadata": {},
   "source": [
    "Fungsi mean() dan method .mean() dari NumPy mengembalikan hasil yang sama seperti statistics.mean().\n",
    "\n",
    "Dibawah ini adalah kasus ketika ada nilai nan diantara data kita."
   ]
  },
  {
   "cell_type": "code",
   "execution_count": 9,
   "id": "4bdfef6b",
   "metadata": {},
   "outputs": [
    {
     "name": "stdout",
     "output_type": "stream",
     "text": [
      "nan\n",
      "nan\n"
     ]
    }
   ],
   "source": [
    "print(np.mean(y_with_nan))\n",
    "print(y_with_nan.mean())"
   ]
  },
  {
   "cell_type": "markdown",
   "id": "49b4d562",
   "metadata": {},
   "source": [
    "Jika kalian lebih suka mengabaikan nilai nan, kalian dapat menggunakan <b>np.nanmean()</b>."
   ]
  },
  {
   "cell_type": "code",
   "execution_count": 10,
   "id": "c76e4126",
   "metadata": {},
   "outputs": [
    {
     "data": {
      "text/plain": [
       "7.3"
      ]
     },
     "execution_count": 10,
     "metadata": {},
     "output_type": "execute_result"
    }
   ],
   "source": [
    "np.nanmean(y_with_nan)"
   ]
  },
  {
   "cell_type": "markdown",
   "id": "9cd32fb0",
   "metadata": {},
   "source": [
    "nanmean() mengabaikan semua nilai nan.\n",
    "\n",
    "nanmean() mengembalikan nilai yang sama seperti mean() jika kalian menerapkannya ke kumpulan data tanpa nilai nan.\n",
    "\n",
    "pd.Series objects juga mempunyai method <b>.mean()</b>:"
   ]
  },
  {
   "cell_type": "code",
   "execution_count": 11,
   "id": "46be9d7a",
   "metadata": {},
   "outputs": [
    {
     "data": {
      "text/plain": [
       "10.5"
      ]
     },
     "execution_count": 11,
     "metadata": {},
     "output_type": "execute_result"
    }
   ],
   "source": [
    "mean_ = z.mean()\n",
    "mean_"
   ]
  },
  {
   "cell_type": "markdown",
   "id": "90757914",
   "metadata": {},
   "source": [
    "Seperti yang kaliah lihat, <b>.mean()</b> digunakan dengan cara yang sama seperti dalam kasus NumPy. \n",
    "\n",
    "Namun, <b>.mean()</b> dari Pandas mengabaikan nilai nan secara default."
   ]
  },
  {
   "cell_type": "code",
   "execution_count": 12,
   "id": "7e9df35e",
   "metadata": {},
   "outputs": [
    {
     "data": {
      "text/plain": [
       "7.3"
      ]
     },
     "execution_count": 12,
     "metadata": {},
     "output_type": "execute_result"
    }
   ],
   "source": [
    "z_with_nan.mean()"
   ]
  },
  {
   "cell_type": "markdown",
   "id": "20013bb8",
   "metadata": {},
   "source": [
    "Perilaku ini adalah hasil dari nilai default dari parameter opsional skipna. Kita dapat mengubah parameter ini untuk mengubah perilakunya."
   ]
  },
  {
   "cell_type": "markdown",
   "id": "4d0ae35e",
   "metadata": {},
   "source": [
    "# Weighted Mean\n",
    "\n",
    "Weighted mean, juga disebut weighted arithmetic mean atau weighted average, adalah generalisasi dari rata-rata aritmatika yang memungkinkan kita untuk menentukan kontribusi relatif dari setiap titik data ke hasil.\n",
    "\n",
    "Weighted mean sangat berguna saat kita membutuhkan rata-rata kumpulan data yang berisi item yang muncul dengan frekuensi relatif tertentu.\n",
    "\n",
    "Misalnya, kita memiliki himpunan di mana 20% dari semua item sama dengan 2, 50% item sama dengan 4, dan 30% sisanya sama dengan 8. Kita dapat menghitung rata-rata dari set seperti ini:"
   ]
  },
  {
   "cell_type": "code",
   "execution_count": 13,
   "id": "6c7eac9d",
   "metadata": {},
   "outputs": [
    {
     "data": {
      "text/plain": [
       "59.8"
      ]
     },
     "execution_count": 13,
     "metadata": {},
     "output_type": "execute_result"
    }
   ],
   "source": [
    "10.9 * 2 + 7.3 * 4 + 1.1 * 8"
   ]
  },
  {
   "cell_type": "markdown",
   "id": "8a19bd2c",
   "metadata": {},
   "source": [
    "Di sini, kita memperhitungkan frekuensi dengan bobot. Dengan metode ini, kita tidak perlu mengetahui jumlah item.\n",
    "\n",
    "Kita dapat mengimplementasikan weighted mean dalam Python pure dengan menggabungkan sum() dengan range() atau zip():"
   ]
  },
  {
   "cell_type": "code",
   "execution_count": 14,
   "id": "c603fc8e",
   "metadata": {},
   "outputs": [
    {
     "name": "stdout",
     "output_type": "stream",
     "text": [
      "8.088652482269502\n",
      "8.088652482269502\n"
     ]
    }
   ],
   "source": [
    "x = [5.5, 12, 2.5, 7, 25.5]\n",
    "w = [0.1, 0.2, 0.3, 0.7, 0.11]\n",
    "\n",
    "wmean = sum(w[i] * x[i] for i in range(len(x))) / sum(w)\n",
    "print(wmean)\n",
    "\n",
    "wmean = sum(x_ * w_ for(x_, w_) in zip(x, w)) / sum(w)\n",
    "print(wmean)"
   ]
  },
  {
   "cell_type": "markdown",
   "id": "64d3afee",
   "metadata": {},
   "source": [
    "Sekali lagi, ini adalah implementasi yang rapi dan elegan dimana kita tidak perlu mengimpor libraries apa pun.\n",
    "\n",
    "Namun, jika kita memiliki kumpulan data yang besar, NumPy kemungkinan akan memberikan solusi yang lebih baik. Kita dapat menggunakan <b>np.average() untuk mendapatkan weighted mean dari array NumPy atau Series Pandas</b>:"
   ]
  },
  {
   "cell_type": "code",
   "execution_count": 15,
   "id": "ea727c3e",
   "metadata": {},
   "outputs": [
    {
     "name": "stdout",
     "output_type": "stream",
     "text": [
      "8.088652482269502\n",
      "8.088652482269502\n"
     ]
    }
   ],
   "source": [
    "y, z, w = np.array(x), pd.Series(x), np.array(w)\n",
    "\n",
    "wmean = np.average(y, weights=w)\n",
    "print(wmean)\n",
    "\n",
    "wmean = np.average(z, weights=w)\n",
    "print(wmean)"
   ]
  },
  {
   "cell_type": "markdown",
   "id": "c153f7e2",
   "metadata": {},
   "source": [
    "Hasilnya sama dengan kasus implementasi Python pure. Kita juga dapat menggunakan metode ini pada list dan tuples.\n",
    "\n",
    "Solusi lain adalah dengan menggunakan element-wise product w*y dengan np.sum() atau .sum():"
   ]
  },
  {
   "cell_type": "code",
   "execution_count": 16,
   "id": "6950fff8",
   "metadata": {},
   "outputs": [
    {
     "data": {
      "text/plain": [
       "8.088652482269502"
      ]
     },
     "execution_count": 16,
     "metadata": {},
     "output_type": "execute_result"
    }
   ],
   "source": [
    "(w * y).sum() / w.sum()"
   ]
  },
  {
   "cell_type": "markdown",
   "id": "0f0bf09b",
   "metadata": {},
   "source": [
    "# Harmonic Mean"
   ]
  },
  {
   "cell_type": "markdown",
   "id": "dfeea9d9",
   "metadata": {},
   "source": [
    "Harmonic mean adalah reciprocal dari mean dari semua item dalam dataset.\n",
    "\n",
    "<b>Reciprocal artinya adalah 1/value</b>.\n",
    "\n",
    "Harmonic mean juga bagus untuk hhandling outliers yang besar.\n",
    "\n",
    "Contoh: 2, 4, 6, dan 100.\n",
    "Arithmetic mean = 2+4+6+100/4 = 28\n",
    "Harmonic mean = 4/(1/2 + 1/4 + 1/6 + 1/100) = 4.32\n",
    "\n",
    "Salah satu varian dari implementasi Python pure dari harmonic mean adalah dibawah ini:"
   ]
  },
  {
   "cell_type": "code",
   "execution_count": 17,
   "id": "729dbb04",
   "metadata": {},
   "outputs": [
    {
     "data": {
      "text/plain": [
       "5.9016245622999355"
      ]
     },
     "execution_count": 17,
     "metadata": {},
     "output_type": "execute_result"
    }
   ],
   "source": [
    "hmean = len(x) / sum(1 / item for item in x)\n",
    "hmean"
   ]
  },
  {
   "cell_type": "markdown",
   "id": "021b778a",
   "metadata": {},
   "source": [
    "Ini sangat berbeda dari nilai arithmetic mean untuk data yang sama yaitu x, yang kita hitung menjadi 10.5.\n",
    "\n",
    "Kita juga dapat menghitung ukuran ini dengan <b>statistics.harmonic_mean()</b>:"
   ]
  },
  {
   "cell_type": "code",
   "execution_count": 18,
   "id": "70c7a4b0",
   "metadata": {},
   "outputs": [
    {
     "data": {
      "text/plain": [
       "5.9016245622999355"
      ]
     },
     "execution_count": 18,
     "metadata": {},
     "output_type": "execute_result"
    }
   ],
   "source": [
    "hmean = statistics.harmonic_mean(x)\n",
    "hmean"
   ]
  },
  {
   "cell_type": "code",
   "execution_count": 19,
   "id": "870180e0",
   "metadata": {},
   "outputs": [
    {
     "data": {
      "text/plain": [
       "5.9016245622999355"
      ]
     },
     "execution_count": 19,
     "metadata": {},
     "output_type": "execute_result"
    }
   ],
   "source": [
    "scipy.stats.hmean(y)"
   ]
  },
  {
   "cell_type": "code",
   "execution_count": 20,
   "id": "496efbf7",
   "metadata": {},
   "outputs": [
    {
     "data": {
      "text/plain": [
       "5.9016245622999355"
      ]
     },
     "execution_count": 20,
     "metadata": {},
     "output_type": "execute_result"
    }
   ],
   "source": [
    "scipy.stats.hmean(z)"
   ]
  },
  {
   "cell_type": "markdown",
   "id": "211c2843",
   "metadata": {},
   "source": [
    "# Geometric Mean\n",
    "\n",
    "Geometric mean berguna ketika kita ingin membandingkan berbagai hal dengan properti yang sangat berbeda.\n",
    "\n",
    "Example: <i>What is the Geometric Mean of 2 and 18?</i>\n",
    "\n",
    "- Pertama kita kalikan: 2 x 18 = 36\n",
    "- Lalu ambil square root: (akar 36) = 6 --> inilah geometric mean\n",
    "\n",
    "![geomean](gambar/geomean.png 'geomean')"
   ]
  },
  {
   "cell_type": "markdown",
   "id": "46f4989e",
   "metadata": {},
   "source": [
    "Gambar berikut mengilustrasikan arithmetic, harmonic, dan geometric dari dataset:\n",
    "\n",
    "![ahg](gambar/arith_harmo_geome.png 'ahg')\n",
    "\n",
    "- <b>Titik hijau</b> mewakili poin data 1, 2.5, 4, 8, dan 28.\n",
    "- <b>Garis putus-putus merah</b> adalah arithmetic mean.\n",
    "- <b>Garis putus-putus biru</b> adalah harmonic mean.\n",
    "- <b>Garis putus-putus kuning</b> adalam geometric mean.\n",
    "\n",
    "Kita dapat mengimplementasikan geometric mean dalam Python pure seperti ini:"
   ]
  },
  {
   "cell_type": "code",
   "execution_count": 21,
   "id": "75639e5a",
   "metadata": {},
   "outputs": [
    {
     "data": {
      "text/plain": [
       "7.831129989846762"
      ]
     },
     "execution_count": 21,
     "metadata": {},
     "output_type": "execute_result"
    }
   ],
   "source": [
    "gmean = 1\n",
    "\n",
    "for item in x:\n",
    "    gmean *= item\n",
    "    \n",
    "gmean **= 1 / len(x)\n",
    "gmean"
   ]
  },
  {
   "cell_type": "markdown",
   "id": "36d65121",
   "metadata": {},
   "source": [
    "Kita juga bisa mendapatkan geometric mean dengan <b>scipy.stats.gmean()</b>:"
   ]
  },
  {
   "cell_type": "code",
   "execution_count": 22,
   "id": "b2ec57bc",
   "metadata": {},
   "outputs": [
    {
     "data": {
      "text/plain": [
       "7.831129989846761"
      ]
     },
     "execution_count": 22,
     "metadata": {},
     "output_type": "execute_result"
    }
   ],
   "source": [
    "scipy.stats.gmean(y)"
   ]
  },
  {
   "cell_type": "code",
   "execution_count": 23,
   "id": "a5052c83",
   "metadata": {},
   "outputs": [
    {
     "data": {
      "text/plain": [
       "7.831129989846761"
      ]
     },
     "execution_count": 23,
     "metadata": {},
     "output_type": "execute_result"
    }
   ],
   "source": [
    "scipy.stats.gmean(z)"
   ]
  },
  {
   "cell_type": "markdown",
   "id": "7a131126",
   "metadata": {},
   "source": [
    "# Median\n",
    "\n",
    "Sample median adalah elemen tengah dari kumpulan data yang diurutkan. Dataset yang diurutkan dalam urutan naik atau turun.\n",
    "- Jika jumlah n dari dataset adalah <b>ganjil</b>, maka median adalah <b>nilai pada posisi tengah</b>.\n",
    "- Jika jumlah n dari dataset adalah <b>genap</b>, maka median adalah <b>arithmetic mean dari dua nilai ditengah</b>."
   ]
  },
  {
   "cell_type": "markdown",
   "id": "81b92b51",
   "metadata": {},
   "source": [
    "Contoh:\n",
    "- <b>(n ganjil)</b>,jika kita memiliki titik data 2, 4, 1, 8, dan 9, maka nilai mediannya adalah 4.\n",
    "- <b>(n genap)</b>, jika kita memiliki titik data 2, 4, 1, dan 8, maka nilai mediannya adalah (2+4)/2 = 3."
   ]
  },
  {
   "cell_type": "markdown",
   "id": "5c603b6b",
   "metadata": {},
   "source": [
    "![median_1](gambar/median.png 'median_1')"
   ]
  },
  {
   "cell_type": "markdown",
   "id": "6d143fcf",
   "metadata": {},
   "source": [
    "- <b>Titik hijau:</b> Titik data (1, 2.5, 4, 8, dan 28)\n",
    "- <b>Garis putus-putus merah:</b> Arithmetic mean (8.7)\n",
    "- <b>Garis ungu:</b> Median untuk setiap dataset (5)\n",
    "\n",
    "Kita dapat membandingkan mean dan median sebagai salah satu cara untuk mendeteksi outlier dan asimetri dalam data kita. Apakah nilai rata-rata atau nilai median lebih berguna bagi kita bergantung pada konteks masalah kita.\n",
    "\n",
    "Berikut adalah salah satu dari banyak kemungkinan implementasi Python pure dari median:"
   ]
  },
  {
   "cell_type": "code",
   "execution_count": 24,
   "id": "7a685770",
   "metadata": {},
   "outputs": [
    {
     "data": {
      "text/plain": [
       "7"
      ]
     },
     "execution_count": 24,
     "metadata": {},
     "output_type": "execute_result"
    }
   ],
   "source": [
    "n = len(x)\n",
    "if n % 2:\n",
    "    median_ = sorted(x)[round(0.5*(n-1))]\n",
    "else:\n",
    "    x_ord, indeex = sorted(x), rouns(0.5*n)\n",
    "    median_ = 0.5*(x_ord[index-1] + x_ord[index])\n",
    "    \n",
    "median_"
   ]
  },
  {
   "cell_type": "markdown",
   "id": "a3c5fd3e",
   "metadata": {},
   "source": [
    "<b>median_low()</b> dan <b>median_high()</b> adalah fungsi lainnya yang terkait dengan median di pustaka statistics Python. Mereka selalu mengembalikan elemen dari kumpulan data:\n",
    "\n",
    "- Jika jumlah elemennya ganjil, maka hanya ada satu nilai tengah, sehingga fungsi ini berperilaku seperti median().\n",
    "- Jika jumlah elemennya genap, maka ada dua nilai tengah. Dalam kasus ini, median_low() mengembalikan nilai tengan yang lebih rendah dan median_high() lebih tinggi.\n",
    "\n",
    "Kita dapat menggunakan fungsi ini seperti halnya kita menggunakan median():"
   ]
  },
  {
   "cell_type": "code",
   "execution_count": 25,
   "id": "7908dc4a",
   "metadata": {},
   "outputs": [
    {
     "data": {
      "text/plain": [
       "[5.5, 12, 2.5, 7, 25.5]"
      ]
     },
     "execution_count": 25,
     "metadata": {},
     "output_type": "execute_result"
    }
   ],
   "source": [
    "x"
   ]
  },
  {
   "cell_type": "code",
   "execution_count": 26,
   "id": "892c53ed",
   "metadata": {},
   "outputs": [
    {
     "data": {
      "text/plain": [
       "5.5"
      ]
     },
     "execution_count": 26,
     "metadata": {},
     "output_type": "execute_result"
    }
   ],
   "source": [
    "statistics.median_low(x[:-1])"
   ]
  },
  {
   "cell_type": "code",
   "execution_count": 27,
   "id": "aa0d7263",
   "metadata": {},
   "outputs": [
    {
     "data": {
      "text/plain": [
       "7"
      ]
     },
     "execution_count": 27,
     "metadata": {},
     "output_type": "execute_result"
    }
   ],
   "source": [
    "statistics.median_high(x[:-1])"
   ]
  },
  {
   "cell_type": "markdown",
   "id": "cf8be317",
   "metadata": {},
   "source": [
    "Tidak seperti kebanyakan fungsi lain dari pustaka statistics Python, median(), median_low(), dan median_high() tidak mengembalikan nan ketika ada nilai nan di antara titik data:"
   ]
  },
  {
   "cell_type": "code",
   "execution_count": 28,
   "id": "2b625b72",
   "metadata": {},
   "outputs": [
    {
     "name": "stdout",
     "output_type": "stream",
     "text": [
      "6.75\n",
      "6.5\n",
      "7\n"
     ]
    }
   ],
   "source": [
    "print(statistics.median(x_with_nan))\n",
    "print(statistics.median_low(x_with_nan))\n",
    "print(statistics.median_high(x_with_nan))"
   ]
  },
  {
   "cell_type": "markdown",
   "id": "b5399ed0",
   "metadata": {},
   "source": [
    "Kita juga bisa mendapatkan median dengan <b>np.median()</b>:"
   ]
  },
  {
   "cell_type": "code",
   "execution_count": 29,
   "id": "5378731d",
   "metadata": {},
   "outputs": [
    {
     "name": "stdout",
     "output_type": "stream",
     "text": [
      "7.0\n"
     ]
    }
   ],
   "source": [
    "median_ = np.median(y)\n",
    "print(median_)"
   ]
  },
  {
   "cell_type": "code",
   "execution_count": 30,
   "id": "e1e676b0",
   "metadata": {},
   "outputs": [
    {
     "name": "stdout",
     "output_type": "stream",
     "text": [
      "6.25\n"
     ]
    }
   ],
   "source": [
    "median_ = np.median(y[:-1])\n",
    "print(median_)"
   ]
  },
  {
   "cell_type": "markdown",
   "id": "5f2f8eeb",
   "metadata": {},
   "source": [
    "# Mode/Modus\n",
    "\n",
    "Sample mode adalah nilai dalam kumpulan data yang paling sering muncul. Jika tidak ada satu pun nilai tersebut, maka set tersebut multimodal karena memiliki beberapa nilai modal.\n",
    "\n",
    "Ini adalah bagaimana kita bisa mendapatkan mode dengan Python pure:"
   ]
  },
  {
   "cell_type": "code",
   "execution_count": 31,
   "id": "55ee3a4c",
   "metadata": {},
   "outputs": [
    {
     "data": {
      "text/plain": [
       "10"
      ]
     },
     "execution_count": 31,
     "metadata": {},
     "output_type": "execute_result"
    }
   ],
   "source": [
    "u = [5, 10, 2, 10, 26]\n",
    "v = [1, 20, 8, 7, 8, 20, 11]\n",
    "\n",
    "mode_ = max((u.count(item), item) for item in set(u))[1]\n",
    "mode_"
   ]
  },
  {
   "cell_type": "markdown",
   "id": "9ee72dd0",
   "metadata": {},
   "source": [
    "Kita bisa mendapatkan mode dengan <b>statistics.mode()</b>:"
   ]
  },
  {
   "cell_type": "code",
   "execution_count": 32,
   "id": "ddae7b22",
   "metadata": {},
   "outputs": [
    {
     "data": {
      "text/plain": [
       "10"
      ]
     },
     "execution_count": 32,
     "metadata": {},
     "output_type": "execute_result"
    }
   ],
   "source": [
    "mode_ = statistics.mode(u)\n",
    "mode_"
   ]
  },
  {
   "cell_type": "markdown",
   "id": "eed999c0",
   "metadata": {},
   "source": [
    "Kita juga bisa mendapatkan mode dengan <b>scipy.stats.mode()</b>:"
   ]
  },
  {
   "cell_type": "code",
   "execution_count": 33,
   "id": "38c0e8ac",
   "metadata": {},
   "outputs": [
    {
     "data": {
      "text/plain": [
       "ModeResult(mode=array([10]), count=array([2]))"
      ]
     },
     "execution_count": 33,
     "metadata": {},
     "output_type": "execute_result"
    }
   ],
   "source": [
    "u, v = np.array(u), np.array(v)\n",
    "\n",
    "mode_ = scipy.stats.mode(u)\n",
    "mode_"
   ]
  },
  {
   "cell_type": "code",
   "execution_count": 34,
   "id": "f94919bf",
   "metadata": {},
   "outputs": [
    {
     "data": {
      "text/plain": [
       "ModeResult(mode=array([8]), count=array([2]))"
      ]
     },
     "execution_count": 34,
     "metadata": {},
     "output_type": "execute_result"
    }
   ],
   "source": [
    "mode_ = scipy.stats.mode(v)\n",
    "mode_"
   ]
  },
  {
   "cell_type": "markdown",
   "id": "9467d436",
   "metadata": {},
   "source": [
    "Kita bisa mendapatkan mode dan jumlah kemunculannya sebagai <b>array NumPy dengan dot notation</b>:"
   ]
  },
  {
   "cell_type": "code",
   "execution_count": 35,
   "id": "450ca9a5",
   "metadata": {},
   "outputs": [
    {
     "name": "stdout",
     "output_type": "stream",
     "text": [
      "[8]\n",
      "[2]\n"
     ]
    }
   ],
   "source": [
    "print(mode_.mode)\n",
    "print(mode_.count)"
   ]
  },
  {
   "cell_type": "markdown",
   "id": "df653035",
   "metadata": {},
   "source": [
    "Objek Pandas Series memiliki metode <b>.mode()</b> yang menangani nilai multimodal dengan baik dan mengabaikan nilai nan secara default:"
   ]
  },
  {
   "cell_type": "code",
   "execution_count": 36,
   "id": "276b69b5",
   "metadata": {},
   "outputs": [
    {
     "name": "stdout",
     "output_type": "stream",
     "text": [
      "0    10\n",
      "dtype: int32\n",
      "0     8\n",
      "1    20\n",
      "dtype: int32\n",
      "0    2.0\n",
      "dtype: float64\n"
     ]
    }
   ],
   "source": [
    "u, v, w = pd.Series(u), pd.Series(v), pd.Series([2,2,math.nan])\n",
    "print(u.mode())\n",
    "print(v.mode())\n",
    "print(w.mode())"
   ]
  },
  {
   "cell_type": "markdown",
   "id": "e30cd15f",
   "metadata": {},
   "source": [
    "Seperti yang terlihat <b>.mode()</b> mengembalikan pd.Series baru yang menampung semua nilai modal.\n",
    "\n",
    "Jika kalian ingin .mode() memperhitungkan nilai nan, cukup teruskan argumen opsional <b>dropna=False</b>."
   ]
  },
  {
   "cell_type": "markdown",
   "id": "1e7378bb",
   "metadata": {},
   "source": [
    "# Measures of Variability\n",
    "### Variance\n",
    "\n",
    "Measures of central tendency tidak cukup untuk menggambarkan data. Kita juga memerlukan ukuran variabilitas yang mengukur penyebaran titik data. Di bagian ini, kita akan mempelajari cara mengindetifikasi dan menghitung ukuran variabilitas berupa:\n",
    "\n",
    "- Variance\n",
    "- Standard deviation\n",
    "- Skewness\n",
    "- Percentiles\n",
    "- Ranges\n",
    "\n",
    "Sample variance mengukur penyebaran data. Sample variance menunjukkan secara numerik seberapa jauh titik data dari mean.\n",
    "\n",
    "Gambar berikut menunjukkan mengapa penting untuk mempertimbangkan variance saat mendeskripsikan kumpulan data:\n",
    "\n",
    "![variance](gambar/variance.png 'variance')\n",
    "\n",
    "Terdapat dua dataset dalam figure diatas:\n",
    "- <b>Titik hijau:</b> Dataset ini memiliki variance yang lebih kecil atau perbedaan yang lebih kecil dari mean. Dataset ini juga memiliki range yang lebih kecil atau perbedaan yang lebih kecil antara item terbesar dan terkecil.\n",
    "- <b>Titik putih:</b> Dataset ini memiliki variance yang lebih besar atau perbedaan lebih besar dari rata-rata. Dataset ini juga memiliki range yang lebih besar atau perbedaan yang lebih besar antara item terbesar dan terkecil.\n",
    "\n",
    "Perhatikan bahwa kedua dataset ini memiliki mean dan median yang sama, meskipun tampak berbeda secara signifikan. Baik mean maupun median tidak dapat menggambarkan perbedaan ini. Itulah mengapa kita membutuhkan measures of variability.\n",
    "\n",
    "Berikut cara menghitung sample variance dengan Python pure:"
   ]
  },
  {
   "cell_type": "code",
   "execution_count": 37,
   "id": "63bcc7d1",
   "metadata": {},
   "outputs": [
    {
     "data": {
      "text/plain": [
       "82.125"
      ]
     },
     "execution_count": 37,
     "metadata": {},
     "output_type": "execute_result"
    }
   ],
   "source": [
    "n = len(x)\n",
    "\n",
    "mean_ = sum(x) / n\n",
    "\n",
    "var_ = sum((item-mean_) **2 for item in x) / (n-1)\n",
    "var_"
   ]
  },
  {
   "cell_type": "markdown",
   "id": "d308203d",
   "metadata": {},
   "source": [
    "Pendekatan ini cukup dan dapat menghitung sample variance dengan baik. Namun, solusi yang lebih singkat dan lebih elegan adalah dengan memanggil fungsi <b>statistics.variance()</b>:"
   ]
  },
  {
   "cell_type": "code",
   "execution_count": 38,
   "id": "885f9b07",
   "metadata": {},
   "outputs": [
    {
     "data": {
      "text/plain": [
       "82.125"
      ]
     },
     "execution_count": 38,
     "metadata": {},
     "output_type": "execute_result"
    }
   ],
   "source": [
    "var_ = statistics.variance(x)\n",
    "var_"
   ]
  },
  {
   "cell_type": "markdown",
   "id": "77dac73f",
   "metadata": {},
   "source": [
    "Kita juga dapat menghitung sample variance dengan NumPy. Kita harus menggunakan fungsi <b>np.var()</b> atau method <b>.var()</b>:"
   ]
  },
  {
   "cell_type": "code",
   "execution_count": 39,
   "id": "9580c852",
   "metadata": {},
   "outputs": [
    {
     "data": {
      "text/plain": [
       "82.125"
      ]
     },
     "execution_count": 39,
     "metadata": {},
     "output_type": "execute_result"
    }
   ],
   "source": [
    "var_ = np.var(y, ddof=1)\n",
    "var_"
   ]
  },
  {
   "cell_type": "code",
   "execution_count": 40,
   "id": "6be9faaf",
   "metadata": {},
   "outputs": [
    {
     "data": {
      "text/plain": [
       "82.125"
      ]
     },
     "execution_count": 40,
     "metadata": {},
     "output_type": "execute_result"
    }
   ],
   "source": [
    "var_ = y.var(ddof = 1)\n",
    "var_"
   ]
  },
  {
   "cell_type": "markdown",
   "id": "cb082ab9",
   "metadata": {},
   "source": [
    "Sangat penting untuk menentukan parameter ddof = 1. Begitulah cara kita menyetel degress of freedom ke 1. Parameter ini memungkinkan kalkulasi yang tepat dari <i>s^2</i>, dengan <i>(n-1)</i> di penyebutnya, bukan <i>n</i>\n",
    "\n",
    "Istilah angka derajat kebebasan (degree of freedom) diartikan sebagai banyaknya pengamatan bebas dari total pengamatan n. Sehingga <b>rumus umum tidak menentukan degree of freedom</b> adalah total pengamatan (n) dikurangi dengan banyaknya parameter yang ditaksir atau <b>df = n - banyaknya parameter(k)</b>.\n",
    "\n",
    "Objek pd.Series memiliki metode <b>.var() yang mengabaikan nilai nan secara default:"
   ]
  },
  {
   "cell_type": "code",
   "execution_count": 41,
   "id": "224db9d7",
   "metadata": {},
   "outputs": [
    {
     "data": {
      "text/plain": [
       "82.125"
      ]
     },
     "execution_count": 41,
     "metadata": {},
     "output_type": "execute_result"
    }
   ],
   "source": [
    "z.var(ddof=1)"
   ]
  },
  {
   "cell_type": "markdown",
   "id": "0af65d96",
   "metadata": {},
   "source": [
    "<b>.var() juga memiliki parameter ddof</b>, tetapi nilai defaultnya adalah 1, jadi kalian dapat menghilangkannya. Jika kalian menginginkan perilaku yang berbeda terkait dengan nilai nan, gunakan parameter opsional <b>skipna</b>.\n",
    "\n",
    "Perlu diingat! Terdapat perbedaan rumus perhitungan variance untuk population variance dengan sample variance.\n",
    "- Populasi menggunakan <b><i>n</i></b> dalam penyebutnya.\n",
    "- Sample menggunakan <b><i>n-1</i></b> dalam penyebutnya.\n",
    "\n",
    "Perhatikan bahwa kita harus selalu aware apakah kita bekerja dengan sample atau seluruh populasi setiap kali kita menghitung varians!"
   ]
  },
  {
   "cell_type": "markdown",
   "id": "45762883",
   "metadata": {},
   "source": [
    "## 2. Standard Deviation\n",
    "\n",
    "Sample standard deviation(std) adalah cara lain mengukur penyebaran data. Berhubungan dengan varians sampel, karena standard deviation, <i>s</i>, adalah positive square root dari sample variance.\n",
    "\n",
    "Standard deviation seringkali lebih cocok daripada varians karena memiliki satuan yang sama dengan data points. Setelah kita mendapatkan variance, kita dapat menghitung deviasi standar dengan Python pure:"
   ]
  },
  {
   "cell_type": "code",
   "execution_count": 42,
   "id": "6a8d57dd",
   "metadata": {},
   "outputs": [
    {
     "data": {
      "text/plain": [
       "9.06228448019593"
      ]
     },
     "execution_count": 42,
     "metadata": {},
     "output_type": "execute_result"
    }
   ],
   "source": [
    "std_ = var_ ** 0.5\n",
    "std_"
   ]
  },
  {
   "cell_type": "markdown",
   "id": "7675858d",
   "metadata": {},
   "source": [
    "Meskipun solusi ini berhasil, kita juga dapat menggunakan <b>statistics.stdev()</b>:"
   ]
  },
  {
   "cell_type": "code",
   "execution_count": 43,
   "id": "ac2224ec",
   "metadata": {},
   "outputs": [
    {
     "data": {
      "text/plain": [
       "9.06228448019593"
      ]
     },
     "execution_count": 43,
     "metadata": {},
     "output_type": "execute_result"
    }
   ],
   "source": [
    "std_ = statistics.stdev(x)\n",
    "std_"
   ]
  },
  {
   "cell_type": "markdown",
   "id": "73cf38ee",
   "metadata": {},
   "source": [
    "Tentu saja hasilnya sama seperti sebelumnya. Seperti variance(), stdev() tidak menghitung mean jika kita memberikannya secara eksplisit sebagai argumen kedua: statistics.stdev(x, mean).\n",
    "\n",
    "Kita bisa mendapatkan standard deviation dengan NumPy dengan cara yang hampir sama. Kita dapat menggunakan fungsi <b>std()</b> dan method <b>.std()</b> untuk menghitung standard deviation. Jika ada nilai nan dalam kumpulan data, maka akan mengembalikan nan. Untuk mengabaikan nilai nan, kita harus menggunakan <b>np.nanstd()</b>"
   ]
  },
  {
   "cell_type": "code",
   "execution_count": 44,
   "id": "be8f20d9",
   "metadata": {},
   "outputs": [
    {
     "data": {
      "text/plain": [
       "9.06228448019593"
      ]
     },
     "execution_count": 44,
     "metadata": {},
     "output_type": "execute_result"
    }
   ],
   "source": [
    "np.std(y, ddof = 1)"
   ]
  },
  {
   "cell_type": "code",
   "execution_count": 45,
   "id": "20c4ceac",
   "metadata": {},
   "outputs": [
    {
     "data": {
      "text/plain": [
       "9.06228448019593"
      ]
     },
     "execution_count": 45,
     "metadata": {},
     "output_type": "execute_result"
    }
   ],
   "source": [
    "y.std(ddof = 1)"
   ]
  },
  {
   "cell_type": "markdown",
   "id": "634e46dc",
   "metadata": {},
   "source": [
    "Objek pd.Series juga memiliki method <b>.std()</b> yang mengabaikan nan secara default:"
   ]
  },
  {
   "cell_type": "code",
   "execution_count": 46,
   "id": "9a3be766",
   "metadata": {},
   "outputs": [
    {
     "data": {
      "text/plain": [
       "9.06228448019593"
      ]
     },
     "execution_count": 46,
     "metadata": {},
     "output_type": "execute_result"
    }
   ],
   "source": [
    "z.std(ddof = 1)"
   ]
  },
  {
   "cell_type": "markdown",
   "id": "fa88e032",
   "metadata": {},
   "source": [
    "Parameter ddof default adalah 1, jadi kita bisa menghilangkannya. Sekali lagi, jika kita memperlakukan nilai nan secara berbeda, maka terapkan parameter <b>skipna</b>."
   ]
  },
  {
   "cell_type": "markdown",
   "id": "7743f63e",
   "metadata": {},
   "source": [
    "## 3. Skewness\n",
    "\n",
    "Sample skewness mengukur asimetri sampel data.\n",
    "\n",
    "Berikut ini gambar yang mengilustrasikan dua set asimetris dimana poin mereka memiliki jarak yang tidak sama dari mean.\n",
    "\n",
    "![skewness_contoh](gambar/skewcontoh.png 'skewcont')\n",
    "\n",
    "- Titik hijau = Set data pertama\n",
    "- Titik putih = Set data kedua\n",
    "\n",
    "Penjelasan gambar:\n",
    "Biasanya, negative skewness menunjukkan bahwa ada ekor dominan di sisi kiri, yang dapat kita lihat pada set pertama. Positive skewness values sesuai dengan ekor yang lebih panjang di sisi kanan. yang dapat kita lihat pada set kedua. Jika skewness mendekati 0 (misalnya antara -0.5 dan 0.5), maka dataset dianggap cukup simetris.\n",
    "\n",
    "Setelah kita menghitung ukuran kumpulan data <i>n</i>, sample mean mean_, dan standard deviation std_. Kita bisa mendapatkan sample skewness dengan Python pure:"
   ]
  },
  {
   "cell_type": "code",
   "execution_count": 47,
   "id": "668a45e9",
   "metadata": {},
   "outputs": [
    {
     "data": {
      "text/plain": [
       "1.9470432273905929"
      ]
     },
     "execution_count": 47,
     "metadata": {},
     "output_type": "execute_result"
    }
   ],
   "source": [
    "x = [8.0, 1, 2.5, 4, 28.0]\n",
    "\n",
    "n = len(x)\n",
    "\n",
    "mean_ = sum(x) / n\n",
    "var_ = sum((item - mean_)**2 for item in x) / (n-1)\n",
    "std_ = var_ ** 0.5\n",
    "\n",
    "skew_ = (sum((item - mean_)**3 for item in x) * n / ((n-1) * (n-2) * std_**3))\n",
    "\n",
    "skew_"
   ]
  },
  {
   "cell_type": "markdown",
   "id": "c25c9498",
   "metadata": {},
   "source": [
    "Skewness menunjukkan angka positive, jadi x mempunya right-side tail.\n",
    "\n",
    "Kita juga dapat menghitung sample skewness dengan <b>scipy.stats.skew()</b>:"
   ]
  },
  {
   "cell_type": "code",
   "execution_count": 48,
   "id": "c08db7ce",
   "metadata": {},
   "outputs": [
    {
     "data": {
      "text/plain": [
       "1.9470432273905927"
      ]
     },
     "execution_count": 48,
     "metadata": {},
     "output_type": "execute_result"
    }
   ],
   "source": [
    "y, y_with_nan = np.array(x), np.array(x_with_nan)\n",
    "\n",
    "scipy.stats.skew(y, bias=False)"
   ]
  },
  {
   "cell_type": "code",
   "execution_count": 49,
   "id": "4f4205cf",
   "metadata": {},
   "outputs": [
    {
     "data": {
      "text/plain": [
       "nan"
      ]
     },
     "execution_count": 49,
     "metadata": {},
     "output_type": "execute_result"
    }
   ],
   "source": [
    "scipy.stats.skew(y_with_nan, bias=False)"
   ]
  },
  {
   "cell_type": "markdown",
   "id": "116daa26",
   "metadata": {},
   "source": [
    "Hasil yang diperoleh sama dengan implementasi Python pure. Parameter <b>bias</b> diset ke <b>False</b> untuk mengaktifkan koreksi bias statistik. Parameter opsional <b>nan_policy</b> dapat menerima nilai <b>'propagate'</b>, <b>'raise'</b>, atau <b>'omit'</b>. Ini memungkinkan kita untuk mengontrol cara kita menangani nilai nan.\n",
    "\n",
    "Objek Pandas Series memiliki metode <b>.skew()</b> yang juga mengembalikan skewness kumpulan data:"
   ]
  },
  {
   "cell_type": "code",
   "execution_count": 50,
   "id": "9c6ddbd7",
   "metadata": {},
   "outputs": [
    {
     "data": {
      "text/plain": [
       "1.9470432273905924"
      ]
     },
     "execution_count": 50,
     "metadata": {},
     "output_type": "execute_result"
    }
   ],
   "source": [
    "z, z_with_nan = pd.Series(x), pd.Series(x_with_nan)\n",
    "z.skew()"
   ]
  },
  {
   "cell_type": "code",
   "execution_count": 51,
   "id": "9847ec22",
   "metadata": {},
   "outputs": [
    {
     "data": {
      "text/plain": [
       "-0.34362620518138026"
      ]
     },
     "execution_count": 51,
     "metadata": {},
     "output_type": "execute_result"
    }
   ],
   "source": [
    "z_with_nan.skew()"
   ]
  },
  {
   "cell_type": "markdown",
   "id": "88ac78fc",
   "metadata": {},
   "source": [
    "## 4. Percentiles\n",
    "\n",
    "<b>sample <i>p</i> percentile</b> adalah elemen dalam kumpulan data sehingga <i>p%</i> elemen dalam kumpulan data kurang dari atau sama dengan nilai tersebut. Juga, (100-p)% elemen lebih besar dari atau sama dengan nilai tersebut. Jika ada dua elemen seperti itu dalam kumpulan data, maka persentil p sampel adalah arithmetic mean mereka. Tiap dataset memiliki tiga <b>quartiles</b>, yang merupakan persentil yang membagi dataset menjadi empat bagian:\n",
    "\n",
    "- <b>First quartile</b> adalah sampel persentil ke-25. Kuartil pertama membagi sekitar 25% item terkecil dari kumpulan data lainnya.\n",
    "- <b>Second quartile</b> adalah sampel persentil ke-50 atau <b>median</b>. Kira-kira 25% item terletak di antara kuartil pertama dan kedua dan 25% lainnya antara kuartil kedua dan ketiga.\n",
    "- <b>Third quartile</b> adalah sampel persentil ke-75. Kuartil ketiga membagi sekitar 25% item terbesar dari sisa kumpulan data.\n",
    "\n",
    "Setiap bagian memiliki jumlah item yang kurang lebih sama. Jika kita ingin membagi data kita menjadi beberapa interval, maka kita dapat menggunakan <b>statistics.quartiles()</b>:"
   ]
  },
  {
   "cell_type": "code",
   "execution_count": 52,
   "id": "29d4a79a",
   "metadata": {},
   "outputs": [
    {
     "data": {
      "text/plain": [
       "[5.8]"
      ]
     },
     "execution_count": 52,
     "metadata": {},
     "output_type": "execute_result"
    }
   ],
   "source": [
    "x = [-7.5, -2.1, 1.2, 1.0, 9.0, 12.8, 11.7, 5.8, 42.8]\n",
    "statistics.quantiles(x, n=2)"
   ]
  },
  {
   "cell_type": "code",
   "execution_count": 53,
   "id": "77123315",
   "metadata": {},
   "outputs": [
    {
     "data": {
      "text/plain": [
       "[1.0, 5.8, 11.7]"
      ]
     },
     "execution_count": 53,
     "metadata": {},
     "output_type": "execute_result"
    }
   ],
   "source": [
    "statistics.quantiles(x, n=4, method='inclusive')"
   ]
  },
  {
   "cell_type": "markdown",
   "id": "4f54121e",
   "metadata": {},
   "source": [
    "Dalam contoh ini, <b>5.8</b> adalah median dari <b>x</b>, sedangkat <b>1.0</b> dan <b>11.7</b> adalah sampel persentil ke-25 dan ke-75. Parameter <b>n</b> menetukan jumlah persentil probabilitas sama yang dihasilkan, dan <b>method</b> menentukan cara menghitungnya.\n",
    "\n",
    "<b>Note:</b> statistics.quantiles() is intoduced in Python 3.8.\n",
    "\n",
    "Kita juga dapat menggunakan <b>np.percentile()</b> untuk menentukan persentil sampel apa pun dalam kumpulan data kita. Misalnya, ini cara kita mencari persentil ke-5 dan ke-95:"
   ]
  },
  {
   "cell_type": "code",
   "execution_count": 54,
   "id": "be86fd4d",
   "metadata": {},
   "outputs": [
    {
     "data": {
      "text/plain": [
       "-5.34"
      ]
     },
     "execution_count": 54,
     "metadata": {},
     "output_type": "execute_result"
    }
   ],
   "source": [
    "y = np.array(x)\n",
    "np.percentile(y, 5)"
   ]
  },
  {
   "cell_type": "code",
   "execution_count": 55,
   "id": "128a85ba",
   "metadata": {},
   "outputs": [
    {
     "data": {
      "text/plain": [
       "30.79999999999999"
      ]
     },
     "execution_count": 55,
     "metadata": {},
     "output_type": "execute_result"
    }
   ],
   "source": [
    "np.percentile(y, 95)"
   ]
  },
  {
   "cell_type": "markdown",
   "id": "041a70e5",
   "metadata": {},
   "source": [
    "<b>percentile()</b> membutuhkan beberapa argumen. Kita harus menyediakan dataset sebagai argumen pertama dan nilai persentil sebagai yang kedua. Dataset dapat berupa array NumPy, list, tuple, atau struktur data serupa. Persentil bisa berupa angka antara 0 dan 100 seperti pada contoh di atas, tetapi bisa juga berupa urutan angka:"
   ]
  },
  {
   "cell_type": "code",
   "execution_count": 56,
   "id": "5eed7b70",
   "metadata": {},
   "outputs": [
    {
     "data": {
      "text/plain": [
       "array([ 1. ,  5.8, 11.7])"
      ]
     },
     "execution_count": 56,
     "metadata": {},
     "output_type": "execute_result"
    }
   ],
   "source": [
    "np.percentile(y, [25, 50, 75])"
   ]
  },
  {
   "cell_type": "code",
   "execution_count": 57,
   "id": "b509a6b2",
   "metadata": {},
   "outputs": [
    {
     "data": {
      "text/plain": [
       "5.8"
      ]
     },
     "execution_count": 57,
     "metadata": {},
     "output_type": "execute_result"
    }
   ],
   "source": [
    "np.median(y)"
   ]
  },
  {
   "cell_type": "markdown",
   "id": "a6fccc27",
   "metadata": {},
   "source": [
    "Kode tersebut menghitung persentil ke-25, ke-50, dan ke-75 sekaligus. Jika nilai persentil adalah sebuah urutan, maka <b>percentile()</b> mengembalikan array NumPy dengan hasilnya. Statement pertama mengembalikan array quartiles. Pernyataan kedua mengembalikan median, sehingga kita dapat mengkonfirmasi bahwa itu sama dengan persentil ke-50, yaitu <b>5.8</b>.\n",
    "\n",
    "Jika kita ingin mengabaikan nilai nan, gunakan <b>np.nanpercentile()</b> sebagai gantinya:"
   ]
  },
  {
   "cell_type": "code",
   "execution_count": 58,
   "id": "8cf4d0a8",
   "metadata": {},
   "outputs": [
    {
     "data": {
      "text/plain": [
       "array([-7.5, -2.1,  nan,  1.2,  1. ,  9. , 12.8, 11.7,  5.8, 42.8])"
      ]
     },
     "execution_count": 58,
     "metadata": {},
     "output_type": "execute_result"
    }
   ],
   "source": [
    "y_with_nan = np.insert(y, 2, np.nan)\n",
    "y_with_nan"
   ]
  },
  {
   "cell_type": "code",
   "execution_count": 59,
   "id": "a141e99c",
   "metadata": {},
   "outputs": [
    {
     "data": {
      "text/plain": [
       "array([ 1. ,  5.8, 11.7])"
      ]
     },
     "execution_count": 59,
     "metadata": {},
     "output_type": "execute_result"
    }
   ],
   "source": [
    "np.nanpercentile(y_with_nan, [25, 50, 75])"
   ]
  },
  {
   "cell_type": "markdown",
   "id": "5603dbde",
   "metadata": {},
   "source": [
    "Begitulah cara kita menghindari nilai nan.\n",
    "\n",
    "NumPy juga menawarkan fungsionalitas yang sangat mirip di <b>quantile()</b> dan <b>nanquantile()</b>. Jika kita ingin menggunakannya, kita harus memberikan nilai-nilai kuantitatif sebagai angka antara 0 dan 1, bukan persentil:"
   ]
  },
  {
   "cell_type": "code",
   "execution_count": 60,
   "id": "c09726ec",
   "metadata": {},
   "outputs": [
    {
     "data": {
      "text/plain": [
       "-5.34"
      ]
     },
     "execution_count": 60,
     "metadata": {},
     "output_type": "execute_result"
    }
   ],
   "source": [
    "np.quantile(y, 0.05)"
   ]
  },
  {
   "cell_type": "code",
   "execution_count": 61,
   "id": "cf358fb7",
   "metadata": {},
   "outputs": [
    {
     "data": {
      "text/plain": [
       "30.79999999999999"
      ]
     },
     "execution_count": 61,
     "metadata": {},
     "output_type": "execute_result"
    }
   ],
   "source": [
    "np.quantile(y, 0.95)"
   ]
  },
  {
   "cell_type": "code",
   "execution_count": 62,
   "id": "0b27e0ee",
   "metadata": {},
   "outputs": [
    {
     "data": {
      "text/plain": [
       "array([ 1. ,  5.8, 11.7])"
      ]
     },
     "execution_count": 62,
     "metadata": {},
     "output_type": "execute_result"
    }
   ],
   "source": [
    "np.quantile(y, [0.25, 0.5, 0.75])"
   ]
  },
  {
   "cell_type": "code",
   "execution_count": 63,
   "id": "1e8fbbcd",
   "metadata": {},
   "outputs": [
    {
     "data": {
      "text/plain": [
       "array([ 1. ,  5.8, 11.7])"
      ]
     },
     "execution_count": 63,
     "metadata": {},
     "output_type": "execute_result"
    }
   ],
   "source": [
    "np.nanquantile(y_with_nan, [0.25, 0.5, 0.75])"
   ]
  },
  {
   "cell_type": "markdown",
   "id": "d720e76c",
   "metadata": {},
   "source": [
    "Hasilnya sama seperti pada contoh sebelumnya, tetapi di sini argumen kita antara 0 dan 1. Dengan kata lain, kita memberikan <b>0.05</b> daripada <b>5</b> dan <b>0.95</b> daripada <b>95</b>.\n",
    "\n",
    "pd.Series objek memiliki method <b>.quantile()</b>:"
   ]
  },
  {
   "cell_type": "code",
   "execution_count": 64,
   "id": "7c8d6959",
   "metadata": {},
   "outputs": [
    {
     "data": {
      "text/plain": [
       "-5.34"
      ]
     },
     "execution_count": 64,
     "metadata": {},
     "output_type": "execute_result"
    }
   ],
   "source": [
    "z, z_with_nan = pd.Series(y), pd.Series(y_with_nan)\n",
    "z.quantile(0.05)"
   ]
  },
  {
   "cell_type": "code",
   "execution_count": 65,
   "id": "749c1116",
   "metadata": {},
   "outputs": [
    {
     "data": {
      "text/plain": [
       "30.79999999999999"
      ]
     },
     "execution_count": 65,
     "metadata": {},
     "output_type": "execute_result"
    }
   ],
   "source": [
    "z.quantile(0.95)"
   ]
  },
  {
   "cell_type": "code",
   "execution_count": 66,
   "id": "d697aad6",
   "metadata": {},
   "outputs": [
    {
     "data": {
      "text/plain": [
       "0.25     1.0\n",
       "0.50     5.8\n",
       "0.75    11.7\n",
       "dtype: float64"
      ]
     },
     "execution_count": 66,
     "metadata": {},
     "output_type": "execute_result"
    }
   ],
   "source": [
    "z.quantile([0.25, 0.5, 0.75])"
   ]
  },
  {
   "cell_type": "code",
   "execution_count": 67,
   "id": "2900f37b",
   "metadata": {},
   "outputs": [
    {
     "data": {
      "text/plain": [
       "0.25     1.0\n",
       "0.50     5.8\n",
       "0.75    11.7\n",
       "dtype: float64"
      ]
     },
     "execution_count": 67,
     "metadata": {},
     "output_type": "execute_result"
    }
   ],
   "source": [
    "z_with_nan.quantile([0.25, 0.5, 0.75])"
   ]
  },
  {
   "cell_type": "markdown",
   "id": "67757311",
   "metadata": {},
   "source": [
    "<b>.quantile()</b> juga membutuhkan kita untuk memberikan nilai quantile sebagai argumennya. Nilai ini bisa berupa angka antara 0 dan 1 atau urutan angka. Dalam kasus pertama, \n",
    "<b>.quantile()</b> mengembalikan skalar. Dalam kasus kedua, ia mengembalikan Series baru."
   ]
  },
  {
   "cell_type": "markdown",
   "id": "68a64dfe",
   "metadata": {},
   "source": [
    "## 5. Ranges\n",
    "\n",
    "Rentang data/range data adalah perbedaan antara elemen maksimum dan minimum dalam kumpulan data. Kita bisa mendapatkannya dengan fungsi <b>np.ptp()</b>:"
   ]
  },
  {
   "cell_type": "code",
   "execution_count": 68,
   "id": "328cc4c2",
   "metadata": {},
   "outputs": [
    {
     "data": {
      "text/plain": [
       "50.3"
      ]
     },
     "execution_count": 68,
     "metadata": {},
     "output_type": "execute_result"
    }
   ],
   "source": [
    "np.ptp(y)"
   ]
  },
  {
   "cell_type": "code",
   "execution_count": 69,
   "id": "475010d1",
   "metadata": {},
   "outputs": [
    {
     "data": {
      "text/plain": [
       "50.3"
      ]
     },
     "execution_count": 69,
     "metadata": {},
     "output_type": "execute_result"
    }
   ],
   "source": [
    "np.ptp(z)"
   ]
  },
  {
   "cell_type": "code",
   "execution_count": 70,
   "id": "3807b7c2",
   "metadata": {},
   "outputs": [
    {
     "data": {
      "text/plain": [
       "nan"
      ]
     },
     "execution_count": 70,
     "metadata": {},
     "output_type": "execute_result"
    }
   ],
   "source": [
    "np.ptp(y_with_nan)"
   ]
  },
  {
   "cell_type": "code",
   "execution_count": 71,
   "id": "cbb234ff",
   "metadata": {},
   "outputs": [
    {
     "data": {
      "text/plain": [
       "nan"
      ]
     },
     "execution_count": 71,
     "metadata": {},
     "output_type": "execute_result"
    }
   ],
   "source": [
    "np.ptp(z_with_nan)"
   ]
  },
  {
   "cell_type": "markdown",
   "id": "e30b7208",
   "metadata": {},
   "source": [
    "Sebagai alternatif, kita dapat menggunakan fungsi dan method Python, NumPy, atau Pandas bawaan untuk menghitung maksimum dan minimum:\n",
    "\n",
    "- <b>max()</b> and <b>min()</b> from the Python standard library\n",
    "- <b>amax()</b> and <b>amin()</b> from NumPy\n",
    "- <b>nanmax()</b> and <b>nanmin()</b> from NumPy to ignore nan values\n",
    "- <b>.max()</b> and <b>.min()</b> from NumPy\n",
    "- <b>.max()</b> and <b>.min()</b> from Pandas to ignore <b>nan</b> values by default\n",
    "\n",
    "Berikut beberapa contoh bagaimana kita akan menggunakannya:"
   ]
  },
  {
   "cell_type": "code",
   "execution_count": 72,
   "id": "7c572a41",
   "metadata": {},
   "outputs": [
    {
     "data": {
      "text/plain": [
       "50.3"
      ]
     },
     "execution_count": 72,
     "metadata": {},
     "output_type": "execute_result"
    }
   ],
   "source": [
    "np.amax(y) - np.amin(y)"
   ]
  },
  {
   "cell_type": "code",
   "execution_count": 73,
   "id": "161efd2c",
   "metadata": {},
   "outputs": [
    {
     "data": {
      "text/plain": [
       "50.3"
      ]
     },
     "execution_count": 73,
     "metadata": {},
     "output_type": "execute_result"
    }
   ],
   "source": [
    "np.nanmax(y_with_nan) - np.nanmin(y_with_nan)"
   ]
  },
  {
   "cell_type": "code",
   "execution_count": 74,
   "id": "b4e0eb1d",
   "metadata": {},
   "outputs": [
    {
     "data": {
      "text/plain": [
       "50.3"
      ]
     },
     "execution_count": 74,
     "metadata": {},
     "output_type": "execute_result"
    }
   ],
   "source": [
    "y.max() - y.min()"
   ]
  },
  {
   "cell_type": "code",
   "execution_count": 75,
   "id": "2981a6c9",
   "metadata": {},
   "outputs": [
    {
     "data": {
      "text/plain": [
       "50.3"
      ]
     },
     "execution_count": 75,
     "metadata": {},
     "output_type": "execute_result"
    }
   ],
   "source": [
    "z.max() - z.min()"
   ]
  },
  {
   "cell_type": "code",
   "execution_count": 76,
   "id": "1fcc44e2",
   "metadata": {},
   "outputs": [
    {
     "data": {
      "text/plain": [
       "50.3"
      ]
     },
     "execution_count": 76,
     "metadata": {},
     "output_type": "execute_result"
    }
   ],
   "source": [
    "z_with_nan.max() - z_with_nan.min()"
   ]
  },
  {
   "cell_type": "markdown",
   "id": "29522557",
   "metadata": {},
   "source": [
    "<b>Interquantile range</b> adalah perbedaan antara  kuartil pertama dan ketiga. Setelah kita menghitung kuartil, kita dapat mengambil selisihnya:"
   ]
  },
  {
   "cell_type": "code",
   "execution_count": 77,
   "id": "832db089",
   "metadata": {},
   "outputs": [
    {
     "data": {
      "text/plain": [
       "10.7"
      ]
     },
     "execution_count": 77,
     "metadata": {},
     "output_type": "execute_result"
    }
   ],
   "source": [
    "quartiles = np.quantile(y, [0.25, 0.75])\n",
    "quartiles[1] - quartiles[0]"
   ]
  },
  {
   "cell_type": "code",
   "execution_count": 78,
   "id": "ab9b92c8",
   "metadata": {},
   "outputs": [
    {
     "data": {
      "text/plain": [
       "10.7"
      ]
     },
     "execution_count": 78,
     "metadata": {},
     "output_type": "execute_result"
    }
   ],
   "source": [
    "quartiles = z.quantile([0.25, 0.75])\n",
    "quartiles[0.75] - quartiles[0.25]"
   ]
  },
  {
   "cell_type": "markdown",
   "id": "b779a2c9",
   "metadata": {},
   "source": [
    "## 6. Summary of Descriptive Statistics\n",
    "\n",
    "SciPy dan Pandas menawarkan function yang berguna untuk mendapatkan descriptive statistics dengan cepat dengan satu panggilan fungsi atau method. Kita dapat menggunakan <b>scipy.stats.describe()</b> seperti ini:"
   ]
  },
  {
   "cell_type": "code",
   "execution_count": 79,
   "id": "2a5dc662",
   "metadata": {},
   "outputs": [
    {
     "data": {
      "text/plain": [
       "DescribeResult(nobs=9, minmax=(-7.5, 42.8), mean=8.299999999999999, variance=211.2875, skewness=1.8504987643039152, kurtosis=4.40872845688247)"
      ]
     },
     "execution_count": 79,
     "metadata": {},
     "output_type": "execute_result"
    }
   ],
   "source": [
    "result = scipy.stats.describe(y, ddof=1, bias=False)\n",
    "result"
   ]
  },
  {
   "cell_type": "markdown",
   "id": "9fe654f1",
   "metadata": {},
   "source": [
    "Kita harus memberikan dataset sebagai argumen pertama. Argumennya bisa berupa array NumPy, list, tuple, atau struktur data serupa. Kita dapat menghilangkan <b>ddof=1</b> karena adalah default dan hanya penting saat kita menghitung varians. Kita bisa meneruskan <b>bias=False</b> untuk memaksa mengoreksi skewness dan kurtosis untuk statistical bias.\n",
    "\n",
    "<b>describe()</b> mengembalikan objek yang berupa descriptive statistics berikut:\n",
    "\n",
    "- <b>nobs</b>: the number of observations or elements in your dataset\n",
    "- <b>minmax</b>: the tuple with the minimum and maximum values of your dataset\n",
    "- <b>mean</b>: the mean of your dataset\n",
    "- <b>variance</b>: the variance of your dataset\n",
    "- <b>skewness</b>: the skewness of your dataset\n",
    "- <b>kurtosis</b>: the kurtosis of your dataset\n",
    "\n",
    "Kita dapat mengakses nilai tertentu dengan dot notation:"
   ]
  },
  {
   "cell_type": "code",
   "execution_count": 80,
   "id": "e055b361",
   "metadata": {},
   "outputs": [
    {
     "data": {
      "text/plain": [
       "9"
      ]
     },
     "execution_count": 80,
     "metadata": {},
     "output_type": "execute_result"
    }
   ],
   "source": [
    "result.nobs"
   ]
  },
  {
   "cell_type": "code",
   "execution_count": 81,
   "id": "64175970",
   "metadata": {},
   "outputs": [
    {
     "data": {
      "text/plain": [
       "-7.5"
      ]
     },
     "execution_count": 81,
     "metadata": {},
     "output_type": "execute_result"
    }
   ],
   "source": [
    "result.minmax[0] # Min"
   ]
  },
  {
   "cell_type": "code",
   "execution_count": 82,
   "id": "52980736",
   "metadata": {},
   "outputs": [
    {
     "data": {
      "text/plain": [
       "42.8"
      ]
     },
     "execution_count": 82,
     "metadata": {},
     "output_type": "execute_result"
    }
   ],
   "source": [
    "result.minmax[1] # Max"
   ]
  },
  {
   "cell_type": "code",
   "execution_count": 83,
   "id": "cf69817d",
   "metadata": {},
   "outputs": [
    {
     "data": {
      "text/plain": [
       "8.299999999999999"
      ]
     },
     "execution_count": 83,
     "metadata": {},
     "output_type": "execute_result"
    }
   ],
   "source": [
    "result.mean"
   ]
  },
  {
   "cell_type": "code",
   "execution_count": 84,
   "id": "2b8560a0",
   "metadata": {},
   "outputs": [
    {
     "data": {
      "text/plain": [
       "211.2875"
      ]
     },
     "execution_count": 84,
     "metadata": {},
     "output_type": "execute_result"
    }
   ],
   "source": [
    "result.variance"
   ]
  },
  {
   "cell_type": "code",
   "execution_count": 85,
   "id": "0bc8488f",
   "metadata": {},
   "outputs": [
    {
     "data": {
      "text/plain": [
       "1.8504987643039152"
      ]
     },
     "execution_count": 85,
     "metadata": {},
     "output_type": "execute_result"
    }
   ],
   "source": [
    "result.skewness"
   ]
  },
  {
   "cell_type": "code",
   "execution_count": 86,
   "id": "5677b48e",
   "metadata": {},
   "outputs": [
    {
     "data": {
      "text/plain": [
       "4.40872845688247"
      ]
     },
     "execution_count": 86,
     "metadata": {},
     "output_type": "execute_result"
    }
   ],
   "source": [
    "result.kurtosis"
   ]
  },
  {
   "cell_type": "markdown",
   "id": "4300d00a",
   "metadata": {},
   "source": [
    "Dengan SciPy, kita hanya perlu satu panggilan fungsi dari ringkasan descriptive statistics untuk kumpulan data kita.\n",
    "\n",
    "Pandas memiliki fungsi yang serupa. Objek series memiliki metode <b>.describe()</b>:"
   ]
  },
  {
   "cell_type": "code",
   "execution_count": 87,
   "id": "c6e1c3ee",
   "metadata": {},
   "outputs": [
    {
     "data": {
      "text/plain": [
       "count     9.000000\n",
       "mean      8.300000\n",
       "std      14.535732\n",
       "min      -7.500000\n",
       "25%       1.000000\n",
       "50%       5.800000\n",
       "75%      11.700000\n",
       "max      42.800000\n",
       "dtype: float64"
      ]
     },
     "execution_count": 87,
     "metadata": {},
     "output_type": "execute_result"
    }
   ],
   "source": [
    "result = z.describe()\n",
    "result"
   ]
  },
  {
   "cell_type": "markdown",
   "id": "89b2d14e",
   "metadata": {},
   "source": [
    "Mengembalikan Series baru yang menampung nilai berikut:\n",
    "- <b>count</b>: the number of elements in your dataset\n",
    "- <b>mean</b>: the mean of your dataset\n",
    "- <b>std</b>: the standard deviation of your dataset\n",
    "- <b>min</b> and <b>max</b>: the minimum and maximum values of your dataset\n",
    "- <b>25%</b>, <b>50%</b>, dan <b>75%</b>: the quartiles of your dataset\n",
    "\n",
    "Jika kita ingin objek Series yang dihasilkan berisi persentil lain, kita harus menentukan nilai <b>percentiles</b> parameter opsional. Kita dapat mengakses setiap item <b>result</b> dengan labelnya:"
   ]
  },
  {
   "cell_type": "code",
   "execution_count": 88,
   "id": "44252143",
   "metadata": {},
   "outputs": [
    {
     "data": {
      "text/plain": [
       "8.3"
      ]
     },
     "execution_count": 88,
     "metadata": {},
     "output_type": "execute_result"
    }
   ],
   "source": [
    "result['mean']"
   ]
  },
  {
   "cell_type": "code",
   "execution_count": 89,
   "id": "6f3055ec",
   "metadata": {},
   "outputs": [
    {
     "data": {
      "text/plain": [
       "14.535731835721242"
      ]
     },
     "execution_count": 89,
     "metadata": {},
     "output_type": "execute_result"
    }
   ],
   "source": [
    "result['std']"
   ]
  },
  {
   "cell_type": "code",
   "execution_count": 90,
   "id": "56e2f3b0",
   "metadata": {},
   "outputs": [
    {
     "data": {
      "text/plain": [
       "-7.5"
      ]
     },
     "execution_count": 90,
     "metadata": {},
     "output_type": "execute_result"
    }
   ],
   "source": [
    "result['min']"
   ]
  },
  {
   "cell_type": "code",
   "execution_count": 91,
   "id": "6a385218",
   "metadata": {},
   "outputs": [
    {
     "data": {
      "text/plain": [
       "42.8"
      ]
     },
     "execution_count": 91,
     "metadata": {},
     "output_type": "execute_result"
    }
   ],
   "source": [
    "result['max']"
   ]
  },
  {
   "cell_type": "code",
   "execution_count": 92,
   "id": "7d857de9",
   "metadata": {},
   "outputs": [
    {
     "data": {
      "text/plain": [
       "1.0"
      ]
     },
     "execution_count": 92,
     "metadata": {},
     "output_type": "execute_result"
    }
   ],
   "source": [
    "result['25%']"
   ]
  },
  {
   "cell_type": "code",
   "execution_count": 93,
   "id": "e88598d4",
   "metadata": {},
   "outputs": [
    {
     "data": {
      "text/plain": [
       "5.8"
      ]
     },
     "execution_count": 93,
     "metadata": {},
     "output_type": "execute_result"
    }
   ],
   "source": [
    "result['50%']"
   ]
  },
  {
   "cell_type": "code",
   "execution_count": 94,
   "id": "e25f91b9",
   "metadata": {},
   "outputs": [
    {
     "data": {
      "text/plain": [
       "11.7"
      ]
     },
     "execution_count": 94,
     "metadata": {},
     "output_type": "execute_result"
    }
   ],
   "source": [
    "result['75%']"
   ]
  },
  {
   "cell_type": "markdown",
   "id": "a7dd90c3",
   "metadata": {},
   "source": [
    "Begitulah cara kita mendapatkan statistik deskriptif dari objek Series dengan satu panggilan metode menggunakan Pandas."
   ]
  },
  {
   "cell_type": "markdown",
   "id": "5b003e7c",
   "metadata": {},
   "source": [
    "# Measures of Correlative Between Pairs of Data\n",
    "\n",
    "Kita sering kali perlu memeriksa hubungan/relation antara elemen yang sesuai dari dua variabel dalam kumpulan data.\n",
    "\n",
    "Kita akan melihat <b>measures of correlation</b> antara pasangan data berikut:\n",
    "- Positive correlation\n",
    "- Negative correlation\n",
    "- Weak or no correlation exists\n",
    "\n",
    "Gambar berikut menunjukkan contoh negative, weak, dan positive correlation:\n",
    "\n",
    "![corr](gambar/corr.png 'corr')\n",
    "\n",
    "Dua statistik yang mengukur korelasi antar dataset adalah <b>covariance</b> dan <b>correlation coefficient</b>.\n",
    "\n",
    "Mari tentukan beberapa data untuk digunakan untuk ukuran ini. Kita akan membuat dua list Pythn dan menggunakannya untuk mendapatkan array NumPy dan Series Pandas yang sesuai:"
   ]
  },
  {
   "cell_type": "code",
   "execution_count": 169,
   "id": "c11b0749",
   "metadata": {},
   "outputs": [],
   "source": [
    "x = list(range(-10, 11))\n",
    "y = [1, 2, 1, 2, 3, 3, 3, 8, 7, 4, 7, 3, 6, 9, 9, 5, 5, 10, 1, 12, 15]\n",
    "x_, y_ = np.array(x), np.array(y)\n",
    "x__, y__ = pd.Series(x_), pd.Series(y_)"
   ]
  },
  {
   "cell_type": "markdown",
   "id": "2ce0ddf3",
   "metadata": {},
   "source": [
    "Sekarang setelah kita memiliki dua variabel, kita dapat mulai menjelajahi relationship di antara keduanya."
   ]
  },
  {
   "cell_type": "markdown",
   "id": "5506db00",
   "metadata": {},
   "source": [
    "## Covariance\n",
    "\n",
    "Sample covariance adalah ukuran yang mengukur kekuatan dan arah hubungan antara sepasang variabel:\n",
    "\n",
    "- <b>If the correlation is positive</b>, the the covariance is a positive, as well. A stronger relationship corresponds to a higher value of the covariance.\n",
    "- <b>If the correlation is negative</b>, the the covariance is negative, as well. A stronger relationship corresponds to a lower (or higher absolute) values of the covariance.\n",
    "- <b>If the correlation is weak</b>, then the covariance is close to zero.\n",
    "\n",
    "Beginilah cara kita menghitung kovarian dengan Python pure:"
   ]
  },
  {
   "cell_type": "code",
   "execution_count": 170,
   "id": "1fcb9912",
   "metadata": {},
   "outputs": [
    {
     "data": {
      "text/plain": [
       "16.6"
      ]
     },
     "execution_count": 170,
     "metadata": {},
     "output_type": "execute_result"
    }
   ],
   "source": [
    "n = len(x)\n",
    "mean_x, mean_y = sum(x) / n, sum(y) / n\n",
    "cov_xy = (sum((x[k] - mean_x) * (y[k] - mean_y) for k in range(n)) / (n-1))\n",
    "\n",
    "cov_xy"
   ]
  },
  {
   "cell_type": "markdown",
   "id": "a2c8d14a",
   "metadata": {},
   "source": [
    "Pertama, kita harus mencari nilai mean dari x dan y. Kemudian, kita menerapkan rumus matematika untuk covariance.\n",
    "\n",
    "NumPy memiliki fungsi <b>cov()</b> yang mengembalikan <b>covariance matrix</b>:"
   ]
  },
  {
   "cell_type": "code",
   "execution_count": 171,
   "id": "2e32eeea",
   "metadata": {},
   "outputs": [
    {
     "data": {
      "text/plain": [
       "array([[38.5       , 16.6       ],\n",
       "       [16.6       , 15.06190476]])"
      ]
     },
     "execution_count": 171,
     "metadata": {},
     "output_type": "execute_result"
    }
   ],
   "source": [
    "cov_matrix = np.cov(x_ , y_)\n",
    "cov_matrix"
   ]
  },
  {
   "cell_type": "markdown",
   "id": "99afd4d4",
   "metadata": {},
   "source": [
    "Perhatikan bahwa <b>cov()</b> memiliki parameter opsional <b>bias</b>, yang defaultnya adalah <b>False</b>, dan <b>ddof</b>, yang defaultnya adalah <b>None</b>. Nilai defaultnya cocok untuk mendapatkan sample covariance matrix. Elemen kiri atas covariance matrix adalah covariance dari x dan x, atau variance dari x. Demikian pula, elemen kanan bawah adalah covariance y dan y, atau variance y. Kita dapat memeriksa apakah ini benar:"
   ]
  },
  {
   "cell_type": "code",
   "execution_count": 98,
   "id": "144a7a13",
   "metadata": {},
   "outputs": [
    {
     "data": {
      "text/plain": [
       "38.5"
      ]
     },
     "execution_count": 98,
     "metadata": {},
     "output_type": "execute_result"
    }
   ],
   "source": [
    "x_.var(ddof=1)"
   ]
  },
  {
   "cell_type": "code",
   "execution_count": 99,
   "id": "98155edc",
   "metadata": {},
   "outputs": [
    {
     "data": {
      "text/plain": [
       "13.914285714285711"
      ]
     },
     "execution_count": 99,
     "metadata": {},
     "output_type": "execute_result"
    }
   ],
   "source": [
    "y_.var(ddof=1)"
   ]
  },
  {
   "cell_type": "markdown",
   "id": "b5d125ff",
   "metadata": {},
   "source": [
    "Seperti yang kita lihat, varians dari x dan y sama dengan <b>cov_matrix[0,0]</b> dan <b>cov_matrix[1,1]</b>.\n",
    "\n",
    "Dua elemen lain dari covariance matrix adalah sama dan mewakili covariance aktual antara x dan ya:"
   ]
  },
  {
   "cell_type": "code",
   "execution_count": 100,
   "id": "768dbbbf",
   "metadata": {},
   "outputs": [
    {
     "data": {
      "text/plain": [
       "19.95"
      ]
     },
     "execution_count": 100,
     "metadata": {},
     "output_type": "execute_result"
    }
   ],
   "source": [
    "cov_xy = cov_matrix[0,1]\n",
    "cov_xy"
   ]
  },
  {
   "cell_type": "code",
   "execution_count": 101,
   "id": "da348117",
   "metadata": {},
   "outputs": [
    {
     "data": {
      "text/plain": [
       "19.95"
      ]
     },
     "execution_count": 101,
     "metadata": {},
     "output_type": "execute_result"
    }
   ],
   "source": [
    "cov_xy = cov_matrix[1,0]\n",
    "cov_xy"
   ]
  },
  {
   "cell_type": "markdown",
   "id": "a94ab2ca",
   "metadata": {},
   "source": [
    "Kita akan mendapatkan nilai kovarian yang sama dengan <b>np.cov()</b> seperti pada Python pure.\n",
    "\n",
    "Series Pandas memiliki metode <b>.cov()</b> yang dapat digunakan untuk menghitung kovarian:"
   ]
  },
  {
   "cell_type": "code",
   "execution_count": 102,
   "id": "3e5df391",
   "metadata": {},
   "outputs": [
    {
     "data": {
      "text/plain": [
       "19.95"
      ]
     },
     "execution_count": 102,
     "metadata": {},
     "output_type": "execute_result"
    }
   ],
   "source": [
    "cov_xy = x__.cov(y__)\n",
    "cov_xy"
   ]
  },
  {
   "cell_type": "code",
   "execution_count": 103,
   "id": "d913b151",
   "metadata": {},
   "outputs": [
    {
     "data": {
      "text/plain": [
       "19.95"
      ]
     },
     "execution_count": 103,
     "metadata": {},
     "output_type": "execute_result"
    }
   ],
   "source": [
    "cov_xy = y__.cov(x__)\n",
    "cov_xy"
   ]
  },
  {
   "cell_type": "markdown",
   "id": "e708c5b5",
   "metadata": {},
   "source": [
    "Disini, kita memanggil <b>.cov()</b> pada satu objek Series dan meneruskan objek lainnya sebagai argumen pertama."
   ]
  },
  {
   "cell_type": "markdown",
   "id": "4236de00",
   "metadata": {},
   "source": [
    "# Correlation Coefficient\n",
    "\n",
    "<b>Correlation coefficient</b> atau <b>Pearson product-moment correlation coefficient</b>, dilambangkan dengan simbol <i>r</i>. Coefficient adalah ukuran lain dari korelasi antar data. Kita dapat menganggapnya sebagai standardized covariance. Berikut beberapa infonya:\n",
    "\n",
    "- <b>The value <i>r</i> > 0</b> indicates positive correlation.\n",
    "- <b>The value <i>r</i> < 0</b> indicates negative correlation.\n",
    "- <b>The value <i>r</i> = 1</b> is the maximum possible value of <i>r</i>. It corresponds to a perfect positive linear relationship between variables.\n",
    "- <b>The value <i>r</i> = -1</b> is the minimum possible value of <i>r</i>. It corresponds to a perfect negative linear relationship between variables.\n",
    "- <b>The value <i>r</i> = 0</b>, or when <i>r</i> is around zero, means that the correlation between variables is weak.\n",
    "    \n",
    "Jika kita memiliki mean(<b>mean_x</b>, <b>mean_y</b>) dan standard deviations(<b>std_x</b>, <b>std_y</b>) untuk dataset <b>x</b> dan <b>y</b>, serta covariannya <b>cov_xy</b>, maka kita dapat menghitung correlation coefficient dengan Python pure:"
   ]
  },
  {
   "cell_type": "code",
   "execution_count": 104,
   "id": "f96e402d",
   "metadata": {},
   "outputs": [
    {
     "data": {
      "text/plain": [
       "0.861950005631606"
      ]
     },
     "execution_count": 104,
     "metadata": {},
     "output_type": "execute_result"
    }
   ],
   "source": [
    "var_x = sum((item - mean_x)**2 for item in x) / (n-1)\n",
    "var_y = sum((item - mean_y)**2 for item in y) / (n-1)\n",
    "\n",
    "std_x, std_y = var_x ** 0.5, var_y ** 0.5\n",
    "\n",
    "r = cov_xy / (std_x * std_y)\n",
    "r"
   ]
  },
  {
   "cell_type": "markdown",
   "id": "694b4cff",
   "metadata": {},
   "source": [
    "Kita mendapatkan variabel <b>r</b> yang mewakili correlation coefficient.\n",
    "\n",
    "<b>scipy.stats</b> memiliki <b>pearsonr()</b> yang menghitung correlation coefficient dan the <i>p</i>-value:"
   ]
  },
  {
   "cell_type": "code",
   "execution_count": 105,
   "id": "b0cbde64",
   "metadata": {},
   "outputs": [
    {
     "data": {
      "text/plain": [
       "0.861950005631606"
      ]
     },
     "execution_count": 105,
     "metadata": {},
     "output_type": "execute_result"
    }
   ],
   "source": [
    "r, p = scipy.stats.pearsonr(x_, y_)\n",
    "r"
   ]
  },
  {
   "cell_type": "code",
   "execution_count": 106,
   "id": "1231a0d0",
   "metadata": {},
   "outputs": [
    {
     "data": {
      "text/plain": [
       "5.122760847201171e-07"
      ]
     },
     "execution_count": 106,
     "metadata": {},
     "output_type": "execute_result"
    }
   ],
   "source": [
    "p"
   ]
  },
  {
   "cell_type": "markdown",
   "id": "9c62c789",
   "metadata": {},
   "source": [
    "<b>pearsonr()</b> mengembalikan tuple dengan dua angka. Yang pertama adalah <i>r</i> dan yang kedua adalah <i>p</i>-value.\n",
    "\n",
    "Mirip dengan kasus covariance matrix, kita dapat menerapkan <b>np.corrcoef()</b> dengan <b>x_</b> dan <b>y_</b> sebagai argumen dan mendapatkan <b>correlation coefficient matrix</b>:"
   ]
  },
  {
   "cell_type": "code",
   "execution_count": 107,
   "id": "9dbb5578",
   "metadata": {},
   "outputs": [
    {
     "data": {
      "text/plain": [
       "array([[1.        , 0.86195001],\n",
       "       [0.86195001, 1.        ]])"
      ]
     },
     "execution_count": 107,
     "metadata": {},
     "output_type": "execute_result"
    }
   ],
   "source": [
    "corr_matrix = np.corrcoef(x_, y_)\n",
    "corr_matrix"
   ]
  },
  {
   "cell_type": "markdown",
   "id": "9a505abe",
   "metadata": {},
   "source": [
    "Elemen kiri atas adalah correlation coefficient antara x_ dan x_. Elemen kanan bawah adalah correlation coefficient anatara y_ dan y_. Nilainya sama dengan 1.0. Dua elemen lainnya sama dan mewakili koefisien korelasi aktual antara x_ dan y_:"
   ]
  },
  {
   "cell_type": "code",
   "execution_count": 108,
   "id": "111174fe",
   "metadata": {},
   "outputs": [
    {
     "data": {
      "text/plain": [
       "0.8619500056316061"
      ]
     },
     "execution_count": 108,
     "metadata": {},
     "output_type": "execute_result"
    }
   ],
   "source": [
    "r = corr_matrix[0,1]\n",
    "r"
   ]
  },
  {
   "cell_type": "code",
   "execution_count": 109,
   "id": "9cfca7e6",
   "metadata": {},
   "outputs": [
    {
     "data": {
      "text/plain": [
       "0.861950005631606"
      ]
     },
     "execution_count": 109,
     "metadata": {},
     "output_type": "execute_result"
    }
   ],
   "source": [
    "r = corr_matrix[1,0]\n",
    "r"
   ]
  },
  {
   "cell_type": "markdown",
   "id": "706418c3",
   "metadata": {},
   "source": [
    "Tentu saja, hasilnya sama dengan Python pure dan <b>pearsonr()</b>.\n",
    "\n",
    "Kita bisa mendapatkan correlation coefficient dengan <b>scipy.stats.linregress()</b>:"
   ]
  },
  {
   "cell_type": "code",
   "execution_count": 110,
   "id": "70c06df7",
   "metadata": {},
   "outputs": [
    {
     "data": {
      "text/plain": [
       "LinregressResult(slope=0.5181818181818181, intercept=5.714285714285714, rvalue=0.861950005631606, pvalue=5.122760847201164e-07, stderr=0.06992387660074979, intercept_stderr=0.4234100995002589)"
      ]
     },
     "execution_count": 110,
     "metadata": {},
     "output_type": "execute_result"
    }
   ],
   "source": [
    "scipy.stats.linregress(x_, y_)"
   ]
  },
  {
   "cell_type": "markdown",
   "id": "e548b00c",
   "metadata": {},
   "source": [
    "<b>linregress()</b> mengambil x_ dan y_, melakukan regresi linier, dan mengembalikan hasilnya. <b>slope</b> dan <b>intercept</b> menentukan persamaan regression line, sedangkan <b>rvalue</b> adalah correlation coefficient. Untuk mengakses nilai tertentu dari hasil <b>linregress()</b>, termasuk correlation coefficient, gunakan dot notation:"
   ]
  },
  {
   "cell_type": "code",
   "execution_count": 111,
   "id": "fed84ed0",
   "metadata": {},
   "outputs": [
    {
     "data": {
      "text/plain": [
       "0.861950005631606"
      ]
     },
     "execution_count": 111,
     "metadata": {},
     "output_type": "execute_result"
    }
   ],
   "source": [
    "result = scipy.stats.linregress(x_, y_)\n",
    "r = result.rvalue\n",
    "r"
   ]
  },
  {
   "cell_type": "markdown",
   "id": "15f4709d",
   "metadata": {},
   "source": [
    "Series Pandas memiliki method <b>.corr()</b> untuk menghitung correlation coefficient:"
   ]
  },
  {
   "cell_type": "code",
   "execution_count": 112,
   "id": "2b49e4cb",
   "metadata": {},
   "outputs": [
    {
     "data": {
      "text/plain": [
       "0.8619500056316061"
      ]
     },
     "execution_count": 112,
     "metadata": {},
     "output_type": "execute_result"
    }
   ],
   "source": [
    "r = x__.corr(y__)\n",
    "r"
   ]
  },
  {
   "cell_type": "code",
   "execution_count": 113,
   "id": "94e4cb44",
   "metadata": {},
   "outputs": [
    {
     "data": {
      "text/plain": [
       "0.861950005631606"
      ]
     },
     "execution_count": 113,
     "metadata": {},
     "output_type": "execute_result"
    }
   ],
   "source": [
    "r = y__.corr(x__)\n",
    "r"
   ]
  },
  {
   "cell_type": "markdown",
   "id": "f143e286",
   "metadata": {},
   "source": [
    "# Working with 2D Data\n",
    "\n",
    "Statisticians sering bekerja dengan data 2D. Berikut beberapa contoh format data 2D:\n",
    "\n",
    "- Database tables\n",
    "- CSV files\n",
    "- Excel, Calc, and Google spreadsheets\n",
    "\n",
    "NumPy dan SciPy menyediakan cara yang komprehensif untuk bekerja dengan data 2D. Pandas memiliki kelas DataFrame khusus untuk menangani 2D labeled data."
   ]
  },
  {
   "cell_type": "markdown",
   "id": "63e50913",
   "metadata": {},
   "source": [
    "## Axes\n",
    "\n",
    "Start by creating a 2D NumPy array:"
   ]
  },
  {
   "cell_type": "code",
   "execution_count": 114,
   "id": "5ec90c65",
   "metadata": {},
   "outputs": [
    {
     "data": {
      "text/plain": [
       "array([[ 1,  1,  1],\n",
       "       [ 2,  3,  1],\n",
       "       [ 4,  9,  2],\n",
       "       [ 8, 27,  4],\n",
       "       [16,  1,  1]])"
      ]
     },
     "execution_count": 114,
     "metadata": {},
     "output_type": "execute_result"
    }
   ],
   "source": [
    "a = np.array([[1,1,1],\n",
    "             [2,3,1],\n",
    "             [4,9,2],\n",
    "             [8,27,4],\n",
    "             [16, 1, 1]])\n",
    "\n",
    "a"
   ]
  },
  {
   "cell_type": "markdown",
   "id": "bf559027",
   "metadata": {},
   "source": [
    "Sekarang kita memiliki kumpulan data 2D, yang akan kita gunakan di section ini. Kita dapat menerapkan fungsi dan metode statistik Python ke dalamnya seperti yang kita lakukan pada data 1D:"
   ]
  },
  {
   "cell_type": "code",
   "execution_count": 115,
   "id": "825c5d5c",
   "metadata": {},
   "outputs": [
    {
     "data": {
      "text/plain": [
       "5.4"
      ]
     },
     "execution_count": 115,
     "metadata": {},
     "output_type": "execute_result"
    }
   ],
   "source": [
    "np.mean(a)\n"
   ]
  },
  {
   "cell_type": "code",
   "execution_count": 116,
   "id": "1811dc34",
   "metadata": {},
   "outputs": [
    {
     "data": {
      "text/plain": [
       "5.4"
      ]
     },
     "execution_count": 116,
     "metadata": {},
     "output_type": "execute_result"
    }
   ],
   "source": [
    "a.mean()"
   ]
  },
  {
   "cell_type": "code",
   "execution_count": 117,
   "id": "73445a34",
   "metadata": {},
   "outputs": [
    {
     "data": {
      "text/plain": [
       "2.0"
      ]
     },
     "execution_count": 117,
     "metadata": {},
     "output_type": "execute_result"
    }
   ],
   "source": [
    "np.median(a)"
   ]
  },
  {
   "cell_type": "code",
   "execution_count": 118,
   "id": "90cef8c9",
   "metadata": {},
   "outputs": [
    {
     "data": {
      "text/plain": [
       "53.40000000000001"
      ]
     },
     "execution_count": 118,
     "metadata": {},
     "output_type": "execute_result"
    }
   ],
   "source": [
    "a.var(ddof=1)"
   ]
  },
  {
   "cell_type": "markdown",
   "id": "92ef8ced",
   "metadata": {},
   "source": [
    "Seperti yang kita lihat, kita mendapatkan statistik(seperti mean, median, atau varians) di semua data dalam array <b>a</b>. Terkadang, perilaku ini yang kita inginkan, tetapi dalam beberapa kasus, kita ingin jumlah ini dihitung untuk setiap baris atau kolom dari larik 2D kita.\n",
    "\n",
    "\n",
    "Fungsi dan mettode yang kita gunakan sejauh ini memiliki satu parameter opsional yang disebut <b>axis</b>, yang pentin untuk menangani data 2D. <b>axis</b> dapat mengambil salah satu dari nilai berikut:\n",
    "\n",
    "- <b>axis=None</b> says to calculate the statistics <b>across all data in the array</b>. The examples above work like this. This behavior is often the default in NumPy.\n",
    "- <b>axis=0</b> says to calculate the statistics <b>across all rows</b>, that is, for each column of the array. This behavior is often the default for SciPy statistical functions.\n",
    "- <b>axis=1</b> says to calculate the statistics <b>across all columns</b>, that is, for each row of the array.\n",
    "\n",
    "Let's see <b>axis=0</b> in action with <b>np.mean()</b>:"
   ]
  },
  {
   "cell_type": "code",
   "execution_count": 119,
   "id": "5dd41771",
   "metadata": {},
   "outputs": [
    {
     "data": {
      "text/plain": [
       "array([6.2, 8.2, 1.8])"
      ]
     },
     "execution_count": 119,
     "metadata": {},
     "output_type": "execute_result"
    }
   ],
   "source": [
    "np.mean(a, axis=0)"
   ]
  },
  {
   "cell_type": "code",
   "execution_count": 120,
   "id": "17595ad0",
   "metadata": {},
   "outputs": [
    {
     "data": {
      "text/plain": [
       "array([6.2, 8.2, 1.8])"
      ]
     },
     "execution_count": 120,
     "metadata": {},
     "output_type": "execute_result"
    }
   ],
   "source": [
    "a.mean(axis=0)"
   ]
  },
  {
   "cell_type": "markdown",
   "id": "c0773abf",
   "metadata": {},
   "source": [
    "Dua pernyataan diatas mengembalikan array NumPy baru dengan mean untuk setiap kolom <b>a</b>. Dalam contoh ini, mean dari kolom pertama adalah <b>6.2</b>. Kolom kedua memiliki mean <b>8.2</b>, sedangkan kolom ketiga memiliki <b>1.8</b>.\n",
    "\n",
    "Jika kita memberikan <b>axis=1</b> pada <b>mean()</b>, kita akan mendapatkan hasil untuk setiap baris:"
   ]
  },
  {
   "cell_type": "code",
   "execution_count": 121,
   "id": "988d86f2",
   "metadata": {},
   "outputs": [
    {
     "data": {
      "text/plain": [
       "array([ 1.,  2.,  5., 13.,  6.])"
      ]
     },
     "execution_count": 121,
     "metadata": {},
     "output_type": "execute_result"
    }
   ],
   "source": [
    "np.mean(a, axis=1)"
   ]
  },
  {
   "cell_type": "code",
   "execution_count": 122,
   "id": "ba9d5e31",
   "metadata": {},
   "outputs": [
    {
     "data": {
      "text/plain": [
       "array([ 1.,  2.,  5., 13.,  6.])"
      ]
     },
     "execution_count": 122,
     "metadata": {},
     "output_type": "execute_result"
    }
   ],
   "source": [
    "a.mean(axis=1)"
   ]
  },
  {
   "cell_type": "markdown",
   "id": "4660157c",
   "metadata": {},
   "source": [
    "Seperti yang kita lihat, baris pertama <b>a</b> memiliki mean <b>1.0</b>, baris kedua <b>2.0</b>, dan seterusnya.\n",
    "\n",
    "<b>axis</b> parameter bekerja dengan cara yang sama dengan fungsi dan metode NumPy lainnya:"
   ]
  },
  {
   "cell_type": "code",
   "execution_count": 123,
   "id": "aa4d5ab5",
   "metadata": {},
   "outputs": [
    {
     "data": {
      "text/plain": [
       "array([4., 3., 1.])"
      ]
     },
     "execution_count": 123,
     "metadata": {},
     "output_type": "execute_result"
    }
   ],
   "source": [
    "np.median(a, axis=0)"
   ]
  },
  {
   "cell_type": "code",
   "execution_count": 124,
   "id": "7a8d44ec",
   "metadata": {},
   "outputs": [
    {
     "data": {
      "text/plain": [
       "array([1., 2., 4., 8., 1.])"
      ]
     },
     "execution_count": 124,
     "metadata": {},
     "output_type": "execute_result"
    }
   ],
   "source": [
    "np.median(a, axis=1)"
   ]
  },
  {
   "cell_type": "code",
   "execution_count": 125,
   "id": "9f0f527c",
   "metadata": {},
   "outputs": [
    {
     "data": {
      "text/plain": [
       "array([ 37.2, 121.2,   1.7])"
      ]
     },
     "execution_count": 125,
     "metadata": {},
     "output_type": "execute_result"
    }
   ],
   "source": [
    "a.var(axis=0, ddof=1)"
   ]
  },
  {
   "cell_type": "code",
   "execution_count": 126,
   "id": "b0cf5d3b",
   "metadata": {},
   "outputs": [
    {
     "data": {
      "text/plain": [
       "array([  0.,   1.,  13., 151.,  75.])"
      ]
     },
     "execution_count": 126,
     "metadata": {},
     "output_type": "execute_result"
    }
   ],
   "source": [
    "a.var(axis=1, ddof=1)"
   ]
  },
  {
   "cell_type": "markdown",
   "id": "9bee6570",
   "metadata": {},
   "source": [
    "Kita mendapatkan median dan sample variations untuk semua kolom(<b>axis=0</b>) dan baris(<b>axis=1</b>) dari array a.\n",
    "\n",
    "Ini sangat mirip saat kita bekerja dengan fungsi statistik SciPy. Tetapi ingat bahwa dalam kasus ini, nilai default untuk <b>axis</b> adalah <b>0</b>:"
   ]
  },
  {
   "cell_type": "code",
   "execution_count": 127,
   "id": "18c3ed3c",
   "metadata": {},
   "outputs": [
    {
     "data": {
      "text/plain": [
       "array([4.        , 3.73719282, 1.51571657])"
      ]
     },
     "execution_count": 127,
     "metadata": {},
     "output_type": "execute_result"
    }
   ],
   "source": [
    "scipy.stats.gmean(a) # Default: axis=0"
   ]
  },
  {
   "cell_type": "code",
   "execution_count": 128,
   "id": "ffbe487a",
   "metadata": {},
   "outputs": [
    {
     "data": {
      "text/plain": [
       "array([4.        , 3.73719282, 1.51571657])"
      ]
     },
     "execution_count": 128,
     "metadata": {},
     "output_type": "execute_result"
    }
   ],
   "source": [
    "scipy.stats.gmean(a, axis=0)"
   ]
  },
  {
   "cell_type": "markdown",
   "id": "08409653",
   "metadata": {},
   "source": [
    "Jika kita menghilangkan <b>axis</b> atau memberikan <b>axis=0</b>, kita akan mendapatkan hasil di semua baris, untuk setiap kolom. Misalnya, kolom pertama <b>a</b> memiliki geometric mean <b>4.0</b>, dan seterusnya.\n",
    "\n",
    "Jika kita menentukan <b>axis=1</b>, kita akan mendapatkan penghitungan di semua kolom, untuk setiap baris:"
   ]
  },
  {
   "cell_type": "code",
   "execution_count": 129,
   "id": "4ec25886",
   "metadata": {},
   "outputs": [
    {
     "data": {
      "text/plain": [
       "array([1.        , 1.81712059, 4.16016765, 9.52440631, 2.5198421 ])"
      ]
     },
     "execution_count": 129,
     "metadata": {},
     "output_type": "execute_result"
    }
   ],
   "source": [
    "scipy.stats.gmean(a, axis=1)"
   ]
  },
  {
   "cell_type": "markdown",
   "id": "08564244",
   "metadata": {},
   "source": [
    "Dalam contoh ini, geometric mean dari baris pertama <b>a</b> adalah <b>1.0</b>. Untuk baris kedua, kira-kira <b>1.82</b>, dan seterusnya.\n",
    "\n",
    "Jika Anda menginginkan statistik untuk seluruh dataset, maka Anda harus menyediakan <b>axis=None</b>:"
   ]
  },
  {
   "cell_type": "code",
   "execution_count": 130,
   "id": "ef2af270",
   "metadata": {},
   "outputs": [
    {
     "data": {
      "text/plain": [
       "2.829705017016332"
      ]
     },
     "execution_count": 130,
     "metadata": {},
     "output_type": "execute_result"
    }
   ],
   "source": [
    "scipy.stats.gmean(a, axis=None)"
   ]
  },
  {
   "cell_type": "markdown",
   "id": "24a132aa",
   "metadata": {},
   "source": [
    "Geometric mean dari semua item dalam array <b>a</b> adalah kira-kira <b>2.83</b>.\n",
    "\n",
    "Kita bisa mendapatkan statistics summary dengan satu panggilan fungsi untuk data 2D dengan scipy.stats.describe(). Ini berfungsi mirip dengan array 1D, tetapi kita harus berhati-hati dengan <b>axis</b> parameter:"
   ]
  },
  {
   "cell_type": "code",
   "execution_count": 131,
   "id": "8ce0245c",
   "metadata": {},
   "outputs": [
    {
     "data": {
      "text/plain": [
       "DescribeResult(nobs=15, minmax=(1, 27), mean=5.4, variance=53.40000000000001, skewness=2.264965290423389, kurtosis=5.212690982795767)"
      ]
     },
     "execution_count": 131,
     "metadata": {},
     "output_type": "execute_result"
    }
   ],
   "source": [
    "scipy.stats.describe(a, axis=None, ddof=1, bias=False)"
   ]
  },
  {
   "cell_type": "code",
   "execution_count": 132,
   "id": "4c4492df",
   "metadata": {},
   "outputs": [
    {
     "data": {
      "text/plain": [
       "DescribeResult(nobs=5, minmax=(array([1, 1, 1]), array([16, 27,  4])), mean=array([6.2, 8.2, 1.8]), variance=array([ 37.2, 121.2,   1.7]), skewness=array([1.32531471, 1.79809454, 1.71439233]), kurtosis=array([1.30376344, 3.14969121, 2.66435986]))"
      ]
     },
     "execution_count": 132,
     "metadata": {},
     "output_type": "execute_result"
    }
   ],
   "source": [
    "scipy.stats.describe(a, ddof=1, bias=False) # Default: axis=0"
   ]
  },
  {
   "cell_type": "code",
   "execution_count": 133,
   "id": "a843e068",
   "metadata": {},
   "outputs": [
    {
     "data": {
      "text/plain": [
       "DescribeResult(nobs=3, minmax=(array([1, 1, 2, 4, 1]), array([ 1,  3,  9, 27, 16])), mean=array([ 1.,  2.,  5., 13.,  6.]), variance=array([  0.,   1.,  13., 151.,  75.]), skewness=array([0.        , 0.        , 1.15206964, 1.52787436, 1.73205081]), kurtosis=array([-3. , -1.5, -1.5, -1.5, -1.5]))"
      ]
     },
     "execution_count": 133,
     "metadata": {},
     "output_type": "execute_result"
    }
   ],
   "source": [
    "scipy.stats.describe(a, axis=1, ddof=1, bias=False)"
   ]
  },
  {
   "cell_type": "markdown",
   "id": "50be5ab5",
   "metadata": {},
   "source": [
    "Saat kita memberikan <b>axis = None</b>, kita mendapatkan ringkasan di semua data, sebagian besar hasil adalah skalar.\n",
    "\n",
    "Jika kita mengatur <b>axis = 0</b> atau menghilangkannya, maka nilai yang dikembalikan adalah ringkasan untuk setiap kolom. Jadi, sebagian besar hasil adalah array dengan jumlah item yang sama dengan jumlah kolom.\n",
    "\n",
    "Jika kita menyetel <b>axis = 1</b>, maka kembalikan <b>describe()</b> ringkasan untuk semua baris."
   ]
  },
  {
   "cell_type": "markdown",
   "id": "99f3a8ac",
   "metadata": {},
   "source": [
    "Kita bisa mendapatkan nilai tertentu dari ringkasan dengan notasi titik:"
   ]
  },
  {
   "cell_type": "code",
   "execution_count": 134,
   "id": "665d9031",
   "metadata": {},
   "outputs": [
    {
     "data": {
      "text/plain": [
       "array([ 1.,  2.,  5., 13.,  6.])"
      ]
     },
     "execution_count": 134,
     "metadata": {},
     "output_type": "execute_result"
    }
   ],
   "source": [
    "result = scipy.stats.describe(a, axis=1, ddof=1, bias=False)\n",
    "result.mean"
   ]
  },
  {
   "cell_type": "markdown",
   "id": "13a989a8",
   "metadata": {},
   "source": [
    "# DataFrame\n",
    "\n",
    "Kelas <b>DataFrame</b> adalah salah satu tipe data fundamental pandas. <b>DataFrame</b> sangat nyaman digunakan karena memiliki label untuk baris dan kolom. Gunakan array <b>a</b> dan buat <b>DataFrame</b>:"
   ]
  },
  {
   "cell_type": "code",
   "execution_count": 135,
   "id": "90b5e632",
   "metadata": {},
   "outputs": [
    {
     "data": {
      "text/html": [
       "<div>\n",
       "<style scoped>\n",
       "    .dataframe tbody tr th:only-of-type {\n",
       "        vertical-align: middle;\n",
       "    }\n",
       "\n",
       "    .dataframe tbody tr th {\n",
       "        vertical-align: top;\n",
       "    }\n",
       "\n",
       "    .dataframe thead th {\n",
       "        text-align: right;\n",
       "    }\n",
       "</style>\n",
       "<table border=\"1\" class=\"dataframe\">\n",
       "  <thead>\n",
       "    <tr style=\"text-align: right;\">\n",
       "      <th></th>\n",
       "      <th>A</th>\n",
       "      <th>B</th>\n",
       "      <th>C</th>\n",
       "    </tr>\n",
       "  </thead>\n",
       "  <tbody>\n",
       "    <tr>\n",
       "      <th>first</th>\n",
       "      <td>1</td>\n",
       "      <td>1</td>\n",
       "      <td>1</td>\n",
       "    </tr>\n",
       "    <tr>\n",
       "      <th>second</th>\n",
       "      <td>2</td>\n",
       "      <td>3</td>\n",
       "      <td>1</td>\n",
       "    </tr>\n",
       "    <tr>\n",
       "      <th>third</th>\n",
       "      <td>4</td>\n",
       "      <td>9</td>\n",
       "      <td>2</td>\n",
       "    </tr>\n",
       "    <tr>\n",
       "      <th>fourth</th>\n",
       "      <td>8</td>\n",
       "      <td>27</td>\n",
       "      <td>4</td>\n",
       "    </tr>\n",
       "    <tr>\n",
       "      <th>fifth</th>\n",
       "      <td>16</td>\n",
       "      <td>1</td>\n",
       "      <td>1</td>\n",
       "    </tr>\n",
       "  </tbody>\n",
       "</table>\n",
       "</div>"
      ],
      "text/plain": [
       "         A   B  C\n",
       "first    1   1  1\n",
       "second   2   3  1\n",
       "third    4   9  2\n",
       "fourth   8  27  4\n",
       "fifth   16   1  1"
      ]
     },
     "execution_count": 135,
     "metadata": {},
     "output_type": "execute_result"
    }
   ],
   "source": [
    "row_names = ['first', 'second', 'third', 'fourth', 'fifth']\n",
    "col_names = ['A', 'B', 'C']\n",
    "df = pd.DataFrame(a, index = row_names, columns = col_names)\n",
    "df"
   ]
  },
  {
   "cell_type": "code",
   "execution_count": 136,
   "id": "bbd664a3",
   "metadata": {},
   "outputs": [
    {
     "data": {
      "text/plain": [
       "A    6.2\n",
       "B    8.2\n",
       "C    1.8\n",
       "dtype: float64"
      ]
     },
     "execution_count": 136,
     "metadata": {},
     "output_type": "execute_result"
    }
   ],
   "source": [
    "df.mean()"
   ]
  },
  {
   "cell_type": "code",
   "execution_count": 137,
   "id": "26a39f66",
   "metadata": {},
   "outputs": [
    {
     "data": {
      "text/plain": [
       "A     37.2\n",
       "B    121.2\n",
       "C      1.7\n",
       "dtype: float64"
      ]
     },
     "execution_count": 137,
     "metadata": {},
     "output_type": "execute_result"
    }
   ],
   "source": [
    "df.var()"
   ]
  },
  {
   "cell_type": "markdown",
   "id": "f82fea55",
   "metadata": {},
   "source": [
    "Apa yang kita dapatkan adalah Series baru yang menyimpan hasil. Dalam hal ini, Series menyimpan arti dan variasi untuk setiap kolom. Jika kita menginginkan hasil untuk setiap baris, maka tentukan parameter <b>axis=1</b>:"
   ]
  },
  {
   "cell_type": "code",
   "execution_count": 138,
   "id": "b4c9b3d2",
   "metadata": {},
   "outputs": [
    {
     "data": {
      "text/plain": [
       "first      1.0\n",
       "second     2.0\n",
       "third      5.0\n",
       "fourth    13.0\n",
       "fifth      6.0\n",
       "dtype: float64"
      ]
     },
     "execution_count": 138,
     "metadata": {},
     "output_type": "execute_result"
    }
   ],
   "source": [
    "df.mean(axis=1)"
   ]
  },
  {
   "cell_type": "code",
   "execution_count": 139,
   "id": "4e0a673e",
   "metadata": {},
   "outputs": [
    {
     "data": {
      "text/plain": [
       "first       0.0\n",
       "second      1.0\n",
       "third      13.0\n",
       "fourth    151.0\n",
       "fifth      75.0\n",
       "dtype: float64"
      ]
     },
     "execution_count": 139,
     "metadata": {},
     "output_type": "execute_result"
    }
   ],
   "source": [
    "df.var(axis=1)"
   ]
  },
  {
   "cell_type": "markdown",
   "id": "0be4d50f",
   "metadata": {},
   "source": [
    "Kita dapat mengisolasi setiap kolom DataFrame seperti ini:"
   ]
  },
  {
   "cell_type": "code",
   "execution_count": 140,
   "id": "a2686ff3",
   "metadata": {},
   "outputs": [
    {
     "data": {
      "text/plain": [
       "first      1\n",
       "second     2\n",
       "third      4\n",
       "fourth     8\n",
       "fifth     16\n",
       "Name: A, dtype: int32"
      ]
     },
     "execution_count": 140,
     "metadata": {},
     "output_type": "execute_result"
    }
   ],
   "source": [
    "df['A']"
   ]
  },
  {
   "cell_type": "markdown",
   "id": "ff92a707",
   "metadata": {},
   "source": [
    "Sekarang, kita memiliki kolom 'A' dalam bentuk objek Seri dan kita dapat menerapkan metode yang sesuai:"
   ]
  },
  {
   "cell_type": "code",
   "execution_count": 141,
   "id": "4fb59f01",
   "metadata": {},
   "outputs": [
    {
     "data": {
      "text/plain": [
       "6.2"
      ]
     },
     "execution_count": 141,
     "metadata": {},
     "output_type": "execute_result"
    }
   ],
   "source": [
    "df['A'].mean()"
   ]
  },
  {
   "cell_type": "code",
   "execution_count": 142,
   "id": "6aa49f76",
   "metadata": {},
   "outputs": [
    {
     "data": {
      "text/plain": [
       "37.20000000000001"
      ]
     },
     "execution_count": 142,
     "metadata": {},
     "output_type": "execute_result"
    }
   ],
   "source": [
    "df['A'].var()"
   ]
  },
  {
   "cell_type": "markdown",
   "id": "84330e7d",
   "metadata": {},
   "source": [
    "kadang-kadang, kita mungkin ingin menggunakan DataFrame sebagai array NumPy dan menerapkan beberapa fungsi Anda. Dimungkinkan untuk mendapatkan semua data dari DataFrame dengan <b> .values </b> atau <b> .to_numpy() </b>:"
   ]
  },
  {
   "cell_type": "code",
   "execution_count": 143,
   "id": "4b0113a3",
   "metadata": {},
   "outputs": [
    {
     "data": {
      "text/plain": [
       "array([[ 1,  1,  1],\n",
       "       [ 2,  3,  1],\n",
       "       [ 4,  9,  2],\n",
       "       [ 8, 27,  4],\n",
       "       [16,  1,  1]])"
      ]
     },
     "execution_count": 143,
     "metadata": {},
     "output_type": "execute_result"
    }
   ],
   "source": [
    "df.values"
   ]
  },
  {
   "cell_type": "code",
   "execution_count": 144,
   "id": "5fef733f",
   "metadata": {},
   "outputs": [
    {
     "data": {
      "text/plain": [
       "array([[ 1,  1,  1],\n",
       "       [ 2,  3,  1],\n",
       "       [ 4,  9,  2],\n",
       "       [ 8, 27,  4],\n",
       "       [16,  1,  1]])"
      ]
     },
     "execution_count": 144,
     "metadata": {},
     "output_type": "execute_result"
    }
   ],
   "source": [
    "df.to_numpy()"
   ]
  },
  {
   "cell_type": "markdown",
   "id": "1e1ec95b",
   "metadata": {},
   "source": [
    "<b>df.values</b> dan <b>df.to_numpy()</b> memberi kita array NumPy dengan semua item dari DataFrame tanpa label baris dan kolom. Perhatikan bahwa lebih fleksibel <b>df.to_numpy</b> karena kita dapat menentukan tipe item data dan apakah kita ingin menggunakan data yang ada atau menggantikannya."
   ]
  },
  {
   "cell_type": "markdown",
   "id": "eacab87d",
   "metadata": {},
   "source": [
    "Seperti Series, objek DataFrame memiliki metode <b>.describe()</b> yang mengembalikan DataFrame lain dengan ringkasan statistik untuk semua kolom:"
   ]
  },
  {
   "cell_type": "code",
   "execution_count": 145,
   "id": "fe89b9e0",
   "metadata": {},
   "outputs": [
    {
     "data": {
      "text/html": [
       "<div>\n",
       "<style scoped>\n",
       "    .dataframe tbody tr th:only-of-type {\n",
       "        vertical-align: middle;\n",
       "    }\n",
       "\n",
       "    .dataframe tbody tr th {\n",
       "        vertical-align: top;\n",
       "    }\n",
       "\n",
       "    .dataframe thead th {\n",
       "        text-align: right;\n",
       "    }\n",
       "</style>\n",
       "<table border=\"1\" class=\"dataframe\">\n",
       "  <thead>\n",
       "    <tr style=\"text-align: right;\">\n",
       "      <th></th>\n",
       "      <th>A</th>\n",
       "      <th>B</th>\n",
       "      <th>C</th>\n",
       "    </tr>\n",
       "  </thead>\n",
       "  <tbody>\n",
       "    <tr>\n",
       "      <th>count</th>\n",
       "      <td>5.00000</td>\n",
       "      <td>5.000000</td>\n",
       "      <td>5.00000</td>\n",
       "    </tr>\n",
       "    <tr>\n",
       "      <th>mean</th>\n",
       "      <td>6.20000</td>\n",
       "      <td>8.200000</td>\n",
       "      <td>1.80000</td>\n",
       "    </tr>\n",
       "    <tr>\n",
       "      <th>std</th>\n",
       "      <td>6.09918</td>\n",
       "      <td>11.009087</td>\n",
       "      <td>1.30384</td>\n",
       "    </tr>\n",
       "    <tr>\n",
       "      <th>min</th>\n",
       "      <td>1.00000</td>\n",
       "      <td>1.000000</td>\n",
       "      <td>1.00000</td>\n",
       "    </tr>\n",
       "    <tr>\n",
       "      <th>25%</th>\n",
       "      <td>2.00000</td>\n",
       "      <td>1.000000</td>\n",
       "      <td>1.00000</td>\n",
       "    </tr>\n",
       "    <tr>\n",
       "      <th>50%</th>\n",
       "      <td>4.00000</td>\n",
       "      <td>3.000000</td>\n",
       "      <td>1.00000</td>\n",
       "    </tr>\n",
       "    <tr>\n",
       "      <th>75%</th>\n",
       "      <td>8.00000</td>\n",
       "      <td>9.000000</td>\n",
       "      <td>2.00000</td>\n",
       "    </tr>\n",
       "    <tr>\n",
       "      <th>max</th>\n",
       "      <td>16.00000</td>\n",
       "      <td>27.000000</td>\n",
       "      <td>4.00000</td>\n",
       "    </tr>\n",
       "  </tbody>\n",
       "</table>\n",
       "</div>"
      ],
      "text/plain": [
       "              A          B        C\n",
       "count   5.00000   5.000000  5.00000\n",
       "mean    6.20000   8.200000  1.80000\n",
       "std     6.09918  11.009087  1.30384\n",
       "min     1.00000   1.000000  1.00000\n",
       "25%     2.00000   1.000000  1.00000\n",
       "50%     4.00000   3.000000  1.00000\n",
       "75%     8.00000   9.000000  2.00000\n",
       "max    16.00000  27.000000  4.00000"
      ]
     },
     "execution_count": 145,
     "metadata": {},
     "output_type": "execute_result"
    }
   ],
   "source": [
    "df.describe()"
   ]
  },
  {
   "cell_type": "markdown",
   "id": "e86cfea8",
   "metadata": {},
   "source": [
    "- <b>count:</b> jumlah item di setiap kolom\n",
    "- <b>mean:</b> rata-rata setiap kolom\n",
    "- <b>std:</b> simpangan baku\n",
    "- <b>min</b> dan max:</b> nilai minimum dan maksimum\n",
    "- <b>25%</b>, <b>50%</b>, <b>75%:</b> persentil"
   ]
  },
  {
   "cell_type": "code",
   "execution_count": 146,
   "id": "fbbd5522",
   "metadata": {},
   "outputs": [
    {
     "data": {
      "text/plain": [
       "6.2"
      ]
     },
     "execution_count": 146,
     "metadata": {},
     "output_type": "execute_result"
    }
   ],
   "source": [
    "df.describe().at['mean', 'A']"
   ]
  },
  {
   "cell_type": "code",
   "execution_count": 147,
   "id": "8a6314b2",
   "metadata": {},
   "outputs": [
    {
     "data": {
      "text/plain": [
       "3.0"
      ]
     },
     "execution_count": 147,
     "metadata": {},
     "output_type": "execute_result"
    }
   ],
   "source": [
    "df.describe().at['50%', 'B']"
   ]
  },
  {
   "cell_type": "markdown",
   "id": "ad10c8a3",
   "metadata": {},
   "source": [
    "# Visualizing Data (Optional)\n",
    "\n",
    "Selain menghitung jumlah numerik seperti mean, median, atau varians, Anda dapat menggunakan metode visual untuk menyajikan, mendeskripsikan, dan meringkas data. Di bagian ini, Anda akan mempelajari cara menyajikan data secara visual menggunakan grafik berikut:\n",
    "\n",
    "- Box Plot\n",
    "- Histogram\n",
    "- Pie Chart\n",
    "- Bar Chart\n",
    "- XY Plot\n",
    "- Heatmap\n",
    "\n",
    "<b>matplotlib.pyplot</b> adalah perpustakaan yang sangat nyaman dan banyak digunakan, meskipun itu bukan satu-satunya perpustakaan Python yang tersedia untuk ini. Anda dapat mengimpornya seperti ini:"
   ]
  },
  {
   "cell_type": "code",
   "execution_count": 148,
   "id": "2081f74f",
   "metadata": {},
   "outputs": [],
   "source": [
    "import matplotlib.pyplot as plt\n",
    "plt.style.use('ggplot')"
   ]
  },
  {
   "cell_type": "markdown",
   "id": "3daa1322",
   "metadata": {},
   "source": [
    "# Box Plots\n",
    "\n",
    "Box plot adalah alat yang baik untuk secara visual mewakili statistik deskriptif dari kumpulan data yang diberikan. Hal ini dapat menunjukkan jangkauan, jangkauan interkuartil, median, modus, outlier, dan semua kuartil. Pertama, buat beberapa data untuk direpresentasikan dengan box plot:"
   ]
  },
  {
   "cell_type": "code",
   "execution_count": 149,
   "id": "6e250887",
   "metadata": {},
   "outputs": [],
   "source": [
    "np.random.seed(seed=0)\n",
    "x = np.random.randn(1000)\n",
    "y = np.random.randn(100)\n",
    "z = np.random.randn(10)"
   ]
  },
  {
   "cell_type": "code",
   "execution_count": 150,
   "id": "0daccaed",
   "metadata": {},
   "outputs": [
    {
     "data": {
      "image/png": "[encoded data removed]",
      "text/plain": [
       "<Figure size 432x288 with 1 Axes>"
      ]
     },
     "metadata": {},
     "output_type": "display_data"
    }
   ],
   "source": [
    "fig, ax = plt.subplots()\n",
    "ax.boxplot((x, y, z),\n",
    "           vert=False,\n",
    "           showmeans=True,\n",
    "           meanline=True,\n",
    "           labels=('x', 'y', 'z'),\n",
    "           patch_artist=True,\n",
    "           medianprops={'linewidth':2,\n",
    "                        'color':'purple'}, \n",
    "                        meanprops = {'linewidth': 2,\n",
    "                                     'color':'red'})\n",
    "\n",
    "plt.show()"
   ]
  },
  {
   "cell_type": "markdown",
   "id": "774de1fc",
   "metadata": {},
   "source": [
    "Parameter dari <b>.boxplot()</b> menentukan berikut:\n",
    "\n",
    "- <b>x</b> adalah data Anda.\n",
    "- <b>vert</b> mengatur orientasi plot ke horizontal ketika <b>False</b>. Orientasi default adalah vertikal.\n",
    "- <b>showmeans</b> menunjukkan rata-rata data Anda saat True.\n",
    "- <b>meanline</b> mewakili mean sebagai garis ketika True. Representasi default adalah titik.\n",
    "- <b>labels:</b> label data Anda.\n",
    "- <b>patch_artist</b> menetukan cara menggambarkan grafik.\n",
    "- <b>medianprops</b> menunjukkan sifat-sifat garis yang mewakili median.\n",
    "- <b>meanprops</b> menunjukkan sifat-sifat garis atau titik yang mewakili mean."
   ]
  },
  {
   "cell_type": "markdown",
   "id": "a8ae4c10",
   "metadata": {},
   "source": [
    "Masing-masing box plot sesuai dengan satu set data (x, y, atau z) dan menunjukan yang berikut:\n",
    "\n",
    "- <b>Mean</b> adalah garis putus-putus merah\n",
    "- <b>Median</b> adalah garis ungu\n",
    "- <b>Kuartil pertama</b> adalah tepi kiri persegi panjang biru.\n",
    "- <b>Kuartil ketiga</b> adalah tepi kanan persegi panjang biru.\n",
    "- <b>Jangkauan antarkuartil (IQR)</b> adalah panjang persegi panjang biru.\n",
    "- <b>Range</b> berisi semuanya dari kiri ke kanan.\n",
    "- <b>Outliers</b> adalah titik-titik di kiri dan kanan.\n",
    "\n",
    "Box plot dapat menampilkan begitu banyak informasi dalam satu gambar!"
   ]
  },
  {
   "cell_type": "markdown",
   "id": "a807cdf9",
   "metadata": {},
   "source": [
    "# Histogram\n",
    "\n",
    "Histogram sangat berguna ketika ada sejumlah besar nilai unik dalam kumpulan data. Histogram membagi nilai dari kumpulan data yang diurutkan ke dalam interval, juga disebut <b>bins</b>. "
   ]
  },
  {
   "cell_type": "code",
   "execution_count": 151,
   "id": "259b2a30",
   "metadata": {},
   "outputs": [
    {
     "data": {
      "text/plain": [
       "array([  9,  20,  70, 146, 217, 239, 160,  86,  38,  15], dtype=int64)"
      ]
     },
     "execution_count": 151,
     "metadata": {},
     "output_type": "execute_result"
    }
   ],
   "source": [
    "hist, bin_edges = np.histogram(x, bins=10)\n",
    "hist"
   ]
  },
  {
   "cell_type": "code",
   "execution_count": 152,
   "id": "f73c9fae",
   "metadata": {},
   "outputs": [
    {
     "data": {
      "text/plain": [
       "array([-3.04614305, -2.46559324, -1.88504342, -1.3044936 , -0.72394379,\n",
       "       -0.14339397,  0.43715585,  1.01770566,  1.59825548,  2.1788053 ,\n",
       "        2.75935511])"
      ]
     },
     "execution_count": 152,
     "metadata": {},
     "output_type": "execute_result"
    }
   ],
   "source": [
    "bin_edges"
   ]
  },
  {
   "cell_type": "markdown",
   "id": "2fe096e5",
   "metadata": {},
   "source": [
    "Dibutuhkan array dengan data Anda dan jumlah (atau tepi) bin dan mengembalikan dua array NumPy:\n",
    "\n",
    "1. hist berisi frekuensi atau jumlah item yang sesuai dengan setiap bin.\n",
    "2. bin_edges berisi tepi atau batas bin.\n"
   ]
  },
  {
   "cell_type": "code",
   "execution_count": 153,
   "id": "2576eebf",
   "metadata": {},
   "outputs": [
    {
     "data": {
      "image/png": "[encoded data removed]",
      "text/plain": [
       "<Figure size 432x288 with 1 Axes>"
      ]
     },
     "metadata": {},
     "output_type": "display_data"
    }
   ],
   "source": [
    "fig, ax = plt.subplots()\n",
    "ax.hist(x, bin_edges, cumulative=False)\n",
    "ax.set_xlabel('x')\n",
    "ax.set_ylabel('Frequency')\n",
    "plt.show()"
   ]
  },
  {
   "cell_type": "code",
   "execution_count": 154,
   "id": "cc2d18ca",
   "metadata": {},
   "outputs": [
    {
     "data": {
      "image/png": "[encoded data removed]",
      "text/plain": [
       "<Figure size 432x288 with 1 Axes>"
      ]
     },
     "metadata": {},
     "output_type": "display_data"
    }
   ],
   "source": [
    "fig, ax = plt.subplots()\n",
    "ax.hist(x, bin_edges, cumulative=True)\n",
    "ax.set_xlabel('x')\n",
    "ax.set_ylabel('Frequency')\n",
    "plt.show()"
   ]
  },
  {
   "cell_type": "markdown",
   "id": "cfc85e58",
   "metadata": {},
   "source": [
    "Ini menunjukkan histogram dengan nilai kumulatif. Frekuensi bin pertama dan paling kiri adalah jumlah item dalam bin ini. Frekuensi bin kedua adalah jumlah item di bin pertama dan kedua. Bin lainnya mengikuti pola yang sama. Akhirnya, frekuensi bin terakhir dan paling kanan adalah jumlah total item dalam dataset (dalam hal ini, 1000). \n",
    "\n",
    "Anda juga dapat langsung menggambarkan histogram dengan <b>pd.Series.hist()</b> menggunakan <b>matplotlib</b> di latar belakang."
   ]
  },
  {
   "cell_type": "markdown",
   "id": "760bbeed",
   "metadata": {},
   "source": [
    "# Pie Charts"
   ]
  },
  {
   "cell_type": "markdown",
   "id": "7008aaa5",
   "metadata": {},
   "source": [
    "Pie Chart mewakili data dengan sejumlah kecil label dan frekuensi relatif yang diberikan. Diagram ini bekerja dengan baik bahkan dengan label yang tidak dapat dipesan (seperti data nominal). \n",
    "\n",
    "<b>Pie Chart</b> adalah lingkaran yang dibagi menjadi beberapa bagian. Setiap irisan sesuai dengan satu label berbeda dari kumpulan data dan memiliki luas yang sebanding dengan frekuensi relatif yang terkait dengan label tersebut.\n",
    "\n",
    "Mari kita definisikan data yang terkait dengan tiga label:"
   ]
  },
  {
   "cell_type": "code",
   "execution_count": 155,
   "id": "aeb85bd7",
   "metadata": {},
   "outputs": [],
   "source": [
    "x, y, z= 128, 256, 1024"
   ]
  },
  {
   "cell_type": "markdown",
   "id": "f721587b",
   "metadata": {},
   "source": [
    "Sekarang buat Pie Chart dengan <b>.pie()</b>"
   ]
  },
  {
   "cell_type": "code",
   "execution_count": 156,
   "id": "8b6d5995",
   "metadata": {},
   "outputs": [
    {
     "data": {
      "image/png": "[encoded data removed]",
      "text/plain": [
       "<Figure size 432x288 with 1 Axes>"
      ]
     },
     "metadata": {},
     "output_type": "display_data"
    }
   ],
   "source": [
    "fig, ax = plt.subplots()\n",
    "ax.pie((x, y, z),  labels=('x', 'y', 'z'), autopct='%1.1f%%')\n",
    "\n",
    "plt.show()"
   ]
  },
  {
   "cell_type": "markdown",
   "id": "4e1b1253",
   "metadata": {},
   "source": [
    "Argumen pertama <b>.pie()</b> adalah data Anda, dan yang kedua adalah urutan label yang sesuai. <b>autopct</b> mendefinisikan format frekuensi relatif yang ditunjukkan pada gambar. Anda akan mendapatkan Pie Chart seperti yang terlihat diatas."
   ]
  },
  {
   "cell_type": "markdown",
   "id": "85fa8598",
   "metadata": {},
   "source": [
    "Pie Chart diatas menampilkan x sebagai bagian terkecil dari lingkaran, y sebagai yang terbesar berikutnya, dan kemusian z sebagai bagian terbesar. Persentase menunjukkan ukuran relatif dari setiap nilai dibandingkan dengan jumlah mereka."
   ]
  },
  {
   "cell_type": "markdown",
   "id": "f9f2a50d",
   "metadata": {},
   "source": [
    "# Bar Charts\n",
    "\n",
    "Bar chart menggambarkan data yang sesuai dengan label yang diberikan atau nilai numerik diskrit, chart ini dapat menunjukan pasangan data dari dua kumpulan data. Secara opsional, bar chart juga dapat menunjukkan kesalahan yang terkait dengan frekuensi.\n",
    "\n",
    "Bar Chart menampilkan persegi panjang paralel yang disebut <b>batang</b>.Setiap batang di Bar chart sesuai dengan label dan memiliki tinggi yang sebanding dengan frekuensi atau frekuensi relatif labelnya. Mari buat tiga set data, masing-masing dengan 21 item:"
   ]
  },
  {
   "cell_type": "code",
   "execution_count": 157,
   "id": "dcf99562",
   "metadata": {},
   "outputs": [],
   "source": [
    "x = np.arange(21)\n",
    "y = np.random.randint(21, size=21)\n",
    "err = np.random.randn(21)"
   ]
  },
  {
   "cell_type": "markdown",
   "id": "ab07c9fc",
   "metadata": {},
   "source": [
    "Gunakan <b>np.arange()</b> untuk mendapatkan <b>x</b>, atau larik bilangan bulat berurutan dari 0 sampai 20. Kita akan menggunakannya untuk mewakili label. <b>y</b> adalah array bilangan bulat acak terdistribusi seragam, juga antara 0 sampai 20. Array ini akan mewakili frekuensi. <b>err</b> berisi angka floating-point terdistribusi normal, yang merupakan kesalahan. Nilai-nilai ini opsional.\n",
    "\n",
    "Buat diagram batang dengan <b>.bar()</b> jika ingin batang vertikal dan gunakan <b>.barh()</b> jika ingin batang horizontal."
   ]
  },
  {
   "cell_type": "code",
   "execution_count": 158,
   "id": "335d0ec2",
   "metadata": {},
   "outputs": [
    {
     "data": {
      "image/png": "[encoded data removed]",
      "text/plain": [
       "<Figure size 432x288 with 1 Axes>"
      ]
     },
     "metadata": {},
     "output_type": "display_data"
    }
   ],
   "source": [
    "fig, ax = plt.subplots()\n",
    "ax.bar(x, y, yerr=err)\n",
    "ax.set_xlabel('x')\n",
    "ax.set_ylabel('y')\n",
    "\n",
    "plt.show()"
   ]
  },
  {
   "cell_type": "markdown",
   "id": "2a37488e",
   "metadata": {},
   "source": [
    "Ketinggian batang merah sesuai dengan frekuensi <b>y</b>, sedangkan panjang garis hitam menunjukkan kesalahan <b>err</b>. Jika Anda tidak ingin menyertakan kesalahan, hilangkan <b>yerr</b> parameter <b>.bar()</b>."
   ]
  },
  {
   "cell_type": "markdown",
   "id": "98e5f926",
   "metadata": {},
   "source": [
    "# Plot XY\n",
    "\n",
    "<b>Plot xy</b> atau <b>plot sebar</b> mewakili pasangan data dari dua kumpulan data. Sumbu <b>x</b> horizontal menunjukan nilai dari himpunan x, sedangkan sumbu <b>y</b> vertikal menunjukan nilai yang sesuai dari himpunan y. Anda dapat secara opsional memasukkan garis regresi dan koefisien korelasi.\n",
    "\n",
    "Mari buat dua kumpulan data dan lakukan regresi linier dengan <b> scipy.stats.linregress()</b>:"
   ]
  },
  {
   "cell_type": "code",
   "execution_count": 159,
   "id": "fa140061",
   "metadata": {},
   "outputs": [],
   "source": [
    "x = np.arange(21)\n",
    "y = 5 + 2 * x +2 * np.random.randn(21)\n",
    "slope, intercept, r, *__ = scipy.stats.linregress(x, y)\n",
    "line = f'Regression line: y={intercept:.2f}+{slope:.2f}x, r={r:.2f}'"
   ]
  },
  {
   "cell_type": "markdown",
   "id": "7da1497c",
   "metadata": {},
   "source": [
    "<b>x</b> lagi-lagi array dengan bilangan 0 hingga 20.\n",
    "\n",
    "\n",
    "<b>y</b> dihitung sebagai fungsi linier x terdistorsi dengan beberapa noise acak.\n",
    "\n",
    "<b>lingregress</b> mengembalikan beberapa nilai. Anda memerlukan <b>slope</b> dan <b>intercept</b> dari garis regresi, serta koefisien korelasi <b>r</b>. Kemudian Anda dapat mengajukan permohonan <b>.plot()</b> untuk mendapatkan plot xy."
   ]
  },
  {
   "cell_type": "code",
   "execution_count": 160,
   "id": "b75ec4eb",
   "metadata": {},
   "outputs": [
    {
     "data": {
      "image/png": "[encoded data removed]",
      "text/plain": [
       "<Figure size 432x288 with 1 Axes>"
      ]
     },
     "metadata": {},
     "output_type": "display_data"
    }
   ],
   "source": [
    "fig, ax = plt.subplots()\n",
    "ax.plot(x, y, linewidth=0, marker='s', label='Data points')\n",
    "ax.plot(x, intercept + slope * x, label=line)\n",
    "ax.set_xlabel('x')\n",
    "ax.set_ylabel('y')\n",
    "ax.legend(facecolor='white')\n",
    "\n",
    "plt.show()"
   ]
  },
  {
   "cell_type": "markdown",
   "id": "ee79dde8",
   "metadata": {},
   "source": [
    "Anda dapat melihat titik data(pasangan x,y) sebagai kotak merah, serta garis regresi biru."
   ]
  },
  {
   "cell_type": "markdown",
   "id": "cd79ff0d",
   "metadata": {},
   "source": [
    "# Heatmaps"
   ]
  },
  {
   "cell_type": "markdown",
   "id": "7da30008",
   "metadata": {},
   "source": [
    "Heatmap dapat digunakan untuk menampilkan matriks secara visual. Warna mewakili bilangan atau elemen matriks. Heatmap sangat berguna untuk menggambarkan matriks kovarians dan korelasi.\n",
    "\n",
    "Anda dapat membuat heatmap untuk matriks kovarians dengan <b>.imshow()</b>."
   ]
  },
  {
   "cell_type": "code",
   "execution_count": 161,
   "id": "7547ccd4",
   "metadata": {},
   "outputs": [
    {
     "data": {
      "image/png": "[encoded data removed]",
      "text/plain": [
       "<Figure size 432x288 with 1 Axes>"
      ]
     },
     "metadata": {},
     "output_type": "display_data"
    }
   ],
   "source": [
    "matrix = np.cov(x, y).round(decimals=2)\n",
    "fig, ax = plt.subplots()\n",
    "ax.imshow(matrix)\n",
    "ax.grid(False)\n",
    "ax.xaxis.set(ticks=(0, 1), ticklabels=('x', 'y'))\n",
    "ax.yaxis.set(ticks=(0, 1), ticklabels=('x', 'y'))\n",
    "ax.set_ylim(1.5, -0.5)\n",
    "for i in range(2):\n",
    "    for j in range(2):\n",
    "        ax.text(j, i, matrix[i, j], ha='center', va='center', color='w')\n",
    "        \n",
    "plt.show() "
   ]
  },
  {
   "cell_type": "markdown",
   "id": "c1274eaa",
   "metadata": {},
   "source": [
    "Anda dapat memperoleh heatmap untuk matriks koefisien korelasi dengan mengikuti logika yang sama:"
   ]
  },
  {
   "cell_type": "code",
   "execution_count": 162,
   "id": "0d862d75",
   "metadata": {},
   "outputs": [
    {
     "data": {
      "image/png": "[encoded data removed]",
      "text/plain": [
       "<Figure size 432x288 with 1 Axes>"
      ]
     },
     "metadata": {},
     "output_type": "display_data"
    }
   ],
   "source": [
    "matrix = np.corrcoef(x, y).round(decimals=2)\n",
    "fig, ax = plt.subplots()\n",
    "ax.imshow(matrix)\n",
    "ax.grid(False)\n",
    "ax.xaxis.set(ticks=(0, 1), ticklabels=('x', 'y'))\n",
    "ax.yaxis.set(ticks=(0, 1), ticklabels=('x', 'y'))\n",
    "ax.set_ylim(1.5, -0.5)\n",
    "for i in range(2):\n",
    "    for j in range(2):\n",
    "        ax.text(j, i, matrix[i, j], ha='center', va='center', color='w')\n",
    "        \n",
    "plt.show() "
   ]
  }
 ],
 "metadata": {
  "kernelspec": {
   "display_name": "Python 3 (ipykernel)",
   "language": "python",
   "name": "python3"
  },
  "language_info": {
   "codemirror_mode": {
    "name": "ipython",
    "version": 3
   },
   "file_extension": ".py",
   "mimetype": "text/x-python",
   "name": "python",
   "nbconvert_exporter": "python",
   "pygments_lexer": "ipython3",
   "version": "3.9.7"
  }
 },
 "nbformat": 4,
 "nbformat_minor": 5
}
