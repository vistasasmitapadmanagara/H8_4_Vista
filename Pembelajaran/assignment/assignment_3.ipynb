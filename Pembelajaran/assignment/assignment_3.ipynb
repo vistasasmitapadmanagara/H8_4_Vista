{
  "nbformat": 4,
  "nbformat_minor": 0,
  "metadata": {
    "colab": {
      "name": "assignment_3",
      "provenance": [],
      "collapsed_sections": []
    },
    "kernelspec": {
      "name": "python3",
      "display_name": "Python 3"
    },
    "language_info": {
      "name": "python"
    }
  },
  "cells": [
    {
      "cell_type": "code",
      "source": [
        "# from google.colab import drive\n",
        "# drive.mount('/content/drive')"
      ],
      "metadata": {
        "id": "jMm9hYt3dRdC"
      },
      "execution_count": 1,
      "outputs": []
    },
    {
      "cell_type": "markdown",
      "source": [
        "# Assignment 3: Classification II\n",
        "## Tugas\n",
        "- Logistic Regression\n",
        "- K-Nearest Neighbors\n",
        "- Support Vector Machine\n",
        "- Decision Tree\n",
        "- Random Forest\n",
        "- Naive Bayes\n",
        "- Confusion Matrix\n",
        "- Visualization\n",
        "- Preprocessing\n"
      ],
      "metadata": {
        "id": "IqVsumq1diPd"
      }
    },
    {
      "cell_type": "markdown",
      "source": [
        "**Tentang Dataset**\n",
        "\n",
        "Data tersebut terkait dengan kampanye pemasaran langsung dari lembaga perbankan Portugis. Kampanye pemasaran didasarkan pada panggilan telepon. Seringkali, lebih dari satu kontak ke klien yang sama diperlukan, untuk mengakses apakah produk (deposito berjangka bank) akan ('ya') atau tidak ('tidak') berlangganan.\n",
        "\n",
        "Ada empat kumpulan data:\n",
        "1. bank-additional-full.csv dengan semua contoh (41188) dan 20 input, diurutkan berdasarkan tanggal (dari Mei 2008 hingga November 2010), sangat mirip dengan data yang dianalisis di [Moro et al., 2014]\n",
        "2. bank-additional.csv dengan 10% dari contoh (4119), dipilih secara acak dari 1), dan 20 input.\n",
        "3. bank-full.csv dengan semua contoh dan 17 input, diurutkan berdasarkan tanggal (versi lama dari kumpulan data ini dengan input yang lebih sedikit).\n",
        "4. bank.csv dengan 10% contoh dan 17 input, dipilih secara acak dari 3 (versi lama dari kumpulan data ini dengan input lebih sedikit)."
      ],
      "metadata": {
        "id": "9XhfJ06Ke8gC"
      }
    },
    {
      "cell_type": "markdown",
      "source": [
        "Target yang diinginkan:\n",
        "\n",
        "**apakah klien telah berlangganan deposito berjangka? (biner: 'ya', 'tidak')**"
      ],
      "metadata": {
        "id": "Ynu32mn-ekKW"
      }
    },
    {
      "cell_type": "markdown",
      "source": [
        "# Preparing Data"
      ],
      "metadata": {
        "id": "Rx4b6mYWfePP"
      }
    },
    {
      "cell_type": "code",
      "source": [
        "import numpy as np\n",
        "import pandas as pd\n",
        "\n",
        "# EDA\n",
        "import matplotlib.pyplot as plt\n",
        "import seaborn as sns\n",
        "import plotly.express as px\n",
        "%matplotlib inline\n",
        "\n",
        "# labelEncoder\n",
        "from sklearn.preprocessing import LabelEncoder\n",
        "\n",
        "# scaling data\n",
        "from sklearn.preprocessing import StandardScaler\n",
        "\n",
        "# SMOTE\n",
        "from imblearn.over_sampling import ADASYN\n",
        "\n",
        "# Feature selection\n",
        "from sklearn.feature_selection import SelectKBest\n",
        "from sklearn.feature_selection import chi2\n",
        "\n",
        "# splitting data\n",
        "from sklearn.model_selection import train_test_split\n",
        "\n",
        "# modelling\n",
        "from sklearn.linear_model import LogisticRegression\n",
        "from sklearn.svm import SVC\n",
        "from sklearn.tree import DecisionTreeClassifier\n",
        "from sklearn.naive_bayes import GaussianNB\n",
        "from sklearn.ensemble import RandomForestClassifier\n",
        "from sklearn.neighbors import KNeighborsClassifier\n",
        "\n",
        "# evaluation\n",
        "from sklearn.metrics import accuracy_score, confusion_matrix, classification_report\n",
        "from sklearn.metrics import roc_curve\n",
        "from sklearn.metrics import auc"
      ],
      "metadata": {
        "id": "4QZsG324e0SR"
      },
      "execution_count": 2,
      "outputs": []
    },
    {
      "cell_type": "code",
      "source": [
        "df = pd.read_csv(\"/content/drive/MyDrive/tugas_studi/bank.csv\")"
      ],
      "metadata": {
        "id": "9pQOUwiAfwmL"
      },
      "execution_count": 3,
      "outputs": []
    },
    {
      "cell_type": "code",
      "source": [
        "print(df.shape)"
      ],
      "metadata": {
        "colab": {
          "base_uri": "https://localhost:8080/"
        },
        "id": "ZnIR3hkof5tV",
        "outputId": "93b1e1de-88e8-428c-f766-f76c075a7747"
      },
      "execution_count": 4,
      "outputs": [
        {
          "output_type": "stream",
          "name": "stdout",
          "text": [
            "(4521, 17)\n"
          ]
        }
      ]
    },
    {
      "cell_type": "code",
      "source": [
        "df.head()"
      ],
      "metadata": {
        "colab": {
          "base_uri": "https://localhost:8080/",
          "height": 206
        },
        "id": "h4irOG5kf7Xu",
        "outputId": "b46559c5-b0b2-4879-fc9e-4f62ce26144f"
      },
      "execution_count": 5,
      "outputs": [
        {
          "output_type": "execute_result",
          "data": {
            "text/plain": [
              "   age          job  marital  education default  balance housing loan  \\\n",
              "0   30   unemployed  married    primary      no     1787      no   no   \n",
              "1   33     services  married  secondary      no     4789     yes  yes   \n",
              "2   35   management   single   tertiary      no     1350     yes   no   \n",
              "3   30   management  married   tertiary      no     1476     yes  yes   \n",
              "4   59  blue-collar  married  secondary      no        0     yes   no   \n",
              "\n",
              "    contact  day month  duration  campaign  pdays  previous poutcome   y  \n",
              "0  cellular   19   oct        79         1     -1         0  unknown  no  \n",
              "1  cellular   11   may       220         1    339         4  failure  no  \n",
              "2  cellular   16   apr       185         1    330         1  failure  no  \n",
              "3   unknown    3   jun       199         4     -1         0  unknown  no  \n",
              "4   unknown    5   may       226         1     -1         0  unknown  no  "
            ],
            "text/html": [
              "\n",
              "  <div id=\"df-07e81837-6bab-4695-824d-ca3b0cc5b29f\">\n",
              "    <div class=\"colab-df-container\">\n",
              "      <div>\n",
              "<style scoped>\n",
              "    .dataframe tbody tr th:only-of-type {\n",
              "        vertical-align: middle;\n",
              "    }\n",
              "\n",
              "    .dataframe tbody tr th {\n",
              "        vertical-align: top;\n",
              "    }\n",
              "\n",
              "    .dataframe thead th {\n",
              "        text-align: right;\n",
              "    }\n",
              "</style>\n",
              "<table border=\"1\" class=\"dataframe\">\n",
              "  <thead>\n",
              "    <tr style=\"text-align: right;\">\n",
              "      <th></th>\n",
              "      <th>age</th>\n",
              "      <th>job</th>\n",
              "      <th>marital</th>\n",
              "      <th>education</th>\n",
              "      <th>default</th>\n",
              "      <th>balance</th>\n",
              "      <th>housing</th>\n",
              "      <th>loan</th>\n",
              "      <th>contact</th>\n",
              "      <th>day</th>\n",
              "      <th>month</th>\n",
              "      <th>duration</th>\n",
              "      <th>campaign</th>\n",
              "      <th>pdays</th>\n",
              "      <th>previous</th>\n",
              "      <th>poutcome</th>\n",
              "      <th>y</th>\n",
              "    </tr>\n",
              "  </thead>\n",
              "  <tbody>\n",
              "    <tr>\n",
              "      <th>0</th>\n",
              "      <td>30</td>\n",
              "      <td>unemployed</td>\n",
              "      <td>married</td>\n",
              "      <td>primary</td>\n",
              "      <td>no</td>\n",
              "      <td>1787</td>\n",
              "      <td>no</td>\n",
              "      <td>no</td>\n",
              "      <td>cellular</td>\n",
              "      <td>19</td>\n",
              "      <td>oct</td>\n",
              "      <td>79</td>\n",
              "      <td>1</td>\n",
              "      <td>-1</td>\n",
              "      <td>0</td>\n",
              "      <td>unknown</td>\n",
              "      <td>no</td>\n",
              "    </tr>\n",
              "    <tr>\n",
              "      <th>1</th>\n",
              "      <td>33</td>\n",
              "      <td>services</td>\n",
              "      <td>married</td>\n",
              "      <td>secondary</td>\n",
              "      <td>no</td>\n",
              "      <td>4789</td>\n",
              "      <td>yes</td>\n",
              "      <td>yes</td>\n",
              "      <td>cellular</td>\n",
              "      <td>11</td>\n",
              "      <td>may</td>\n",
              "      <td>220</td>\n",
              "      <td>1</td>\n",
              "      <td>339</td>\n",
              "      <td>4</td>\n",
              "      <td>failure</td>\n",
              "      <td>no</td>\n",
              "    </tr>\n",
              "    <tr>\n",
              "      <th>2</th>\n",
              "      <td>35</td>\n",
              "      <td>management</td>\n",
              "      <td>single</td>\n",
              "      <td>tertiary</td>\n",
              "      <td>no</td>\n",
              "      <td>1350</td>\n",
              "      <td>yes</td>\n",
              "      <td>no</td>\n",
              "      <td>cellular</td>\n",
              "      <td>16</td>\n",
              "      <td>apr</td>\n",
              "      <td>185</td>\n",
              "      <td>1</td>\n",
              "      <td>330</td>\n",
              "      <td>1</td>\n",
              "      <td>failure</td>\n",
              "      <td>no</td>\n",
              "    </tr>\n",
              "    <tr>\n",
              "      <th>3</th>\n",
              "      <td>30</td>\n",
              "      <td>management</td>\n",
              "      <td>married</td>\n",
              "      <td>tertiary</td>\n",
              "      <td>no</td>\n",
              "      <td>1476</td>\n",
              "      <td>yes</td>\n",
              "      <td>yes</td>\n",
              "      <td>unknown</td>\n",
              "      <td>3</td>\n",
              "      <td>jun</td>\n",
              "      <td>199</td>\n",
              "      <td>4</td>\n",
              "      <td>-1</td>\n",
              "      <td>0</td>\n",
              "      <td>unknown</td>\n",
              "      <td>no</td>\n",
              "    </tr>\n",
              "    <tr>\n",
              "      <th>4</th>\n",
              "      <td>59</td>\n",
              "      <td>blue-collar</td>\n",
              "      <td>married</td>\n",
              "      <td>secondary</td>\n",
              "      <td>no</td>\n",
              "      <td>0</td>\n",
              "      <td>yes</td>\n",
              "      <td>no</td>\n",
              "      <td>unknown</td>\n",
              "      <td>5</td>\n",
              "      <td>may</td>\n",
              "      <td>226</td>\n",
              "      <td>1</td>\n",
              "      <td>-1</td>\n",
              "      <td>0</td>\n",
              "      <td>unknown</td>\n",
              "      <td>no</td>\n",
              "    </tr>\n",
              "  </tbody>\n",
              "</table>\n",
              "</div>\n",
              "      <button class=\"colab-df-convert\" onclick=\"convertToInteractive('df-07e81837-6bab-4695-824d-ca3b0cc5b29f')\"\n",
              "              title=\"Convert this dataframe to an interactive table.\"\n",
              "              style=\"display:none;\">\n",
              "        \n",
              "  <svg xmlns=\"http://www.w3.org/2000/svg\" height=\"24px\"viewBox=\"0 0 24 24\"\n",
              "       width=\"24px\">\n",
              "    <path d=\"M0 0h24v24H0V0z\" fill=\"none\"/>\n",
              "    <path d=\"M18.56 5.44l.94 2.06.94-2.06 2.06-.94-2.06-.94-.94-2.06-.94 2.06-2.06.94zm-11 1L8.5 8.5l.94-2.06 2.06-.94-2.06-.94L8.5 2.5l-.94 2.06-2.06.94zm10 10l.94 2.06.94-2.06 2.06-.94-2.06-.94-.94-2.06-.94 2.06-2.06.94z\"/><path d=\"M17.41 7.96l-1.37-1.37c-.4-.4-.92-.59-1.43-.59-.52 0-1.04.2-1.43.59L10.3 9.45l-7.72 7.72c-.78.78-.78 2.05 0 2.83L4 21.41c.39.39.9.59 1.41.59.51 0 1.02-.2 1.41-.59l7.78-7.78 2.81-2.81c.8-.78.8-2.07 0-2.86zM5.41 20L4 18.59l7.72-7.72 1.47 1.35L5.41 20z\"/>\n",
              "  </svg>\n",
              "      </button>\n",
              "      \n",
              "  <style>\n",
              "    .colab-df-container {\n",
              "      display:flex;\n",
              "      flex-wrap:wrap;\n",
              "      gap: 12px;\n",
              "    }\n",
              "\n",
              "    .colab-df-convert {\n",
              "      background-color: #E8F0FE;\n",
              "      border: none;\n",
              "      border-radius: 50%;\n",
              "      cursor: pointer;\n",
              "      display: none;\n",
              "      fill: #1967D2;\n",
              "      height: 32px;\n",
              "      padding: 0 0 0 0;\n",
              "      width: 32px;\n",
              "    }\n",
              "\n",
              "    .colab-df-convert:hover {\n",
              "      background-color: #E2EBFA;\n",
              "      box-shadow: 0px 1px 2px rgba(60, 64, 67, 0.3), 0px 1px 3px 1px rgba(60, 64, 67, 0.15);\n",
              "      fill: #174EA6;\n",
              "    }\n",
              "\n",
              "    [theme=dark] .colab-df-convert {\n",
              "      background-color: #3B4455;\n",
              "      fill: #D2E3FC;\n",
              "    }\n",
              "\n",
              "    [theme=dark] .colab-df-convert:hover {\n",
              "      background-color: #434B5C;\n",
              "      box-shadow: 0px 1px 3px 1px rgba(0, 0, 0, 0.15);\n",
              "      filter: drop-shadow(0px 1px 2px rgba(0, 0, 0, 0.3));\n",
              "      fill: #FFFFFF;\n",
              "    }\n",
              "  </style>\n",
              "\n",
              "      <script>\n",
              "        const buttonEl =\n",
              "          document.querySelector('#df-07e81837-6bab-4695-824d-ca3b0cc5b29f button.colab-df-convert');\n",
              "        buttonEl.style.display =\n",
              "          google.colab.kernel.accessAllowed ? 'block' : 'none';\n",
              "\n",
              "        async function convertToInteractive(key) {\n",
              "          const element = document.querySelector('#df-07e81837-6bab-4695-824d-ca3b0cc5b29f');\n",
              "          const dataTable =\n",
              "            await google.colab.kernel.invokeFunction('convertToInteractive',\n",
              "                                                     [key], {});\n",
              "          if (!dataTable) return;\n",
              "\n",
              "          const docLinkHtml = 'Like what you see? Visit the ' +\n",
              "            '<a target=\"_blank\" href=https://colab.research.google.com/notebooks/data_table.ipynb>data table notebook</a>'\n",
              "            + ' to learn more about interactive tables.';\n",
              "          element.innerHTML = '';\n",
              "          dataTable['output_type'] = 'display_data';\n",
              "          await google.colab.output.renderOutput(dataTable, element);\n",
              "          const docLink = document.createElement('div');\n",
              "          docLink.innerHTML = docLinkHtml;\n",
              "          element.appendChild(docLink);\n",
              "        }\n",
              "      </script>\n",
              "    </div>\n",
              "  </div>\n",
              "  "
            ]
          },
          "metadata": {},
          "execution_count": 5
        }
      ]
    },
    {
      "cell_type": "code",
      "source": [
        "df.info()"
      ],
      "metadata": {
        "colab": {
          "base_uri": "https://localhost:8080/"
        },
        "id": "s2u9PLj3hIhY",
        "outputId": "b748f585-aefc-4db5-b886-a8883c58346c"
      },
      "execution_count": 6,
      "outputs": [
        {
          "output_type": "stream",
          "name": "stdout",
          "text": [
            "<class 'pandas.core.frame.DataFrame'>\n",
            "RangeIndex: 4521 entries, 0 to 4520\n",
            "Data columns (total 17 columns):\n",
            " #   Column     Non-Null Count  Dtype \n",
            "---  ------     --------------  ----- \n",
            " 0   age        4521 non-null   int64 \n",
            " 1   job        4521 non-null   object\n",
            " 2   marital    4521 non-null   object\n",
            " 3   education  4521 non-null   object\n",
            " 4   default    4521 non-null   object\n",
            " 5   balance    4521 non-null   int64 \n",
            " 6   housing    4521 non-null   object\n",
            " 7   loan       4521 non-null   object\n",
            " 8   contact    4521 non-null   object\n",
            " 9   day        4521 non-null   int64 \n",
            " 10  month      4521 non-null   object\n",
            " 11  duration   4521 non-null   int64 \n",
            " 12  campaign   4521 non-null   int64 \n",
            " 13  pdays      4521 non-null   int64 \n",
            " 14  previous   4521 non-null   int64 \n",
            " 15  poutcome   4521 non-null   object\n",
            " 16  y          4521 non-null   object\n",
            "dtypes: int64(7), object(10)\n",
            "memory usage: 600.6+ KB\n"
          ]
        }
      ]
    },
    {
      "cell_type": "markdown",
      "source": [
        "# Cleaning Data"
      ],
      "metadata": {
        "id": "vYpWIYt6hLDP"
      }
    },
    {
      "cell_type": "code",
      "source": [
        "df = df.rename(columns={\"y\": \"target\"})"
      ],
      "metadata": {
        "id": "Qwy2EHNUhSpy"
      },
      "execution_count": 7,
      "outputs": []
    },
    {
      "cell_type": "code",
      "source": [
        "label = LabelEncoder()\n",
        "\n",
        "df['month'] = label.fit_transform(df['month'])"
      ],
      "metadata": {
        "id": "xVOW6-3AkG2b"
      },
      "execution_count": 8,
      "outputs": []
    },
    {
      "cell_type": "code",
      "source": [
        "df.isnull().sum()"
      ],
      "metadata": {
        "colab": {
          "base_uri": "https://localhost:8080/"
        },
        "id": "FXFsFhc-hMs9",
        "outputId": "17b26a3d-31e9-4cfa-99ef-72f70a5bf1c3"
      },
      "execution_count": 9,
      "outputs": [
        {
          "output_type": "execute_result",
          "data": {
            "text/plain": [
              "age          0\n",
              "job          0\n",
              "marital      0\n",
              "education    0\n",
              "default      0\n",
              "balance      0\n",
              "housing      0\n",
              "loan         0\n",
              "contact      0\n",
              "day          0\n",
              "month        0\n",
              "duration     0\n",
              "campaign     0\n",
              "pdays        0\n",
              "previous     0\n",
              "poutcome     0\n",
              "target       0\n",
              "dtype: int64"
            ]
          },
          "metadata": {},
          "execution_count": 9
        }
      ]
    },
    {
      "cell_type": "code",
      "source": [
        "df.duplicated().sum()"
      ],
      "metadata": {
        "colab": {
          "base_uri": "https://localhost:8080/"
        },
        "id": "LSGlc0KkhPJh",
        "outputId": "fabe02f8-2347-403f-87f4-851df0d8cb80"
      },
      "execution_count": 10,
      "outputs": [
        {
          "output_type": "execute_result",
          "data": {
            "text/plain": [
              "0"
            ]
          },
          "metadata": {},
          "execution_count": 10
        }
      ]
    },
    {
      "cell_type": "code",
      "source": [
        "df.describe()"
      ],
      "metadata": {
        "colab": {
          "base_uri": "https://localhost:8080/",
          "height": 300
        },
        "id": "ZD1Ic0zhhjoV",
        "outputId": "40732482-f64d-44b6-cf7b-bf3f4baab338"
      },
      "execution_count": 11,
      "outputs": [
        {
          "output_type": "execute_result",
          "data": {
            "text/plain": [
              "               age       balance          day        month     duration  \\\n",
              "count  4521.000000   4521.000000  4521.000000  4521.000000  4521.000000   \n",
              "mean     41.170095   1422.657819    15.915284     5.540146   263.961292   \n",
              "std      10.576211   3009.638142     8.247667     3.002763   259.856633   \n",
              "min      19.000000  -3313.000000     1.000000     0.000000     4.000000   \n",
              "25%      33.000000     69.000000     9.000000     3.000000   104.000000   \n",
              "50%      39.000000    444.000000    16.000000     6.000000   185.000000   \n",
              "75%      49.000000   1480.000000    21.000000     8.000000   329.000000   \n",
              "max      87.000000  71188.000000    31.000000    11.000000  3025.000000   \n",
              "\n",
              "          campaign        pdays     previous  \n",
              "count  4521.000000  4521.000000  4521.000000  \n",
              "mean      2.793630    39.766645     0.542579  \n",
              "std       3.109807   100.121124     1.693562  \n",
              "min       1.000000    -1.000000     0.000000  \n",
              "25%       1.000000    -1.000000     0.000000  \n",
              "50%       2.000000    -1.000000     0.000000  \n",
              "75%       3.000000    -1.000000     0.000000  \n",
              "max      50.000000   871.000000    25.000000  "
            ],
            "text/html": [
              "\n",
              "  <div id=\"df-149cec00-47a5-4dd6-aaec-fecf8a0ba2ae\">\n",
              "    <div class=\"colab-df-container\">\n",
              "      <div>\n",
              "<style scoped>\n",
              "    .dataframe tbody tr th:only-of-type {\n",
              "        vertical-align: middle;\n",
              "    }\n",
              "\n",
              "    .dataframe tbody tr th {\n",
              "        vertical-align: top;\n",
              "    }\n",
              "\n",
              "    .dataframe thead th {\n",
              "        text-align: right;\n",
              "    }\n",
              "</style>\n",
              "<table border=\"1\" class=\"dataframe\">\n",
              "  <thead>\n",
              "    <tr style=\"text-align: right;\">\n",
              "      <th></th>\n",
              "      <th>age</th>\n",
              "      <th>balance</th>\n",
              "      <th>day</th>\n",
              "      <th>month</th>\n",
              "      <th>duration</th>\n",
              "      <th>campaign</th>\n",
              "      <th>pdays</th>\n",
              "      <th>previous</th>\n",
              "    </tr>\n",
              "  </thead>\n",
              "  <tbody>\n",
              "    <tr>\n",
              "      <th>count</th>\n",
              "      <td>4521.000000</td>\n",
              "      <td>4521.000000</td>\n",
              "      <td>4521.000000</td>\n",
              "      <td>4521.000000</td>\n",
              "      <td>4521.000000</td>\n",
              "      <td>4521.000000</td>\n",
              "      <td>4521.000000</td>\n",
              "      <td>4521.000000</td>\n",
              "    </tr>\n",
              "    <tr>\n",
              "      <th>mean</th>\n",
              "      <td>41.170095</td>\n",
              "      <td>1422.657819</td>\n",
              "      <td>15.915284</td>\n",
              "      <td>5.540146</td>\n",
              "      <td>263.961292</td>\n",
              "      <td>2.793630</td>\n",
              "      <td>39.766645</td>\n",
              "      <td>0.542579</td>\n",
              "    </tr>\n",
              "    <tr>\n",
              "      <th>std</th>\n",
              "      <td>10.576211</td>\n",
              "      <td>3009.638142</td>\n",
              "      <td>8.247667</td>\n",
              "      <td>3.002763</td>\n",
              "      <td>259.856633</td>\n",
              "      <td>3.109807</td>\n",
              "      <td>100.121124</td>\n",
              "      <td>1.693562</td>\n",
              "    </tr>\n",
              "    <tr>\n",
              "      <th>min</th>\n",
              "      <td>19.000000</td>\n",
              "      <td>-3313.000000</td>\n",
              "      <td>1.000000</td>\n",
              "      <td>0.000000</td>\n",
              "      <td>4.000000</td>\n",
              "      <td>1.000000</td>\n",
              "      <td>-1.000000</td>\n",
              "      <td>0.000000</td>\n",
              "    </tr>\n",
              "    <tr>\n",
              "      <th>25%</th>\n",
              "      <td>33.000000</td>\n",
              "      <td>69.000000</td>\n",
              "      <td>9.000000</td>\n",
              "      <td>3.000000</td>\n",
              "      <td>104.000000</td>\n",
              "      <td>1.000000</td>\n",
              "      <td>-1.000000</td>\n",
              "      <td>0.000000</td>\n",
              "    </tr>\n",
              "    <tr>\n",
              "      <th>50%</th>\n",
              "      <td>39.000000</td>\n",
              "      <td>444.000000</td>\n",
              "      <td>16.000000</td>\n",
              "      <td>6.000000</td>\n",
              "      <td>185.000000</td>\n",
              "      <td>2.000000</td>\n",
              "      <td>-1.000000</td>\n",
              "      <td>0.000000</td>\n",
              "    </tr>\n",
              "    <tr>\n",
              "      <th>75%</th>\n",
              "      <td>49.000000</td>\n",
              "      <td>1480.000000</td>\n",
              "      <td>21.000000</td>\n",
              "      <td>8.000000</td>\n",
              "      <td>329.000000</td>\n",
              "      <td>3.000000</td>\n",
              "      <td>-1.000000</td>\n",
              "      <td>0.000000</td>\n",
              "    </tr>\n",
              "    <tr>\n",
              "      <th>max</th>\n",
              "      <td>87.000000</td>\n",
              "      <td>71188.000000</td>\n",
              "      <td>31.000000</td>\n",
              "      <td>11.000000</td>\n",
              "      <td>3025.000000</td>\n",
              "      <td>50.000000</td>\n",
              "      <td>871.000000</td>\n",
              "      <td>25.000000</td>\n",
              "    </tr>\n",
              "  </tbody>\n",
              "</table>\n",
              "</div>\n",
              "      <button class=\"colab-df-convert\" onclick=\"convertToInteractive('df-149cec00-47a5-4dd6-aaec-fecf8a0ba2ae')\"\n",
              "              title=\"Convert this dataframe to an interactive table.\"\n",
              "              style=\"display:none;\">\n",
              "        \n",
              "  <svg xmlns=\"http://www.w3.org/2000/svg\" height=\"24px\"viewBox=\"0 0 24 24\"\n",
              "       width=\"24px\">\n",
              "    <path d=\"M0 0h24v24H0V0z\" fill=\"none\"/>\n",
              "    <path d=\"M18.56 5.44l.94 2.06.94-2.06 2.06-.94-2.06-.94-.94-2.06-.94 2.06-2.06.94zm-11 1L8.5 8.5l.94-2.06 2.06-.94-2.06-.94L8.5 2.5l-.94 2.06-2.06.94zm10 10l.94 2.06.94-2.06 2.06-.94-2.06-.94-.94-2.06-.94 2.06-2.06.94z\"/><path d=\"M17.41 7.96l-1.37-1.37c-.4-.4-.92-.59-1.43-.59-.52 0-1.04.2-1.43.59L10.3 9.45l-7.72 7.72c-.78.78-.78 2.05 0 2.83L4 21.41c.39.39.9.59 1.41.59.51 0 1.02-.2 1.41-.59l7.78-7.78 2.81-2.81c.8-.78.8-2.07 0-2.86zM5.41 20L4 18.59l7.72-7.72 1.47 1.35L5.41 20z\"/>\n",
              "  </svg>\n",
              "      </button>\n",
              "      \n",
              "  <style>\n",
              "    .colab-df-container {\n",
              "      display:flex;\n",
              "      flex-wrap:wrap;\n",
              "      gap: 12px;\n",
              "    }\n",
              "\n",
              "    .colab-df-convert {\n",
              "      background-color: #E8F0FE;\n",
              "      border: none;\n",
              "      border-radius: 50%;\n",
              "      cursor: pointer;\n",
              "      display: none;\n",
              "      fill: #1967D2;\n",
              "      height: 32px;\n",
              "      padding: 0 0 0 0;\n",
              "      width: 32px;\n",
              "    }\n",
              "\n",
              "    .colab-df-convert:hover {\n",
              "      background-color: #E2EBFA;\n",
              "      box-shadow: 0px 1px 2px rgba(60, 64, 67, 0.3), 0px 1px 3px 1px rgba(60, 64, 67, 0.15);\n",
              "      fill: #174EA6;\n",
              "    }\n",
              "\n",
              "    [theme=dark] .colab-df-convert {\n",
              "      background-color: #3B4455;\n",
              "      fill: #D2E3FC;\n",
              "    }\n",
              "\n",
              "    [theme=dark] .colab-df-convert:hover {\n",
              "      background-color: #434B5C;\n",
              "      box-shadow: 0px 1px 3px 1px rgba(0, 0, 0, 0.15);\n",
              "      filter: drop-shadow(0px 1px 2px rgba(0, 0, 0, 0.3));\n",
              "      fill: #FFFFFF;\n",
              "    }\n",
              "  </style>\n",
              "\n",
              "      <script>\n",
              "        const buttonEl =\n",
              "          document.querySelector('#df-149cec00-47a5-4dd6-aaec-fecf8a0ba2ae button.colab-df-convert');\n",
              "        buttonEl.style.display =\n",
              "          google.colab.kernel.accessAllowed ? 'block' : 'none';\n",
              "\n",
              "        async function convertToInteractive(key) {\n",
              "          const element = document.querySelector('#df-149cec00-47a5-4dd6-aaec-fecf8a0ba2ae');\n",
              "          const dataTable =\n",
              "            await google.colab.kernel.invokeFunction('convertToInteractive',\n",
              "                                                     [key], {});\n",
              "          if (!dataTable) return;\n",
              "\n",
              "          const docLinkHtml = 'Like what you see? Visit the ' +\n",
              "            '<a target=\"_blank\" href=https://colab.research.google.com/notebooks/data_table.ipynb>data table notebook</a>'\n",
              "            + ' to learn more about interactive tables.';\n",
              "          element.innerHTML = '';\n",
              "          dataTable['output_type'] = 'display_data';\n",
              "          await google.colab.output.renderOutput(dataTable, element);\n",
              "          const docLink = document.createElement('div');\n",
              "          docLink.innerHTML = docLinkHtml;\n",
              "          element.appendChild(docLink);\n",
              "        }\n",
              "      </script>\n",
              "    </div>\n",
              "  </div>\n",
              "  "
            ]
          },
          "metadata": {},
          "execution_count": 11
        }
      ]
    },
    {
      "cell_type": "markdown",
      "source": [
        "# Exploratory Data Analysis (EDA)"
      ],
      "metadata": {
        "id": "4_k-hlNBhwP-"
      }
    },
    {
      "cell_type": "code",
      "source": [
        "plt.figure(figsize=(8,5))\n",
        "\n",
        "sns.countplot (x='target', data=df)\n",
        "plt.title('Apakah klien telah berlangganan deposito berjangka?')\n",
        "\n",
        "plt.show()"
      ],
      "metadata": {
        "colab": {
          "base_uri": "https://localhost:8080/",
          "height": 350
        },
        "id": "hKQEmvDJpd3E",
        "outputId": "37e0778a-1465-4d6a-b685-9d08e2c579d1"
      },
      "execution_count": 12,
      "outputs": [
        {
          "output_type": "display_data",
          "data": {
            "text/plain": [
              "<Figure size 576x360 with 1 Axes>"
            ],
            "image/png": "[encoded data removed]"
          },
          "metadata": {
            "needs_background": "light"
          }
        }
      ]
    },
    {
      "cell_type": "markdown",
      "source": [
        "# Preprocessing Data"
      ],
      "metadata": {
        "id": "rSW5Q1Xbr-12"
      }
    },
    {
      "cell_type": "code",
      "source": [
        "df['job'] = label.fit_transform(df['job'])\n",
        "df['marital'] = label.fit_transform(df['marital'])\n",
        "df['education'] = label.fit_transform(df['education'])\n",
        "df['default'] = label.fit_transform(df['default'])\n",
        "df['housing'] = label.fit_transform(df['housing'])\n",
        "df['loan'] = label.fit_transform(df['loan'])\n",
        "df['contact'] = label.fit_transform(df['contact'])\n",
        "df['poutcome'] = label.fit_transform(df['poutcome'])\n",
        "df['target'] = label.fit_transform(df['target'])\n",
        "\n",
        "df.head()"
      ],
      "metadata": {
        "colab": {
          "base_uri": "https://localhost:8080/",
          "height": 206
        },
        "id": "soLVvmNsjAbV",
        "outputId": "a71bd5e3-ee98-41f7-cffe-e4ae1afda229"
      },
      "execution_count": 38,
      "outputs": [
        {
          "output_type": "execute_result",
          "data": {
            "text/plain": [
              "   age  job  marital  education  default  balance  housing  loan  contact  \\\n",
              "0   30   10        1          0        0     1787        0     0        0   \n",
              "1   33    7        1          1        0     4789        1     1        0   \n",
              "2   35    4        2          2        0     1350        1     0        0   \n",
              "3   30    4        1          2        0     1476        1     1        2   \n",
              "4   59    1        1          1        0        0        1     0        2   \n",
              "\n",
              "   day  month  duration  campaign  pdays  previous  poutcome  target  \n",
              "0   19     10        79         1     -1         0         3       0  \n",
              "1   11      8       220         1    339         4         0       0  \n",
              "2   16      0       185         1    330         1         0       0  \n",
              "3    3      6       199         4     -1         0         3       0  \n",
              "4    5      8       226         1     -1         0         3       0  "
            ],
            "text/html": [
              "\n",
              "  <div id=\"df-8233b042-0e3d-44b8-8c10-c74512ba3fa8\">\n",
              "    <div class=\"colab-df-container\">\n",
              "      <div>\n",
              "<style scoped>\n",
              "    .dataframe tbody tr th:only-of-type {\n",
              "        vertical-align: middle;\n",
              "    }\n",
              "\n",
              "    .dataframe tbody tr th {\n",
              "        vertical-align: top;\n",
              "    }\n",
              "\n",
              "    .dataframe thead th {\n",
              "        text-align: right;\n",
              "    }\n",
              "</style>\n",
              "<table border=\"1\" class=\"dataframe\">\n",
              "  <thead>\n",
              "    <tr style=\"text-align: right;\">\n",
              "      <th></th>\n",
              "      <th>age</th>\n",
              "      <th>job</th>\n",
              "      <th>marital</th>\n",
              "      <th>education</th>\n",
              "      <th>default</th>\n",
              "      <th>balance</th>\n",
              "      <th>housing</th>\n",
              "      <th>loan</th>\n",
              "      <th>contact</th>\n",
              "      <th>day</th>\n",
              "      <th>month</th>\n",
              "      <th>duration</th>\n",
              "      <th>campaign</th>\n",
              "      <th>pdays</th>\n",
              "      <th>previous</th>\n",
              "      <th>poutcome</th>\n",
              "      <th>target</th>\n",
              "    </tr>\n",
              "  </thead>\n",
              "  <tbody>\n",
              "    <tr>\n",
              "      <th>0</th>\n",
              "      <td>30</td>\n",
              "      <td>10</td>\n",
              "      <td>1</td>\n",
              "      <td>0</td>\n",
              "      <td>0</td>\n",
              "      <td>1787</td>\n",
              "      <td>0</td>\n",
              "      <td>0</td>\n",
              "      <td>0</td>\n",
              "      <td>19</td>\n",
              "      <td>10</td>\n",
              "      <td>79</td>\n",
              "      <td>1</td>\n",
              "      <td>-1</td>\n",
              "      <td>0</td>\n",
              "      <td>3</td>\n",
              "      <td>0</td>\n",
              "    </tr>\n",
              "    <tr>\n",
              "      <th>1</th>\n",
              "      <td>33</td>\n",
              "      <td>7</td>\n",
              "      <td>1</td>\n",
              "      <td>1</td>\n",
              "      <td>0</td>\n",
              "      <td>4789</td>\n",
              "      <td>1</td>\n",
              "      <td>1</td>\n",
              "      <td>0</td>\n",
              "      <td>11</td>\n",
              "      <td>8</td>\n",
              "      <td>220</td>\n",
              "      <td>1</td>\n",
              "      <td>339</td>\n",
              "      <td>4</td>\n",
              "      <td>0</td>\n",
              "      <td>0</td>\n",
              "    </tr>\n",
              "    <tr>\n",
              "      <th>2</th>\n",
              "      <td>35</td>\n",
              "      <td>4</td>\n",
              "      <td>2</td>\n",
              "      <td>2</td>\n",
              "      <td>0</td>\n",
              "      <td>1350</td>\n",
              "      <td>1</td>\n",
              "      <td>0</td>\n",
              "      <td>0</td>\n",
              "      <td>16</td>\n",
              "      <td>0</td>\n",
              "      <td>185</td>\n",
              "      <td>1</td>\n",
              "      <td>330</td>\n",
              "      <td>1</td>\n",
              "      <td>0</td>\n",
              "      <td>0</td>\n",
              "    </tr>\n",
              "    <tr>\n",
              "      <th>3</th>\n",
              "      <td>30</td>\n",
              "      <td>4</td>\n",
              "      <td>1</td>\n",
              "      <td>2</td>\n",
              "      <td>0</td>\n",
              "      <td>1476</td>\n",
              "      <td>1</td>\n",
              "      <td>1</td>\n",
              "      <td>2</td>\n",
              "      <td>3</td>\n",
              "      <td>6</td>\n",
              "      <td>199</td>\n",
              "      <td>4</td>\n",
              "      <td>-1</td>\n",
              "      <td>0</td>\n",
              "      <td>3</td>\n",
              "      <td>0</td>\n",
              "    </tr>\n",
              "    <tr>\n",
              "      <th>4</th>\n",
              "      <td>59</td>\n",
              "      <td>1</td>\n",
              "      <td>1</td>\n",
              "      <td>1</td>\n",
              "      <td>0</td>\n",
              "      <td>0</td>\n",
              "      <td>1</td>\n",
              "      <td>0</td>\n",
              "      <td>2</td>\n",
              "      <td>5</td>\n",
              "      <td>8</td>\n",
              "      <td>226</td>\n",
              "      <td>1</td>\n",
              "      <td>-1</td>\n",
              "      <td>0</td>\n",
              "      <td>3</td>\n",
              "      <td>0</td>\n",
              "    </tr>\n",
              "  </tbody>\n",
              "</table>\n",
              "</div>\n",
              "      <button class=\"colab-df-convert\" onclick=\"convertToInteractive('df-8233b042-0e3d-44b8-8c10-c74512ba3fa8')\"\n",
              "              title=\"Convert this dataframe to an interactive table.\"\n",
              "              style=\"display:none;\">\n",
              "        \n",
              "  <svg xmlns=\"http://www.w3.org/2000/svg\" height=\"24px\"viewBox=\"0 0 24 24\"\n",
              "       width=\"24px\">\n",
              "    <path d=\"M0 0h24v24H0V0z\" fill=\"none\"/>\n",
              "    <path d=\"M18.56 5.44l.94 2.06.94-2.06 2.06-.94-2.06-.94-.94-2.06-.94 2.06-2.06.94zm-11 1L8.5 8.5l.94-2.06 2.06-.94-2.06-.94L8.5 2.5l-.94 2.06-2.06.94zm10 10l.94 2.06.94-2.06 2.06-.94-2.06-.94-.94-2.06-.94 2.06-2.06.94z\"/><path d=\"M17.41 7.96l-1.37-1.37c-.4-.4-.92-.59-1.43-.59-.52 0-1.04.2-1.43.59L10.3 9.45l-7.72 7.72c-.78.78-.78 2.05 0 2.83L4 21.41c.39.39.9.59 1.41.59.51 0 1.02-.2 1.41-.59l7.78-7.78 2.81-2.81c.8-.78.8-2.07 0-2.86zM5.41 20L4 18.59l7.72-7.72 1.47 1.35L5.41 20z\"/>\n",
              "  </svg>\n",
              "      </button>\n",
              "      \n",
              "  <style>\n",
              "    .colab-df-container {\n",
              "      display:flex;\n",
              "      flex-wrap:wrap;\n",
              "      gap: 12px;\n",
              "    }\n",
              "\n",
              "    .colab-df-convert {\n",
              "      background-color: #E8F0FE;\n",
              "      border: none;\n",
              "      border-radius: 50%;\n",
              "      cursor: pointer;\n",
              "      display: none;\n",
              "      fill: #1967D2;\n",
              "      height: 32px;\n",
              "      padding: 0 0 0 0;\n",
              "      width: 32px;\n",
              "    }\n",
              "\n",
              "    .colab-df-convert:hover {\n",
              "      background-color: #E2EBFA;\n",
              "      box-shadow: 0px 1px 2px rgba(60, 64, 67, 0.3), 0px 1px 3px 1px rgba(60, 64, 67, 0.15);\n",
              "      fill: #174EA6;\n",
              "    }\n",
              "\n",
              "    [theme=dark] .colab-df-convert {\n",
              "      background-color: #3B4455;\n",
              "      fill: #D2E3FC;\n",
              "    }\n",
              "\n",
              "    [theme=dark] .colab-df-convert:hover {\n",
              "      background-color: #434B5C;\n",
              "      box-shadow: 0px 1px 3px 1px rgba(0, 0, 0, 0.15);\n",
              "      filter: drop-shadow(0px 1px 2px rgba(0, 0, 0, 0.3));\n",
              "      fill: #FFFFFF;\n",
              "    }\n",
              "  </style>\n",
              "\n",
              "      <script>\n",
              "        const buttonEl =\n",
              "          document.querySelector('#df-8233b042-0e3d-44b8-8c10-c74512ba3fa8 button.colab-df-convert');\n",
              "        buttonEl.style.display =\n",
              "          google.colab.kernel.accessAllowed ? 'block' : 'none';\n",
              "\n",
              "        async function convertToInteractive(key) {\n",
              "          const element = document.querySelector('#df-8233b042-0e3d-44b8-8c10-c74512ba3fa8');\n",
              "          const dataTable =\n",
              "            await google.colab.kernel.invokeFunction('convertToInteractive',\n",
              "                                                     [key], {});\n",
              "          if (!dataTable) return;\n",
              "\n",
              "          const docLinkHtml = 'Like what you see? Visit the ' +\n",
              "            '<a target=\"_blank\" href=https://colab.research.google.com/notebooks/data_table.ipynb>data table notebook</a>'\n",
              "            + ' to learn more about interactive tables.';\n",
              "          element.innerHTML = '';\n",
              "          dataTable['output_type'] = 'display_data';\n",
              "          await google.colab.output.renderOutput(dataTable, element);\n",
              "          const docLink = document.createElement('div');\n",
              "          docLink.innerHTML = docLinkHtml;\n",
              "          element.appendChild(docLink);\n",
              "        }\n",
              "      </script>\n",
              "    </div>\n",
              "  </div>\n",
              "  "
            ]
          },
          "metadata": {},
          "execution_count": 38
        }
      ]
    },
    {
      "cell_type": "markdown",
      "source": [
        "## Feature selection\n",
        "### Correlation Analysis"
      ],
      "metadata": {
        "id": "FdZyI4PGi4sH"
      }
    },
    {
      "cell_type": "code",
      "source": [
        "#obtain the correlations of each features in dataset\n",
        "corrmat = df.corr()\n",
        "top_corr_features = corrmat.index\n",
        "plt.figure(figsize=(20,5))\n",
        "#plot heat map\n",
        "g=sns.heatmap(df[top_corr_features].corr(),annot=True,cmap=\"RdYlGn\")"
      ],
      "metadata": {
        "colab": {
          "base_uri": "https://localhost:8080/",
          "height": 324
        },
        "id": "0Z5kLyJNi63T",
        "outputId": "65c227d1-d90e-4477-bfd9-c76173a7bd5a"
      },
      "execution_count": 14,
      "outputs": [
        {
          "output_type": "display_data",
          "data": {
            "text/plain": [
              "<Figure size 1440x360 with 2 Axes>"
            ],
            "image/png": "[encoded data removed]"
          },
          "metadata": {
            "needs_background": "light"
          }
        }
      ]
    },
    {
      "cell_type": "markdown",
      "source": [
        "### Feature Importance"
      ],
      "metadata": {
        "id": "QL1Eem_Dw4Y6"
      }
    },
    {
      "cell_type": "code",
      "source": [
        "X = df.drop(['target'], axis=1)\n",
        "y = df['target']\n",
        "\n",
        "from sklearn.ensemble import ExtraTreesClassifier\n",
        "model = ExtraTreesClassifier()\n",
        "model.fit(X,y)\n",
        "print(model.feature_importances_) \n",
        "\n",
        "#plot the graph of feature importances \n",
        "feat_importances = pd.Series(model.feature_importances_, index=X.columns)\n",
        "feat_importances.nlargest(6).plot(kind='barh')\n",
        "plt.show()"
      ],
      "metadata": {
        "colab": {
          "base_uri": "https://localhost:8080/",
          "height": 317
        },
        "id": "cySFFNUPu-5m",
        "outputId": "05d7d190-1adc-4ca5-c223-9a6e7966a0a3"
      },
      "execution_count": 15,
      "outputs": [
        {
          "output_type": "stream",
          "name": "stdout",
          "text": [
            "[0.09252875 0.06534637 0.03575156 0.04631792 0.00454027 0.08623689\n",
            " 0.0215092  0.01316733 0.0267848  0.08955384 0.09085625 0.2441519\n",
            " 0.06018614 0.0394119  0.02987769 0.0537792 ]\n"
          ]
        },
        {
          "output_type": "display_data",
          "data": {
            "text/plain": [
              "<Figure size 432x288 with 1 Axes>"
            ],
            "image/png": "[encoded data removed]"
          },
          "metadata": {
            "needs_background": "light"
          }
        }
      ]
    },
    {
      "cell_type": "markdown",
      "source": [
        "# Preprocessing Data\n",
        "## Feature Scaling"
      ],
      "metadata": {
        "id": "opFKnGrTkzP2"
      }
    },
    {
      "cell_type": "code",
      "source": [
        "final_df = df[['duration', 'age', 'month', 'day', 'balance', 'job']]"
      ],
      "metadata": {
        "id": "_qQDAof7xQ9J"
      },
      "execution_count": 16,
      "outputs": []
    },
    {
      "cell_type": "code",
      "source": [
        "scaler = StandardScaler()\n",
        "\n",
        "X = scaler.fit_transform(final_df)\n",
        "y = df['target']"
      ],
      "metadata": {
        "id": "FIEPhTO-k25d"
      },
      "execution_count": 17,
      "outputs": []
    },
    {
      "cell_type": "markdown",
      "source": [
        "## Cek keseimbangan data target."
      ],
      "metadata": {
        "id": "JViOWd_hk9EL"
      }
    },
    {
      "cell_type": "code",
      "source": [
        "df['target'].value_counts()"
      ],
      "metadata": {
        "colab": {
          "base_uri": "https://localhost:8080/"
        },
        "id": "z7_vD_j1lAFE",
        "outputId": "14bf0279-e0d1-4b84-e7a2-b2b5fec12ac4"
      },
      "execution_count": 18,
      "outputs": [
        {
          "output_type": "execute_result",
          "data": {
            "text/plain": [
              "0    4000\n",
              "1     521\n",
              "Name: target, dtype: int64"
            ]
          },
          "metadata": {},
          "execution_count": 18
        }
      ]
    },
    {
      "cell_type": "markdown",
      "source": [
        "Dari informasi diatas, diketahui bahwa kumpulan **data tidak seimbang**. Kita perlu menyeimbangkannya dulu sebelum melakukan modelling terhadap data."
      ],
      "metadata": {
        "id": "jPDxaXcvlQiu"
      }
    },
    {
      "cell_type": "markdown",
      "source": [
        "## Mengatasi ketimpangan kelas dengan teknik oversampling kelas minoritas\n",
        "Metode ini mirip dengan SMOTE tetapi menghasilkan jumlah sampel yang berbeda tergantung pada perkiraan distribusi lokal kelas yang akan di-oversampling."
      ],
      "metadata": {
        "id": "SRtwrsK8lKZb"
      }
    },
    {
      "cell_type": "code",
      "source": [
        "resample = ADASYN(sampling_strategy='all', random_state=42)\n",
        "X, y = resample.fit_resample(X,y)\n",
        "\n",
        "y.value_counts()"
      ],
      "metadata": {
        "colab": {
          "base_uri": "https://localhost:8080/"
        },
        "id": "FLAgJYCQlDs-",
        "outputId": "958fc9ca-d1d1-4dc7-af20-25cbabb7786d"
      },
      "execution_count": 19,
      "outputs": [
        {
          "output_type": "execute_result",
          "data": {
            "text/plain": [
              "0    4000\n",
              "1    3944\n",
              "Name: target, dtype: int64"
            ]
          },
          "metadata": {},
          "execution_count": 19
        }
      ]
    },
    {
      "cell_type": "markdown",
      "source": [
        "## Splitting Data\n",
        "Membagi data menjadi 80% untuk pelatihan dan 20% untuk pengujian"
      ],
      "metadata": {
        "id": "KVJcAqlqlUSD"
      }
    },
    {
      "cell_type": "code",
      "source": [
        "X_train, X_test, y_train, y_test = train_test_split(X, y, stratify=y, test_size=0.2)\n",
        "print(X.shape, X_train.shape, X_test.shape)"
      ],
      "metadata": {
        "colab": {
          "base_uri": "https://localhost:8080/"
        },
        "id": "S6MIcc7qlVqP",
        "outputId": "2a221341-2757-4f18-d2e1-8f1b3a27bc4a"
      },
      "execution_count": 20,
      "outputs": [
        {
          "output_type": "stream",
          "name": "stdout",
          "text": [
            "(7944, 6) (6355, 6) (1589, 6)\n"
          ]
        }
      ]
    },
    {
      "cell_type": "markdown",
      "source": [
        "# Modelling: Ensemble\n",
        "Ensemble yaitu metode membandingkan beberapa algoritma untuk mencari algoritma terbaik yang akan kita gunakan untuk keperluan machine learning. Terdapat 6 algoritma yang akan kita perbandingkan, yaitu:\n",
        "\n",
        "- Logistic Regression\n",
        "- Decision Tree\n",
        "- Random Forest\n",
        "- Support Vectore Machine (SVM)\n",
        "- Naive Bayes\n",
        "- K-Nearest Neighbor (KNN)"
      ],
      "metadata": {
        "id": "II7jAwKqldUV"
      }
    },
    {
      "cell_type": "code",
      "source": [
        "# Logistic Regression\n",
        "lr = LogisticRegression()\n",
        "lr.fit(X_train, y_train)\n",
        "\n",
        "pred_cv = lr.predict(X_test)"
      ],
      "metadata": {
        "id": "VojBmkPjliZq"
      },
      "execution_count": 21,
      "outputs": []
    },
    {
      "cell_type": "code",
      "source": [
        "#  Decision Tree\n",
        "dt = DecisionTreeClassifier()\n",
        "dt.fit(X_train, y_train)\n",
        "\n",
        "pred_cv1 = dt.predict(X_test)"
      ],
      "metadata": {
        "id": "RF-dNWKelnJV"
      },
      "execution_count": 22,
      "outputs": []
    },
    {
      "cell_type": "code",
      "source": [
        "# Random Forest\n",
        "rf = RandomForestClassifier()\n",
        "rf.fit(X_train, y_train)\n",
        "\n",
        "pred_cv2 = rf.predict(X_test)"
      ],
      "metadata": {
        "id": "nAE5UW37lqjd"
      },
      "execution_count": 23,
      "outputs": []
    },
    {
      "cell_type": "code",
      "source": [
        "# Support Vector Machine (SVM)\n",
        "svm = SVC(probability=True)\n",
        "svm.fit(X_train, y_train)\n",
        "        \n",
        "pred_cv3 = svm.predict(X_test)"
      ],
      "metadata": {
        "id": "8dpCHO4qlq8a"
      },
      "execution_count": 24,
      "outputs": []
    },
    {
      "cell_type": "code",
      "source": [
        "# Naive Bayes\n",
        "nb = GaussianNB()\n",
        "nb.fit(X_train, y_train)\n",
        "\n",
        "pred_cv4 = nb.predict(X_test)"
      ],
      "metadata": {
        "id": "4Y0tFSWcls1f"
      },
      "execution_count": 25,
      "outputs": []
    },
    {
      "cell_type": "code",
      "source": [
        "# K-Nearest Neighbor (KNN)\n",
        "knn = KNeighborsClassifier()\n",
        "knn.fit(X_train, y_train)\n",
        "\n",
        "pred_cv5 = knn.predict(X_test)"
      ],
      "metadata": {
        "id": "97ylzSN0luZS"
      },
      "execution_count": 26,
      "outputs": []
    },
    {
      "cell_type": "markdown",
      "source": [
        "## Model Evaluation"
      ],
      "metadata": {
        "id": "I5_MgjU2lzPB"
      }
    },
    {
      "cell_type": "code",
      "source": [
        "print(\"Logistic Regression:\", accuracy_score(y_test, pred_cv))\n",
        "print(\"Decision Tree:\", accuracy_score(y_test, pred_cv1))\n",
        "print(\"Random Forest:\", accuracy_score(y_test, pred_cv2))\n",
        "print(\"SVM:\", accuracy_score(y_test, pred_cv3))\n",
        "print(\"Naive Bayes:\", accuracy_score(y_test, pred_cv4))\n",
        "print(\"KNN:\", accuracy_score(y_test, pred_cv5))"
      ],
      "metadata": {
        "colab": {
          "base_uri": "https://localhost:8080/"
        },
        "id": "xXI8I00PlwWB",
        "outputId": "0e35432e-e0ec-4043-a43a-005afb48d0f8"
      },
      "execution_count": 27,
      "outputs": [
        {
          "output_type": "stream",
          "name": "stdout",
          "text": [
            "Logistic Regression: 0.7086217747010699\n",
            "Decision Tree: 0.8930144745122719\n",
            "Random Forest: 0.9276274386406544\n",
            "SVM: 0.7935808684707363\n",
            "Naive Bayes: 0.7029578351164254\n",
            "KNN: 0.8842039018250472\n"
          ]
        }
      ]
    },
    {
      "cell_type": "markdown",
      "source": [
        "Random Forest adalah algoritma terbaik yang menghasilkan akurasi score tertinggi.\n",
        "\n",
        "**Jadi, algoritma yang akan kita gunakan dalam prediksi ini adalah Random Forest.**"
      ],
      "metadata": {
        "id": "PggZT__kpTPV"
      }
    },
    {
      "cell_type": "code",
      "source": [
        "#define metrics\n",
        "y_pred_proba1 = lr.predict_proba(X_test)[::,1]\n",
        "fpr1, tpr1, _ = roc_curve(y_test,  y_pred_proba1)\n",
        "auc1 = auc(fpr1, tpr1)\n",
        "\n",
        "y_pred_proba2 = dt.predict_proba(X_test)[::,1]\n",
        "fpr2, tpr2, _ = roc_curve(y_test,  y_pred_proba2)\n",
        "auc2 = auc(fpr2, tpr2)\n",
        "\n",
        "y_pred_proba3 = rf.predict_proba(X_test)[::,1]\n",
        "fpr3, tpr3, _ = roc_curve(y_test,  y_pred_proba3)\n",
        "auc3 = auc(fpr3, tpr3)\n",
        "\n",
        "y_pred_proba4 = svm.predict_proba(X_test)[::,1]\n",
        "fpr4, tpr4, _ = roc_curve(y_test,  y_pred_proba4)\n",
        "auc4 = auc(fpr4, tpr4)\n",
        "\n",
        "y_pred_proba5 = nb.predict_proba(X_test)[::,1]\n",
        "fpr5, tpr5, _ = roc_curve(y_test,  y_pred_proba5)\n",
        "auc5 = auc(fpr5, tpr5)\n",
        "\n",
        "y_pred_proba6 = knn.predict_proba(X_test)[::,1]\n",
        "fpr6, tpr6, _ = roc_curve(y_test,  y_pred_proba6)\n",
        "auc6 = auc(fpr6, tpr6)\n",
        "\n",
        "#create ROC curve\n",
        "plt.figure(figsize=(15,5))\n",
        "\n",
        "plt.plot(fpr1,tpr1, label='Logistic Regression (%0.3f)' % auc1)\n",
        "plt.plot(fpr2,tpr2, label='Decision Tree (%0.3f)' % auc2)\n",
        "plt.plot(fpr3, tpr3, marker=\"o\", label='Random Forest (%0.3f)' % auc3)\n",
        "plt.plot(fpr4, tpr4, label='SVM (%0.3f)' % auc4)\n",
        "plt.plot(fpr5, tpr5, label='Naive Bayes (%0.3f)' % auc5)\n",
        "plt.plot(fpr6, tpr6, label='KNN (%0.3f)' % auc6)\n",
        "\n",
        "plt.ylabel('True Positive Rate')\n",
        "plt.xlabel('False Positive Rate')\n",
        "plt.legend()\n",
        "\n",
        "plt.show()"
      ],
      "metadata": {
        "colab": {
          "base_uri": "https://localhost:8080/",
          "height": 334
        },
        "id": "tfyclSAel3G8",
        "outputId": "bc07b51b-2bd4-401a-e967-485e10442a8d"
      },
      "execution_count": 28,
      "outputs": [
        {
          "output_type": "display_data",
          "data": {
            "text/plain": [
              "<Figure size 1080x360 with 1 Axes>"
            ],
            "image/png": "[encoded data removed]"
          },
          "metadata": {
            "needs_background": "light"
          }
        }
      ]
    },
    {
      "cell_type": "markdown",
      "source": [
        "## Predictive System"
      ],
      "metadata": {
        "id": "TicD24cdl-ya"
      }
    },
    {
      "cell_type": "code",
      "source": [
        "''' data yang dibutuhkan pada input_data\n",
        "input_data =\n",
        "[\"duration\",\t\"age\",\t\"month\", \"day\", \"balance\", \"job\"]'''\n",
        "\n",
        "input_data = (220,\t33,\t8,\t11, 4789,\t7)\n",
        "\n",
        "input_data_as_numpy_array = np.array(input_data)\n",
        "input_data_reshape = input_data_as_numpy_array.reshape(1,-1)\n",
        "\n",
        "prediction = rf.predict(input_data_reshape)\n",
        "print(\"Apakah klien telah berlangganan deposito berjangka?\")\n",
        "print(\"\")\n",
        "print(\"Jawaban:\")\n",
        "print(prediction)\n",
        "\n",
        "if (prediction[0]==0):\n",
        "  print(\"Tidak, klien belum berlangganan deposito berjangka.\")\n",
        "else:\n",
        "  print(\"Ya, klien telah berlangganan deposito berjangka.\")"
      ],
      "metadata": {
        "colab": {
          "base_uri": "https://localhost:8080/"
        },
        "id": "6q9O-meKl-C1",
        "outputId": "ed69dfd7-d3f1-4a8c-815b-d3ded8e7899e"
      },
      "execution_count": 40,
      "outputs": [
        {
          "output_type": "stream",
          "name": "stdout",
          "text": [
            "Apakah klien telah berlangganan deposito berjangka?\n",
            "\n",
            "Jawaban:\n",
            "[0]\n",
            "Tidak, klien belum berlangganan deposito berjangka.\n"
          ]
        }
      ]
    }
  ]
}