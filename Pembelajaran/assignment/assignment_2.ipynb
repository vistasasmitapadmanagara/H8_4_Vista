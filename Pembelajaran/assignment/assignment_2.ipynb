{
  "nbformat": 4,
  "nbformat_minor": 0,
  "metadata": {
    "colab": {
      "name": "assignment_2",
      "provenance": [],
      "collapsed_sections": []
    },
    "kernelspec": {
      "name": "python3",
      "display_name": "Python 3"
    },
    "language_info": {
      "name": "python"
    }
  },
  "cells": [
    {
      "cell_type": "markdown",
      "source": [
        "# Assignment 2: Statistic\n",
        "## Tugas\n",
        "- Mean\n",
        "- Median\n",
        "- Modus\n",
        "- Range\n",
        "- Variance\n",
        "- Standard Deviation\n",
        "- Probability Distribution\n",
        "- Confidence Interval\n",
        "- Hypothesis Testing\n",
        "- Preprocessing"
      ],
      "metadata": {
        "id": "YCSdUBzalrxF"
      }
    },
    {
      "cell_type": "markdown",
      "source": [
        "**Tentang Dataset**\n",
        "\n",
        "**Konteks**\n",
        "\n",
        "Kumpulan data ini adalah catatan setiap bangunan atau unit bangunan (apartemen, dll.) yang dijual di pasar properti Kota New York selama periode 12 bulan.\n",
        "\n",
        "**Isi**\n",
        "\n",
        "Dataset ini berisi tentang lokasi, alamat, jenis, harga jual, dan tanggal penjualan unit bangunan yang terjual. Referensi di bidang yang lebih rumit:\n",
        "\n",
        "- BOROUGH: Kode digit untuk wilayah tempat properti berada; dalam urutan ini adalah Manhattan (1), Bronx (2), Brooklyn (3), Queens (4), dan Staten Island (5).\n",
        "- BLOCK; LOT: Kombinasi borough, block, dan lot membentuk kunci unik untuk properti di New York City. Biasa disebut a BBL.\n",
        "- BUILDING CLASS AT PRESENTdan BUILDING CLASS AT TIME OF SALE: Jenis bangunan pada berbagai titik waktu."
      ],
      "metadata": {
        "id": "8DM7rrZ5r5dV"
      }
    },
    {
      "cell_type": "markdown",
      "source": [
        "Perhatikan bahwa karena ini adalah kumpulan data transaksi keuangan, ada beberapa hal yang perlu diingat:\n",
        "\n",
        "- Banyak penjualan terjadi dengan jumlah dolar yang sangat kecil: $0 paling umum. Penjualan ini sebenarnya adalah transfer akta antar pihak: misalnya, orang tua mengalihkan kepemilikan rumah mereka kepada seorang anak setelah pindah untuk pensiun.\n",
        "- Dataset ini menggunakan definisi keuangan dari sebuah bangunan/unit bangunan, untuk tujuan perpajakan. Dalam hal satu entitas memiliki bangunan yang bersangkutan, penjualan mencakup nilai seluruh bangunan. Dalam hal sebuah bangunan dimiliki sedikit demi sedikit oleh penghuninya (kondominium), penjualan mengacu pada satu apartemen (atau sekelompok apartemen) yang dimiliki oleh beberapa individu."
      ],
      "metadata": {
        "id": "DYD4ISzHsWYe"
      }
    },
    {
      "cell_type": "markdown",
      "source": [
        "# Preparing Data"
      ],
      "metadata": {
        "id": "odls6q2km9u0"
      }
    },
    {
      "cell_type": "code",
      "source": [
        "import numpy as np\n",
        "import pandas as pd\n",
        "\n",
        "# EDA\n",
        "import seaborn as sns\n",
        "import matplotlib.pyplot as plt\n",
        "%matplotlib inline\n",
        "\n",
        "# labelEncoder\n",
        "from sklearn.preprocessing import LabelEncoder\n",
        "\n",
        "# hypothesis\n",
        "import scipy.stats.distributions as dist"
      ],
      "metadata": {
        "id": "V-s6-lTbm9G7"
      },
      "execution_count": 1,
      "outputs": []
    },
    {
      "cell_type": "code",
      "source": [
        "missing_values = [' ', ' -  ']\n",
        "\n",
        "df = pd.read_csv(\"/content/drive/MyDrive/tugas_studi/nyc-rolling-sales.csv\", na_values=missing_values)"
      ],
      "metadata": {
        "id": "BwIetsj8nN0v"
      },
      "execution_count": 2,
      "outputs": []
    },
    {
      "cell_type": "code",
      "source": [
        "df.shape"
      ],
      "metadata": {
        "colab": {
          "base_uri": "https://localhost:8080/"
        },
        "id": "lLB0_tOTnT1d",
        "outputId": "66b83969-8c1a-47ea-ec1b-791edd7cfbf8"
      },
      "execution_count": 3,
      "outputs": [
        {
          "output_type": "execute_result",
          "data": {
            "text/plain": [
              "(84548, 22)"
            ]
          },
          "metadata": {},
          "execution_count": 3
        }
      ]
    },
    {
      "cell_type": "code",
      "source": [
        "df.head()"
      ],
      "metadata": {
        "colab": {
          "base_uri": "https://localhost:8080/",
          "height": 629
        },
        "id": "cMJmZZzEnVMH",
        "outputId": "b3abbbc3-d8f9-4697-d03f-318e51e52043"
      },
      "execution_count": 4,
      "outputs": [
        {
          "output_type": "execute_result",
          "data": {
            "text/plain": [
              "   Unnamed: 0  BOROUGH   NEIGHBORHOOD  \\\n",
              "0           4        1  ALPHABET CITY   \n",
              "1           5        1  ALPHABET CITY   \n",
              "2           6        1  ALPHABET CITY   \n",
              "3           7        1  ALPHABET CITY   \n",
              "4           8        1  ALPHABET CITY   \n",
              "\n",
              "                       BUILDING CLASS CATEGORY TAX CLASS AT PRESENT  BLOCK  \\\n",
              "0  07 RENTALS - WALKUP APARTMENTS                                2A    392   \n",
              "1  07 RENTALS - WALKUP APARTMENTS                                 2    399   \n",
              "2  07 RENTALS - WALKUP APARTMENTS                                 2    399   \n",
              "3  07 RENTALS - WALKUP APARTMENTS                                2B    402   \n",
              "4  07 RENTALS - WALKUP APARTMENTS                                2A    404   \n",
              "\n",
              "   LOT  EASE-MENT BUILDING CLASS AT PRESENT                 ADDRESS  ...  \\\n",
              "0    6        NaN                        C2            153 AVENUE B  ...   \n",
              "1   26        NaN                        C7   234 EAST 4TH   STREET  ...   \n",
              "2   39        NaN                        C7   197 EAST 3RD   STREET  ...   \n",
              "3   21        NaN                        C4     154 EAST 7TH STREET  ...   \n",
              "4   55        NaN                        C2  301 EAST 10TH   STREET  ...   \n",
              "\n",
              "  RESIDENTIAL UNITS  COMMERCIAL UNITS  TOTAL UNITS  LAND SQUARE FEET  \\\n",
              "0                 5                 0            5            1633.0   \n",
              "1                28                 3           31            4616.0   \n",
              "2                16                 1           17            2212.0   \n",
              "3                10                 0           10            2272.0   \n",
              "4                 6                 0            6            2369.0   \n",
              "\n",
              "   GROSS SQUARE FEET  YEAR BUILT  TAX CLASS AT TIME OF SALE  \\\n",
              "0             6440.0        1900                          2   \n",
              "1            18690.0        1900                          2   \n",
              "2             7803.0        1900                          2   \n",
              "3             6794.0        1913                          2   \n",
              "4             4615.0        1900                          2   \n",
              "\n",
              "   BUILDING CLASS AT TIME OF SALE  SALE PRICE            SALE DATE  \n",
              "0                              C2   6625000.0  2017-07-19 00:00:00  \n",
              "1                              C7         NaN  2016-12-14 00:00:00  \n",
              "2                              C7         NaN  2016-12-09 00:00:00  \n",
              "3                              C4   3936272.0  2016-09-23 00:00:00  \n",
              "4                              C2   8000000.0  2016-11-17 00:00:00  \n",
              "\n",
              "[5 rows x 22 columns]"
            ],
            "text/html": [
              "\n",
              "  <div id=\"df-8ac0f485-e0e7-4a0f-9c3c-a9d67ca1345b\">\n",
              "    <div class=\"colab-df-container\">\n",
              "      <div>\n",
              "<style scoped>\n",
              "    .dataframe tbody tr th:only-of-type {\n",
              "        vertical-align: middle;\n",
              "    }\n",
              "\n",
              "    .dataframe tbody tr th {\n",
              "        vertical-align: top;\n",
              "    }\n",
              "\n",
              "    .dataframe thead th {\n",
              "        text-align: right;\n",
              "    }\n",
              "</style>\n",
              "<table border=\"1\" class=\"dataframe\">\n",
              "  <thead>\n",
              "    <tr style=\"text-align: right;\">\n",
              "      <th></th>\n",
              "      <th>Unnamed: 0</th>\n",
              "      <th>BOROUGH</th>\n",
              "      <th>NEIGHBORHOOD</th>\n",
              "      <th>BUILDING CLASS CATEGORY</th>\n",
              "      <th>TAX CLASS AT PRESENT</th>\n",
              "      <th>BLOCK</th>\n",
              "      <th>LOT</th>\n",
              "      <th>EASE-MENT</th>\n",
              "      <th>BUILDING CLASS AT PRESENT</th>\n",
              "      <th>ADDRESS</th>\n",
              "      <th>...</th>\n",
              "      <th>RESIDENTIAL UNITS</th>\n",
              "      <th>COMMERCIAL UNITS</th>\n",
              "      <th>TOTAL UNITS</th>\n",
              "      <th>LAND SQUARE FEET</th>\n",
              "      <th>GROSS SQUARE FEET</th>\n",
              "      <th>YEAR BUILT</th>\n",
              "      <th>TAX CLASS AT TIME OF SALE</th>\n",
              "      <th>BUILDING CLASS AT TIME OF SALE</th>\n",
              "      <th>SALE PRICE</th>\n",
              "      <th>SALE DATE</th>\n",
              "    </tr>\n",
              "  </thead>\n",
              "  <tbody>\n",
              "    <tr>\n",
              "      <th>0</th>\n",
              "      <td>4</td>\n",
              "      <td>1</td>\n",
              "      <td>ALPHABET CITY</td>\n",
              "      <td>07 RENTALS - WALKUP APARTMENTS</td>\n",
              "      <td>2A</td>\n",
              "      <td>392</td>\n",
              "      <td>6</td>\n",
              "      <td>NaN</td>\n",
              "      <td>C2</td>\n",
              "      <td>153 AVENUE B</td>\n",
              "      <td>...</td>\n",
              "      <td>5</td>\n",
              "      <td>0</td>\n",
              "      <td>5</td>\n",
              "      <td>1633.0</td>\n",
              "      <td>6440.0</td>\n",
              "      <td>1900</td>\n",
              "      <td>2</td>\n",
              "      <td>C2</td>\n",
              "      <td>6625000.0</td>\n",
              "      <td>2017-07-19 00:00:00</td>\n",
              "    </tr>\n",
              "    <tr>\n",
              "      <th>1</th>\n",
              "      <td>5</td>\n",
              "      <td>1</td>\n",
              "      <td>ALPHABET CITY</td>\n",
              "      <td>07 RENTALS - WALKUP APARTMENTS</td>\n",
              "      <td>2</td>\n",
              "      <td>399</td>\n",
              "      <td>26</td>\n",
              "      <td>NaN</td>\n",
              "      <td>C7</td>\n",
              "      <td>234 EAST 4TH   STREET</td>\n",
              "      <td>...</td>\n",
              "      <td>28</td>\n",
              "      <td>3</td>\n",
              "      <td>31</td>\n",
              "      <td>4616.0</td>\n",
              "      <td>18690.0</td>\n",
              "      <td>1900</td>\n",
              "      <td>2</td>\n",
              "      <td>C7</td>\n",
              "      <td>NaN</td>\n",
              "      <td>2016-12-14 00:00:00</td>\n",
              "    </tr>\n",
              "    <tr>\n",
              "      <th>2</th>\n",
              "      <td>6</td>\n",
              "      <td>1</td>\n",
              "      <td>ALPHABET CITY</td>\n",
              "      <td>07 RENTALS - WALKUP APARTMENTS</td>\n",
              "      <td>2</td>\n",
              "      <td>399</td>\n",
              "      <td>39</td>\n",
              "      <td>NaN</td>\n",
              "      <td>C7</td>\n",
              "      <td>197 EAST 3RD   STREET</td>\n",
              "      <td>...</td>\n",
              "      <td>16</td>\n",
              "      <td>1</td>\n",
              "      <td>17</td>\n",
              "      <td>2212.0</td>\n",
              "      <td>7803.0</td>\n",
              "      <td>1900</td>\n",
              "      <td>2</td>\n",
              "      <td>C7</td>\n",
              "      <td>NaN</td>\n",
              "      <td>2016-12-09 00:00:00</td>\n",
              "    </tr>\n",
              "    <tr>\n",
              "      <th>3</th>\n",
              "      <td>7</td>\n",
              "      <td>1</td>\n",
              "      <td>ALPHABET CITY</td>\n",
              "      <td>07 RENTALS - WALKUP APARTMENTS</td>\n",
              "      <td>2B</td>\n",
              "      <td>402</td>\n",
              "      <td>21</td>\n",
              "      <td>NaN</td>\n",
              "      <td>C4</td>\n",
              "      <td>154 EAST 7TH STREET</td>\n",
              "      <td>...</td>\n",
              "      <td>10</td>\n",
              "      <td>0</td>\n",
              "      <td>10</td>\n",
              "      <td>2272.0</td>\n",
              "      <td>6794.0</td>\n",
              "      <td>1913</td>\n",
              "      <td>2</td>\n",
              "      <td>C4</td>\n",
              "      <td>3936272.0</td>\n",
              "      <td>2016-09-23 00:00:00</td>\n",
              "    </tr>\n",
              "    <tr>\n",
              "      <th>4</th>\n",
              "      <td>8</td>\n",
              "      <td>1</td>\n",
              "      <td>ALPHABET CITY</td>\n",
              "      <td>07 RENTALS - WALKUP APARTMENTS</td>\n",
              "      <td>2A</td>\n",
              "      <td>404</td>\n",
              "      <td>55</td>\n",
              "      <td>NaN</td>\n",
              "      <td>C2</td>\n",
              "      <td>301 EAST 10TH   STREET</td>\n",
              "      <td>...</td>\n",
              "      <td>6</td>\n",
              "      <td>0</td>\n",
              "      <td>6</td>\n",
              "      <td>2369.0</td>\n",
              "      <td>4615.0</td>\n",
              "      <td>1900</td>\n",
              "      <td>2</td>\n",
              "      <td>C2</td>\n",
              "      <td>8000000.0</td>\n",
              "      <td>2016-11-17 00:00:00</td>\n",
              "    </tr>\n",
              "  </tbody>\n",
              "</table>\n",
              "<p>5 rows × 22 columns</p>\n",
              "</div>\n",
              "      <button class=\"colab-df-convert\" onclick=\"convertToInteractive('df-8ac0f485-e0e7-4a0f-9c3c-a9d67ca1345b')\"\n",
              "              title=\"Convert this dataframe to an interactive table.\"\n",
              "              style=\"display:none;\">\n",
              "        \n",
              "  <svg xmlns=\"http://www.w3.org/2000/svg\" height=\"24px\"viewBox=\"0 0 24 24\"\n",
              "       width=\"24px\">\n",
              "    <path d=\"M0 0h24v24H0V0z\" fill=\"none\"/>\n",
              "    <path d=\"M18.56 5.44l.94 2.06.94-2.06 2.06-.94-2.06-.94-.94-2.06-.94 2.06-2.06.94zm-11 1L8.5 8.5l.94-2.06 2.06-.94-2.06-.94L8.5 2.5l-.94 2.06-2.06.94zm10 10l.94 2.06.94-2.06 2.06-.94-2.06-.94-.94-2.06-.94 2.06-2.06.94z\"/><path d=\"M17.41 7.96l-1.37-1.37c-.4-.4-.92-.59-1.43-.59-.52 0-1.04.2-1.43.59L10.3 9.45l-7.72 7.72c-.78.78-.78 2.05 0 2.83L4 21.41c.39.39.9.59 1.41.59.51 0 1.02-.2 1.41-.59l7.78-7.78 2.81-2.81c.8-.78.8-2.07 0-2.86zM5.41 20L4 18.59l7.72-7.72 1.47 1.35L5.41 20z\"/>\n",
              "  </svg>\n",
              "      </button>\n",
              "      \n",
              "  <style>\n",
              "    .colab-df-container {\n",
              "      display:flex;\n",
              "      flex-wrap:wrap;\n",
              "      gap: 12px;\n",
              "    }\n",
              "\n",
              "    .colab-df-convert {\n",
              "      background-color: #E8F0FE;\n",
              "      border: none;\n",
              "      border-radius: 50%;\n",
              "      cursor: pointer;\n",
              "      display: none;\n",
              "      fill: #1967D2;\n",
              "      height: 32px;\n",
              "      padding: 0 0 0 0;\n",
              "      width: 32px;\n",
              "    }\n",
              "\n",
              "    .colab-df-convert:hover {\n",
              "      background-color: #E2EBFA;\n",
              "      box-shadow: 0px 1px 2px rgba(60, 64, 67, 0.3), 0px 1px 3px 1px rgba(60, 64, 67, 0.15);\n",
              "      fill: #174EA6;\n",
              "    }\n",
              "\n",
              "    [theme=dark] .colab-df-convert {\n",
              "      background-color: #3B4455;\n",
              "      fill: #D2E3FC;\n",
              "    }\n",
              "\n",
              "    [theme=dark] .colab-df-convert:hover {\n",
              "      background-color: #434B5C;\n",
              "      box-shadow: 0px 1px 3px 1px rgba(0, 0, 0, 0.15);\n",
              "      filter: drop-shadow(0px 1px 2px rgba(0, 0, 0, 0.3));\n",
              "      fill: #FFFFFF;\n",
              "    }\n",
              "  </style>\n",
              "\n",
              "      <script>\n",
              "        const buttonEl =\n",
              "          document.querySelector('#df-8ac0f485-e0e7-4a0f-9c3c-a9d67ca1345b button.colab-df-convert');\n",
              "        buttonEl.style.display =\n",
              "          google.colab.kernel.accessAllowed ? 'block' : 'none';\n",
              "\n",
              "        async function convertToInteractive(key) {\n",
              "          const element = document.querySelector('#df-8ac0f485-e0e7-4a0f-9c3c-a9d67ca1345b');\n",
              "          const dataTable =\n",
              "            await google.colab.kernel.invokeFunction('convertToInteractive',\n",
              "                                                     [key], {});\n",
              "          if (!dataTable) return;\n",
              "\n",
              "          const docLinkHtml = 'Like what you see? Visit the ' +\n",
              "            '<a target=\"_blank\" href=https://colab.research.google.com/notebooks/data_table.ipynb>data table notebook</a>'\n",
              "            + ' to learn more about interactive tables.';\n",
              "          element.innerHTML = '';\n",
              "          dataTable['output_type'] = 'display_data';\n",
              "          await google.colab.output.renderOutput(dataTable, element);\n",
              "          const docLink = document.createElement('div');\n",
              "          docLink.innerHTML = docLinkHtml;\n",
              "          element.appendChild(docLink);\n",
              "        }\n",
              "      </script>\n",
              "    </div>\n",
              "  </div>\n",
              "  "
            ]
          },
          "metadata": {},
          "execution_count": 4
        }
      ]
    },
    {
      "cell_type": "code",
      "source": [
        "df.info()"
      ],
      "metadata": {
        "colab": {
          "base_uri": "https://localhost:8080/"
        },
        "id": "upjBEtN6nbSA",
        "outputId": "03b225f6-ec64-49ce-ab31-171dbdd06116"
      },
      "execution_count": 5,
      "outputs": [
        {
          "output_type": "stream",
          "name": "stdout",
          "text": [
            "<class 'pandas.core.frame.DataFrame'>\n",
            "RangeIndex: 84548 entries, 0 to 84547\n",
            "Data columns (total 22 columns):\n",
            " #   Column                          Non-Null Count  Dtype  \n",
            "---  ------                          --------------  -----  \n",
            " 0   Unnamed: 0                      84548 non-null  int64  \n",
            " 1   BOROUGH                         84548 non-null  int64  \n",
            " 2   NEIGHBORHOOD                    84548 non-null  object \n",
            " 3   BUILDING CLASS CATEGORY         84548 non-null  object \n",
            " 4   TAX CLASS AT PRESENT            83810 non-null  object \n",
            " 5   BLOCK                           84548 non-null  int64  \n",
            " 6   LOT                             84548 non-null  int64  \n",
            " 7   EASE-MENT                       0 non-null      float64\n",
            " 8   BUILDING CLASS AT PRESENT       83810 non-null  object \n",
            " 9   ADDRESS                         84548 non-null  object \n",
            " 10  APARTMENT NUMBER                19052 non-null  object \n",
            " 11  ZIP CODE                        84548 non-null  int64  \n",
            " 12  RESIDENTIAL UNITS               84548 non-null  int64  \n",
            " 13  COMMERCIAL UNITS                84548 non-null  int64  \n",
            " 14  TOTAL UNITS                     84548 non-null  int64  \n",
            " 15  LAND SQUARE FEET                58296 non-null  float64\n",
            " 16  GROSS SQUARE FEET               56936 non-null  float64\n",
            " 17  YEAR BUILT                      84548 non-null  int64  \n",
            " 18  TAX CLASS AT TIME OF SALE       84548 non-null  int64  \n",
            " 19  BUILDING CLASS AT TIME OF SALE  84548 non-null  object \n",
            " 20  SALE PRICE                      69987 non-null  float64\n",
            " 21  SALE DATE                       84548 non-null  object \n",
            "dtypes: float64(4), int64(10), object(8)\n",
            "memory usage: 14.2+ MB\n"
          ]
        }
      ]
    },
    {
      "cell_type": "markdown",
      "source": [
        "Dari informasi diatas dapat diketahui bahwa terdapat beberapa kolom yang memiliki nilai null di dalamnya, karena itu selanjutnya mari lakukan **cleaning data**."
      ],
      "metadata": {
        "id": "Bm5FAIyNtUq0"
      }
    },
    {
      "cell_type": "markdown",
      "source": [
        "# Cleaning Data"
      ],
      "metadata": {
        "id": "rY5FVNaknccv"
      }
    },
    {
      "cell_type": "markdown",
      "source": [
        "Kolom **Unnamed:0** tidak merepresentasikan informasi yang penting dan dibutuhkan untuk pemrosesan data kita. Sedangkan, **EASE-MENT** tidak memiliki data sama sekali di dalamnya alias 0.\n",
        "\n",
        "Mari kita **drop** saja."
      ],
      "metadata": {
        "id": "c_SM9FoYoLO0"
      }
    },
    {
      "cell_type": "code",
      "source": [
        "df.drop(columns=['Unnamed: 0', 'EASE-MENT'], inplace=True)"
      ],
      "metadata": {
        "id": "Pzyt0SatnwmI"
      },
      "execution_count": 6,
      "outputs": []
    },
    {
      "cell_type": "markdown",
      "source": [
        "**Cek apakah ada nilai null atau tidak.**"
      ],
      "metadata": {
        "id": "e7qzOzyQtu6R"
      }
    },
    {
      "cell_type": "code",
      "source": [
        "df.isnull().sum()"
      ],
      "metadata": {
        "colab": {
          "base_uri": "https://localhost:8080/"
        },
        "id": "5_283lUmnd6B",
        "outputId": "d657bdf1-c04c-4a8c-9e8d-8fe99510a8e3"
      },
      "execution_count": 7,
      "outputs": [
        {
          "output_type": "execute_result",
          "data": {
            "text/plain": [
              "BOROUGH                               0\n",
              "NEIGHBORHOOD                          0\n",
              "BUILDING CLASS CATEGORY               0\n",
              "TAX CLASS AT PRESENT                738\n",
              "BLOCK                                 0\n",
              "LOT                                   0\n",
              "BUILDING CLASS AT PRESENT           738\n",
              "ADDRESS                               0\n",
              "APARTMENT NUMBER                  65496\n",
              "ZIP CODE                              0\n",
              "RESIDENTIAL UNITS                     0\n",
              "COMMERCIAL UNITS                      0\n",
              "TOTAL UNITS                           0\n",
              "LAND SQUARE FEET                  26252\n",
              "GROSS SQUARE FEET                 27612\n",
              "YEAR BUILT                            0\n",
              "TAX CLASS AT TIME OF SALE             0\n",
              "BUILDING CLASS AT TIME OF SALE        0\n",
              "SALE PRICE                        14561\n",
              "SALE DATE                             0\n",
              "dtype: int64"
            ]
          },
          "metadata": {},
          "execution_count": 7
        }
      ]
    },
    {
      "cell_type": "markdown",
      "source": [
        "Terdapat begitu banyak nilai null pada beberapa kolom, mari lakukan **fillna** saja."
      ],
      "metadata": {
        "id": "-T88GMJavMUn"
      }
    },
    {
      "cell_type": "code",
      "source": [
        "df.fillna(method='ffill', inplace=True);\n",
        "df.isnull().sum()"
      ],
      "metadata": {
        "colab": {
          "base_uri": "https://localhost:8080/"
        },
        "id": "cM_fT9QJtwbb",
        "outputId": "dbddef7c-9b4c-4839-f144-9d8aef0ebfa1"
      },
      "execution_count": 8,
      "outputs": [
        {
          "output_type": "execute_result",
          "data": {
            "text/plain": [
              "BOROUGH                            0\n",
              "NEIGHBORHOOD                       0\n",
              "BUILDING CLASS CATEGORY            0\n",
              "TAX CLASS AT PRESENT               0\n",
              "BLOCK                              0\n",
              "LOT                                0\n",
              "BUILDING CLASS AT PRESENT          0\n",
              "ADDRESS                            0\n",
              "APARTMENT NUMBER                  73\n",
              "ZIP CODE                           0\n",
              "RESIDENTIAL UNITS                  0\n",
              "COMMERCIAL UNITS                   0\n",
              "TOTAL UNITS                        0\n",
              "LAND SQUARE FEET                   0\n",
              "GROSS SQUARE FEET                  0\n",
              "YEAR BUILT                         0\n",
              "TAX CLASS AT TIME OF SALE          0\n",
              "BUILDING CLASS AT TIME OF SALE     0\n",
              "SALE PRICE                         0\n",
              "SALE DATE                          0\n",
              "dtype: int64"
            ]
          },
          "metadata": {},
          "execution_count": 8
        }
      ]
    },
    {
      "cell_type": "code",
      "source": [
        "df.fillna(method='bfill', inplace=True);\n",
        "df.isnull().sum()"
      ],
      "metadata": {
        "colab": {
          "base_uri": "https://localhost:8080/"
        },
        "id": "HSGrDM3Qum0g",
        "outputId": "5d56251c-26f9-42fe-b8ad-600062f98558"
      },
      "execution_count": 9,
      "outputs": [
        {
          "output_type": "execute_result",
          "data": {
            "text/plain": [
              "BOROUGH                           0\n",
              "NEIGHBORHOOD                      0\n",
              "BUILDING CLASS CATEGORY           0\n",
              "TAX CLASS AT PRESENT              0\n",
              "BLOCK                             0\n",
              "LOT                               0\n",
              "BUILDING CLASS AT PRESENT         0\n",
              "ADDRESS                           0\n",
              "APARTMENT NUMBER                  0\n",
              "ZIP CODE                          0\n",
              "RESIDENTIAL UNITS                 0\n",
              "COMMERCIAL UNITS                  0\n",
              "TOTAL UNITS                       0\n",
              "LAND SQUARE FEET                  0\n",
              "GROSS SQUARE FEET                 0\n",
              "YEAR BUILT                        0\n",
              "TAX CLASS AT TIME OF SALE         0\n",
              "BUILDING CLASS AT TIME OF SALE    0\n",
              "SALE PRICE                        0\n",
              "SALE DATE                         0\n",
              "dtype: int64"
            ]
          },
          "metadata": {},
          "execution_count": 9
        }
      ]
    },
    {
      "cell_type": "markdown",
      "source": [
        "Nilai null berhasil teratasi!"
      ],
      "metadata": {
        "id": "gPARoSqKvBQ3"
      }
    },
    {
      "cell_type": "markdown",
      "source": [
        "**Cek apakah ada nilai duplikat atau tidak.**"
      ],
      "metadata": {
        "id": "Gpq7ZOmBoHrr"
      }
    },
    {
      "cell_type": "code",
      "source": [
        "df.duplicated().sum()"
      ],
      "metadata": {
        "colab": {
          "base_uri": "https://localhost:8080/"
        },
        "id": "k1FLpxgznqa4",
        "outputId": "0d05f4a6-d67a-446c-90ea-3a8fb2f1f55e"
      },
      "execution_count": 10,
      "outputs": [
        {
          "output_type": "execute_result",
          "data": {
            "text/plain": [
              "924"
            ]
          },
          "metadata": {},
          "execution_count": 10
        }
      ]
    },
    {
      "cell_type": "code",
      "source": [
        "df.drop_duplicates(inplace=True)\n",
        "df.duplicated().sum()"
      ],
      "metadata": {
        "colab": {
          "base_uri": "https://localhost:8080/"
        },
        "id": "PoL0cBPyu4Xt",
        "outputId": "9150d921-309f-42ae-fb2b-48171a69a3f2"
      },
      "execution_count": 11,
      "outputs": [
        {
          "output_type": "execute_result",
          "data": {
            "text/plain": [
              "0"
            ]
          },
          "metadata": {},
          "execution_count": 11
        }
      ]
    },
    {
      "cell_type": "markdown",
      "source": [
        "Nilai duplikat berhasil teratasi!"
      ],
      "metadata": {
        "id": "-2FShJyOvEfu"
      }
    },
    {
      "cell_type": "markdown",
      "source": [
        "**Rename Kolom**\n",
        "\n",
        "Nama dari tiap kolom memiliki spasi yang memisahkan kata per kata dan ditulis dengan huruf kapital, ini akan merepotkan bahkan menyulitkan pemrosesan data pada beberapa kondisi di masa yang akan datang."
      ],
      "metadata": {
        "id": "yJCmsYhgAucz"
      }
    },
    {
      "cell_type": "code",
      "source": [
        "df.rename(columns={'BOROUGH': 'borough',\n",
        "                   'NEIGHBORHOOD':'neighborhood',\n",
        "                   'BUILDING CLASS CATEGORY': 'building_class_category',\n",
        "                   'TAX CLASS AT PRESENT': 'tax_class_at_present',\n",
        "                   'BLOCK': 'block', \n",
        "                   'LOT': 'lot',\n",
        "                   'BUILDING CLASS AT PRESENT': 'building_class_at_present',\n",
        "                   'ADDRESS': 'address',\n",
        "                   'APARTMENT NUMBER': 'apartment_number',\n",
        "                   'ZIP CODE': 'zip_code',\n",
        "                   'RESIDENTIAL UNITS': 'residential_units',\n",
        "                   'COMMERCIAL UNITS': 'komersial_units',\n",
        "                   'TOTAL UNITS': 'total_units',\n",
        "                   'LAND SQUARE FEET': 'land_square_feet',\n",
        "                   'GROSS SQUARE FEET': 'gross_square_feet',\n",
        "                   'YEAR BUILT': 'year_built',\n",
        "                   'TAX CLASS AT TIME OF SALE': 'tax_class_at_time_of_sale',\n",
        "                   'BUILDING CLASS AT TIME OF SALE': 'building_class_at_time_of_sale',\n",
        "                   'SALE PRICE': 'sale_price',\n",
        "                   'SALE DATE': 'sale_date'}, inplace=True)"
      ],
      "metadata": {
        "id": "UyhkcASSAw2J"
      },
      "execution_count": 12,
      "outputs": []
    },
    {
      "cell_type": "markdown",
      "source": [
        "**Rubah tipe data**\n",
        "\n",
        "Kolom 'sale_price' akan lebih baik bila bertipe data integer atau bilangan bulat, karena pada kenyataannya harga memang harus selalu bilangan bulat."
      ],
      "metadata": {
        "id": "M3BZjQRnCVZk"
      }
    },
    {
      "cell_type": "code",
      "source": [
        "df['sale_price'] = df['sale_price'].astype(int)"
      ],
      "metadata": {
        "id": "NB3u8xTgCUvN"
      },
      "execution_count": 13,
      "outputs": []
    },
    {
      "cell_type": "markdown",
      "source": [
        "**Cek statistik deskriptif dataframe.**"
      ],
      "metadata": {
        "id": "pvaR_OthoYfS"
      }
    },
    {
      "cell_type": "code",
      "source": [
        "df.describe()"
      ],
      "metadata": {
        "colab": {
          "base_uri": "https://localhost:8080/",
          "height": 364
        },
        "id": "VNr51r9Fn2tM",
        "outputId": "9ec2e607-40d5-4d9b-99cf-71e5a7f42b23"
      },
      "execution_count": 14,
      "outputs": [
        {
          "output_type": "execute_result",
          "data": {
            "text/plain": [
              "            borough         block           lot      zip_code  \\\n",
              "count  83624.000000  83624.000000  83624.000000  83624.000000   \n",
              "mean       2.999019   4241.604372    376.313319  10733.494667   \n",
              "std        1.288139   3566.330226    658.057001   1289.078797   \n",
              "min        1.000000      1.000000      1.000000      0.000000   \n",
              "25%        2.000000   1326.000000     22.000000  10305.000000   \n",
              "50%        3.000000   3319.000000     50.000000  11209.000000   \n",
              "75%        4.000000   6290.000000   1001.000000  11357.000000   \n",
              "max        5.000000  16322.000000   9106.000000  11694.000000   \n",
              "\n",
              "       residential_units  komersial_units   total_units  land_square_feet  \\\n",
              "count       83624.000000     83624.000000  83624.000000      8.362400e+04   \n",
              "mean            1.994140         0.180642      2.204654      1.833142e+04   \n",
              "std            16.575782         8.539713     18.767204      1.936508e+05   \n",
              "min             0.000000         0.000000      0.000000      0.000000e+00   \n",
              "25%             0.000000         0.000000      1.000000      1.950000e+03   \n",
              "50%             1.000000         0.000000      1.000000      2.640000e+03   \n",
              "75%             2.000000         0.000000      2.000000      5.000000e+03   \n",
              "max          1844.000000      2261.000000   2261.000000      4.252327e+06   \n",
              "\n",
              "       gross_square_feet    year_built  tax_class_at_time_of_sale  \\\n",
              "count       8.362400e+04  83624.000000               83624.000000   \n",
              "mean        4.320566e+04   1789.823328                   1.653987   \n",
              "std         2.071511e+05    536.570742                   0.814315   \n",
              "min         0.000000e+00      0.000000                   1.000000   \n",
              "25%         1.330000e+03   1920.000000                   1.000000   \n",
              "50%         2.392000e+03   1940.000000                   2.000000   \n",
              "75%         1.001350e+04   1965.000000                   2.000000   \n",
              "max         3.750565e+06   2017.000000                   4.000000   \n",
              "\n",
              "         sale_price  \n",
              "count  8.362400e+04  \n",
              "mean   1.663008e+06  \n",
              "std    1.592342e+07  \n",
              "min    0.000000e+00  \n",
              "25%    2.598868e+05  \n",
              "50%    5.600000e+05  \n",
              "75%    9.825000e+05  \n",
              "max    2.210000e+09  "
            ],
            "text/html": [
              "\n",
              "  <div id=\"df-550a4eca-bd80-4d8b-9788-0c5562dc45af\">\n",
              "    <div class=\"colab-df-container\">\n",
              "      <div>\n",
              "<style scoped>\n",
              "    .dataframe tbody tr th:only-of-type {\n",
              "        vertical-align: middle;\n",
              "    }\n",
              "\n",
              "    .dataframe tbody tr th {\n",
              "        vertical-align: top;\n",
              "    }\n",
              "\n",
              "    .dataframe thead th {\n",
              "        text-align: right;\n",
              "    }\n",
              "</style>\n",
              "<table border=\"1\" class=\"dataframe\">\n",
              "  <thead>\n",
              "    <tr style=\"text-align: right;\">\n",
              "      <th></th>\n",
              "      <th>borough</th>\n",
              "      <th>block</th>\n",
              "      <th>lot</th>\n",
              "      <th>zip_code</th>\n",
              "      <th>residential_units</th>\n",
              "      <th>komersial_units</th>\n",
              "      <th>total_units</th>\n",
              "      <th>land_square_feet</th>\n",
              "      <th>gross_square_feet</th>\n",
              "      <th>year_built</th>\n",
              "      <th>tax_class_at_time_of_sale</th>\n",
              "      <th>sale_price</th>\n",
              "    </tr>\n",
              "  </thead>\n",
              "  <tbody>\n",
              "    <tr>\n",
              "      <th>count</th>\n",
              "      <td>83624.000000</td>\n",
              "      <td>83624.000000</td>\n",
              "      <td>83624.000000</td>\n",
              "      <td>83624.000000</td>\n",
              "      <td>83624.000000</td>\n",
              "      <td>83624.000000</td>\n",
              "      <td>83624.000000</td>\n",
              "      <td>8.362400e+04</td>\n",
              "      <td>8.362400e+04</td>\n",
              "      <td>83624.000000</td>\n",
              "      <td>83624.000000</td>\n",
              "      <td>8.362400e+04</td>\n",
              "    </tr>\n",
              "    <tr>\n",
              "      <th>mean</th>\n",
              "      <td>2.999019</td>\n",
              "      <td>4241.604372</td>\n",
              "      <td>376.313319</td>\n",
              "      <td>10733.494667</td>\n",
              "      <td>1.994140</td>\n",
              "      <td>0.180642</td>\n",
              "      <td>2.204654</td>\n",
              "      <td>1.833142e+04</td>\n",
              "      <td>4.320566e+04</td>\n",
              "      <td>1789.823328</td>\n",
              "      <td>1.653987</td>\n",
              "      <td>1.663008e+06</td>\n",
              "    </tr>\n",
              "    <tr>\n",
              "      <th>std</th>\n",
              "      <td>1.288139</td>\n",
              "      <td>3566.330226</td>\n",
              "      <td>658.057001</td>\n",
              "      <td>1289.078797</td>\n",
              "      <td>16.575782</td>\n",
              "      <td>8.539713</td>\n",
              "      <td>18.767204</td>\n",
              "      <td>1.936508e+05</td>\n",
              "      <td>2.071511e+05</td>\n",
              "      <td>536.570742</td>\n",
              "      <td>0.814315</td>\n",
              "      <td>1.592342e+07</td>\n",
              "    </tr>\n",
              "    <tr>\n",
              "      <th>min</th>\n",
              "      <td>1.000000</td>\n",
              "      <td>1.000000</td>\n",
              "      <td>1.000000</td>\n",
              "      <td>0.000000</td>\n",
              "      <td>0.000000</td>\n",
              "      <td>0.000000</td>\n",
              "      <td>0.000000</td>\n",
              "      <td>0.000000e+00</td>\n",
              "      <td>0.000000e+00</td>\n",
              "      <td>0.000000</td>\n",
              "      <td>1.000000</td>\n",
              "      <td>0.000000e+00</td>\n",
              "    </tr>\n",
              "    <tr>\n",
              "      <th>25%</th>\n",
              "      <td>2.000000</td>\n",
              "      <td>1326.000000</td>\n",
              "      <td>22.000000</td>\n",
              "      <td>10305.000000</td>\n",
              "      <td>0.000000</td>\n",
              "      <td>0.000000</td>\n",
              "      <td>1.000000</td>\n",
              "      <td>1.950000e+03</td>\n",
              "      <td>1.330000e+03</td>\n",
              "      <td>1920.000000</td>\n",
              "      <td>1.000000</td>\n",
              "      <td>2.598868e+05</td>\n",
              "    </tr>\n",
              "    <tr>\n",
              "      <th>50%</th>\n",
              "      <td>3.000000</td>\n",
              "      <td>3319.000000</td>\n",
              "      <td>50.000000</td>\n",
              "      <td>11209.000000</td>\n",
              "      <td>1.000000</td>\n",
              "      <td>0.000000</td>\n",
              "      <td>1.000000</td>\n",
              "      <td>2.640000e+03</td>\n",
              "      <td>2.392000e+03</td>\n",
              "      <td>1940.000000</td>\n",
              "      <td>2.000000</td>\n",
              "      <td>5.600000e+05</td>\n",
              "    </tr>\n",
              "    <tr>\n",
              "      <th>75%</th>\n",
              "      <td>4.000000</td>\n",
              "      <td>6290.000000</td>\n",
              "      <td>1001.000000</td>\n",
              "      <td>11357.000000</td>\n",
              "      <td>2.000000</td>\n",
              "      <td>0.000000</td>\n",
              "      <td>2.000000</td>\n",
              "      <td>5.000000e+03</td>\n",
              "      <td>1.001350e+04</td>\n",
              "      <td>1965.000000</td>\n",
              "      <td>2.000000</td>\n",
              "      <td>9.825000e+05</td>\n",
              "    </tr>\n",
              "    <tr>\n",
              "      <th>max</th>\n",
              "      <td>5.000000</td>\n",
              "      <td>16322.000000</td>\n",
              "      <td>9106.000000</td>\n",
              "      <td>11694.000000</td>\n",
              "      <td>1844.000000</td>\n",
              "      <td>2261.000000</td>\n",
              "      <td>2261.000000</td>\n",
              "      <td>4.252327e+06</td>\n",
              "      <td>3.750565e+06</td>\n",
              "      <td>2017.000000</td>\n",
              "      <td>4.000000</td>\n",
              "      <td>2.210000e+09</td>\n",
              "    </tr>\n",
              "  </tbody>\n",
              "</table>\n",
              "</div>\n",
              "      <button class=\"colab-df-convert\" onclick=\"convertToInteractive('df-550a4eca-bd80-4d8b-9788-0c5562dc45af')\"\n",
              "              title=\"Convert this dataframe to an interactive table.\"\n",
              "              style=\"display:none;\">\n",
              "        \n",
              "  <svg xmlns=\"http://www.w3.org/2000/svg\" height=\"24px\"viewBox=\"0 0 24 24\"\n",
              "       width=\"24px\">\n",
              "    <path d=\"M0 0h24v24H0V0z\" fill=\"none\"/>\n",
              "    <path d=\"M18.56 5.44l.94 2.06.94-2.06 2.06-.94-2.06-.94-.94-2.06-.94 2.06-2.06.94zm-11 1L8.5 8.5l.94-2.06 2.06-.94-2.06-.94L8.5 2.5l-.94 2.06-2.06.94zm10 10l.94 2.06.94-2.06 2.06-.94-2.06-.94-.94-2.06-.94 2.06-2.06.94z\"/><path d=\"M17.41 7.96l-1.37-1.37c-.4-.4-.92-.59-1.43-.59-.52 0-1.04.2-1.43.59L10.3 9.45l-7.72 7.72c-.78.78-.78 2.05 0 2.83L4 21.41c.39.39.9.59 1.41.59.51 0 1.02-.2 1.41-.59l7.78-7.78 2.81-2.81c.8-.78.8-2.07 0-2.86zM5.41 20L4 18.59l7.72-7.72 1.47 1.35L5.41 20z\"/>\n",
              "  </svg>\n",
              "      </button>\n",
              "      \n",
              "  <style>\n",
              "    .colab-df-container {\n",
              "      display:flex;\n",
              "      flex-wrap:wrap;\n",
              "      gap: 12px;\n",
              "    }\n",
              "\n",
              "    .colab-df-convert {\n",
              "      background-color: #E8F0FE;\n",
              "      border: none;\n",
              "      border-radius: 50%;\n",
              "      cursor: pointer;\n",
              "      display: none;\n",
              "      fill: #1967D2;\n",
              "      height: 32px;\n",
              "      padding: 0 0 0 0;\n",
              "      width: 32px;\n",
              "    }\n",
              "\n",
              "    .colab-df-convert:hover {\n",
              "      background-color: #E2EBFA;\n",
              "      box-shadow: 0px 1px 2px rgba(60, 64, 67, 0.3), 0px 1px 3px 1px rgba(60, 64, 67, 0.15);\n",
              "      fill: #174EA6;\n",
              "    }\n",
              "\n",
              "    [theme=dark] .colab-df-convert {\n",
              "      background-color: #3B4455;\n",
              "      fill: #D2E3FC;\n",
              "    }\n",
              "\n",
              "    [theme=dark] .colab-df-convert:hover {\n",
              "      background-color: #434B5C;\n",
              "      box-shadow: 0px 1px 3px 1px rgba(0, 0, 0, 0.15);\n",
              "      filter: drop-shadow(0px 1px 2px rgba(0, 0, 0, 0.3));\n",
              "      fill: #FFFFFF;\n",
              "    }\n",
              "  </style>\n",
              "\n",
              "      <script>\n",
              "        const buttonEl =\n",
              "          document.querySelector('#df-550a4eca-bd80-4d8b-9788-0c5562dc45af button.colab-df-convert');\n",
              "        buttonEl.style.display =\n",
              "          google.colab.kernel.accessAllowed ? 'block' : 'none';\n",
              "\n",
              "        async function convertToInteractive(key) {\n",
              "          const element = document.querySelector('#df-550a4eca-bd80-4d8b-9788-0c5562dc45af');\n",
              "          const dataTable =\n",
              "            await google.colab.kernel.invokeFunction('convertToInteractive',\n",
              "                                                     [key], {});\n",
              "          if (!dataTable) return;\n",
              "\n",
              "          const docLinkHtml = 'Like what you see? Visit the ' +\n",
              "            '<a target=\"_blank\" href=https://colab.research.google.com/notebooks/data_table.ipynb>data table notebook</a>'\n",
              "            + ' to learn more about interactive tables.';\n",
              "          element.innerHTML = '';\n",
              "          dataTable['output_type'] = 'display_data';\n",
              "          await google.colab.output.renderOutput(dataTable, element);\n",
              "          const docLink = document.createElement('div');\n",
              "          docLink.innerHTML = docLinkHtml;\n",
              "          element.appendChild(docLink);\n",
              "        }\n",
              "      </script>\n",
              "    </div>\n",
              "  </div>\n",
              "  "
            ]
          },
          "metadata": {},
          "execution_count": 14
        }
      ]
    },
    {
      "cell_type": "markdown",
      "source": [
        "**Cek statistik inferensial dataframe.**"
      ],
      "metadata": {
        "id": "F07ciRUWovJH"
      }
    },
    {
      "cell_type": "markdown",
      "source": [
        "## Probability Distribution: **borough**"
      ],
      "metadata": {
        "id": "Nad1geNcKgH3"
      }
    },
    {
      "cell_type": "code",
      "source": [
        "mean = df['borough'].mean()\n",
        "std = df['borough'].std()\n",
        "p = 0.5"
      ],
      "metadata": {
        "id": "bjrqwsQGSyng"
      },
      "execution_count": 31,
      "outputs": []
    },
    {
      "cell_type": "code",
      "source": [
        "# Uniform Distribution\n",
        "data_uniform = np.random.uniform(mean, std, size=10000)\n",
        "\n",
        "plt.hist(data_uniform)"
      ],
      "metadata": {
        "colab": {
          "base_uri": "https://localhost:8080/",
          "height": 369
        },
        "id": "9GswqXWoOm6N",
        "outputId": "92bafb32-f906-4c07-9e4e-ec85ee6862a5"
      },
      "execution_count": 32,
      "outputs": [
        {
          "output_type": "execute_result",
          "data": {
            "text/plain": [
              "(array([ 997., 1035.,  975.,  982., 1068.,  993.,  971., 1007.,  967.,\n",
              "        1005.]),\n",
              " array([1.28829489, 1.45935137, 1.63040785, 1.80146433, 1.97252082,\n",
              "        2.1435773 , 2.31463378, 2.48569027, 2.65674675, 2.82780323,\n",
              "        2.99885971]),\n",
              " <a list of 10 Patch objects>)"
            ]
          },
          "metadata": {},
          "execution_count": 32
        },
        {
          "output_type": "display_data",
          "data": {
            "text/plain": [
              "<Figure size 432x288 with 1 Axes>"
            ],
            "image/png": "[encoded data removed]"
          },
          "metadata": {
            "needs_background": "light"
          }
        }
      ]
    },
    {
      "cell_type": "code",
      "source": [
        "# Normal Distribution\n",
        "data_normal = np.random.normal(mean, std, size=10000)\n",
        "\n",
        "plt.hist(data_normal)"
      ],
      "metadata": {
        "colab": {
          "base_uri": "https://localhost:8080/",
          "height": 369
        },
        "id": "HjniwQrzKh3X",
        "outputId": "84de9a57-afba-44c0-de70-9dab3574e78e"
      },
      "execution_count": 33,
      "outputs": [
        {
          "output_type": "execute_result",
          "data": {
            "text/plain": [
              "(array([   4.,   74.,  403., 1331., 2662., 2987., 1756.,  610.,  152.,\n",
              "          21.]),\n",
              " array([-2.11117849, -1.11888019, -0.12658189,  0.86571642,  1.85801472,\n",
              "         2.85031302,  3.84261133,  4.83490963,  5.82720793,  6.81950624,\n",
              "         7.81180454]),\n",
              " <a list of 10 Patch objects>)"
            ]
          },
          "metadata": {},
          "execution_count": 33
        },
        {
          "output_type": "display_data",
          "data": {
            "text/plain": [
              "<Figure size 432x288 with 1 Axes>"
            ],
            "image/png": "[encoded data removed]"
          },
          "metadata": {
            "needs_background": "light"
          }
        }
      ]
    },
    {
      "cell_type": "code",
      "source": [
        "# Gamma Distribution\n",
        "data_gamma = np.random.gamma(mean, std, size=10000)\n",
        "\n",
        "plt.hist(data_gamma)"
      ],
      "metadata": {
        "colab": {
          "base_uri": "https://localhost:8080/",
          "height": 369
        },
        "id": "lhWwgjU3M7a1",
        "outputId": "8c381d3f-878f-44fa-9a42-7551956733cb"
      },
      "execution_count": 34,
      "outputs": [
        {
          "output_type": "execute_result",
          "data": {
            "text/plain": [
              "(array([1511., 3289., 2518., 1425.,  720.,  328.,  140.,   48.,   16.,\n",
              "           5.]),\n",
              " array([ 0.16077735,  1.75421156,  3.34764577,  4.94107997,  6.53451418,\n",
              "         8.12794838,  9.72138259, 11.3148168 , 12.908251  , 14.50168521,\n",
              "        16.09511942]),\n",
              " <a list of 10 Patch objects>)"
            ]
          },
          "metadata": {},
          "execution_count": 34
        },
        {
          "output_type": "display_data",
          "data": {
            "text/plain": [
              "<Figure size 432x288 with 1 Axes>"
            ],
            "image/png": "[encoded data removed]"
          },
          "metadata": {
            "needs_background": "light"
          }
        }
      ]
    },
    {
      "cell_type": "code",
      "source": [
        "# Exponential Distribution\n",
        "data_expon = np.random.exponential(mean, size=10000)\n",
        "\n",
        "plt.hist(data_expon)"
      ],
      "metadata": {
        "colab": {
          "base_uri": "https://localhost:8080/",
          "height": 369
        },
        "id": "lHYjbET5NKDM",
        "outputId": "9ce8887b-57c4-4c04-9c7a-d40ca3bab7ff"
      },
      "execution_count": 35,
      "outputs": [
        {
          "output_type": "execute_result",
          "data": {
            "text/plain": [
              "(array([5.897e+03, 2.438e+03, 9.650e+02, 4.160e+02, 1.780e+02, 5.900e+01,\n",
              "        3.200e+01, 1.100e+01, 3.000e+00, 1.000e+00]),\n",
              " array([1.56355861e-04, 2.69823592e+00, 5.39631549e+00, 8.09439506e+00,\n",
              "        1.07924746e+01, 1.34905542e+01, 1.61886338e+01, 1.88867133e+01,\n",
              "        2.15847929e+01, 2.42828725e+01, 2.69809520e+01]),\n",
              " <a list of 10 Patch objects>)"
            ]
          },
          "metadata": {},
          "execution_count": 35
        },
        {
          "output_type": "display_data",
          "data": {
            "text/plain": [
              "<Figure size 432x288 with 1 Axes>"
            ],
            "image/png": "[encoded data removed]"
          },
          "metadata": {
            "needs_background": "light"
          }
        }
      ]
    },
    {
      "cell_type": "code",
      "source": [
        "# Poisson Distribution\n",
        "data_poisson = np.random.poisson(mean, 10000)\n",
        "\n",
        "plt.hist(data_poisson)"
      ],
      "metadata": {
        "colab": {
          "base_uri": "https://localhost:8080/",
          "height": 334
        },
        "id": "N3C6GsHcNm_8",
        "outputId": "c646b739-b5ad-44ab-bf83-bde26998f96b"
      },
      "execution_count": 36,
      "outputs": [
        {
          "output_type": "execute_result",
          "data": {
            "text/plain": [
              "(array([1978., 2156., 2265., 1741.,  983.,  525.,  218.,   98.,   27.,\n",
              "           9.]),\n",
              " array([ 0. ,  1.1,  2.2,  3.3,  4.4,  5.5,  6.6,  7.7,  8.8,  9.9, 11. ]),\n",
              " <a list of 10 Patch objects>)"
            ]
          },
          "metadata": {},
          "execution_count": 36
        },
        {
          "output_type": "display_data",
          "data": {
            "text/plain": [
              "<Figure size 432x288 with 1 Axes>"
            ],
            "image/png": "[encoded data removed]"
          },
          "metadata": {
            "needs_background": "light"
          }
        }
      ]
    },
    {
      "cell_type": "code",
      "source": [
        "# Binomial Distribution\n",
        "data_binom = np.random.binomial(mean, p, 500)\n",
        "\n",
        "plt.hist(data_binom)"
      ],
      "metadata": {
        "colab": {
          "base_uri": "https://localhost:8080/",
          "height": 317
        },
        "id": "kThszLgON-cC",
        "outputId": "70cd73de-f436-472d-89ff-d03d8c0b18e4"
      },
      "execution_count": 37,
      "outputs": [
        {
          "output_type": "execute_result",
          "data": {
            "text/plain": [
              "(array([135.,   0.,   0.,   0.,   0., 253.,   0.,   0.,   0., 112.]),\n",
              " array([0. , 0.2, 0.4, 0.6, 0.8, 1. , 1.2, 1.4, 1.6, 1.8, 2. ]),\n",
              " <a list of 10 Patch objects>)"
            ]
          },
          "metadata": {},
          "execution_count": 37
        },
        {
          "output_type": "display_data",
          "data": {
            "text/plain": [
              "<Figure size 432x288 with 1 Axes>"
            ],
            "image/png": "[encoded data removed]"
          },
          "metadata": {
            "needs_background": "light"
          }
        }
      ]
    },
    {
      "cell_type": "markdown",
      "source": [
        "## Confidence Interval\n",
        "\n",
        "**Kami akan membangun CI untuk proporsi populasi bangunan kelas tax (2)  saat penjualan di Queens.** Kita tidak membutuhkan semua kolom dalam dataset. Kita hanya akan menggunakan kolom 'borough' dan kolom 'tax_class_at_time_of_sale'."
      ],
      "metadata": {
        "id": "2A01oP8Z-a9t"
      }
    },
    {
      "cell_type": "code",
      "source": [
        "dx = df[['borough', 'tax_class_at_time_of_sale']].dropna()\n",
        "pd.crosstab(dx.borough, dx.tax_class_at_time_of_sale)"
      ],
      "metadata": {
        "colab": {
          "base_uri": "https://localhost:8080/",
          "height": 238
        },
        "id": "RbotN2JBAdGa",
        "outputId": "5e018fa4-aa7b-4186-93aa-f31c8ef21e86"
      },
      "execution_count": 22,
      "outputs": [
        {
          "output_type": "execute_result",
          "data": {
            "text/plain": [
              "tax_class_at_time_of_sale      1      2  3     4\n",
              "borough                                         \n",
              "1                            346  16449  1  1254\n",
              "2                           4367   2101  2   524\n",
              "3                          12564   9054  0  2225\n",
              "4                          16332   8395  0  1735\n",
              "5                           7503    423  0   349"
            ],
            "text/html": [
              "\n",
              "  <div id=\"df-c8a8a2d6-a3e2-447d-8a0d-5f5d1b6939df\">\n",
              "    <div class=\"colab-df-container\">\n",
              "      <div>\n",
              "<style scoped>\n",
              "    .dataframe tbody tr th:only-of-type {\n",
              "        vertical-align: middle;\n",
              "    }\n",
              "\n",
              "    .dataframe tbody tr th {\n",
              "        vertical-align: top;\n",
              "    }\n",
              "\n",
              "    .dataframe thead th {\n",
              "        text-align: right;\n",
              "    }\n",
              "</style>\n",
              "<table border=\"1\" class=\"dataframe\">\n",
              "  <thead>\n",
              "    <tr style=\"text-align: right;\">\n",
              "      <th>tax_class_at_time_of_sale</th>\n",
              "      <th>1</th>\n",
              "      <th>2</th>\n",
              "      <th>3</th>\n",
              "      <th>4</th>\n",
              "    </tr>\n",
              "    <tr>\n",
              "      <th>borough</th>\n",
              "      <th></th>\n",
              "      <th></th>\n",
              "      <th></th>\n",
              "      <th></th>\n",
              "    </tr>\n",
              "  </thead>\n",
              "  <tbody>\n",
              "    <tr>\n",
              "      <th>1</th>\n",
              "      <td>346</td>\n",
              "      <td>16449</td>\n",
              "      <td>1</td>\n",
              "      <td>1254</td>\n",
              "    </tr>\n",
              "    <tr>\n",
              "      <th>2</th>\n",
              "      <td>4367</td>\n",
              "      <td>2101</td>\n",
              "      <td>2</td>\n",
              "      <td>524</td>\n",
              "    </tr>\n",
              "    <tr>\n",
              "      <th>3</th>\n",
              "      <td>12564</td>\n",
              "      <td>9054</td>\n",
              "      <td>0</td>\n",
              "      <td>2225</td>\n",
              "    </tr>\n",
              "    <tr>\n",
              "      <th>4</th>\n",
              "      <td>16332</td>\n",
              "      <td>8395</td>\n",
              "      <td>0</td>\n",
              "      <td>1735</td>\n",
              "    </tr>\n",
              "    <tr>\n",
              "      <th>5</th>\n",
              "      <td>7503</td>\n",
              "      <td>423</td>\n",
              "      <td>0</td>\n",
              "      <td>349</td>\n",
              "    </tr>\n",
              "  </tbody>\n",
              "</table>\n",
              "</div>\n",
              "      <button class=\"colab-df-convert\" onclick=\"convertToInteractive('df-c8a8a2d6-a3e2-447d-8a0d-5f5d1b6939df')\"\n",
              "              title=\"Convert this dataframe to an interactive table.\"\n",
              "              style=\"display:none;\">\n",
              "        \n",
              "  <svg xmlns=\"http://www.w3.org/2000/svg\" height=\"24px\"viewBox=\"0 0 24 24\"\n",
              "       width=\"24px\">\n",
              "    <path d=\"M0 0h24v24H0V0z\" fill=\"none\"/>\n",
              "    <path d=\"M18.56 5.44l.94 2.06.94-2.06 2.06-.94-2.06-.94-.94-2.06-.94 2.06-2.06.94zm-11 1L8.5 8.5l.94-2.06 2.06-.94-2.06-.94L8.5 2.5l-.94 2.06-2.06.94zm10 10l.94 2.06.94-2.06 2.06-.94-2.06-.94-.94-2.06-.94 2.06-2.06.94z\"/><path d=\"M17.41 7.96l-1.37-1.37c-.4-.4-.92-.59-1.43-.59-.52 0-1.04.2-1.43.59L10.3 9.45l-7.72 7.72c-.78.78-.78 2.05 0 2.83L4 21.41c.39.39.9.59 1.41.59.51 0 1.02-.2 1.41-.59l7.78-7.78 2.81-2.81c.8-.78.8-2.07 0-2.86zM5.41 20L4 18.59l7.72-7.72 1.47 1.35L5.41 20z\"/>\n",
              "  </svg>\n",
              "      </button>\n",
              "      \n",
              "  <style>\n",
              "    .colab-df-container {\n",
              "      display:flex;\n",
              "      flex-wrap:wrap;\n",
              "      gap: 12px;\n",
              "    }\n",
              "\n",
              "    .colab-df-convert {\n",
              "      background-color: #E8F0FE;\n",
              "      border: none;\n",
              "      border-radius: 50%;\n",
              "      cursor: pointer;\n",
              "      display: none;\n",
              "      fill: #1967D2;\n",
              "      height: 32px;\n",
              "      padding: 0 0 0 0;\n",
              "      width: 32px;\n",
              "    }\n",
              "\n",
              "    .colab-df-convert:hover {\n",
              "      background-color: #E2EBFA;\n",
              "      box-shadow: 0px 1px 2px rgba(60, 64, 67, 0.3), 0px 1px 3px 1px rgba(60, 64, 67, 0.15);\n",
              "      fill: #174EA6;\n",
              "    }\n",
              "\n",
              "    [theme=dark] .colab-df-convert {\n",
              "      background-color: #3B4455;\n",
              "      fill: #D2E3FC;\n",
              "    }\n",
              "\n",
              "    [theme=dark] .colab-df-convert:hover {\n",
              "      background-color: #434B5C;\n",
              "      box-shadow: 0px 1px 3px 1px rgba(0, 0, 0, 0.15);\n",
              "      filter: drop-shadow(0px 1px 2px rgba(0, 0, 0, 0.3));\n",
              "      fill: #FFFFFF;\n",
              "    }\n",
              "  </style>\n",
              "\n",
              "      <script>\n",
              "        const buttonEl =\n",
              "          document.querySelector('#df-c8a8a2d6-a3e2-447d-8a0d-5f5d1b6939df button.colab-df-convert');\n",
              "        buttonEl.style.display =\n",
              "          google.colab.kernel.accessAllowed ? 'block' : 'none';\n",
              "\n",
              "        async function convertToInteractive(key) {\n",
              "          const element = document.querySelector('#df-c8a8a2d6-a3e2-447d-8a0d-5f5d1b6939df');\n",
              "          const dataTable =\n",
              "            await google.colab.kernel.invokeFunction('convertToInteractive',\n",
              "                                                     [key], {});\n",
              "          if (!dataTable) return;\n",
              "\n",
              "          const docLinkHtml = 'Like what you see? Visit the ' +\n",
              "            '<a target=\"_blank\" href=https://colab.research.google.com/notebooks/data_table.ipynb>data table notebook</a>'\n",
              "            + ' to learn more about interactive tables.';\n",
              "          element.innerHTML = '';\n",
              "          dataTable['output_type'] = 'display_data';\n",
              "          await google.colab.output.renderOutput(dataTable, element);\n",
              "          const docLink = document.createElement('div');\n",
              "          docLink.innerHTML = docLinkHtml;\n",
              "          element.appendChild(docLink);\n",
              "        }\n",
              "      </script>\n",
              "    </div>\n",
              "  </div>\n",
              "  "
            ]
          },
          "metadata": {},
          "execution_count": 22
        }
      ]
    },
    {
      "cell_type": "markdown",
      "source": [
        "Pemilik bangunan dengan kelas Tax (2) pada saat penjualan di Queens berjumlah 8395 orang."
      ],
      "metadata": {
        "id": "YWsSiOAYHs0o"
      }
    },
    {
      "cell_type": "code",
      "source": [
        "# Hitung proporsi pemilik bangunan dengan kelas Tax (2) pada saat penjualan di Queens.\n",
        "\n",
        "p_fm = 36442/(8395+36442)\n",
        "print(\"p_fm:\", p_fm)"
      ],
      "metadata": {
        "colab": {
          "base_uri": "https://localhost:8080/"
        },
        "id": "iHYAGJ4gDTfx",
        "outputId": "dc78d5b0-6f2e-4d3b-e1f2-a087f81cfc29"
      },
      "execution_count": 23,
      "outputs": [
        {
          "output_type": "stream",
          "name": "stdout",
          "text": [
            "p_fm: 0.8127662421660682\n"
          ]
        }
      ]
    },
    {
      "cell_type": "code",
      "source": [
        "''' Hitung jumlah populasi pemilik bangunan \n",
        "dengan kelas Tax (2) pada saat penjualan di Queens\n",
        "'''\n",
        "\n",
        "n = 8395+36442\n",
        "print(\"Jumlah populasi pemilik bangunan dengan kelas Tax (2) pada saat penjualan di Queens:\")\n",
        "print(n, \"orang\")"
      ],
      "metadata": {
        "colab": {
          "base_uri": "https://localhost:8080/"
        },
        "id": "hdUIm3imD_Gx",
        "outputId": "f28a443e-0dda-4dad-d2d0-b203ad2314b3"
      },
      "execution_count": 24,
      "outputs": [
        {
          "output_type": "stream",
          "name": "stdout",
          "text": [
            "Jumlah populasi pemilik bangunan dengan kelas Tax (2) pada saat penjualan di Queens:\n",
            "44837 orang\n"
          ]
        }
      ]
    },
    {
      "cell_type": "code",
      "source": [
        "# Hitung standard error\n",
        "\n",
        "se_queens = np.sqrt(p_fm * (1-p_fm) / n)\n",
        "print(\"Standard error:\", se_queens)"
      ],
      "metadata": {
        "colab": {
          "base_uri": "https://localhost:8080/"
        },
        "id": "Cr_mTpOkEE29",
        "outputId": "30c33e1d-b882-4a04-bca9-c6ffdb4a6f40"
      },
      "execution_count": 25,
      "outputs": [
        {
          "output_type": "stream",
          "name": "stdout",
          "text": [
            "Standard error: 0.0018422842197068766\n"
          ]
        }
      ]
    },
    {
      "cell_type": "markdown",
      "source": [
        "Sekarang buat CI!\n",
        "\n",
        " Z-score adalah 1.96 untuk confidence interval 95%."
      ],
      "metadata": {
        "id": "iyXcvismGvrI"
      }
    },
    {
      "cell_type": "code",
      "source": [
        "z_score = 1.96\n",
        "lcb = p_fm - z_score * se_queens #lower limit of the CI\n",
        "ucb = p_fm + z_score * se_queens #upper limit of the CI\n",
        "\n",
        "print(\"Confidence interval (CI)\")\n",
        "print(\"lower limit: \", lcb)\n",
        "print(\"upper limit: \", ucb)"
      ],
      "metadata": {
        "colab": {
          "base_uri": "https://localhost:8080/"
        },
        "id": "odpO9QioEklI",
        "outputId": "d7aa37bb-1714-4885-810d-7717c7120390"
      },
      "execution_count": 26,
      "outputs": [
        {
          "output_type": "stream",
          "name": "stdout",
          "text": [
            "Confidence interval (CI)\n",
            "lower limit:  0.8091553650954427\n",
            "upper limit:  0.8163771192366936\n"
          ]
        }
      ]
    },
    {
      "cell_type": "markdown",
      "source": [
        "## Hypothesis Testing"
      ],
      "metadata": {
        "id": "476_izZCrlKV"
      }
    },
    {
      "cell_type": "markdown",
      "source": [
        "Berapa proporsi populasi dari pemilik bangunan/unit bangunan di suatu kota.\n",
        "\n",
        "**Step 1: Menentukan hipotesis nol dan hipotesis alternatif.**\n",
        "\n",
        "Dalam permasalahan ini, null hypothesis adalah proporsi populasi yang memiliki bangunan/unit bangunan di suatu kota kurang dari atau sama dengan 20%.\n",
        "\n",
        "Dan hipotesis alternatifnya adalah proporsi penduduk suatu kota yang memiliki bangunan/unit bangunan lebih dari 20%."
      ],
      "metadata": {
        "id": "FzmqH9u0yTtg"
      }
    },
    {
      "cell_type": "code",
      "source": [
        "'''\n",
        "H0: p0 = 0.20 # null hypothesis\n",
        "Ha: p > 0.20  # alternative hypothesis\n",
        "'''"
      ],
      "metadata": {
        "colab": {
          "base_uri": "https://localhost:8080/",
          "height": 35
        },
        "id": "A9XWhj67zlrH",
        "outputId": "1d45b7dd-8e68-4ff5-a34f-f3a73efb6f9a"
      },
      "execution_count": 27,
      "outputs": [
        {
          "output_type": "execute_result",
          "data": {
            "text/plain": [
              "'\\nH0: p0 = 0.20 # null hypothesis\\nHa: p > 0.20  # alternative hypothesis\\n'"
            ],
            "application/vnd.google.colaboratory.intrinsic+json": {
              "type": "string"
            }
          },
          "metadata": {},
          "execution_count": 27
        }
      ]
    },
    {
      "cell_type": "markdown",
      "source": [
        "Mari kita lihat apakah kita dapat menemukan bukti untuk reject the null hypothesis.\n",
        "\n",
        "**Step 2**"
      ],
      "metadata": {
        "id": "xHU4n09dz4DK"
      }
    },
    {
      "cell_type": "code",
      "source": [
        "# Population proportion sample\n",
        "p_bor1 = len(df[df['borough']==1])/len(df)\n",
        "p_bor2 = len(df[df['borough']==2])/len(df)\n",
        "p_bor3 = len(df[df['borough']==3])/len(df)\n",
        "p_bor4 = len(df[df['borough']==4])/len(df)\n",
        "p_bor5 = len(df[df['borough']==5])/len(df)\n",
        "\n",
        "print(\"Manhattan: \", p_bor1)\n",
        "print(\"Bronx: \", p_bor2)\n",
        "print(\"Brooklyn: \", p_bor3)\n",
        "print(\"Queens: \", p_bor4)\n",
        "print(\"Staten Island: \", p_bor5)"
      ],
      "metadata": {
        "colab": {
          "base_uri": "https://localhost:8080/"
        },
        "id": "Zn7m_BdRroCQ",
        "outputId": "4ab992f9-ca0e-46d8-96e3-e6e5451cca12"
      },
      "execution_count": 28,
      "outputs": [
        {
          "output_type": "stream",
          "name": "stdout",
          "text": [
            "Manhattan:  0.2158471252272075\n",
            "Bronx:  0.08363627666698556\n",
            "Brooklyn:  0.28512149622118055\n",
            "Queens:  0.3164402563857266\n",
            "Staten Island:  0.09895484549889984\n"
          ]
        }
      ]
    },
    {
      "cell_type": "markdown",
      "source": [
        "Proporsi populasi sampel di Queens yang memiliki bangunan/unit bangunan adalah **0.31 atau 31%**. Persentase ini lebih dari null hypothesis, yaitu 20%.\n",
        "\n",
        "Tetapi pertanyaannya adalah apakah secara signifikan lebih dari 20%. Jika kita mengambil sample acak yang berbeda, proporsi populasi yang diamati saat ini (31%) bisa berbeda.\n",
        "\n",
        "Untuk mengetahui apakah proporsi populasi yang diamati secara signifikan lebih dari null hypothesis, lakukan hypothesis test.\n",
        "\n",
        "**Step 3: Hitung Statistik Uji**"
      ],
      "metadata": {
        "id": "meFXrM2t03bL"
      }
    },
    {
      "cell_type": "code",
      "source": [
        "# Calculate the Test Statistic\n",
        "se = np.sqrt(0.20 * (1-0.20) / len(df))\n",
        "\n",
        "# Best estimate\n",
        "be = p_bor4\n",
        "\n",
        "# hypothesized estimate\n",
        "he = 0.20\n",
        "test_stat = (be-he)/se\n",
        "\n",
        "print(\"Hasil statistik uji adalah\", test_stat)"
      ],
      "metadata": {
        "colab": {
          "base_uri": "https://localhost:8080/"
        },
        "id": "8aNBkhNDxS4K",
        "outputId": "d4fa2875-3c5a-481c-e861-85beaf7747e2"
      },
      "execution_count": 29,
      "outputs": [
        {
          "output_type": "stream",
          "name": "stdout",
          "text": [
            "Hasil statistik uji adalah 84.17994359106184\n"
          ]
        }
      ]
    },
    {
      "cell_type": "markdown",
      "source": [
        "**Step 4: Hitung nilai p**"
      ],
      "metadata": {
        "id": "01A3rk2P2Y3-"
      }
    },
    {
      "cell_type": "code",
      "source": [
        "pvalue = 2*dist.norm.cdf(-np.abs(test_stat))\n",
        "print(\"p-value adalah\", pvalue)"
      ],
      "metadata": {
        "colab": {
          "base_uri": "https://localhost:8080/"
        },
        "id": "dVQ90oPu2cmI",
        "outputId": "9e41ec6e-77cf-450f-b69d-91c569571610"
      },
      "execution_count": 30,
      "outputs": [
        {
          "output_type": "stream",
          "name": "stdout",
          "text": [
            "p-value adalah 0.0\n"
          ]
        }
      ]
    },
    {
      "cell_type": "markdown",
      "source": [
        "**Step 5: Simpulkan kesimpulan dari nilai p**\n",
        "\n",
        "Pertimbangkan significance level alpha adalah 5% atau 0.05. Tingkat signifikansi 5% atau kurang berarti ada kemungkinan 95% atau lebih besar bahwa hasilnya tidak acak.\n",
        "\n",
        "Di sini p-value lebih tinggi dari significance level yang kita tentukan yaitu 0.05, Jadi kita terima the null hypothesis. Artinya, tidak terdapat perbedaan yang signifikan dalam proporsi penduduk yang memiliki bangunan/unit bangunan di suatu kota."
      ],
      "metadata": {
        "id": "ctBYeYvw2qXk"
      }
    }
  ]
}