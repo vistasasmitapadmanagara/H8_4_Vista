{
 "cells": [
  {
   "cell_type": "markdown",
   "id": "d0a78498",
   "metadata": {},
   "source": [
    "## Simple Syntax"
   ]
  },
  {
   "cell_type": "code",
   "execution_count": 1,
   "id": "305f7520",
   "metadata": {},
   "outputs": [
    {
     "name": "stdout",
     "output_type": "stream",
     "text": [
      "2\n"
     ]
    }
   ],
   "source": [
    "print(1+1)"
   ]
  },
  {
   "cell_type": "code",
   "execution_count": 28,
   "id": "92126e17",
   "metadata": {},
   "outputs": [
    {
     "name": "stdout",
     "output_type": "stream",
     "text": [
      "0.2\n",
      "0.00042\n"
     ]
    }
   ],
   "source": [
    "print(.2)\n",
    "print(4.2e-4)"
   ]
  },
  {
   "cell_type": "code",
   "execution_count": 8,
   "id": "3870a8f1",
   "metadata": {},
   "outputs": [
    {
     "name": "stdout",
     "output_type": "stream",
     "text": [
      "1\n",
      "<class 'int'>\n",
      "<class 'float'>\n",
      "<class 'bool'>\n",
      "<class 'str'>\n",
      "<class 'str'>\n",
      "<class 'str'>\n"
     ]
    }
   ],
   "source": [
    "print(1)\n",
    "print(type(1))\n",
    "print(type(1.2))\n",
    "print(type(True))\n",
    "print(type(\"aku\"))\n",
    "print(type('2'))\n",
    "print(type(\"2\"))"
   ]
  },
  {
   "cell_type": "code",
   "execution_count": 14,
   "id": "92a23bff",
   "metadata": {},
   "outputs": [
    {
     "name": "stdout",
     "output_type": "stream",
     "text": [
      "6.28\n"
     ]
    }
   ],
   "source": [
    "phi=3.14\n",
    "print(2*phi)"
   ]
  },
  {
   "cell_type": "code",
   "execution_count": 29,
   "id": "d7e824b3",
   "metadata": {},
   "outputs": [
    {
     "name": "stdout",
     "output_type": "stream",
     "text": [
      "hacktiv8\n",
      "<class 'str'>\n"
     ]
    }
   ],
   "source": [
    "print(\"hacktiv8\")\n",
    "print(type(\"hacktiv8\"))"
   ]
  },
  {
   "cell_type": "code",
   "execution_count": 26,
   "id": "da51ab24",
   "metadata": {},
   "outputs": [
    {
     "name": "stdout",
     "output_type": "stream",
     "text": [
      "0.5\n",
      "300 300\n"
     ]
    }
   ],
   "source": [
    "a=t=300\n",
    "segitiga=(((1/2)*t)/a)\n",
    "\n",
    "print(segitiga)\n",
    "print(a,t)"
   ]
  },
  {
   "cell_type": "code",
   "execution_count": 31,
   "id": "6cca0afc",
   "metadata": {},
   "outputs": [
    {
     "data": {
      "text/plain": [
       "600"
      ]
     },
     "execution_count": 31,
     "metadata": {},
     "output_type": "execute_result"
    }
   ],
   "source": [
    "a+t"
   ]
  },
  {
   "cell_type": "code",
   "execution_count": 32,
   "id": "2c22e348",
   "metadata": {},
   "outputs": [
    {
     "data": {
      "text/plain": [
       "590"
      ]
     },
     "execution_count": 32,
     "metadata": {},
     "output_type": "execute_result"
    }
   ],
   "source": [
    "a+t-10"
   ]
  },
  {
   "cell_type": "code",
   "execution_count": 33,
   "id": "1ab9bd0c",
   "metadata": {},
   "outputs": [
    {
     "data": {
      "text/plain": [
       "90000"
      ]
     },
     "execution_count": 33,
     "metadata": {},
     "output_type": "execute_result"
    }
   ],
   "source": [
    "a*t"
   ]
  },
  {
   "cell_type": "code",
   "execution_count": 34,
   "id": "37acb21e",
   "metadata": {},
   "outputs": [
    {
     "data": {
      "text/plain": [
       "True"
      ]
     },
     "execution_count": 34,
     "metadata": {},
     "output_type": "execute_result"
    }
   ],
   "source": [
    "a==t"
   ]
  },
  {
   "cell_type": "code",
   "execution_count": 35,
   "id": "6de6015b",
   "metadata": {},
   "outputs": [
    {
     "data": {
      "text/plain": [
       "False"
      ]
     },
     "execution_count": 35,
     "metadata": {},
     "output_type": "execute_result"
    }
   ],
   "source": [
    "a!=t"
   ]
  },
  {
   "cell_type": "code",
   "execution_count": 36,
   "id": "4e1e6be0",
   "metadata": {},
   "outputs": [],
   "source": [
    "b = 3"
   ]
  },
  {
   "cell_type": "code",
   "execution_count": 37,
   "id": "b78f9a21",
   "metadata": {},
   "outputs": [
    {
     "data": {
      "text/plain": [
       "True"
      ]
     },
     "execution_count": 37,
     "metadata": {},
     "output_type": "execute_result"
    }
   ],
   "source": [
    "b!=t"
   ]
  },
  {
   "cell_type": "code",
   "execution_count": 38,
   "id": "e6af4ad5",
   "metadata": {},
   "outputs": [
    {
     "data": {
      "text/plain": [
       "True"
      ]
     },
     "execution_count": 38,
     "metadata": {},
     "output_type": "execute_result"
    }
   ],
   "source": [
    "b<=a"
   ]
  },
  {
   "cell_type": "code",
   "execution_count": 39,
   "id": "22ef05c4",
   "metadata": {},
   "outputs": [
    {
     "data": {
      "text/plain": [
       "False"
      ]
     },
     "execution_count": 39,
     "metadata": {},
     "output_type": "execute_result"
    }
   ],
   "source": [
    "b>=t"
   ]
  },
  {
   "cell_type": "code",
   "execution_count": 7,
   "id": "379464d7",
   "metadata": {},
   "outputs": [
    {
     "name": "stdout",
     "output_type": "stream",
     "text": [
      "lainai\n",
      "lailailailai\n"
     ]
    }
   ],
   "source": [
    "r = \"lai\"\n",
    "q = \"nai\"\n",
    "\n",
    "print(r+q)\n",
    "print(r*4)"
   ]
  },
  {
   "cell_type": "code",
   "execution_count": 6,
   "id": "1351503f",
   "metadata": {},
   "outputs": [
    {
     "name": "stdout",
     "output_type": "stream",
     "text": [
      "naia\n",
      "laia\n"
     ]
    }
   ],
   "source": [
    "print('nai'+'a')\n",
    "print(\"lai\"+\"a\")"
   ]
  },
  {
   "cell_type": "code",
   "execution_count": 8,
   "id": "dc6ddeb9",
   "metadata": {},
   "outputs": [
    {
     "name": "stdout",
     "output_type": "stream",
     "text": [
      "True\n",
      "False\n",
      "True\n",
      "False\n"
     ]
    }
   ],
   "source": [
    "r = \"lai\"\n",
    "q = \"ta\"\n",
    "\n",
    "print(r in 'laia')\n",
    "print(r in 'vista')\n",
    "print(q in 'vista')\n",
    "print(q in 'laia')"
   ]
  },
  {
   "cell_type": "code",
   "execution_count": 56,
   "id": "7b25b8c7",
   "metadata": {},
   "outputs": [
    {
     "name": "stdout",
     "output_type": "stream",
     "text": [
      "Vista cantik\n",
      "vista cantik\n",
      "VISTA CANTIK\n",
      "Vista Cantik\n",
      "VISTA CANTIK\n"
     ]
    }
   ],
   "source": [
    "a = \"vista cantik\"\n",
    "\n",
    "print(a.capitalize())\n",
    "print(a.lower())\n",
    "print(a.swapcase())\n",
    "print(a.title())\n",
    "print(a.upper())\n"
   ]
  },
  {
   "cell_type": "markdown",
   "id": "fc3893c5",
   "metadata": {},
   "source": [
    "## LIST"
   ]
  },
  {
   "cell_type": "code",
   "execution_count": 10,
   "id": "bed609cf",
   "metadata": {
    "scrolled": true
   },
   "outputs": [
    {
     "name": "stdout",
     "output_type": "stream",
     "text": [
      "['lai', 'ya', 'vis', 'ta']\n",
      "False\n",
      "[21, 0.1, 'vis', 21, 0.7]\n",
      "lai\n",
      "vi\n",
      "0.7\n",
      "ta\n",
      "la\n",
      "21\n",
      "['vis', 21, 0.7]\n",
      "['lai', 'ya', 'vis', 'ta', 'lai', 'ya', 'vis', 'ta']\n",
      "['lai', 'ya', 'vis', 'ta', 'cin', 'cin']\n"
     ]
    }
   ],
   "source": [
    "a=['lai','ya','vis','ta']\n",
    "b=['la','la','vi','vi']\n",
    "c=[21,.1,'vis',21,.7]\n",
    "\n",
    "print(a)\n",
    "print(a==b)\n",
    "print(c)\n",
    "\n",
    "print(a[0])\n",
    "print(b[2])\n",
    "print(c[4])\n",
    "\n",
    "print(a[-1])\n",
    "print(b[-3])\n",
    "print(c[-5])\n",
    "\n",
    "print(c[2:5])\n",
    "\n",
    "print(a*2)\n",
    "print(a+['cin', 'cin'])"
   ]
  },
  {
   "cell_type": "code",
   "execution_count": 11,
   "id": "d1f4f768",
   "metadata": {},
   "outputs": [
    {
     "name": "stdout",
     "output_type": "stream",
     "text": [
      "5\n",
      "la\n",
      "ya\n"
     ]
    }
   ],
   "source": [
    "print(len(c))\n",
    "print(min(b))\n",
    "print(max(a))"
   ]
  },
  {
   "cell_type": "code",
   "execution_count": 12,
   "id": "8c258aa3",
   "metadata": {},
   "outputs": [
    {
     "name": "stdout",
     "output_type": "stream",
     "text": [
      "['lai', 'ya', 'ta']\n"
     ]
    }
   ],
   "source": [
    "del(a[2])\n",
    "print (a)"
   ]
  },
  {
   "cell_type": "markdown",
   "id": "b45c09fc",
   "metadata": {},
   "source": [
    "## Tuple"
   ]
  },
  {
   "cell_type": "code",
   "execution_count": 13,
   "id": "22832fb5",
   "metadata": {},
   "outputs": [
    {
     "name": "stdout",
     "output_type": "stream",
     "text": [
      "(1, 2, 'vis', 'ta')\n",
      "(2, 'vis', 'ta')\n"
     ]
    }
   ],
   "source": [
    "a = (1, 2, 'vis', 'ta')\n",
    "print(a)\n",
    "\n",
    "print(a[1:4])"
   ]
  },
  {
   "cell_type": "markdown",
   "id": "49289e0b",
   "metadata": {},
   "source": [
    "## Dictionary"
   ]
  },
  {
   "cell_type": "code",
   "execution_count": 2,
   "id": "19812086",
   "metadata": {},
   "outputs": [
    {
     "name": "stdout",
     "output_type": "stream",
     "text": [
      "{'naia': 'vista', 'laia': 'sasmita'}\n",
      "vista\n",
      "{'naia': 'vista', 'laia': 'chay'}\n"
     ]
    }
   ],
   "source": [
    "rv_team = {'naia': 'vista', 'laia': 'sasmita'}\n",
    "\n",
    "print(rv_team)\n",
    "print(rv_team['naia'])\n",
    "\n",
    "rv_team['laia'] = 'chay'\n",
    "print(rv_team)"
   ]
  },
  {
   "cell_type": "code",
   "execution_count": 4,
   "id": "749be38f",
   "metadata": {},
   "outputs": [
    {
     "name": "stdout",
     "output_type": "stream",
     "text": [
      "{'naia': 'vista'}\n"
     ]
    }
   ],
   "source": [
    "del rv_team['laia']\n",
    "\n",
    "print (rv_team)"
   ]
  },
  {
   "cell_type": "code",
   "execution_count": null,
   "id": "0b743cd5",
   "metadata": {},
   "outputs": [],
   "source": []
  }
 ],
 "metadata": {
  "kernelspec": {
   "display_name": "Python 3 (ipykernel)",
   "language": "python",
   "name": "python3"
  },
  "language_info": {
   "codemirror_mode": {
    "name": "ipython",
    "version": 3
   },
   "file_extension": ".py",
   "mimetype": "text/x-python",
   "name": "python",
   "nbconvert_exporter": "python",
   "pygments_lexer": "ipython3",
   "version": "3.9.7"
  }
 },
 "nbformat": 4,
 "nbformat_minor": 5
}
