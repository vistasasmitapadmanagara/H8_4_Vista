{
 "cells": [
  {
   "cell_type": "markdown",
   "id": "93e3de3c",
   "metadata": {},
   "source": [
    "# Flow & Looping"
   ]
  },
  {
   "cell_type": "markdown",
   "id": "1c6a7043",
   "metadata": {},
   "source": [
    "## Conditional : Introduction to the if Statement"
   ]
  },
  {
   "cell_type": "code",
   "execution_count": 1,
   "id": "5794597f",
   "metadata": {},
   "outputs": [],
   "source": [
    "a = 10\n",
    "b = -2\n",
    "\n",
    "if a<b:\n",
    "    print('Benar!')"
   ]
  },
  {
   "cell_type": "code",
   "execution_count": 2,
   "id": "6fafdb20",
   "metadata": {},
   "outputs": [
    {
     "name": "stdout",
     "output_type": "stream",
     "text": [
      "Benar!\n"
     ]
    }
   ],
   "source": [
    "if a>b:\n",
    "    print('Benar!')"
   ]
  },
  {
   "cell_type": "code",
   "execution_count": 3,
   "id": "57bc6953",
   "metadata": {},
   "outputs": [],
   "source": [
    "if a<=b:\n",
    "    print('Benar!')"
   ]
  },
  {
   "cell_type": "code",
   "execution_count": 4,
   "id": "866c324a",
   "metadata": {},
   "outputs": [
    {
     "name": "stdout",
     "output_type": "stream",
     "text": [
      "Benar!\n"
     ]
    }
   ],
   "source": [
    "if a>=b:\n",
    "    print('Benar!')"
   ]
  },
  {
   "cell_type": "code",
   "execution_count": 5,
   "id": "49deb1df",
   "metadata": {},
   "outputs": [],
   "source": [
    "if a==b:\n",
    "    print('Benar!')"
   ]
  },
  {
   "cell_type": "code",
   "execution_count": 6,
   "id": "ca94e104",
   "metadata": {},
   "outputs": [
    {
     "name": "stdout",
     "output_type": "stream",
     "text": [
      "Benar!\n"
     ]
    }
   ],
   "source": [
    "if a!=b:\n",
    "    print('Benar!')"
   ]
  },
  {
   "cell_type": "code",
   "execution_count": 7,
   "id": "3bf460b8",
   "metadata": {},
   "outputs": [],
   "source": [
    "if a is b:\n",
    "    print('Benar!')"
   ]
  },
  {
   "cell_type": "code",
   "execution_count": 8,
   "id": "987005af",
   "metadata": {},
   "outputs": [
    {
     "name": "stdout",
     "output_type": "stream",
     "text": [
      "Benar!\n"
     ]
    }
   ],
   "source": [
    "if a is not b:\n",
    "    print('Benar!')"
   ]
  },
  {
   "cell_type": "markdown",
   "id": "e320d539",
   "metadata": {},
   "source": [
    "## Indentation"
   ]
  },
  {
   "cell_type": "code",
   "execution_count": 13,
   "id": "d04bc857",
   "metadata": {},
   "outputs": [
    {
     "name": "stdout",
     "output_type": "stream",
     "text": [
      "Quit\n"
     ]
    }
   ],
   "source": [
    "if 'ni' in ['laia', 'naia', 'vista']:\n",
    "    print('Tepat!')\n",
    "    print('Wokee')\n",
    "    print('...')\n",
    "    print('Done')\n",
    "    \n",
    "print('Quit')"
   ]
  },
  {
   "cell_type": "code",
   "execution_count": 12,
   "id": "e7b61763",
   "metadata": {},
   "outputs": [
    {
     "name": "stdout",
     "output_type": "stream",
     "text": [
      "Tepat!\n",
      "Wokee\n",
      "...\n",
      "Done\n",
      "Quit\n"
     ]
    }
   ],
   "source": [
    "if 'laia' in ['laia', 'naia', 'vista']:\n",
    "    print('Tepat!')\n",
    "    print('Wokee')\n",
    "    print('...')\n",
    "    print('Done')\n",
    "    \n",
    "print('Quit')"
   ]
  },
  {
   "cell_type": "code",
   "execution_count": 17,
   "id": "714177f6",
   "metadata": {},
   "outputs": [
    {
     "name": "stdout",
     "output_type": "stream",
     "text": [
      "Sippp\n",
      "true\n",
      "Yep\n",
      "kodisi selesai\n",
      "Quit\n"
     ]
    }
   ],
   "source": [
    "if 'laia' in ['laia', 'naia', 'vista']:\n",
    "    print('Sippp')\n",
    "    \n",
    "    if 20>10:\n",
    "        print('true')\n",
    "        \n",
    "    if 10==10:\n",
    "        print('Yep')\n",
    "        \n",
    "    print('kodisi selesai')\n",
    "print('Quit')"
   ]
  },
  {
   "cell_type": "code",
   "execution_count": 22,
   "id": "21855fb5",
   "metadata": {},
   "outputs": [
    {
     "name": "stdout",
     "output_type": "stream",
     "text": [
      "true\n"
     ]
    }
   ],
   "source": [
    "a = 10\n",
    "b = 20\n",
    "c = a-b\n",
    "\n",
    "if c<=a:\n",
    "    print('true')\n",
    "else:\n",
    "    print('false')"
   ]
  },
  {
   "cell_type": "code",
   "execution_count": 26,
   "id": "bdd8f7d6",
   "metadata": {},
   "outputs": [
    {
     "name": "stdout",
     "output_type": "stream",
     "text": [
      "kamu siapa?\n"
     ]
    }
   ],
   "source": [
    "nama = 'vista'\n",
    "\n",
    "if nama == 'laia':\n",
    "    print('Hola Laia!')\n",
    "elif nama == 'naia':\n",
    "    print('Hola Naia!')\n",
    "else:\n",
    "    print('kamu siapa?')"
   ]
  },
  {
   "cell_type": "markdown",
   "id": "efeab80c",
   "metadata": {},
   "source": [
    "## Conditional Expressions: Ternary Operator"
   ]
  },
  {
   "cell_type": "code",
   "execution_count": 36,
   "id": "275118ab",
   "metadata": {},
   "outputs": [
    {
     "name": "stdout",
     "output_type": "stream",
     "text": [
      "main ke puncak, yuk!\n"
     ]
    }
   ],
   "source": [
    "macet = False\n",
    "print(\"main ke\", 'puncak, yuk!' if not macet else 'mall aja, yuk!')"
   ]
  },
  {
   "cell_type": "code",
   "execution_count": 37,
   "id": "ffdd0b57",
   "metadata": {},
   "outputs": [
    {
     "name": "stdout",
     "output_type": "stream",
     "text": [
      "main ke mall aja, yuk!\n"
     ]
    }
   ],
   "source": [
    "macet = True\n",
    "print(\"main ke\", 'puncak!' if not macet else 'mall aja, yuk!')"
   ]
  },
  {
   "cell_type": "code",
   "execution_count": 38,
   "id": "e691d0f3",
   "metadata": {},
   "outputs": [
    {
     "data": {
      "text/plain": [
       "'yes'"
      ]
     },
     "execution_count": 38,
     "metadata": {},
     "output_type": "execute_result"
    }
   ],
   "source": [
    "'yes' if ('laia' in ['vista','naia','laia']) else 'no'"
   ]
  },
  {
   "cell_type": "code",
   "execution_count": 41,
   "id": "5f8cd2b2",
   "metadata": {},
   "outputs": [
    {
     "name": "stdout",
     "output_type": "stream",
     "text": [
      "20\n"
     ]
    }
   ],
   "source": [
    "a=10\n",
    "b=20\n",
    "\n",
    "if a>b:\n",
    "    m=a\n",
    "else:\n",
    "    m=b\n",
    "    \n",
    "print(m)"
   ]
  },
  {
   "cell_type": "markdown",
   "id": "60c4e966",
   "metadata": {},
   "source": [
    "## Pass Statement"
   ]
  },
  {
   "cell_type": "code",
   "execution_count": 47,
   "id": "7ee0a6c9",
   "metadata": {},
   "outputs": [
    {
     "ename": "IndentationError",
     "evalue": "expected an indented block (Temp/ipykernel_39788/3367160564.py, line 3)",
     "output_type": "error",
     "traceback": [
      "\u001b[1;36m  File \u001b[1;32m\"C:\\Users\\Lenovo\\AppData\\Local\\Temp/ipykernel_39788/3367160564.py\"\u001b[1;36m, line \u001b[1;32m3\u001b[0m\n\u001b[1;33m    print('foo')\u001b[0m\n\u001b[1;37m    ^\u001b[0m\n\u001b[1;31mIndentationError\u001b[0m\u001b[1;31m:\u001b[0m expected an indented block\n"
     ]
    }
   ],
   "source": [
    "if True:\n",
    "\n",
    "print('foo')"
   ]
  },
  {
   "cell_type": "code",
   "execution_count": 48,
   "id": "57acca43",
   "metadata": {},
   "outputs": [
    {
     "name": "stdout",
     "output_type": "stream",
     "text": [
      "foo\n"
     ]
    }
   ],
   "source": [
    "if True:\n",
    "    pass\n",
    "\n",
    "print('foo')"
   ]
  },
  {
   "cell_type": "markdown",
   "id": "4ab34299",
   "metadata": {},
   "source": [
    "## While"
   ]
  },
  {
   "cell_type": "code",
   "execution_count": 1,
   "id": "107c2ca7",
   "metadata": {},
   "outputs": [
    {
     "name": "stdout",
     "output_type": "stream",
     "text": [
      "main ular piton di Zoo\n",
      "main ular piton di Zoo\n",
      "main ular piton di Zoo\n",
      "main ular piton di Zoo\n",
      "main ular piton di Zoo\n"
     ]
    }
   ],
   "source": [
    "i = 1\n",
    "\n",
    "while i <= 5:\n",
    "    print('main ular piton di Zoo')\n",
    "    i += 1"
   ]
  },
  {
   "cell_type": "code",
   "execution_count": 3,
   "id": "f2bded1b",
   "metadata": {},
   "outputs": [
    {
     "name": "stdout",
     "output_type": "stream",
     "text": [
      "4\n",
      "3\n",
      "2\n",
      "1\n",
      "0\n"
     ]
    }
   ],
   "source": [
    "n = 5\n",
    "\n",
    "while n > 0:\n",
    "    n -=1\n",
    "    print(n)"
   ]
  },
  {
   "cell_type": "code",
   "execution_count": 1,
   "id": "b6daa8ff",
   "metadata": {},
   "outputs": [
    {
     "name": "stdout",
     "output_type": "stream",
     "text": [
      "6\n",
      "7\n",
      "8\n",
      "9\n",
      "10\n",
      "done\n"
     ]
    }
   ],
   "source": [
    "n = 5\n",
    "\n",
    "while n>0:\n",
    "    n+=1\n",
    "    print(n)\n",
    "    if n == 10:\n",
    "        break\n",
    "print('done')"
   ]
  },
  {
   "cell_type": "markdown",
   "id": "4a27ab37",
   "metadata": {},
   "source": [
    "## The else Clause"
   ]
  },
  {
   "cell_type": "code",
   "execution_count": 4,
   "id": "753c9793",
   "metadata": {},
   "outputs": [
    {
     "name": "stdout",
     "output_type": "stream",
     "text": [
      "4\n",
      "3\n",
      "2\n",
      "1\n",
      "0\n",
      "Done\n"
     ]
    }
   ],
   "source": [
    "n = 5\n",
    "while n > 0:\n",
    "    n-=1\n",
    "    print(n)\n",
    "else:\n",
    "    print('Done')"
   ]
  },
  {
   "cell_type": "code",
   "execution_count": 5,
   "id": "b74e88e5",
   "metadata": {},
   "outputs": [
    {
     "name": "stdout",
     "output_type": "stream",
     "text": [
      "4\n",
      "3\n",
      "2\n"
     ]
    }
   ],
   "source": [
    "n = 5\n",
    "while n > 0:\n",
    "    n-=1\n",
    "    print(n)\n",
    "    if n==2:\n",
    "        break\n",
    "else:\n",
    "    print('Done')"
   ]
  },
  {
   "cell_type": "markdown",
   "id": "ed1a019d",
   "metadata": {},
   "source": [
    "### Nested While Loops"
   ]
  },
  {
   "cell_type": "code",
   "execution_count": 12,
   "id": "023f0fcd",
   "metadata": {},
   "outputs": [
    {
     "name": "stdout",
     "output_type": "stream",
     "text": [
      "mother\n"
     ]
    }
   ],
   "source": [
    "age = 35\n",
    "gender = 'F'\n",
    "\n",
    "if age < 18:\n",
    "    if gender == 'M':\n",
    "        print('son')\n",
    "    else:\n",
    "        print('daughter')\n",
    "elif age >= 18 and age < 65:\n",
    "    if gender =='M':\n",
    "        print('father')\n",
    "    else:\n",
    "        print('mother')\n",
    "else: \n",
    "    if gender == 'M':\n",
    "        print('grandpa')\n",
    "    else:\n",
    "        print('grandma')"
   ]
  },
  {
   "cell_type": "code",
   "execution_count": 13,
   "id": "e70e6bdc",
   "metadata": {},
   "outputs": [
    {
     "name": "stdout",
     "output_type": "stream",
     "text": [
      "foo\n",
      "=> baz\n",
      "=> qux\n",
      "bar\n",
      "=> baz\n",
      "=> qux\n"
     ]
    }
   ],
   "source": [
    "a = ['foo', 'bar']\n",
    "\n",
    "while len(a):\n",
    "    print(a.pop(0))\n",
    "    \n",
    "    b = ['baz', 'qux']\n",
    "    \n",
    "    while len(b):\n",
    "        print('=>', b.pop(0))"
   ]
  },
  {
   "cell_type": "code",
   "execution_count": 17,
   "id": "95967055",
   "metadata": {},
   "outputs": [
    {
     "name": "stdout",
     "output_type": "stream",
     "text": [
      "foo\n",
      "bar\n",
      "=> baz\n",
      "=> qux\n"
     ]
    }
   ],
   "source": [
    "a = ['foo', 'bar']\n",
    "\n",
    "while len(a):\n",
    "    print(a.pop(0))\n",
    "    \n",
    "b = ['baz', 'qux']\n",
    "    \n",
    "while len(b):\n",
    "    print('=>', b.pop(0))"
   ]
  },
  {
   "cell_type": "code",
   "execution_count": 14,
   "id": "841c3fcd",
   "metadata": {},
   "outputs": [
    {
     "name": "stdout",
     "output_type": "stream",
     "text": [
      "foo\n",
      "bar\n"
     ]
    }
   ],
   "source": [
    "a = ['foo', 'bar']\n",
    "\n",
    "while len(a):\n",
    "    print(a.pop(0))"
   ]
  },
  {
   "cell_type": "code",
   "execution_count": 16,
   "id": "3aad1293",
   "metadata": {},
   "outputs": [
    {
     "name": "stdout",
     "output_type": "stream",
     "text": [
      "=> baz\n",
      "=> qux\n"
     ]
    }
   ],
   "source": [
    "b = ['baz', 'qux']\n",
    "    \n",
    "while len(b):\n",
    "    print('=>', b.pop(0))"
   ]
  },
  {
   "cell_type": "markdown",
   "id": "3b36eefb",
   "metadata": {},
   "source": [
    "### if artinya jika\n",
    "### while artinya ketika\n",
    "### if untuk percabangan\n",
    "### while untuk pengulangan"
   ]
  },
  {
   "cell_type": "code",
   "execution_count": 18,
   "id": "11e12bc3",
   "metadata": {},
   "outputs": [
    {
     "name": "stdout",
     "output_type": "stream",
     "text": [
      "2  is prime\n",
      "3  is prime\n",
      "5  is prime\n",
      "7  is prime\n",
      "11  is prime\n",
      "13  is prime\n",
      "17  is prime\n",
      "19  is prime\n",
      "23  is prime\n",
      "29  is prime\n",
      "31  is prime\n",
      "37  is prime\n",
      "41  is prime\n",
      "43  is prime\n",
      "47  is prime\n",
      "53  is prime\n",
      "59  is prime\n",
      "61  is prime\n",
      "67  is prime\n",
      "71  is prime\n",
      "73  is prime\n",
      "79  is prime\n",
      "83  is prime\n",
      "89  is prime\n",
      "97  is prime\n",
      "Good bye!\n"
     ]
    }
   ],
   "source": [
    "i = 2\n",
    "while(i < 100):\n",
    "    j = 2\n",
    "    while(j <= (i/j)):\n",
    "        if not(i%j): break\n",
    "        j = j + 1\n",
    "    if (j > i/j) : print(i, \" is prime\")\n",
    "    i = i + 1\n",
    "\n",
    "print(\"Good bye!\")"
   ]
  },
  {
   "cell_type": "code",
   "execution_count": 21,
   "id": "492007a5",
   "metadata": {},
   "outputs": [
    {
     "name": "stdout",
     "output_type": "stream",
     "text": [
      "Jakarta\n",
      "--> Taman\n",
      "--> Lapangan\n",
      "--> Mall\n",
      "Surabaya\n",
      "--> Taman\n",
      "--> Lapangan\n",
      "--> Mall\n",
      "Makassar\n",
      "--> Taman\n",
      "--> Lapangan\n",
      "--> Mall\n"
     ]
    }
   ],
   "source": [
    "listKota = [\n",
    "  'Jakarta', 'Surabaya', 'Makassar'\n",
    "]\n",
    "\n",
    "for kota in listKota:\n",
    "  print(kota)\n",
    "  \n",
    "  listTempat = [\n",
    "    'Taman', 'Lapangan', 'Mall'\n",
    "  ]\n",
    "\n",
    "  while listTempat:\n",
    "    print('-->', listTempat.pop(0))"
   ]
  },
  {
   "cell_type": "code",
   "execution_count": 22,
   "id": "f2154839",
   "metadata": {},
   "outputs": [
    {
     "name": "stdout",
     "output_type": "stream",
     "text": [
      "o + + + + + + \n",
      "o o + + + + + \n",
      "o o o + + + + \n",
      "o o o o + + + \n",
      "o o o o o + + \n",
      "o o o o o o + \n",
      "o o o o o o o \n"
     ]
    }
   ],
   "source": [
    "max_baris = 7\n",
    "max_kolom = 7\n",
    "\n",
    "baris = 0\n",
    "while baris < max_baris:\n",
    "  kolom = 0\n",
    "  while kolom < max_kolom:\n",
    "    print('o' if kolom <= baris else '+', end = ' ')\n",
    "    kolom += 1\n",
    "  else:\n",
    "    print('')\n",
    "  baris += 1"
   ]
  },
  {
   "cell_type": "code",
   "execution_count": 37,
   "id": "020be4e5",
   "metadata": {},
   "outputs": [
    {
     "name": "stdout",
     "output_type": "stream",
     "text": [
      "[rayyana]\n",
      "[argaza]\n",
      "[cinta]\n",
      "[selamanya]\n",
      "[rayyana]\n",
      "[argaza]\n",
      "[cinta]\n",
      "[selamanya]\n"
     ]
    }
   ],
   "source": [
    "import re\n",
    "\n",
    "listNama = ['rayyana','argaza','cinta','selamanya']\n",
    "listHuruf = ['a','b','c','d']\n",
    "\n",
    "for nama in listNama: #untuk nama didalam listNama\n",
    "    print('[' + nama + ']') #cetak [nama]\n",
    "    \n",
    "for kata in listNama: #untuk kata didalam listNama\n",
    "    print('[' + kata + ']') #cetak [kata]\n",
    "    \n",
    "# simpulan: kata atau nama hanyalah variabel baru yang sifatnya sama seperti listNama"
   ]
  },
  {
   "cell_type": "code",
   "execution_count": 38,
   "id": "3f912bf8",
   "metadata": {},
   "outputs": [
    {
     "name": "stdout",
     "output_type": "stream",
     "text": [
      "[rayyana]\n",
      "--> rayyana\n",
      "--> riyyini\n",
      "--> ruyyunu\n",
      "--> reyyene\n",
      "--> royyono\n",
      "[argaza]\n",
      "--> argaza\n",
      "--> irgizi\n",
      "--> urguzu\n",
      "--> ergeze\n",
      "--> orgozo\n",
      "[cinta]\n",
      "--> canta\n",
      "--> cinti\n",
      "--> cuntu\n",
      "--> cente\n",
      "--> conto\n",
      "[selamanya]\n",
      "--> salamanya\n",
      "--> siliminyi\n",
      "--> sulumunyu\n",
      "--> selemenye\n",
      "--> solomonyo\n"
     ]
    }
   ],
   "source": [
    "listNama = ['rayyana','argaza','cinta','selamanya']\n",
    "listHuruf = ['a','b','c','d']\n",
    "\n",
    "for nama in listNama: #untuk nama didalam listNama\n",
    "    print('[' + nama + ']') #cetak [nama]\n",
    "    \n",
    "    for vokal in listHurufVokal:\n",
    "        print('-->', re.sub('[aiueo]', vokal, nama))"
   ]
  },
  {
   "cell_type": "markdown",
   "id": "1284eada",
   "metadata": {},
   "source": [
    "### Break & Continuous"
   ]
  },
  {
   "cell_type": "code",
   "execution_count": 67,
   "id": "5bd93196",
   "metadata": {},
   "outputs": [
    {
     "name": "stdout",
     "output_type": "stream",
     "text": [
      "bar\n",
      "baz\n"
     ]
    }
   ],
   "source": [
    "for i in ['foo','bar','baz','qux']:\n",
    "    if 'a' in i:\n",
    "        print(i)"
   ]
  },
  {
   "cell_type": "code",
   "execution_count": 68,
   "id": "eea6b5fa",
   "metadata": {},
   "outputs": [
    {
     "name": "stdout",
     "output_type": "stream",
     "text": [
      "foo\n"
     ]
    }
   ],
   "source": [
    "for i in ['foo','bar','baz','qux']:\n",
    "    if 'a' in i:\n",
    "        break\n",
    "    print(i)\n",
    "    \n",
    "# mengehentikan loop sepenuhnya dan melanjutkan ke *pernyataan pertama setelah loop*"
   ]
  },
  {
   "cell_type": "code",
   "execution_count": 70,
   "id": "5e864086",
   "metadata": {},
   "outputs": [
    {
     "name": "stdout",
     "output_type": "stream",
     "text": [
      "foo\n",
      "qux\n"
     ]
    }
   ],
   "source": [
    "for i in ['foo','bar','baz','qux']:\n",
    "    if 'a' in i:\n",
    "        continue\n",
    "    print(i) \n",
    "    \n",
    "# menghentikan iterasi saat ini dan melanjutkan ke iterasi selanjutnya\n",
    "# iterasi = loop = pengulangan"
   ]
  },
  {
   "cell_type": "markdown",
   "id": "69a4c02a",
   "metadata": {},
   "source": [
    "####  iterasi dapat diartikan sebagai suatu proses atau metode yang digunakan secara berulang-ulang (pengulangan) dalam menyelesaikan suatu permasalahan matematik.\n",
    "\n",
    "#### Secara umum, Python mengeksekusi program baris perbaris. Mulai dari baris satu, dua, dan seterusnya. Ada kalanya, kita perlu mengeksekusi satu baris atau satu blok kode program beberapa kali. Hal ini disebut dengan perulangan atau biasa disebut looping atau iterasi. "
   ]
  },
  {
   "cell_type": "markdown",
   "id": "007a6959",
   "metadata": {},
   "source": [
    "### The else Clause"
   ]
  },
  {
   "cell_type": "code",
   "execution_count": 72,
   "id": "ecc10d0a",
   "metadata": {},
   "outputs": [
    {
     "name": "stdout",
     "output_type": "stream",
     "text": [
      "rayyana\n",
      "argaza\n"
     ]
    }
   ],
   "source": [
    "for i in ['rayyana','argaza','cinta','selamanya']:\n",
    "    if i == 'cinta':\n",
    "        break\n",
    "    print(i)\n",
    "else:\n",
    "    print('Done') #tidak akan terseksekusi\n",
    "    \n",
    "# pengulangan akan dilakukan terus saat sampai pada i == 'cinta', maka pengulangan akan otomatis berhenti total "
   ]
  },
  {
   "cell_type": "code",
   "execution_count": 73,
   "id": "b1c0e9d0",
   "metadata": {},
   "outputs": [
    {
     "name": "stdout",
     "output_type": "stream",
     "text": [
      "rayyana\n",
      "argaza\n",
      "selamanya\n",
      "Done\n"
     ]
    }
   ],
   "source": [
    "for i in ['rayyana','argaza','cinta','selamanya']:\n",
    "    if i == 'cinta':\n",
    "        continue\n",
    "    print(i)\n",
    "else:\n",
    "    print('Done')\n",
    "    \n",
    "# pengulangan akan dilakukan terus saat sampai pada i == 'cinta', maka 'cinta' tidak akan dilakukan dan program akan langsung loncat ke pengulangan selanjutnya"
   ]
  },
  {
   "cell_type": "code",
   "execution_count": 74,
   "id": "80ab313c",
   "metadata": {},
   "outputs": [
    {
     "name": "stdout",
     "output_type": "stream",
     "text": [
      "cinta\n",
      "Done\n"
     ]
    }
   ],
   "source": [
    "for i in ['rayyana','argaza','cinta','selamanya']:\n",
    "    if i == 'cinta':\n",
    "        print(i)\n",
    "else:\n",
    "    print('Done')\n",
    "    \n",
    "# langsung mencetak 'cinta' dan 'Done'"
   ]
  }
 ],
 "metadata": {
  "kernelspec": {
   "display_name": "Python 3 (ipykernel)",
   "language": "python",
   "name": "python3"
  },
  "language_info": {
   "codemirror_mode": {
    "name": "ipython",
    "version": 3
   },
   "file_extension": ".py",
   "mimetype": "text/x-python",
   "name": "python",
   "nbconvert_exporter": "python",
   "pygments_lexer": "ipython3",
   "version": "3.9.7"
  }
 },
 "nbformat": 4,
 "nbformat_minor": 5
}
